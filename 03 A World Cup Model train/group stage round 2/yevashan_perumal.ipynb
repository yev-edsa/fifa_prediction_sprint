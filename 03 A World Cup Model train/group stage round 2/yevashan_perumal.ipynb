{
 "cells": [
  {
   "cell_type": "markdown",
   "metadata": {},
   "source": [
    "# Fifa World Cup Round 2 Predictions"
   ]
  },
  {
   "cell_type": "markdown",
   "metadata": {
    "ExecuteTime": {
     "end_time": "2018-06-19T07:20:29.277645Z",
     "start_time": "2018-06-19T07:20:29.230771Z"
    }
   },
   "source": [
    "### Basis of Predictions\n",
    "At this stage I have not yet coded out my own model. I have temporarily used the existing model and results from the syllabus.\n",
    "-  For these predictions I used the model provided in the 'A World Cup Model'.\n",
    "-  I used the predicted outcomes to provide an indication of the final scoreline.\n",
    "-  I used the outcome of 100 simulated games to determine the probabilities for each type of result per match\n",
    "-  I then used my immense knowledge of the beautiful game to see if I agreed with the predictions and made some changes where I felt necessary\n",
    "\n",
    "### Data Used\n",
    "\n",
    "This was the historical Fifa match data provided. It used a lag factor of a teams' previous win-draw-lose results for the last 10, 20 and 50 matches.\n",
    "Other features included were the Confederation Strength for each country.\n",
    "\n",
    "### Models\n",
    "\n",
    "The model used was a random forest regression, which was set to grow 500 trees.\n",
    "\n",
    "### Model Results\n",
    "\n",
    "The results could predict outcomes, but the variance of the goals was often greater than 1, indicating the volatile nature of the game of football.\n",
    "This is an area where more focus could be applied to get more robust measures.\n",
    "\n",
    "\n",
    "### Additional Info\n",
    "\n",
    "- none yet"
   ]
  },
  {
   "cell_type": "markdown",
   "metadata": {},
   "source": [
    "#### import library"
   ]
  },
  {
   "cell_type": "code",
   "execution_count": 1,
   "metadata": {
    "ExecuteTime": {
     "end_time": "2018-06-19T06:39:46.431042Z",
     "start_time": "2018-06-19T06:39:46.039345Z"
    }
   },
   "outputs": [],
   "source": [
    "import pandas as pd\n",
    "import numpy as np"
   ]
  },
  {
   "cell_type": "markdown",
   "metadata": {},
   "source": [
    "#### import data"
   ]
  },
  {
   "cell_type": "code",
   "execution_count": null,
   "metadata": {
    "ExecuteTime": {
     "end_time": "2018-06-19T06:49:31.213730Z",
     "start_time": "2018-06-19T06:49:31.198104Z"
    }
   },
   "outputs": [],
   "source": [
    "#Prediction outcome results provided by the train model\n",
    "head_to_head = pd.read_csv('wc2018staticPredictions.csv')"
   ]
  },
  {
   "cell_type": "code",
   "execution_count": 3,
   "metadata": {
    "ExecuteTime": {
     "end_time": "2018-06-19T06:51:01.058437Z",
     "start_time": "2018-06-19T06:51:00.995943Z"
    }
   },
   "outputs": [
    {
     "data": {
      "text/html": [
       "<div>\n",
       "<style scoped>\n",
       "    .dataframe tbody tr th:only-of-type {\n",
       "        vertical-align: middle;\n",
       "    }\n",
       "\n",
       "    .dataframe tbody tr th {\n",
       "        vertical-align: top;\n",
       "    }\n",
       "\n",
       "    .dataframe thead th {\n",
       "        text-align: right;\n",
       "    }\n",
       "</style>\n",
       "<table border=\"1\" class=\"dataframe\">\n",
       "  <thead>\n",
       "    <tr style=\"text-align: right;\">\n",
       "      <th></th>\n",
       "      <th>team1</th>\n",
       "      <th>team2</th>\n",
       "      <th>outcome</th>\n",
       "      <th>sd</th>\n",
       "    </tr>\n",
       "  </thead>\n",
       "  <tbody>\n",
       "    <tr>\n",
       "      <th>0</th>\n",
       "      <td>RUS</td>\n",
       "      <td>KSA</td>\n",
       "      <td>0.692</td>\n",
       "      <td>1.606591</td>\n",
       "    </tr>\n",
       "    <tr>\n",
       "      <th>1</th>\n",
       "      <td>RUS</td>\n",
       "      <td>EGY</td>\n",
       "      <td>-0.486</td>\n",
       "      <td>1.343802</td>\n",
       "    </tr>\n",
       "    <tr>\n",
       "      <th>2</th>\n",
       "      <td>RUS</td>\n",
       "      <td>URU</td>\n",
       "      <td>0.466</td>\n",
       "      <td>1.527365</td>\n",
       "    </tr>\n",
       "    <tr>\n",
       "      <th>3</th>\n",
       "      <td>RUS</td>\n",
       "      <td>POR</td>\n",
       "      <td>-1.266</td>\n",
       "      <td>1.258270</td>\n",
       "    </tr>\n",
       "    <tr>\n",
       "      <th>4</th>\n",
       "      <td>RUS</td>\n",
       "      <td>ESP</td>\n",
       "      <td>-2.086</td>\n",
       "      <td>1.970432</td>\n",
       "    </tr>\n",
       "    <tr>\n",
       "      <th>5</th>\n",
       "      <td>RUS</td>\n",
       "      <td>MAR</td>\n",
       "      <td>0.948</td>\n",
       "      <td>1.902970</td>\n",
       "    </tr>\n",
       "    <tr>\n",
       "      <th>6</th>\n",
       "      <td>RUS</td>\n",
       "      <td>IRN</td>\n",
       "      <td>-0.614</td>\n",
       "      <td>1.388886</td>\n",
       "    </tr>\n",
       "    <tr>\n",
       "      <th>7</th>\n",
       "      <td>RUS</td>\n",
       "      <td>FRA</td>\n",
       "      <td>-0.680</td>\n",
       "      <td>1.259206</td>\n",
       "    </tr>\n",
       "    <tr>\n",
       "      <th>8</th>\n",
       "      <td>RUS</td>\n",
       "      <td>AUS</td>\n",
       "      <td>0.988</td>\n",
       "      <td>1.687559</td>\n",
       "    </tr>\n",
       "    <tr>\n",
       "      <th>9</th>\n",
       "      <td>RUS</td>\n",
       "      <td>PER</td>\n",
       "      <td>-0.108</td>\n",
       "      <td>1.436780</td>\n",
       "    </tr>\n",
       "    <tr>\n",
       "      <th>10</th>\n",
       "      <td>RUS</td>\n",
       "      <td>DEN</td>\n",
       "      <td>0.310</td>\n",
       "      <td>1.791619</td>\n",
       "    </tr>\n",
       "    <tr>\n",
       "      <th>11</th>\n",
       "      <td>RUS</td>\n",
       "      <td>ARG</td>\n",
       "      <td>0.462</td>\n",
       "      <td>1.539011</td>\n",
       "    </tr>\n",
       "    <tr>\n",
       "      <th>12</th>\n",
       "      <td>RUS</td>\n",
       "      <td>ISL</td>\n",
       "      <td>0.106</td>\n",
       "      <td>1.683676</td>\n",
       "    </tr>\n",
       "    <tr>\n",
       "      <th>13</th>\n",
       "      <td>RUS</td>\n",
       "      <td>CRO</td>\n",
       "      <td>-0.528</td>\n",
       "      <td>1.373032</td>\n",
       "    </tr>\n",
       "    <tr>\n",
       "      <th>14</th>\n",
       "      <td>RUS</td>\n",
       "      <td>NGA</td>\n",
       "      <td>-0.370</td>\n",
       "      <td>1.308854</td>\n",
       "    </tr>\n",
       "    <tr>\n",
       "      <th>15</th>\n",
       "      <td>RUS</td>\n",
       "      <td>BRA</td>\n",
       "      <td>-1.582</td>\n",
       "      <td>1.530776</td>\n",
       "    </tr>\n",
       "    <tr>\n",
       "      <th>16</th>\n",
       "      <td>RUS</td>\n",
       "      <td>SUI</td>\n",
       "      <td>-1.088</td>\n",
       "      <td>1.297789</td>\n",
       "    </tr>\n",
       "    <tr>\n",
       "      <th>17</th>\n",
       "      <td>RUS</td>\n",
       "      <td>CRC</td>\n",
       "      <td>0.848</td>\n",
       "      <td>1.528691</td>\n",
       "    </tr>\n",
       "    <tr>\n",
       "      <th>18</th>\n",
       "      <td>RUS</td>\n",
       "      <td>SRB</td>\n",
       "      <td>-0.506</td>\n",
       "      <td>1.460809</td>\n",
       "    </tr>\n",
       "    <tr>\n",
       "      <th>19</th>\n",
       "      <td>RUS</td>\n",
       "      <td>GER</td>\n",
       "      <td>-2.366</td>\n",
       "      <td>2.150359</td>\n",
       "    </tr>\n",
       "    <tr>\n",
       "      <th>20</th>\n",
       "      <td>RUS</td>\n",
       "      <td>SWE</td>\n",
       "      <td>-0.252</td>\n",
       "      <td>1.942291</td>\n",
       "    </tr>\n",
       "    <tr>\n",
       "      <th>21</th>\n",
       "      <td>RUS</td>\n",
       "      <td>MEX</td>\n",
       "      <td>0.330</td>\n",
       "      <td>1.631288</td>\n",
       "    </tr>\n",
       "    <tr>\n",
       "      <th>22</th>\n",
       "      <td>RUS</td>\n",
       "      <td>KOR</td>\n",
       "      <td>0.950</td>\n",
       "      <td>1.612296</td>\n",
       "    </tr>\n",
       "    <tr>\n",
       "      <th>23</th>\n",
       "      <td>RUS</td>\n",
       "      <td>BEL</td>\n",
       "      <td>-2.036</td>\n",
       "      <td>2.042230</td>\n",
       "    </tr>\n",
       "    <tr>\n",
       "      <th>24</th>\n",
       "      <td>RUS</td>\n",
       "      <td>PAN</td>\n",
       "      <td>0.830</td>\n",
       "      <td>1.568789</td>\n",
       "    </tr>\n",
       "    <tr>\n",
       "      <th>25</th>\n",
       "      <td>RUS</td>\n",
       "      <td>TUN</td>\n",
       "      <td>0.160</td>\n",
       "      <td>1.778314</td>\n",
       "    </tr>\n",
       "    <tr>\n",
       "      <th>26</th>\n",
       "      <td>RUS</td>\n",
       "      <td>ENG</td>\n",
       "      <td>-1.324</td>\n",
       "      <td>1.426543</td>\n",
       "    </tr>\n",
       "    <tr>\n",
       "      <th>27</th>\n",
       "      <td>RUS</td>\n",
       "      <td>POL</td>\n",
       "      <td>-0.622</td>\n",
       "      <td>1.454344</td>\n",
       "    </tr>\n",
       "    <tr>\n",
       "      <th>28</th>\n",
       "      <td>RUS</td>\n",
       "      <td>SEN</td>\n",
       "      <td>0.258</td>\n",
       "      <td>1.473579</td>\n",
       "    </tr>\n",
       "    <tr>\n",
       "      <th>29</th>\n",
       "      <td>RUS</td>\n",
       "      <td>COL</td>\n",
       "      <td>0.230</td>\n",
       "      <td>1.490336</td>\n",
       "    </tr>\n",
       "    <tr>\n",
       "      <th>...</th>\n",
       "      <td>...</td>\n",
       "      <td>...</td>\n",
       "      <td>...</td>\n",
       "      <td>...</td>\n",
       "    </tr>\n",
       "    <tr>\n",
       "      <th>466</th>\n",
       "      <td>KOR</td>\n",
       "      <td>COL</td>\n",
       "      <td>-0.450</td>\n",
       "      <td>1.560609</td>\n",
       "    </tr>\n",
       "    <tr>\n",
       "      <th>467</th>\n",
       "      <td>KOR</td>\n",
       "      <td>JPN</td>\n",
       "      <td>-1.348</td>\n",
       "      <td>1.292631</td>\n",
       "    </tr>\n",
       "    <tr>\n",
       "      <th>468</th>\n",
       "      <td>BEL</td>\n",
       "      <td>PAN</td>\n",
       "      <td>1.792</td>\n",
       "      <td>1.953647</td>\n",
       "    </tr>\n",
       "    <tr>\n",
       "      <th>469</th>\n",
       "      <td>BEL</td>\n",
       "      <td>TUN</td>\n",
       "      <td>1.098</td>\n",
       "      <td>2.018018</td>\n",
       "    </tr>\n",
       "    <tr>\n",
       "      <th>470</th>\n",
       "      <td>BEL</td>\n",
       "      <td>ENG</td>\n",
       "      <td>-1.120</td>\n",
       "      <td>1.442775</td>\n",
       "    </tr>\n",
       "    <tr>\n",
       "      <th>471</th>\n",
       "      <td>BEL</td>\n",
       "      <td>POL</td>\n",
       "      <td>-0.624</td>\n",
       "      <td>1.681257</td>\n",
       "    </tr>\n",
       "    <tr>\n",
       "      <th>472</th>\n",
       "      <td>BEL</td>\n",
       "      <td>SEN</td>\n",
       "      <td>0.594</td>\n",
       "      <td>1.687947</td>\n",
       "    </tr>\n",
       "    <tr>\n",
       "      <th>473</th>\n",
       "      <td>BEL</td>\n",
       "      <td>COL</td>\n",
       "      <td>1.290</td>\n",
       "      <td>2.160995</td>\n",
       "    </tr>\n",
       "    <tr>\n",
       "      <th>474</th>\n",
       "      <td>BEL</td>\n",
       "      <td>JPN</td>\n",
       "      <td>0.956</td>\n",
       "      <td>2.007502</td>\n",
       "    </tr>\n",
       "    <tr>\n",
       "      <th>475</th>\n",
       "      <td>PAN</td>\n",
       "      <td>TUN</td>\n",
       "      <td>-0.770</td>\n",
       "      <td>1.416016</td>\n",
       "    </tr>\n",
       "    <tr>\n",
       "      <th>476</th>\n",
       "      <td>PAN</td>\n",
       "      <td>ENG</td>\n",
       "      <td>-2.030</td>\n",
       "      <td>1.846375</td>\n",
       "    </tr>\n",
       "    <tr>\n",
       "      <th>477</th>\n",
       "      <td>PAN</td>\n",
       "      <td>POL</td>\n",
       "      <td>-1.704</td>\n",
       "      <td>1.889017</td>\n",
       "    </tr>\n",
       "    <tr>\n",
       "      <th>478</th>\n",
       "      <td>PAN</td>\n",
       "      <td>SEN</td>\n",
       "      <td>-0.440</td>\n",
       "      <td>1.300154</td>\n",
       "    </tr>\n",
       "    <tr>\n",
       "      <th>479</th>\n",
       "      <td>PAN</td>\n",
       "      <td>COL</td>\n",
       "      <td>-0.316</td>\n",
       "      <td>1.350609</td>\n",
       "    </tr>\n",
       "    <tr>\n",
       "      <th>480</th>\n",
       "      <td>PAN</td>\n",
       "      <td>JPN</td>\n",
       "      <td>-1.210</td>\n",
       "      <td>1.649818</td>\n",
       "    </tr>\n",
       "    <tr>\n",
       "      <th>481</th>\n",
       "      <td>TUN</td>\n",
       "      <td>ENG</td>\n",
       "      <td>-1.982</td>\n",
       "      <td>1.824740</td>\n",
       "    </tr>\n",
       "    <tr>\n",
       "      <th>482</th>\n",
       "      <td>TUN</td>\n",
       "      <td>POL</td>\n",
       "      <td>-1.250</td>\n",
       "      <td>2.038504</td>\n",
       "    </tr>\n",
       "    <tr>\n",
       "      <th>483</th>\n",
       "      <td>TUN</td>\n",
       "      <td>SEN</td>\n",
       "      <td>-0.222</td>\n",
       "      <td>1.752916</td>\n",
       "    </tr>\n",
       "    <tr>\n",
       "      <th>484</th>\n",
       "      <td>TUN</td>\n",
       "      <td>COL</td>\n",
       "      <td>0.072</td>\n",
       "      <td>1.548811</td>\n",
       "    </tr>\n",
       "    <tr>\n",
       "      <th>485</th>\n",
       "      <td>TUN</td>\n",
       "      <td>JPN</td>\n",
       "      <td>-0.908</td>\n",
       "      <td>1.770744</td>\n",
       "    </tr>\n",
       "    <tr>\n",
       "      <th>486</th>\n",
       "      <td>ENG</td>\n",
       "      <td>POL</td>\n",
       "      <td>-0.058</td>\n",
       "      <td>1.426407</td>\n",
       "    </tr>\n",
       "    <tr>\n",
       "      <th>487</th>\n",
       "      <td>ENG</td>\n",
       "      <td>SEN</td>\n",
       "      <td>0.618</td>\n",
       "      <td>1.356494</td>\n",
       "    </tr>\n",
       "    <tr>\n",
       "      <th>488</th>\n",
       "      <td>ENG</td>\n",
       "      <td>COL</td>\n",
       "      <td>0.910</td>\n",
       "      <td>1.600594</td>\n",
       "    </tr>\n",
       "    <tr>\n",
       "      <th>489</th>\n",
       "      <td>ENG</td>\n",
       "      <td>JPN</td>\n",
       "      <td>1.028</td>\n",
       "      <td>1.662292</td>\n",
       "    </tr>\n",
       "    <tr>\n",
       "      <th>490</th>\n",
       "      <td>POL</td>\n",
       "      <td>SEN</td>\n",
       "      <td>0.322</td>\n",
       "      <td>1.355845</td>\n",
       "    </tr>\n",
       "    <tr>\n",
       "      <th>491</th>\n",
       "      <td>POL</td>\n",
       "      <td>COL</td>\n",
       "      <td>0.590</td>\n",
       "      <td>1.428951</td>\n",
       "    </tr>\n",
       "    <tr>\n",
       "      <th>492</th>\n",
       "      <td>POL</td>\n",
       "      <td>JPN</td>\n",
       "      <td>0.600</td>\n",
       "      <td>1.479189</td>\n",
       "    </tr>\n",
       "    <tr>\n",
       "      <th>493</th>\n",
       "      <td>SEN</td>\n",
       "      <td>COL</td>\n",
       "      <td>0.486</td>\n",
       "      <td>1.561347</td>\n",
       "    </tr>\n",
       "    <tr>\n",
       "      <th>494</th>\n",
       "      <td>SEN</td>\n",
       "      <td>JPN</td>\n",
       "      <td>0.122</td>\n",
       "      <td>1.405388</td>\n",
       "    </tr>\n",
       "    <tr>\n",
       "      <th>495</th>\n",
       "      <td>COL</td>\n",
       "      <td>JPN</td>\n",
       "      <td>-0.596</td>\n",
       "      <td>1.438327</td>\n",
       "    </tr>\n",
       "  </tbody>\n",
       "</table>\n",
       "<p>496 rows × 4 columns</p>\n",
       "</div>"
      ],
      "text/plain": [
       "    team1 team2  outcome        sd\n",
       "0     RUS   KSA    0.692  1.606591\n",
       "1     RUS   EGY   -0.486  1.343802\n",
       "2     RUS   URU    0.466  1.527365\n",
       "3     RUS   POR   -1.266  1.258270\n",
       "4     RUS   ESP   -2.086  1.970432\n",
       "5     RUS   MAR    0.948  1.902970\n",
       "6     RUS   IRN   -0.614  1.388886\n",
       "7     RUS   FRA   -0.680  1.259206\n",
       "8     RUS   AUS    0.988  1.687559\n",
       "9     RUS   PER   -0.108  1.436780\n",
       "10    RUS   DEN    0.310  1.791619\n",
       "11    RUS   ARG    0.462  1.539011\n",
       "12    RUS   ISL    0.106  1.683676\n",
       "13    RUS   CRO   -0.528  1.373032\n",
       "14    RUS   NGA   -0.370  1.308854\n",
       "15    RUS   BRA   -1.582  1.530776\n",
       "16    RUS   SUI   -1.088  1.297789\n",
       "17    RUS   CRC    0.848  1.528691\n",
       "18    RUS   SRB   -0.506  1.460809\n",
       "19    RUS   GER   -2.366  2.150359\n",
       "20    RUS   SWE   -0.252  1.942291\n",
       "21    RUS   MEX    0.330  1.631288\n",
       "22    RUS   KOR    0.950  1.612296\n",
       "23    RUS   BEL   -2.036  2.042230\n",
       "24    RUS   PAN    0.830  1.568789\n",
       "25    RUS   TUN    0.160  1.778314\n",
       "26    RUS   ENG   -1.324  1.426543\n",
       "27    RUS   POL   -0.622  1.454344\n",
       "28    RUS   SEN    0.258  1.473579\n",
       "29    RUS   COL    0.230  1.490336\n",
       "..    ...   ...      ...       ...\n",
       "466   KOR   COL   -0.450  1.560609\n",
       "467   KOR   JPN   -1.348  1.292631\n",
       "468   BEL   PAN    1.792  1.953647\n",
       "469   BEL   TUN    1.098  2.018018\n",
       "470   BEL   ENG   -1.120  1.442775\n",
       "471   BEL   POL   -0.624  1.681257\n",
       "472   BEL   SEN    0.594  1.687947\n",
       "473   BEL   COL    1.290  2.160995\n",
       "474   BEL   JPN    0.956  2.007502\n",
       "475   PAN   TUN   -0.770  1.416016\n",
       "476   PAN   ENG   -2.030  1.846375\n",
       "477   PAN   POL   -1.704  1.889017\n",
       "478   PAN   SEN   -0.440  1.300154\n",
       "479   PAN   COL   -0.316  1.350609\n",
       "480   PAN   JPN   -1.210  1.649818\n",
       "481   TUN   ENG   -1.982  1.824740\n",
       "482   TUN   POL   -1.250  2.038504\n",
       "483   TUN   SEN   -0.222  1.752916\n",
       "484   TUN   COL    0.072  1.548811\n",
       "485   TUN   JPN   -0.908  1.770744\n",
       "486   ENG   POL   -0.058  1.426407\n",
       "487   ENG   SEN    0.618  1.356494\n",
       "488   ENG   COL    0.910  1.600594\n",
       "489   ENG   JPN    1.028  1.662292\n",
       "490   POL   SEN    0.322  1.355845\n",
       "491   POL   COL    0.590  1.428951\n",
       "492   POL   JPN    0.600  1.479189\n",
       "493   SEN   COL    0.486  1.561347\n",
       "494   SEN   JPN    0.122  1.405388\n",
       "495   COL   JPN   -0.596  1.438327\n",
       "\n",
       "[496 rows x 4 columns]"
      ]
     },
     "execution_count": 3,
     "metadata": {},
     "output_type": "execute_result"
    }
   ],
   "source": [
    "#peek at the data\n",
    "head_to_head"
   ]
  },
  {
   "cell_type": "code",
   "execution_count": 4,
   "metadata": {
    "ExecuteTime": {
     "end_time": "2018-06-19T07:08:15.958315Z",
     "start_time": "2018-06-19T07:08:15.927061Z"
    }
   },
   "outputs": [
    {
     "data": {
      "text/plain": [
       "{'ARG',\n",
       " 'AUS',\n",
       " 'BEL',\n",
       " 'BRA',\n",
       " 'COL',\n",
       " 'CRC',\n",
       " 'CRO',\n",
       " 'DEN',\n",
       " 'EGY',\n",
       " 'ENG',\n",
       " 'ESP',\n",
       " 'FRA',\n",
       " 'GER',\n",
       " 'IRN',\n",
       " 'ISL',\n",
       " 'KOR',\n",
       " 'KSA',\n",
       " 'MAR',\n",
       " 'MEX',\n",
       " 'NGA',\n",
       " 'PAN',\n",
       " 'PER',\n",
       " 'POL',\n",
       " 'POR',\n",
       " 'RUS',\n",
       " 'SEN',\n",
       " 'SRB',\n",
       " 'SUI',\n",
       " 'SWE',\n",
       " 'TUN',\n",
       " 'URU'}"
      ]
     },
     "execution_count": 4,
     "metadata": {},
     "output_type": "execute_result"
    }
   ],
   "source": [
    "set(head_to_head['team1'])"
   ]
  },
  {
   "cell_type": "markdown",
   "metadata": {},
   "source": [
    "### Use the modeled parameters to do predictions"
   ]
  },
  {
   "cell_type": "markdown",
   "metadata": {},
   "source": [
    "#### Colombia vs Japan"
   ]
  },
  {
   "cell_type": "code",
   "execution_count": 5,
   "metadata": {
    "ExecuteTime": {
     "end_time": "2018-06-19T06:52:37.843230Z",
     "start_time": "2018-06-19T06:52:37.796358Z"
    }
   },
   "outputs": [
    {
     "name": "stdout",
     "output_type": "stream",
     "text": [
      "    team1 team2  outcome        sd\n",
      "495   COL   JPN   -0.596  1.438327\n",
      "\n",
      "\n",
      "COL won 17 out of 100.\n",
      "JPN won 60 out of 100.\n",
      "There were 23 draws.\n"
     ]
    }
   ],
   "source": [
    "t1 = head_to_head[(head_to_head['team1'] == 'COL') & (head_to_head['team2'] == 'JPN')]\n",
    "print(t1)\n",
    "print('\\n')\n",
    "\n",
    "np.random.seed(4342)\n",
    "draw_threshold = 0.5\n",
    "\n",
    "t2 = np.random.normal(loc=t1['outcome'],scale=t1['sd'],size=100)\n",
    "\n",
    "print('COL won {} out of 100.'.format(sum(t2>=draw_threshold)))\n",
    "print('JPN won {} out of 100.'.format(sum(t2<=-draw_threshold)))\n",
    "print('There were {} draws.'.format(sum((t2>-draw_threshold) & (t2<draw_threshold))))"
   ]
  },
  {
   "cell_type": "markdown",
   "metadata": {},
   "source": [
    "##### Poland vs Senegal"
   ]
  },
  {
   "cell_type": "code",
   "execution_count": 6,
   "metadata": {
    "ExecuteTime": {
     "end_time": "2018-06-19T07:09:05.715639Z",
     "start_time": "2018-06-19T07:09:05.668817Z"
    }
   },
   "outputs": [
    {
     "name": "stdout",
     "output_type": "stream",
     "text": [
      "    team1 team2  outcome        sd\n",
      "490   POL   SEN    0.322  1.355845\n",
      "\n",
      "\n",
      "POL won 37 out of 100.\n",
      "SEN won 35 out of 100.\n",
      "There were 28 draws.\n"
     ]
    }
   ],
   "source": [
    "t1 = head_to_head[(head_to_head['team1'] == 'POL') & (head_to_head['team2'] == 'SEN')]\n",
    "print(t1)\n",
    "print('\\n')\n",
    "\n",
    "np.random.seed(4342)\n",
    "draw_threshold = 0.5\n",
    "\n",
    "t2 = np.random.normal(loc=t1['outcome'],scale=t1['sd'],size=100)\n",
    "\n",
    "print('POL won {} out of 100.'.format(sum(t2>=draw_threshold)))\n",
    "print('SEN won {} out of 100.'.format(sum(t2<=-draw_threshold)))\n",
    "print('There were {} draws.'.format(sum((t2>-draw_threshold) & (t2<draw_threshold))))"
   ]
  },
  {
   "cell_type": "markdown",
   "metadata": {},
   "source": [
    "#### Russia vs Egypt"
   ]
  },
  {
   "cell_type": "code",
   "execution_count": 7,
   "metadata": {
    "ExecuteTime": {
     "end_time": "2018-06-19T07:09:08.204983Z",
     "start_time": "2018-06-19T07:09:08.158154Z"
    }
   },
   "outputs": [
    {
     "name": "stdout",
     "output_type": "stream",
     "text": [
      "  team1 team2  outcome        sd\n",
      "1   RUS   EGY   -0.486  1.343802\n",
      "\n",
      "\n",
      "RUS won 17 out of 100.\n",
      "EGY won 56 out of 100.\n",
      "There were 27 draws.\n"
     ]
    }
   ],
   "source": [
    "t1 = head_to_head[(head_to_head['team1'] == 'RUS') & (head_to_head['team2'] == 'EGY')]\n",
    "print(t1)\n",
    "print('\\n')\n",
    "\n",
    "np.random.seed(4342)\n",
    "draw_threshold = 0.5\n",
    "\n",
    "t2 = np.random.normal(loc=t1['outcome'],scale=t1['sd'],size=100)\n",
    "\n",
    "print('RUS won {} out of 100.'.format(sum(t2>=draw_threshold)))\n",
    "print('EGY won {} out of 100.'.format(sum(t2<=-draw_threshold)))\n",
    "print('There were {} draws.'.format(sum((t2>-draw_threshold) & (t2<draw_threshold))))"
   ]
  },
  {
   "cell_type": "markdown",
   "metadata": {},
   "source": [
    "#### Portugal vs Morocco"
   ]
  },
  {
   "cell_type": "code",
   "execution_count": 8,
   "metadata": {
    "ExecuteTime": {
     "end_time": "2018-06-19T07:09:08.582012Z",
     "start_time": "2018-06-19T07:09:08.550749Z"
    }
   },
   "outputs": [
    {
     "name": "stdout",
     "output_type": "stream",
     "text": [
      "    team1 team2  outcome        sd\n",
      "119   POR   MAR    1.176  1.659224\n",
      "\n",
      "\n",
      "POR won 63 out of 100.\n",
      "MAR won 20 out of 100.\n",
      "There were 17 draws.\n"
     ]
    }
   ],
   "source": [
    "t1 = head_to_head[(head_to_head['team1'] == 'POR') & (head_to_head['team2'] == 'MAR')]\n",
    "print(t1)\n",
    "print('\\n')\n",
    "\n",
    "np.random.seed(4342)\n",
    "draw_threshold = 0.5\n",
    "\n",
    "t2 = np.random.normal(loc=t1['outcome'],scale=t1['sd'],size=100)\n",
    "\n",
    "print('POR won {} out of 100.'.format(sum(t2>=draw_threshold)))\n",
    "print('MAR won {} out of 100.'.format(sum(t2<=-draw_threshold)))\n",
    "print('There were {} draws.'.format(sum((t2>-draw_threshold) & (t2<draw_threshold))))"
   ]
  },
  {
   "cell_type": "markdown",
   "metadata": {},
   "source": [
    "#### Uruguay vs Saudi Arabia"
   ]
  },
  {
   "cell_type": "code",
   "execution_count": 13,
   "metadata": {
    "ExecuteTime": {
     "end_time": "2018-06-19T07:15:21.449968Z",
     "start_time": "2018-06-19T07:15:21.371848Z"
    }
   },
   "outputs": [
    {
     "name": "stdout",
     "output_type": "stream",
     "text": [
      "   team1 team2  outcome        sd\n",
      "32   KSA   URU    0.552  1.607264\n",
      "\n",
      "\n",
      "KSA won 44 out of 100.\n",
      "URU won 34 out of 100.\n",
      "There were 22 draws.\n"
     ]
    }
   ],
   "source": [
    "t1 = head_to_head[(head_to_head['team1'] == 'KSA') & (head_to_head['team2'] == 'URU')]\n",
    "print(t1)\n",
    "print('\\n')\n",
    "\n",
    "np.random.seed(4342)\n",
    "draw_threshold = 0.5\n",
    "\n",
    "t2 = np.random.normal(loc=t1['outcome'],scale=t1['sd'],size=100)\n",
    "\n",
    "print('KSA won {} out of 100.'.format(sum(t2>=draw_threshold)))\n",
    "print('URU won {} out of 100.'.format(sum(t2<=-draw_threshold)))\n",
    "print('There were {} draws.'.format(sum((t2>-draw_threshold) & (t2<draw_threshold))))"
   ]
  },
  {
   "cell_type": "markdown",
   "metadata": {},
   "source": [
    "#### Iran vs Spain"
   ]
  },
  {
   "cell_type": "code",
   "execution_count": 15,
   "metadata": {
    "ExecuteTime": {
     "end_time": "2018-06-19T07:15:23.707752Z",
     "start_time": "2018-06-19T07:15:23.629633Z"
    }
   },
   "outputs": [
    {
     "name": "stdout",
     "output_type": "stream",
     "text": [
      "    team1 team2  outcome        sd\n",
      "146   ESP   IRN     0.35  1.368028\n",
      "\n",
      "\n",
      "ESP won 37 out of 100.\n",
      "IRN won 35 out of 100.\n",
      "There were 28 draws.\n"
     ]
    }
   ],
   "source": [
    "t1 = head_to_head[(head_to_head['team1'] == 'ESP') & (head_to_head['team2'] == 'IRN')]\n",
    "print(t1)\n",
    "print('\\n')\n",
    "\n",
    "np.random.seed(4342)\n",
    "draw_threshold = 0.5\n",
    "\n",
    "t2 = np.random.normal(loc=t1['outcome'],scale=t1['sd'],size=100)\n",
    "\n",
    "print('ESP won {} out of 100.'.format(sum(t2>=draw_threshold)))\n",
    "print('IRN won {} out of 100.'.format(sum(t2<=-draw_threshold)))\n",
    "print('There were {} draws.'.format(sum((t2>-draw_threshold) & (t2<draw_threshold))))"
   ]
  },
  {
   "cell_type": "markdown",
   "metadata": {},
   "source": [
    "#### Denmark vs Australia"
   ]
  },
  {
   "cell_type": "code",
   "execution_count": 17,
   "metadata": {
    "ExecuteTime": {
     "end_time": "2018-06-19T07:15:24.723757Z",
     "start_time": "2018-06-19T07:15:24.645662Z"
    }
   },
   "outputs": [
    {
     "name": "stdout",
     "output_type": "stream",
     "text": [
      "    team1 team2  outcome        sd\n",
      "244   AUS   DEN   -0.482  1.875547\n",
      "\n",
      "\n",
      "AUS won 20 out of 100.\n",
      "DEN won 56 out of 100.\n",
      "There were 24 draws.\n"
     ]
    }
   ],
   "source": [
    "t1 = head_to_head[(head_to_head['team1'] == 'AUS') & (head_to_head['team2'] == 'DEN')]\n",
    "print(t1)\n",
    "print('\\n')\n",
    "\n",
    "np.random.seed(4342)\n",
    "draw_threshold = 0.5\n",
    "\n",
    "t2 = np.random.normal(loc=t1['outcome'],scale=t1['sd'],size=100)\n",
    "\n",
    "print('AUS won {} out of 100.'.format(sum(t2>=draw_threshold)))\n",
    "print('DEN won {} out of 100.'.format(sum(t2<=-draw_threshold)))\n",
    "print('There were {} draws.'.format(sum((t2>-draw_threshold) & (t2<draw_threshold))))"
   ]
  },
  {
   "cell_type": "markdown",
   "metadata": {},
   "source": [
    "#### France vs Peru"
   ]
  },
  {
   "cell_type": "code",
   "execution_count": 18,
   "metadata": {
    "ExecuteTime": {
     "end_time": "2018-06-19T07:15:25.537281Z",
     "start_time": "2018-06-19T07:15:25.506051Z"
    }
   },
   "outputs": [
    {
     "name": "stdout",
     "output_type": "stream",
     "text": [
      "    team1 team2  outcome       sd\n",
      "221   FRA   PER    0.152  1.14232\n",
      "\n",
      "\n",
      "FRA won 26 out of 100.\n",
      "PER won 36 out of 100.\n",
      "There were 38 draws.\n"
     ]
    }
   ],
   "source": [
    "t1 = head_to_head[(head_to_head['team1'] == 'FRA') & (head_to_head['team2'] == 'PER')]\n",
    "print(t1)\n",
    "print('\\n')\n",
    "\n",
    "np.random.seed(4342)\n",
    "draw_threshold = 0.5\n",
    "\n",
    "t2 = np.random.normal(loc=t1['outcome'],scale=t1['sd'],size=100)\n",
    "\n",
    "print('FRA won {} out of 100.'.format(sum(t2>=draw_threshold)))\n",
    "print('PER won {} out of 100.'.format(sum(t2<=-draw_threshold)))\n",
    "print('There were {} draws.'.format(sum((t2>-draw_threshold) & (t2<draw_threshold))))"
   ]
  },
  {
   "cell_type": "markdown",
   "metadata": {},
   "source": [
    "#### Argentina vs Croatia"
   ]
  },
  {
   "cell_type": "code",
   "execution_count": 19,
   "metadata": {
    "ExecuteTime": {
     "end_time": "2018-06-19T07:15:28.778565Z",
     "start_time": "2018-06-19T07:15:28.747315Z"
    }
   },
   "outputs": [
    {
     "name": "stdout",
     "output_type": "stream",
     "text": [
      "    team1 team2  outcome        sd\n",
      "307   ARG   CRO   -1.052  1.739338\n",
      "\n",
      "\n",
      "ARG won 13 out of 100.\n",
      "CRO won 74 out of 100.\n",
      "There were 13 draws.\n"
     ]
    }
   ],
   "source": [
    "t1 = head_to_head[(head_to_head['team1'] == 'ARG') & (head_to_head['team2'] == 'CRO')]\n",
    "print(t1)\n",
    "print('\\n')\n",
    "\n",
    "np.random.seed(4342)\n",
    "draw_threshold = 0.5\n",
    "\n",
    "t2 = np.random.normal(loc=t1['outcome'],scale=t1['sd'],size=100)\n",
    "\n",
    "print('ARG won {} out of 100.'.format(sum(t2>=draw_threshold)))\n",
    "print('CRO won {} out of 100.'.format(sum(t2<=-draw_threshold)))\n",
    "print('There were {} draws.'.format(sum((t2>-draw_threshold) & (t2<draw_threshold))))"
   ]
  }
 ],
 "metadata": {
  "kernelspec": {
   "display_name": "Python 3",
   "language": "python",
   "name": "python3"
  },
  "language_info": {
   "codemirror_mode": {
    "name": "ipython",
    "version": 3
   },
   "file_extension": ".py",
   "mimetype": "text/x-python",
   "name": "python",
   "nbconvert_exporter": "python",
   "pygments_lexer": "ipython3",
   "version": "3.6.5"
  },
  "varInspector": {
   "cols": {
    "lenName": 16,
    "lenType": 16,
    "lenVar": 40
   },
   "kernels_config": {
    "python": {
     "delete_cmd_postfix": "",
     "delete_cmd_prefix": "del ",
     "library": "var_list.py",
     "varRefreshCmd": "print(var_dic_list())"
    },
    "r": {
     "delete_cmd_postfix": ") ",
     "delete_cmd_prefix": "rm(",
     "library": "var_list.r",
     "varRefreshCmd": "cat(var_dic_list()) "
    }
   },
   "types_to_exclude": [
    "module",
    "function",
    "builtin_function_or_method",
    "instance",
    "_Feature"
   ],
   "window_display": false
  }
 },
 "nbformat": 4,
 "nbformat_minor": 2
}
