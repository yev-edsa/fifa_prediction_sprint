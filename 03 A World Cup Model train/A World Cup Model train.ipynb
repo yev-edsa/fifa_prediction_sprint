{
 "cells": [
  {
   "cell_type": "markdown",
   "metadata": {
    "colab_type": "text",
    "id": "XC3Jby_g1Tvp"
   },
   "source": [
    "# A World Cup model"
   ]
  },
  {
   "cell_type": "markdown",
   "metadata": {
    "colab_type": "text",
    "id": "OQY6-3jx1Tvq"
   },
   "source": [
    "Here is a first model which uses historic international match data to predict the results of individual games, and then uses simulation to predict the winner of the World Cup. This model was built by Sorin Peste and you can find the original at [his Github repository](https://github.com/neaorin/PredictTheWorldCup). With Sorin's permission, we have reproduced the model that he built in R in Python, as well as updating the data on which it was based (thanks to Sam for scraping the FIFA website for this).\n",
    "\n",
    "We're going to be building a random forest regressor to predict the goal difference in a game between any two teams participating in the World Cup. You haven't learned about random forests yet, but will in the next day or two. For now, all you need to know is that random forests are an ensemble method consisting of a number of decision trees, which minimise the well-known problem of high variance for individual trees and which can be used for either classification or regression problems. We're going to use the mean and variance of the predictions of each of the underlying trees in the forest as the basis for our simulations, as will be shown and described later.\n",
    "\n",
    "So let's dive in, starting with the necessary imports."
   ]
  },
  {
   "cell_type": "code",
   "execution_count": 1,
   "metadata": {
    "colab": {
     "autoexec": {
      "startup": false,
      "wait_interval": 0
     },
     "base_uri": "https://localhost:8080/",
     "height": 334
    },
    "colab_type": "code",
    "executionInfo": {
     "elapsed": 5109,
     "status": "error",
     "timestamp": 1529262762686,
     "user": {
      "displayName": "Dave Strugnell",
      "photoUrl": "https://lh3.googleusercontent.com/a/default-user=s128",
      "userId": "105340418436586194939"
     },
     "user_tz": -120
    },
    "id": "mpXAu4T81Tvr",
    "outputId": "e4afd4f4-865b-4335-f948-2022ab7463fb"
   },
   "outputs": [],
   "source": [
    "import pandas as pd\n",
    "from collections import namedtuple\n",
    "from itertools import chain, groupby\n",
    "import csv\n",
    "import numpy as np\n",
    "import matplotlib.pyplot as plt\n",
    "import seaborn as sns\n",
    "%matplotlib inline\n",
    "import re\n",
    "from sklearn.ensemble import RandomForestRegressor\n",
    "from sklearn.metrics import mean_squared_error\n",
    "import math\n",
    "from collections import namedtuple\n",
    "from itertools import chain, groupby, combinations\n",
    "import psycopg2"
   ]
  },
  {
   "cell_type": "code",
   "execution_count": 2,
   "metadata": {
    "colab": {
     "autoexec": {
      "startup": false,
      "wait_interval": 0
     }
    },
    "colab_type": "code",
    "id": "r5e9IykrGmfg"
   },
   "outputs": [],
   "source": [
    "pd.options.mode.chained_assignment = None "
   ]
  },
  {
   "cell_type": "markdown",
   "metadata": {
    "colab_type": "text",
    "id": "D-YYAYt31Tvw"
   },
   "source": [
    "## Data"
   ]
  },
  {
   "cell_type": "markdown",
   "metadata": {
    "colab_type": "text",
    "id": "wKhn448u1Tvw"
   },
   "source": [
    "The data consists of over 13,000 competitive international matches from 1956 to 2017, scraped from the FIFA website. We read in the data, drop some club matches which have snuck in there, do a bit of manipulation, create a couple of extra features and look at some features of the data"
   ]
  },
  {
   "cell_type": "markdown",
   "metadata": {
    "colab_type": "text",
    "id": "y5i8JNKCGmfj"
   },
   "source": [
    "#### **Important note**\n",
    "\n",
    "The datasets used in this train is the same datasets that is in your FIFA World Cup database that you launched on an Amazon RDS instance.\n",
    "\n",
    "**Pro tip:** For machine learning purposes, its better to not have third normalised data! Although, they are awesome for building dashboards"
   ]
  },
  {
   "cell_type": "markdown",
   "metadata": {
    "colab_type": "text",
    "id": "wjmiLsRz1Tvx"
   },
   "source": [
    "### Connect to the Amazon RDS database"
   ]
  },
  {
   "cell_type": "markdown",
   "metadata": {
    "colab_type": "text",
    "id": "z74Rm3WkGmfk"
   },
   "source": [
    "RDS Settings:"
   ]
  },
  {
   "cell_type": "code",
   "execution_count": 1,
   "metadata": {
    "colab": {
     "autoexec": {
      "startup": false,
      "wait_interval": 0
     }
    },
    "colab_type": "code",
    "id": "DY1VbGlvGmfl"
   },
   "outputs": [],
   "source": [
    "# Do not change\n",
    "rds_endpoint = 'edsasoccerinstance.cnzbp4ndrpos.eu-west-1.rds.amazonaws.com'\n",
    "rds_user = 'edsaSoccer'\n",
    "rds_psswrd = 'edsaSoccer'\n",
    "port = 5432\n",
    "rds_database = 'edsaWorldCupPrediction'"
   ]
  },
  {
   "cell_type": "markdown",
   "metadata": {
    "colab_type": "text",
    "id": "agedhNuPGmfn"
   },
   "source": [
    "Run function to connect to the database:"
   ]
  },
  {
   "cell_type": "code",
   "execution_count": 3,
   "metadata": {
    "colab": {
     "autoexec": {
      "startup": false,
      "wait_interval": 0
     },
     "base_uri": "https://localhost:8080/",
     "height": 34
    },
    "colab_type": "code",
    "executionInfo": {
     "elapsed": 1002,
     "status": "ok",
     "timestamp": 1529261796169,
     "user": {
      "displayName": "Byron Roelofsz",
      "photoUrl": "https://lh3.googleusercontent.com/a/default-user=s128",
      "userId": "113075563433890951674"
     },
     "user_tz": -120
    },
    "id": "_5uw-8g-Gmfo",
    "outputId": "e6a5927a-1a36-4fda-8e6e-1d82f9161094"
   },
   "outputs": [
    {
     "name": "stdout",
     "output_type": "stream",
     "text": [
      "Unable to connect to the database, please check your settings\n"
     ]
    }
   ],
   "source": [
    "try:\n",
    "    conn = psycopg2.connect(\"dbname='{:s}' user='{:s}' host='{:s}' password='{:s}'\".format(rds_database, rds_user, rds_endpoint, rds_psswrd))\n",
    "    print(\"Connected to the database\")\n",
    "except:\n",
    "    print(\"Unable to connect to the database, please check your settings\")"
   ]
  },
  {
   "cell_type": "code",
   "execution_count": 5,
   "metadata": {
    "colab": {
     "autoexec": {
      "startup": false,
      "wait_interval": 0
     }
    },
    "colab_type": "code",
    "id": "ntAOT0hgGmfs"
   },
   "outputs": [],
   "source": [
    "matches = pd.read_sql_query(\"SELECT * FROM matches\", con=conn)"
   ]
  },
  {
   "cell_type": "code",
   "execution_count": 6,
   "metadata": {
    "colab": {
     "autoexec": {
      "startup": false,
      "wait_interval": 0
     }
    },
    "colab_type": "code",
    "id": "ZvHl73Wy1Tv-",
    "outputId": "bb097242-f6ab-4fde-9e8a-36e40e415974"
   },
   "outputs": [
    {
     "name": "stdout",
     "output_type": "stream",
     "text": [
      "Number of records in database: 13174\n",
      "Number of records missing venue: 13174\n"
     ]
    }
   ],
   "source": [
    "# venue is missing (new FIFA website doesn't carry it) so remove the field\n",
    "# note: this means that the home/away analysis carried out by Soren in R can't be replicated in Python\n",
    "print('Number of records in database: {}'.format(matches.shape[0]))\n",
    "print('Number of records missing venue: {}'.format(matches['venue'].isnull().sum().sum()))\n",
    "matches.drop('venue',axis=1,inplace=True)"
   ]
  },
  {
   "cell_type": "code",
   "execution_count": 7,
   "metadata": {
    "colab": {
     "autoexec": {
      "startup": false,
      "wait_interval": 0
     }
    },
    "colab_type": "code",
    "id": "yVoi12q91TwB",
    "outputId": "c4ee748f-c610-4cbf-d6a0-1cca6e956baa"
   },
   "outputs": [
    {
     "data": {
      "text/plain": [
       "0"
      ]
     },
     "execution_count": 7,
     "metadata": {},
     "output_type": "execute_result"
    }
   ],
   "source": [
    "# no duplicate rows in the new database, so no need to drop\n",
    "matches.duplicated().sum()"
   ]
  },
  {
   "cell_type": "code",
   "execution_count": 8,
   "metadata": {
    "colab": {
     "autoexec": {
      "startup": false,
      "wait_interval": 0
     }
    },
    "colab_type": "code",
    "id": "BtqX3e8v1TwF"
   },
   "outputs": [],
   "source": [
    "# convert date strings to datetime objects and create 'year' field\n",
    "matches.loc[:,'date'] = pd.to_datetime(matches.loc[:,'date'].astype(str), format='%Y-%m-%d')\n",
    "matches['year'] = [x.year for x in matches['date']]"
   ]
  },
  {
   "cell_type": "code",
   "execution_count": 9,
   "metadata": {
    "colab": {
     "autoexec": {
      "startup": false,
      "wait_interval": 0
     }
    },
    "colab_type": "code",
    "id": "cyg6YVPa1TwH",
    "outputId": "916c6e48-a898-4630-cc84-349a92c22303"
   },
   "outputs": [
    {
     "data": {
      "text/html": [
       "<div>\n",
       "<style scoped>\n",
       "    .dataframe tbody tr th:only-of-type {\n",
       "        vertical-align: middle;\n",
       "    }\n",
       "\n",
       "    .dataframe tbody tr th {\n",
       "        vertical-align: top;\n",
       "    }\n",
       "\n",
       "    .dataframe thead th {\n",
       "        text-align: right;\n",
       "    }\n",
       "</style>\n",
       "<table border=\"1\" class=\"dataframe\">\n",
       "  <thead>\n",
       "    <tr style=\"text-align: right;\">\n",
       "      <th></th>\n",
       "      <th>date</th>\n",
       "      <th>team1</th>\n",
       "      <th>team1Text</th>\n",
       "      <th>team2</th>\n",
       "      <th>team2Text</th>\n",
       "      <th>IdCupSeason</th>\n",
       "      <th>CupName</th>\n",
       "      <th>team1Score</th>\n",
       "      <th>team2Score</th>\n",
       "      <th>statText</th>\n",
       "      <th>resText</th>\n",
       "      <th>team1PenScore</th>\n",
       "      <th>team2PenScore</th>\n",
       "      <th>year</th>\n",
       "      <th>qualifier</th>\n",
       "      <th>finaltourn</th>\n",
       "    </tr>\n",
       "  </thead>\n",
       "  <tbody>\n",
       "    <tr>\n",
       "      <th>0</th>\n",
       "      <td>1956-09-30</td>\n",
       "      <td>AUT</td>\n",
       "      <td>Austria</td>\n",
       "      <td>LUX</td>\n",
       "      <td>Luxembourg</td>\n",
       "      <td>10</td>\n",
       "      <td>FIFA WC 1958 Prel. Comp. UEFA</td>\n",
       "      <td>7</td>\n",
       "      <td>0</td>\n",
       "      <td>None</td>\n",
       "      <td>7-0</td>\n",
       "      <td>NaN</td>\n",
       "      <td>NaN</td>\n",
       "      <td>1956</td>\n",
       "      <td>True</td>\n",
       "      <td>False</td>\n",
       "    </tr>\n",
       "    <tr>\n",
       "      <th>1</th>\n",
       "      <td>1956-10-03</td>\n",
       "      <td>IRL</td>\n",
       "      <td>Republic of Ireland</td>\n",
       "      <td>DEN</td>\n",
       "      <td>Denmark</td>\n",
       "      <td>10</td>\n",
       "      <td>FIFA WC 1958 Prel. Comp. UEFA</td>\n",
       "      <td>2</td>\n",
       "      <td>1</td>\n",
       "      <td>None</td>\n",
       "      <td>2-1</td>\n",
       "      <td>NaN</td>\n",
       "      <td>NaN</td>\n",
       "      <td>1956</td>\n",
       "      <td>True</td>\n",
       "      <td>False</td>\n",
       "    </tr>\n",
       "    <tr>\n",
       "      <th>2</th>\n",
       "      <td>1956-11-11</td>\n",
       "      <td>FRA</td>\n",
       "      <td>France</td>\n",
       "      <td>BEL</td>\n",
       "      <td>Belgium</td>\n",
       "      <td>10</td>\n",
       "      <td>FIFA WC 1958 Prel. Comp. UEFA</td>\n",
       "      <td>6</td>\n",
       "      <td>3</td>\n",
       "      <td>None</td>\n",
       "      <td>6-3</td>\n",
       "      <td>NaN</td>\n",
       "      <td>NaN</td>\n",
       "      <td>1956</td>\n",
       "      <td>True</td>\n",
       "      <td>False</td>\n",
       "    </tr>\n",
       "    <tr>\n",
       "      <th>3</th>\n",
       "      <td>1956-12-05</td>\n",
       "      <td>ENG</td>\n",
       "      <td>England</td>\n",
       "      <td>DEN</td>\n",
       "      <td>Denmark</td>\n",
       "      <td>10</td>\n",
       "      <td>FIFA WC 1958 Prel. Comp. UEFA</td>\n",
       "      <td>5</td>\n",
       "      <td>2</td>\n",
       "      <td>None</td>\n",
       "      <td>5-2</td>\n",
       "      <td>NaN</td>\n",
       "      <td>NaN</td>\n",
       "      <td>1956</td>\n",
       "      <td>True</td>\n",
       "      <td>False</td>\n",
       "    </tr>\n",
       "    <tr>\n",
       "      <th>4</th>\n",
       "      <td>1956-11-24</td>\n",
       "      <td>URS</td>\n",
       "      <td>Soviet Union</td>\n",
       "      <td>FRG</td>\n",
       "      <td>Germany FR</td>\n",
       "      <td>197067</td>\n",
       "      <td>Olympic Football Tournament Melbourne 1956</td>\n",
       "      <td>2</td>\n",
       "      <td>1</td>\n",
       "      <td>None</td>\n",
       "      <td>2-1</td>\n",
       "      <td>NaN</td>\n",
       "      <td>NaN</td>\n",
       "      <td>1956</td>\n",
       "      <td>False</td>\n",
       "      <td>True</td>\n",
       "    </tr>\n",
       "  </tbody>\n",
       "</table>\n",
       "</div>"
      ],
      "text/plain": [
       "        date team1            team1Text team2   team2Text  IdCupSeason  \\\n",
       "0 1956-09-30   AUT              Austria   LUX  Luxembourg           10   \n",
       "1 1956-10-03   IRL  Republic of Ireland   DEN     Denmark           10   \n",
       "2 1956-11-11   FRA               France   BEL     Belgium           10   \n",
       "3 1956-12-05   ENG              England   DEN     Denmark           10   \n",
       "4 1956-11-24   URS         Soviet Union   FRG  Germany FR       197067   \n",
       "\n",
       "                                      CupName  team1Score  team2Score  \\\n",
       "0               FIFA WC 1958 Prel. Comp. UEFA           7           0   \n",
       "1               FIFA WC 1958 Prel. Comp. UEFA           2           1   \n",
       "2               FIFA WC 1958 Prel. Comp. UEFA           6           3   \n",
       "3               FIFA WC 1958 Prel. Comp. UEFA           5           2   \n",
       "4  Olympic Football Tournament Melbourne 1956           2           1   \n",
       "\n",
       "  statText resText  team1PenScore  team2PenScore  year  qualifier  finaltourn  \n",
       "0     None     7-0            NaN            NaN  1956       True       False  \n",
       "1     None     2-1            NaN            NaN  1956       True       False  \n",
       "2     None     6-3            NaN            NaN  1956       True       False  \n",
       "3     None     5-2            NaN            NaN  1956       True       False  \n",
       "4     None     2-1            NaN            NaN  1956      False        True  "
      ]
     },
     "execution_count": 9,
     "metadata": {},
     "output_type": "execute_result"
    }
   ],
   "source": [
    "# friendlies have already been removed from the dataset when scraping\n",
    "# (as have futsal, age group tournaments, club games and youth Olympics)\n",
    "# so no need for a friendly indicator, nor to later remove friendlies\n",
    "# however, there are club games in there which need to be removed\n",
    "\n",
    "# indicators for type of game\n",
    "matches.drop(matches[[bool(re.compile(r'Club').search(x)) for x in matches['CupName']]].index,inplace=True)\n",
    "matches['qualifier'] = [bool(re.compile(r'Prel|Qual').search(x)) for x in matches['CupName']]\n",
    "matches['finaltourn'] = [not x for x in matches['qualifier']]\n",
    "\n",
    "matches.head()"
   ]
  },
  {
   "cell_type": "code",
   "execution_count": 10,
   "metadata": {
    "colab": {
     "autoexec": {
      "startup": false,
      "wait_interval": 0
     }
    },
    "colab_type": "code",
    "id": "CEc_FpCt1TwK",
    "outputId": "28802e65-3989-4cf9-93b1-d8a45b54d1b4"
   },
   "outputs": [
    {
     "data": {
      "text/plain": [
       "(13153, 16)"
      ]
     },
     "execution_count": 10,
     "metadata": {},
     "output_type": "execute_result"
    }
   ],
   "source": [
    "matches.shape"
   ]
  },
  {
   "cell_type": "code",
   "execution_count": 11,
   "metadata": {
    "colab": {
     "autoexec": {
      "startup": false,
      "wait_interval": 0
     }
    },
    "colab_type": "code",
    "id": "zADNlaJW1TwN"
   },
   "outputs": [],
   "source": [
    "# add match ID\n",
    "matches.sort_values('date',inplace=True)\n",
    "matches['match_id'] = range(0,matches.shape[0])"
   ]
  },
  {
   "cell_type": "code",
   "execution_count": 12,
   "metadata": {
    "colab": {
     "autoexec": {
      "startup": false,
      "wait_interval": 0
     }
    },
    "colab_type": "code",
    "id": "R8ZcsPGq1TwQ",
    "outputId": "664fe086-6c24-4252-bcb5-7d2e7a8b50f0"
   },
   "outputs": [
    {
     "data": {
      "text/html": [
       "<div>\n",
       "<style scoped>\n",
       "    .dataframe tbody tr th:only-of-type {\n",
       "        vertical-align: middle;\n",
       "    }\n",
       "\n",
       "    .dataframe tbody tr th {\n",
       "        vertical-align: top;\n",
       "    }\n",
       "\n",
       "    .dataframe thead th {\n",
       "        text-align: right;\n",
       "    }\n",
       "</style>\n",
       "<table border=\"1\" class=\"dataframe\">\n",
       "  <thead>\n",
       "    <tr style=\"text-align: right;\">\n",
       "      <th></th>\n",
       "      <th>IdCupSeason</th>\n",
       "      <th>team1Score</th>\n",
       "      <th>team2Score</th>\n",
       "      <th>team1PenScore</th>\n",
       "      <th>team2PenScore</th>\n",
       "      <th>year</th>\n",
       "      <th>match_id</th>\n",
       "    </tr>\n",
       "  </thead>\n",
       "  <tbody>\n",
       "    <tr>\n",
       "      <th>count</th>\n",
       "      <td>13153.000000</td>\n",
       "      <td>13153.000000</td>\n",
       "      <td>13153.000000</td>\n",
       "      <td>169.000000</td>\n",
       "      <td>169.000000</td>\n",
       "      <td>13153.000000</td>\n",
       "      <td>13153.00000</td>\n",
       "    </tr>\n",
       "    <tr>\n",
       "      <th>mean</th>\n",
       "      <td>87943.744469</td>\n",
       "      <td>1.746522</td>\n",
       "      <td>1.106820</td>\n",
       "      <td>3.964497</td>\n",
       "      <td>3.970414</td>\n",
       "      <td>1996.426519</td>\n",
       "      <td>6576.00000</td>\n",
       "    </tr>\n",
       "    <tr>\n",
       "      <th>std</th>\n",
       "      <td>119187.388985</td>\n",
       "      <td>1.770623</td>\n",
       "      <td>1.375813</td>\n",
       "      <td>1.914523</td>\n",
       "      <td>1.888014</td>\n",
       "      <td>14.562949</td>\n",
       "      <td>3797.08838</td>\n",
       "    </tr>\n",
       "    <tr>\n",
       "      <th>min</th>\n",
       "      <td>10.000000</td>\n",
       "      <td>0.000000</td>\n",
       "      <td>0.000000</td>\n",
       "      <td>0.000000</td>\n",
       "      <td>0.000000</td>\n",
       "      <td>1956.000000</td>\n",
       "      <td>0.00000</td>\n",
       "    </tr>\n",
       "    <tr>\n",
       "      <th>25%</th>\n",
       "      <td>895.000000</td>\n",
       "      <td>1.000000</td>\n",
       "      <td>0.000000</td>\n",
       "      <td>3.000000</td>\n",
       "      <td>3.000000</td>\n",
       "      <td>1988.000000</td>\n",
       "      <td>3288.00000</td>\n",
       "    </tr>\n",
       "    <tr>\n",
       "      <th>50%</th>\n",
       "      <td>3881.000000</td>\n",
       "      <td>1.000000</td>\n",
       "      <td>1.000000</td>\n",
       "      <td>4.000000</td>\n",
       "      <td>4.000000</td>\n",
       "      <td>2000.000000</td>\n",
       "      <td>6576.00000</td>\n",
       "    </tr>\n",
       "    <tr>\n",
       "      <th>75%</th>\n",
       "      <td>250358.000000</td>\n",
       "      <td>2.000000</td>\n",
       "      <td>2.000000</td>\n",
       "      <td>5.000000</td>\n",
       "      <td>5.000000</td>\n",
       "      <td>2007.000000</td>\n",
       "      <td>9864.00000</td>\n",
       "    </tr>\n",
       "    <tr>\n",
       "      <th>max</th>\n",
       "      <td>277926.000000</td>\n",
       "      <td>31.000000</td>\n",
       "      <td>22.000000</td>\n",
       "      <td>13.000000</td>\n",
       "      <td>12.000000</td>\n",
       "      <td>2017.000000</td>\n",
       "      <td>13152.00000</td>\n",
       "    </tr>\n",
       "  </tbody>\n",
       "</table>\n",
       "</div>"
      ],
      "text/plain": [
       "         IdCupSeason    team1Score    team2Score  team1PenScore  \\\n",
       "count   13153.000000  13153.000000  13153.000000     169.000000   \n",
       "mean    87943.744469      1.746522      1.106820       3.964497   \n",
       "std    119187.388985      1.770623      1.375813       1.914523   \n",
       "min        10.000000      0.000000      0.000000       0.000000   \n",
       "25%       895.000000      1.000000      0.000000       3.000000   \n",
       "50%      3881.000000      1.000000      1.000000       4.000000   \n",
       "75%    250358.000000      2.000000      2.000000       5.000000   \n",
       "max    277926.000000     31.000000     22.000000      13.000000   \n",
       "\n",
       "       team2PenScore          year     match_id  \n",
       "count     169.000000  13153.000000  13153.00000  \n",
       "mean        3.970414   1996.426519   6576.00000  \n",
       "std         1.888014     14.562949   3797.08838  \n",
       "min         0.000000   1956.000000      0.00000  \n",
       "25%         3.000000   1988.000000   3288.00000  \n",
       "50%         4.000000   2000.000000   6576.00000  \n",
       "75%         5.000000   2007.000000   9864.00000  \n",
       "max        12.000000   2017.000000  13152.00000  "
      ]
     },
     "execution_count": 12,
     "metadata": {},
     "output_type": "execute_result"
    }
   ],
   "source": [
    "matches.describe()"
   ]
  },
  {
   "cell_type": "markdown",
   "metadata": {
    "colab_type": "text",
    "id": "4W5nJngc1TwV"
   },
   "source": [
    "Let's have a look at the average number of goals scored per game over time. We can see that the high-scoring goal fests of the 50s and 60s have more or less disappeared, thanks mainly to the introduction of improved defensive structures such as the catenaccio system of the Italians from the 70s."
   ]
  },
  {
   "cell_type": "code",
   "execution_count": 13,
   "metadata": {
    "colab": {
     "autoexec": {
      "startup": false,
      "wait_interval": 0
     }
    },
    "colab_type": "code",
    "id": "ysGVDW8z1TwW",
    "outputId": "0feeb878-3609-47ff-f0d4-c4944ef1acb5"
   },
   "outputs": [
    {
     "data": {
      "text/plain": [
       "<matplotlib.axes._subplots.AxesSubplot at 0x2610d236198>"
      ]
     },
     "execution_count": 13,
     "metadata": {},
     "output_type": "execute_result"
    },
    {
     "data": {
      "image/png": "[encoded data removed]",
      "text/plain": [
       "<Figure size 864x432 with 1 Axes>"
      ]
     },
     "metadata": {},
     "output_type": "display_data"
    }
   ],
   "source": [
    "# goals scored per game, over time\n",
    "plt.figure(figsize=(12,6))\n",
    "matches['Total goals'] = [x + y for x,y in zip(matches['team1Score'],matches['team2Score'])] \n",
    "goals_per_match = matches.pivot_table(index='year',values='Total goals',aggfunc=np.mean).reset_index()\n",
    "#goals_per_match\n",
    "sns.regplot(x='year', y='Total goals', data=goals_per_match, lowess=True)"
   ]
  },
  {
   "cell_type": "markdown",
   "metadata": {
    "colab_type": "text",
    "id": "femx44tn1Twd"
   },
   "source": [
    "We unfortunately don't have venue data on the new FIFA website, but typically team1 is the home team unless the game was played in a neutral venue. If we look at the goal difference, defined as team1Score minus team2Score, we can see that it's been on average about 0.64."
   ]
  },
  {
   "cell_type": "code",
   "execution_count": 14,
   "metadata": {
    "colab": {
     "autoexec": {
      "startup": false,
      "wait_interval": 0
     }
    },
    "colab_type": "code",
    "id": "PHulojhW1Twe",
    "outputId": "10cf3c10-08a9-4cc1-f02a-ed466914fd8a"
   },
   "outputs": [
    {
     "data": {
      "text/html": [
       "<div>\n",
       "<style scoped>\n",
       "    .dataframe tbody tr th:only-of-type {\n",
       "        vertical-align: middle;\n",
       "    }\n",
       "\n",
       "    .dataframe tbody tr th {\n",
       "        vertical-align: top;\n",
       "    }\n",
       "\n",
       "    .dataframe thead th {\n",
       "        text-align: right;\n",
       "    }\n",
       "</style>\n",
       "<table border=\"1\" class=\"dataframe\">\n",
       "  <thead>\n",
       "    <tr style=\"text-align: right;\">\n",
       "      <th></th>\n",
       "      <th>0</th>\n",
       "    </tr>\n",
       "  </thead>\n",
       "  <tbody>\n",
       "    <tr>\n",
       "      <th>count</th>\n",
       "      <td>13153.000000</td>\n",
       "    </tr>\n",
       "    <tr>\n",
       "      <th>mean</th>\n",
       "      <td>0.639702</td>\n",
       "    </tr>\n",
       "    <tr>\n",
       "      <th>std</th>\n",
       "      <td>2.449079</td>\n",
       "    </tr>\n",
       "    <tr>\n",
       "      <th>min</th>\n",
       "      <td>-22.000000</td>\n",
       "    </tr>\n",
       "    <tr>\n",
       "      <th>25%</th>\n",
       "      <td>-1.000000</td>\n",
       "    </tr>\n",
       "    <tr>\n",
       "      <th>50%</th>\n",
       "      <td>1.000000</td>\n",
       "    </tr>\n",
       "    <tr>\n",
       "      <th>75%</th>\n",
       "      <td>2.000000</td>\n",
       "    </tr>\n",
       "    <tr>\n",
       "      <th>max</th>\n",
       "      <td>31.000000</td>\n",
       "    </tr>\n",
       "  </tbody>\n",
       "</table>\n",
       "</div>"
      ],
      "text/plain": [
       "                  0\n",
       "count  13153.000000\n",
       "mean       0.639702\n",
       "std        2.449079\n",
       "min      -22.000000\n",
       "25%       -1.000000\n",
       "50%        1.000000\n",
       "75%        2.000000\n",
       "max       31.000000"
      ]
     },
     "execution_count": 14,
     "metadata": {},
     "output_type": "execute_result"
    }
   ],
   "source": [
    "pd.DataFrame([x - y for x,y in zip(matches['team1Score'],matches['team2Score'])]).describe()"
   ]
  },
  {
   "cell_type": "markdown",
   "metadata": {
    "colab_type": "text",
    "id": "4hLEb-fr1Twh"
   },
   "source": [
    "Since World Cup matches are played on neutral territory (unless you're Russia), we want to avoid building in a bias towards team1 in our machine learning algorithm, so we randomly swap the order for roughly half of the observations:"
   ]
  },
  {
   "cell_type": "code",
   "execution_count": 15,
   "metadata": {
    "colab": {
     "autoexec": {
      "startup": false,
      "wait_interval": 0
     }
    },
    "colab_type": "code",
    "id": "1AWt5flX1Twi",
    "outputId": "bf68c1be-a8f3-4769-d695-932e24fa099d"
   },
   "outputs": [
    {
     "data": {
      "text/html": [
       "<div>\n",
       "<style scoped>\n",
       "    .dataframe tbody tr th:only-of-type {\n",
       "        vertical-align: middle;\n",
       "    }\n",
       "\n",
       "    .dataframe tbody tr th {\n",
       "        vertical-align: top;\n",
       "    }\n",
       "\n",
       "    .dataframe thead th {\n",
       "        text-align: right;\n",
       "    }\n",
       "</style>\n",
       "<table border=\"1\" class=\"dataframe\">\n",
       "  <thead>\n",
       "    <tr style=\"text-align: right;\">\n",
       "      <th></th>\n",
       "      <th>0</th>\n",
       "    </tr>\n",
       "  </thead>\n",
       "  <tbody>\n",
       "    <tr>\n",
       "      <th>count</th>\n",
       "      <td>13153.000000</td>\n",
       "    </tr>\n",
       "    <tr>\n",
       "      <th>mean</th>\n",
       "      <td>0.019463</td>\n",
       "    </tr>\n",
       "    <tr>\n",
       "      <th>std</th>\n",
       "      <td>2.531178</td>\n",
       "    </tr>\n",
       "    <tr>\n",
       "      <th>min</th>\n",
       "      <td>-31.000000</td>\n",
       "    </tr>\n",
       "    <tr>\n",
       "      <th>25%</th>\n",
       "      <td>-1.000000</td>\n",
       "    </tr>\n",
       "    <tr>\n",
       "      <th>50%</th>\n",
       "      <td>0.000000</td>\n",
       "    </tr>\n",
       "    <tr>\n",
       "      <th>75%</th>\n",
       "      <td>1.000000</td>\n",
       "    </tr>\n",
       "    <tr>\n",
       "      <th>max</th>\n",
       "      <td>22.000000</td>\n",
       "    </tr>\n",
       "  </tbody>\n",
       "</table>\n",
       "</div>"
      ],
      "text/plain": [
       "                  0\n",
       "count  13153.000000\n",
       "mean       0.019463\n",
       "std        2.531178\n",
       "min      -31.000000\n",
       "25%       -1.000000\n",
       "50%        0.000000\n",
       "75%        1.000000\n",
       "max       22.000000"
      ]
     },
     "execution_count": 15,
     "metadata": {},
     "output_type": "execute_result"
    }
   ],
   "source": [
    "# randomly reallocate team1 and team2 to avoid ML algorithm locking onto team1 win as a feature\n",
    "np.random.seed(4342)\n",
    "n = matches.shape[0]\n",
    "matches['switch'] = np.random.uniform(0,1,n)\n",
    "matches1 = matches[matches['switch']<=0.5]\n",
    "matches2 = matches[matches['switch']>0.5]\n",
    "matches2[['team1','team2']] = matches2[['team2','team1']]\n",
    "matches2[['team1Text','team2Text']] = matches2[['team2Text','team1Text']]\n",
    "matches2[['team1Score','team2Score']] = matches2[['team2Score','team1Score']]\n",
    "matches2[['team1PenScore','team2PenScore']] = matches2[['team2PenScore','team1PenScore']]\n",
    "matches = matches1.append(matches2)\n",
    "pd.DataFrame([x - y for x,y in zip(matches['team1Score'],matches['team2Score'])]).describe()"
   ]
  },
  {
   "cell_type": "markdown",
   "metadata": {
    "colab_type": "text",
    "id": "UdrZ6dwO1Tws"
   },
   "source": [
    "In order to do our feature engineering, we want to be able to extract all match data involving a particular team. One way to do this is to double up the data set, swapping team1 and team2 in the second half, so that we can get what we're looking for simply by grouping on team1."
   ]
  },
  {
   "cell_type": "code",
   "execution_count": 16,
   "metadata": {
    "colab": {
     "autoexec": {
      "startup": false,
      "wait_interval": 0
     }
    },
    "colab_type": "code",
    "id": "2knn7Auq1Twu",
    "outputId": "bddcdff1-94fc-4a17-af96-9bfa71f60673"
   },
   "outputs": [
    {
     "data": {
      "text/html": [
       "<div>\n",
       "<style scoped>\n",
       "    .dataframe tbody tr th:only-of-type {\n",
       "        vertical-align: middle;\n",
       "    }\n",
       "\n",
       "    .dataframe tbody tr th {\n",
       "        vertical-align: top;\n",
       "    }\n",
       "\n",
       "    .dataframe thead th {\n",
       "        text-align: right;\n",
       "    }\n",
       "</style>\n",
       "<table border=\"1\" class=\"dataframe\">\n",
       "  <thead>\n",
       "    <tr style=\"text-align: right;\">\n",
       "      <th></th>\n",
       "      <th>match_id</th>\n",
       "      <th>date</th>\n",
       "      <th>team1</th>\n",
       "      <th>team2</th>\n",
       "      <th>team1Score</th>\n",
       "      <th>team2Score</th>\n",
       "      <th>year</th>\n",
       "      <th>Total goals</th>\n",
       "      <th>qualifier</th>\n",
       "      <th>finaltourn</th>\n",
       "      <th>gd</th>\n",
       "      <th>w</th>\n",
       "      <th>l</th>\n",
       "      <th>d</th>\n",
       "    </tr>\n",
       "  </thead>\n",
       "  <tbody>\n",
       "    <tr>\n",
       "      <th>30</th>\n",
       "      <td>0</td>\n",
       "      <td>1956-01-21</td>\n",
       "      <td>URU</td>\n",
       "      <td>PAR</td>\n",
       "      <td>4</td>\n",
       "      <td>2</td>\n",
       "      <td>1956</td>\n",
       "      <td>6</td>\n",
       "      <td>False</td>\n",
       "      <td>True</td>\n",
       "      <td>2</td>\n",
       "      <td>True</td>\n",
       "      <td>False</td>\n",
       "      <td>False</td>\n",
       "    </tr>\n",
       "    <tr>\n",
       "      <th>30</th>\n",
       "      <td>0</td>\n",
       "      <td>1956-01-21</td>\n",
       "      <td>PAR</td>\n",
       "      <td>URU</td>\n",
       "      <td>2</td>\n",
       "      <td>4</td>\n",
       "      <td>1956</td>\n",
       "      <td>6</td>\n",
       "      <td>False</td>\n",
       "      <td>True</td>\n",
       "      <td>-2</td>\n",
       "      <td>False</td>\n",
       "      <td>True</td>\n",
       "      <td>False</td>\n",
       "    </tr>\n",
       "    <tr>\n",
       "      <th>31</th>\n",
       "      <td>1</td>\n",
       "      <td>1956-01-22</td>\n",
       "      <td>ARG</td>\n",
       "      <td>PER</td>\n",
       "      <td>2</td>\n",
       "      <td>1</td>\n",
       "      <td>1956</td>\n",
       "      <td>3</td>\n",
       "      <td>False</td>\n",
       "      <td>True</td>\n",
       "      <td>1</td>\n",
       "      <td>True</td>\n",
       "      <td>False</td>\n",
       "      <td>False</td>\n",
       "    </tr>\n",
       "    <tr>\n",
       "      <th>31</th>\n",
       "      <td>1</td>\n",
       "      <td>1956-01-22</td>\n",
       "      <td>PER</td>\n",
       "      <td>ARG</td>\n",
       "      <td>1</td>\n",
       "      <td>2</td>\n",
       "      <td>1956</td>\n",
       "      <td>3</td>\n",
       "      <td>False</td>\n",
       "      <td>True</td>\n",
       "      <td>-1</td>\n",
       "      <td>False</td>\n",
       "      <td>True</td>\n",
       "      <td>False</td>\n",
       "    </tr>\n",
       "    <tr>\n",
       "      <th>32</th>\n",
       "      <td>2</td>\n",
       "      <td>1956-01-24</td>\n",
       "      <td>CHI</td>\n",
       "      <td>BRA</td>\n",
       "      <td>4</td>\n",
       "      <td>1</td>\n",
       "      <td>1956</td>\n",
       "      <td>5</td>\n",
       "      <td>False</td>\n",
       "      <td>True</td>\n",
       "      <td>3</td>\n",
       "      <td>True</td>\n",
       "      <td>False</td>\n",
       "      <td>False</td>\n",
       "    </tr>\n",
       "  </tbody>\n",
       "</table>\n",
       "</div>"
      ],
      "text/plain": [
       "    match_id       date team1 team2  team1Score  team2Score  year  \\\n",
       "30         0 1956-01-21   URU   PAR           4           2  1956   \n",
       "30         0 1956-01-21   PAR   URU           2           4  1956   \n",
       "31         1 1956-01-22   ARG   PER           2           1  1956   \n",
       "31         1 1956-01-22   PER   ARG           1           2  1956   \n",
       "32         2 1956-01-24   CHI   BRA           4           1  1956   \n",
       "\n",
       "    Total goals  qualifier  finaltourn  gd      w      l      d  \n",
       "30            6      False        True   2   True  False  False  \n",
       "30            6      False        True  -2  False   True  False  \n",
       "31            3      False        True   1   True  False  False  \n",
       "31            3      False        True  -1  False   True  False  \n",
       "32            5      False        True   3   True  False  False  "
      ]
     },
     "execution_count": 16,
     "metadata": {},
     "output_type": "execute_result"
    }
   ],
   "source": [
    "# team performance\n",
    "matches1 = matches[['match_id','date','team1','team2','team1Score','team2Score','year','Total goals','qualifier','finaltourn']]\n",
    "matches2 = matches1.copy()\n",
    "matches2[['team2','team1']] = matches2[['team1','team2']]\n",
    "matches2[['team2Score','team1Score']] = matches2[['team1Score','team2Score']]\n",
    "\n",
    "teamperf = pd.concat([matches1,matches2])\n",
    "teamperf['gd'] = [x-y for x,y in zip(teamperf['team1Score'],teamperf['team2Score'])]\n",
    "teamperf['w'] = [(x>y) for x,y in zip(teamperf['team1Score'],teamperf['team2Score'])]\n",
    "teamperf['l'] = [(x<y) for x,y in zip(teamperf['team1Score'],teamperf['team2Score'])]\n",
    "teamperf['d'] = [(x==y) for x,y in zip(teamperf['team1Score'],teamperf['team2Score'])]\n",
    "\n",
    "teamperf.sort_values('date',ascending=True,inplace=True)\n",
    "teamperf.head()"
   ]
  },
  {
   "cell_type": "markdown",
   "metadata": {
    "colab_type": "text",
    "id": "8XJ_RgG-1Tw1"
   },
   "source": [
    "Now let's use our modified data set to see which teams have the best winning records over time. To avoid noise, we impose the requirement that a minimum of 100 games must have been played."
   ]
  },
  {
   "cell_type": "code",
   "execution_count": 17,
   "metadata": {
    "colab": {
     "autoexec": {
      "startup": false,
      "wait_interval": 0
     }
    },
    "colab_type": "code",
    "id": "jKwmSP9a1Tw2",
    "outputId": "640339ec-0c1d-4554-bfc6-a8c02ea10f3d"
   },
   "outputs": [
    {
     "data": {
      "text/html": [
       "<div>\n",
       "<style scoped>\n",
       "    .dataframe tbody tr th:only-of-type {\n",
       "        vertical-align: middle;\n",
       "    }\n",
       "\n",
       "    .dataframe tbody tr th {\n",
       "        vertical-align: top;\n",
       "    }\n",
       "\n",
       "    .dataframe thead th {\n",
       "        text-align: right;\n",
       "    }\n",
       "</style>\n",
       "<table border=\"1\" class=\"dataframe\">\n",
       "  <thead>\n",
       "    <tr style=\"text-align: right;\">\n",
       "      <th></th>\n",
       "      <th>team1</th>\n",
       "      <th>w</th>\n",
       "      <th>l</th>\n",
       "      <th>d</th>\n",
       "      <th>games</th>\n",
       "      <th>winpercentage</th>\n",
       "    </tr>\n",
       "  </thead>\n",
       "  <tbody>\n",
       "    <tr>\n",
       "      <th>76</th>\n",
       "      <td>GER</td>\n",
       "      <td>112.0</td>\n",
       "      <td>29.0</td>\n",
       "      <td>33.0</td>\n",
       "      <td>174.0</td>\n",
       "      <td>0.738506</td>\n",
       "    </tr>\n",
       "    <tr>\n",
       "      <th>69</th>\n",
       "      <td>FRG</td>\n",
       "      <td>85.0</td>\n",
       "      <td>23.0</td>\n",
       "      <td>30.0</td>\n",
       "      <td>138.0</td>\n",
       "      <td>0.724638</td>\n",
       "    </tr>\n",
       "    <tr>\n",
       "      <th>29</th>\n",
       "      <td>BRA</td>\n",
       "      <td>274.0</td>\n",
       "      <td>76.0</td>\n",
       "      <td>96.0</td>\n",
       "      <td>446.0</td>\n",
       "      <td>0.721973</td>\n",
       "    </tr>\n",
       "    <tr>\n",
       "      <th>207</th>\n",
       "      <td>URS</td>\n",
       "      <td>91.0</td>\n",
       "      <td>28.0</td>\n",
       "      <td>26.0</td>\n",
       "      <td>145.0</td>\n",
       "      <td>0.717241</td>\n",
       "    </tr>\n",
       "    <tr>\n",
       "      <th>63</th>\n",
       "      <td>ESP</td>\n",
       "      <td>170.0</td>\n",
       "      <td>53.0</td>\n",
       "      <td>68.0</td>\n",
       "      <td>291.0</td>\n",
       "      <td>0.701031</td>\n",
       "    </tr>\n",
       "  </tbody>\n",
       "</table>\n",
       "</div>"
      ],
      "text/plain": [
       "    team1      w     l     d  games  winpercentage\n",
       "76    GER  112.0  29.0  33.0  174.0       0.738506\n",
       "69    FRG   85.0  23.0  30.0  138.0       0.724638\n",
       "29    BRA  274.0  76.0  96.0  446.0       0.721973\n",
       "207   URS   91.0  28.0  26.0  145.0       0.717241\n",
       "63    ESP  170.0  53.0  68.0  291.0       0.701031"
      ]
     },
     "execution_count": 17,
     "metadata": {},
     "output_type": "execute_result"
    }
   ],
   "source": [
    "# Out of the teams who have played at least 100 games, what are the winning percentages for each of those teams?\n",
    "\n",
    "def formula_winpercentage(totalgames, wins, draws):\n",
    "    return ((wins + 0.5 * draws) / totalgames)\n",
    "\n",
    "team_wld = teamperf.groupby('team1').sum()[['w','l','d']].reset_index()\n",
    "team_wld['games'] = [a+b+c for a,b,c in zip(team_wld['w'],team_wld['l'],team_wld['d'])]\n",
    "team_wld = team_wld[team_wld['games'] >= 100]\n",
    "team_wld['winpercentage'] = [formula_winpercentage(x,y,z) for x,y,z in zip(team_wld['games'],team_wld['w'],team_wld['d'])]\n",
    "team_wld.sort_values(by='winpercentage',ascending=False).head()"
   ]
  },
  {
   "cell_type": "markdown",
   "metadata": {
    "colab_type": "text",
    "id": "tySAwv3Q1Tw6"
   },
   "source": [
    "So Germany have won 74% of their games, Brazil 72% and Spain 70%... no big surprises there. But who are FRG and URS? It turns out that these are countries that don't exist any more, thanks to shifting geopolitics: FRG is the old West Germany, and URS the old USSR. So we have to find a mapping of these old country codes onto their modern equivalents, which requires some judgement in some cases: for example, Yugoslavia (SCG) has been mapped onto Serbia, but could just as easily have been mapped onto one of the other countries that emerged from that conflict. West Germany maps to Germany, Czechoslovakia to the Czech Republic, USSR to Russia and Zaire to the DRC."
   ]
  },
  {
   "cell_type": "code",
   "execution_count": 18,
   "metadata": {},
   "outputs": [],
   "source": [
    "def countryMapping(row):\n",
    "    if row == 'FRG':\n",
    "        val = 'GER'\n",
    "    elif row == 'TCH':\n",
    "        val = 'CZE'\n",
    "    elif row == 'URS':\n",
    "        val = 'RUS'\n",
    "    elif row == 'SCG':\n",
    "        val = 'SRB'\n",
    "    elif row == 'ZAI':\n",
    "        val = 'COD'\n",
    "    else:\n",
    "        val = row\n",
    "    return val"
   ]
  },
  {
   "cell_type": "code",
   "execution_count": 19,
   "metadata": {},
   "outputs": [],
   "source": [
    "teamperf['team1'] = teamperf['team1'].apply(lambda x: countryMapping(x))\n",
    "teamperf['team2'] = teamperf['team2'].apply(lambda x: countryMapping(x))\n",
    "\n",
    "matches['team1'] = matches['team1'].apply(lambda x: countryMapping(x))\n",
    "matches['team2'] = matches['team2'].apply(lambda x: countryMapping(x))"
   ]
  },
  {
   "cell_type": "code",
   "execution_count": 20,
   "metadata": {
    "colab": {
     "autoexec": {
      "startup": false,
      "wait_interval": 0
     }
    },
    "colab_type": "code",
    "id": "B3Jkuq2a1Tw7",
    "outputId": "ae82d1a9-d76d-4356-c063-65fc23b3f21a"
   },
   "outputs": [
    {
     "data": {
      "text/html": [
       "<div>\n",
       "<style scoped>\n",
       "    .dataframe tbody tr th:only-of-type {\n",
       "        vertical-align: middle;\n",
       "    }\n",
       "\n",
       "    .dataframe tbody tr th {\n",
       "        vertical-align: top;\n",
       "    }\n",
       "\n",
       "    .dataframe thead th {\n",
       "        text-align: right;\n",
       "    }\n",
       "</style>\n",
       "<table border=\"1\" class=\"dataframe\">\n",
       "  <thead>\n",
       "    <tr style=\"text-align: right;\">\n",
       "      <th></th>\n",
       "      <th>team1</th>\n",
       "      <th>w</th>\n",
       "      <th>l</th>\n",
       "      <th>d</th>\n",
       "      <th>games</th>\n",
       "      <th>winpercentage</th>\n",
       "    </tr>\n",
       "  </thead>\n",
       "  <tbody>\n",
       "    <tr>\n",
       "      <th>75</th>\n",
       "      <td>GER</td>\n",
       "      <td>197.0</td>\n",
       "      <td>52.0</td>\n",
       "      <td>63.0</td>\n",
       "      <td>312.0</td>\n",
       "      <td>0.732372</td>\n",
       "    </tr>\n",
       "    <tr>\n",
       "      <th>29</th>\n",
       "      <td>BRA</td>\n",
       "      <td>274.0</td>\n",
       "      <td>76.0</td>\n",
       "      <td>96.0</td>\n",
       "      <td>446.0</td>\n",
       "      <td>0.721973</td>\n",
       "    </tr>\n",
       "    <tr>\n",
       "      <th>63</th>\n",
       "      <td>ESP</td>\n",
       "      <td>170.0</td>\n",
       "      <td>53.0</td>\n",
       "      <td>68.0</td>\n",
       "      <td>291.0</td>\n",
       "      <td>0.701031</td>\n",
       "    </tr>\n",
       "    <tr>\n",
       "      <th>96</th>\n",
       "      <td>ITA</td>\n",
       "      <td>179.0</td>\n",
       "      <td>54.0</td>\n",
       "      <td>90.0</td>\n",
       "      <td>323.0</td>\n",
       "      <td>0.693498</td>\n",
       "    </tr>\n",
       "    <tr>\n",
       "      <th>60</th>\n",
       "      <td>ENG</td>\n",
       "      <td>125.0</td>\n",
       "      <td>39.0</td>\n",
       "      <td>65.0</td>\n",
       "      <td>229.0</td>\n",
       "      <td>0.687773</td>\n",
       "    </tr>\n",
       "  </tbody>\n",
       "</table>\n",
       "</div>"
      ],
      "text/plain": [
       "   team1      w     l     d  games  winpercentage\n",
       "75   GER  197.0  52.0  63.0  312.0       0.732372\n",
       "29   BRA  274.0  76.0  96.0  446.0       0.721973\n",
       "63   ESP  170.0  53.0  68.0  291.0       0.701031\n",
       "96   ITA  179.0  54.0  90.0  323.0       0.693498\n",
       "60   ENG  125.0  39.0  65.0  229.0       0.687773"
      ]
     },
     "execution_count": 20,
     "metadata": {},
     "output_type": "execute_result"
    }
   ],
   "source": [
    "team_wld = teamperf.groupby('team1').sum()[['w','l','d']].reset_index()\n",
    "team_wld.loc[:,'games'] = [a+b+c for a,b,c in zip(team_wld['w'],team_wld['l'],team_wld['d'])]\n",
    "team_wld = team_wld[team_wld['games'] >= 100]\n",
    "team_wld.loc[:,'winpercentage'] = [formula_winpercentage(x,y,z) for x,y,z in zip(team_wld['games'],team_wld['w'],team_wld['d'])]\n",
    "team_wld.sort_values(by='winpercentage',ascending=False).head()"
   ]
  },
  {
   "cell_type": "markdown",
   "metadata": {
    "colab_type": "text",
    "id": "F6qepdv91Tw-"
   },
   "source": [
    "Let's have a look now at the distribution of scorelines and goals scored."
   ]
  },
  {
   "cell_type": "code",
   "execution_count": 21,
   "metadata": {
    "colab": {
     "autoexec": {
      "startup": false,
      "wait_interval": 0
     }
    },
    "colab_type": "code",
    "id": "R3bkPpzc1TxA",
    "outputId": "8ce0f730-4475-44b6-bbc9-1c75e1b5a2dd"
   },
   "outputs": [
    {
     "data": {
      "text/html": [
       "<div>\n",
       "<style scoped>\n",
       "    .dataframe tbody tr th:only-of-type {\n",
       "        vertical-align: middle;\n",
       "    }\n",
       "\n",
       "    .dataframe tbody tr th {\n",
       "        vertical-align: top;\n",
       "    }\n",
       "\n",
       "    .dataframe thead th {\n",
       "        text-align: right;\n",
       "    }\n",
       "</style>\n",
       "<table border=\"1\" class=\"dataframe\">\n",
       "  <thead>\n",
       "    <tr style=\"text-align: right;\">\n",
       "      <th></th>\n",
       "      <th>team1Score</th>\n",
       "      <th>team2Score</th>\n",
       "    </tr>\n",
       "  </thead>\n",
       "  <tbody>\n",
       "    <tr>\n",
       "      <th>30</th>\n",
       "      <td>4</td>\n",
       "      <td>2</td>\n",
       "    </tr>\n",
       "    <tr>\n",
       "      <th>31</th>\n",
       "      <td>2</td>\n",
       "      <td>1</td>\n",
       "    </tr>\n",
       "    <tr>\n",
       "      <th>32</th>\n",
       "      <td>4</td>\n",
       "      <td>1</td>\n",
       "    </tr>\n",
       "    <tr>\n",
       "      <th>35</th>\n",
       "      <td>0</td>\n",
       "      <td>0</td>\n",
       "    </tr>\n",
       "    <tr>\n",
       "      <th>37</th>\n",
       "      <td>2</td>\n",
       "      <td>1</td>\n",
       "    </tr>\n",
       "  </tbody>\n",
       "</table>\n",
       "</div>"
      ],
      "text/plain": [
       "    team1Score  team2Score\n",
       "30           4           2\n",
       "31           2           1\n",
       "32           4           1\n",
       "35           0           0\n",
       "37           2           1"
      ]
     },
     "execution_count": 21,
     "metadata": {},
     "output_type": "execute_result"
    }
   ],
   "source": [
    "scores = matches[['team1Score','team2Score']]\n",
    "scores.head()"
   ]
  },
  {
   "cell_type": "code",
   "execution_count": 22,
   "metadata": {
    "colab": {
     "autoexec": {
      "startup": false,
      "wait_interval": 0
     }
    },
    "colab_type": "code",
    "id": "CVQP89yl1TxD",
    "outputId": "d3266126-e102-4b57-b1b7-9df466f93767"
   },
   "outputs": [
    {
     "data": {
      "text/html": [
       "<div>\n",
       "<style scoped>\n",
       "    .dataframe tbody tr th:only-of-type {\n",
       "        vertical-align: middle;\n",
       "    }\n",
       "\n",
       "    .dataframe tbody tr th {\n",
       "        vertical-align: top;\n",
       "    }\n",
       "\n",
       "    .dataframe thead th {\n",
       "        text-align: right;\n",
       "    }\n",
       "</style>\n",
       "<table border=\"1\" class=\"dataframe\">\n",
       "  <thead>\n",
       "    <tr style=\"text-align: right;\">\n",
       "      <th></th>\n",
       "      <th>team1Score</th>\n",
       "      <th>team2Score</th>\n",
       "      <th>Number</th>\n",
       "    </tr>\n",
       "  </thead>\n",
       "  <tbody>\n",
       "    <tr>\n",
       "      <th>1</th>\n",
       "      <td>1</td>\n",
       "      <td>0</td>\n",
       "      <td>2312</td>\n",
       "    </tr>\n",
       "    <tr>\n",
       "      <th>3</th>\n",
       "      <td>2</td>\n",
       "      <td>0</td>\n",
       "      <td>1709</td>\n",
       "    </tr>\n",
       "    <tr>\n",
       "      <th>4</th>\n",
       "      <td>2</td>\n",
       "      <td>1</td>\n",
       "      <td>1646</td>\n",
       "    </tr>\n",
       "    <tr>\n",
       "      <th>2</th>\n",
       "      <td>1</td>\n",
       "      <td>1</td>\n",
       "      <td>1275</td>\n",
       "    </tr>\n",
       "    <tr>\n",
       "      <th>0</th>\n",
       "      <td>0</td>\n",
       "      <td>0</td>\n",
       "      <td>1111</td>\n",
       "    </tr>\n",
       "    <tr>\n",
       "      <th>6</th>\n",
       "      <td>3</td>\n",
       "      <td>0</td>\n",
       "      <td>1026</td>\n",
       "    </tr>\n",
       "    <tr>\n",
       "      <th>7</th>\n",
       "      <td>3</td>\n",
       "      <td>1</td>\n",
       "      <td>755</td>\n",
       "    </tr>\n",
       "    <tr>\n",
       "      <th>10</th>\n",
       "      <td>4</td>\n",
       "      <td>0</td>\n",
       "      <td>575</td>\n",
       "    </tr>\n",
       "    <tr>\n",
       "      <th>5</th>\n",
       "      <td>2</td>\n",
       "      <td>2</td>\n",
       "      <td>446</td>\n",
       "    </tr>\n",
       "    <tr>\n",
       "      <th>8</th>\n",
       "      <td>3</td>\n",
       "      <td>2</td>\n",
       "      <td>394</td>\n",
       "    </tr>\n",
       "    <tr>\n",
       "      <th>11</th>\n",
       "      <td>4</td>\n",
       "      <td>1</td>\n",
       "      <td>386</td>\n",
       "    </tr>\n",
       "    <tr>\n",
       "      <th>15</th>\n",
       "      <td>5</td>\n",
       "      <td>0</td>\n",
       "      <td>299</td>\n",
       "    </tr>\n",
       "    <tr>\n",
       "      <th>20</th>\n",
       "      <td>6</td>\n",
       "      <td>0</td>\n",
       "      <td>185</td>\n",
       "    </tr>\n",
       "    <tr>\n",
       "      <th>12</th>\n",
       "      <td>4</td>\n",
       "      <td>2</td>\n",
       "      <td>177</td>\n",
       "    </tr>\n",
       "    <tr>\n",
       "      <th>16</th>\n",
       "      <td>5</td>\n",
       "      <td>1</td>\n",
       "      <td>153</td>\n",
       "    </tr>\n",
       "  </tbody>\n",
       "</table>\n",
       "</div>"
      ],
      "text/plain": [
       "    team1Score  team2Score  Number\n",
       "1            1           0    2312\n",
       "3            2           0    1709\n",
       "4            2           1    1646\n",
       "2            1           1    1275\n",
       "0            0           0    1111\n",
       "6            3           0    1026\n",
       "7            3           1     755\n",
       "10           4           0     575\n",
       "5            2           2     446\n",
       "8            3           2     394\n",
       "11           4           1     386\n",
       "15           5           0     299\n",
       "20           6           0     185\n",
       "12           4           2     177\n",
       "16           5           1     153"
      ]
     },
     "execution_count": 22,
     "metadata": {},
     "output_type": "execute_result"
    }
   ],
   "source": [
    "# what is the occurrence frequency for match scores?\n",
    "scores1 = matches[matches['team1Score']>=matches['team2Score']]\n",
    "scores2 = matches[matches['team2Score']>matches['team1Score']]\n",
    "scores2[['team1Score','team2Score']] = scores2[['team2Score','team1Score']]\n",
    "scores = pd.concat([scores1,scores2])[['team1Score','team2Score']]\n",
    "scorefreq = scores.groupby(['team1Score','team2Score']).size().reset_index()\n",
    "scorefreq.columns.values[2] = 'Number'\n",
    "scorefreq.sort_values('Number',ascending=False).head(15)"
   ]
  },
  {
   "cell_type": "markdown",
   "metadata": {
    "colab_type": "text",
    "id": "jIuZPTVP1TxG"
   },
   "source": [
    "So it's official... 1-0 is the most common scoreline in international football!"
   ]
  },
  {
   "cell_type": "code",
   "execution_count": 23,
   "metadata": {
    "colab": {
     "autoexec": {
      "startup": false,
      "wait_interval": 0
     }
    },
    "colab_type": "code",
    "id": "B158JpX91TxH",
    "outputId": "c088af51-a249-4cf8-f5ff-4a92817b4c4b"
   },
   "outputs": [
    {
     "name": "stderr",
     "output_type": "stream",
     "text": [
      "C:\\Users\\yevashan\\AppData\\Local\\Continuum\\anaconda3\\lib\\site-packages\\matplotlib\\__init__.py:1855: MatplotlibDeprecationWarning: The *left* kwarg to `bar` is deprecated use *x* instead. Support for *left* will be removed in Matplotlib 3.0\n",
      "  return func(ax, *args, **kwargs)\n"
     ]
    },
    {
     "data": {
      "text/plain": [
       "Text(0.5,1,'Distribution of goals scored per game')"
      ]
     },
     "execution_count": 23,
     "metadata": {},
     "output_type": "execute_result"
    },
    {
     "data": {
      "image/png": "[encoded data removed]",
      "text/plain": [
       "<Figure size 864x720 with 1 Axes>"
      ]
     },
     "metadata": {},
     "output_type": "display_data"
    }
   ],
   "source": [
    "matches['gs'] = [(x+y) for x,y in zip(matches['team1Score'],matches['team2Score'])] \n",
    "gsfreq = matches.groupby('gs').size().reset_index()\n",
    "gsfreq.columns.values[1] = 'Freq'\n",
    "plt.figure(figsize=(12,10))\n",
    "plt.bar(left='gs',height='Freq',data=gsfreq)\n",
    "plt.title('Distribution of goals scored per game')"
   ]
  },
  {
   "cell_type": "code",
   "execution_count": 24,
   "metadata": {
    "colab": {
     "autoexec": {
      "startup": false,
      "wait_interval": 0
     }
    },
    "colab_type": "code",
    "id": "iGOkyra-1TxM",
    "outputId": "73955f6e-34cd-468c-e693-86fed8e48224"
   },
   "outputs": [
    {
     "name": "stderr",
     "output_type": "stream",
     "text": [
      "C:\\Users\\yevashan\\AppData\\Local\\Continuum\\anaconda3\\lib\\site-packages\\matplotlib\\__init__.py:1855: MatplotlibDeprecationWarning: The *left* kwarg to `bar` is deprecated use *x* instead. Support for *left* will be removed in Matplotlib 3.0\n",
      "  return func(ax, *args, **kwargs)\n"
     ]
    },
    {
     "data": {
      "text/plain": [
       "Text(0.5,1,'Distribution of goal difference (-4 to +4)')"
      ]
     },
     "execution_count": 24,
     "metadata": {},
     "output_type": "execute_result"
    },
    {
     "data": {
      "image/png": "[encoded data removed]",
      "text/plain": [
       "<Figure size 864x720 with 1 Axes>"
      ]
     },
     "metadata": {},
     "output_type": "display_data"
    }
   ],
   "source": [
    "matches['gd'] = [(x-y) for x,y in zip(matches['team1Score'],matches['team2Score'])] \n",
    "gdfreq = matches.groupby('gd').size().reset_index()\n",
    "gdfreq.columns.values[1] = 'Freq'\n",
    "plt.figure(figsize=(12,10))\n",
    "plt.bar(left='gd',height='Freq',data=gdfreq[abs(gdfreq['gd'])<=4].reset_index())\n",
    "plt.title('Distribution of goal difference (-4 to +4)')"
   ]
  },
  {
   "cell_type": "code",
   "execution_count": 25,
   "metadata": {
    "colab": {
     "autoexec": {
      "startup": false,
      "wait_interval": 0
     }
    },
    "colab_type": "code",
    "id": "zUBWJeo31TxR",
    "outputId": "8e7690b9-6d61-4c72-814c-662e583c0f48"
   },
   "outputs": [
    {
     "name": "stderr",
     "output_type": "stream",
     "text": [
      "C:\\Users\\yevashan\\AppData\\Local\\Continuum\\anaconda3\\lib\\site-packages\\matplotlib\\__init__.py:1855: MatplotlibDeprecationWarning: The *left* kwarg to `bar` is deprecated use *x* instead. Support for *left* will be removed in Matplotlib 3.0\n",
      "  return func(ax, *args, **kwargs)\n"
     ]
    },
    {
     "data": {
      "text/plain": [
       "Text(0.5,1,'Distribution of absoluted goald difference')"
      ]
     },
     "execution_count": 25,
     "metadata": {},
     "output_type": "execute_result"
    },
    {
     "data": {
      "image/png": "[encoded data removed]",
      "text/plain": [
       "<Figure size 864x720 with 1 Axes>"
      ]
     },
     "metadata": {},
     "output_type": "display_data"
    }
   ],
   "source": [
    "matches['abs_gd'] = [abs(x-y) for x,y in zip(matches['team1Score'],matches['team2Score'])] \n",
    "absgdfreq = matches.groupby('abs_gd').size().reset_index()\n",
    "absgdfreq.columns.values[1] = 'Freq'\n",
    "plt.figure(figsize=(12,10))\n",
    "plt.bar(left='abs_gd',height='Freq',data=absgdfreq[absgdfreq['abs_gd']<=6].reset_index())\n",
    "plt.title('Distribution of absoluted goald difference')"
   ]
  },
  {
   "cell_type": "markdown",
   "metadata": {
    "colab_type": "text",
    "id": "1dUv0zcJ1TxW"
   },
   "source": [
    "### Outliers"
   ]
  },
  {
   "cell_type": "code",
   "execution_count": 26,
   "metadata": {
    "colab": {
     "autoexec": {
      "startup": false,
      "wait_interval": 0
     }
    },
    "colab_type": "code",
    "id": "iAOzP2Yu1TxW",
    "outputId": "1b6e25e0-c0ad-4166-8e7a-c05596d0ca67"
   },
   "outputs": [
    {
     "name": "stdout",
     "output_type": "stream",
     "text": [
      "104 matches, or 0.79% of total, are outliers with gd>7.\n"
     ]
    }
   ],
   "source": [
    "# how many outliers do we have?\n",
    "temp = matches[matches['gd']>7]\n",
    "temp.head()\n",
    "print('{} matches, or {:0.2f}% of total, are outliers with gd>7.'.format(temp.shape[0],temp.shape[0]/matches.shape[0]*100))"
   ]
  },
  {
   "cell_type": "code",
   "execution_count": 27,
   "metadata": {
    "colab": {
     "autoexec": {
      "startup": false,
      "wait_interval": 0
     }
    },
    "colab_type": "code",
    "id": "3frYgWLs1Txb"
   },
   "outputs": [],
   "source": [
    "#get rid of outliers by capping absolute gd to 7\n",
    "teamperf.loc[teamperf['gd']>7,'gd'] = 7\n",
    "teamperf.loc[teamperf['gd']<-7,'gd'] = -7"
   ]
  },
  {
   "cell_type": "markdown",
   "metadata": {
    "colab_type": "text",
    "id": "D1o7uISG1Txe"
   },
   "source": [
    "### Strength of opposition"
   ]
  },
  {
   "cell_type": "markdown",
   "metadata": {
    "colab_type": "text",
    "id": "Kp8kCSP51Txg"
   },
   "source": [
    "Obviously, things can be a little misleading because teams tend to play most of their games against other teams in the same confederation (e.g. South American teams play mostly against other South American teams). So we need to bring in an indicator of the strength of the opposition. Fortunately Fifa have a confederation adjustment factor which they take into account in their own ranking system, so that's what we'll use."
   ]
  },
  {
   "cell_type": "markdown",
   "metadata": {
    "colab_type": "text",
    "id": "KUfenX7YGmgz"
   },
   "source": [
    "Let's read one of the tables into a dataframe:"
   ]
  },
  {
   "cell_type": "code",
   "execution_count": 28,
   "metadata": {
    "colab": {
     "autoexec": {
      "startup": false,
      "wait_interval": 0
     }
    },
    "colab_type": "code",
    "id": "rSyBF5LiGmgz"
   },
   "outputs": [],
   "source": [
    "teams = pd.read_sql_query(\"SELECT * FROM teams\", con=conn)"
   ]
  },
  {
   "cell_type": "code",
   "execution_count": 29,
   "metadata": {
    "colab": {
     "autoexec": {
      "startup": false,
      "wait_interval": 0
     }
    },
    "colab_type": "code",
    "id": "J5XpmMic1Txi",
    "outputId": "c001a363-948e-41cd-bcc6-5b539840b12d"
   },
   "outputs": [
    {
     "name": "stdout",
     "output_type": "stream",
     "text": [
      "137    ---\n",
      "156    ---\n",
      "194    AUS\n",
      "197    ---\n",
      "198    ---\n",
      "199    ---\n",
      "200    ---\n",
      "201    ---\n",
      "204    ---\n",
      "210    ---\n",
      "Name: fifa_code, dtype: object\n",
      "    confederation       name fifa_code ioc_code\n",
      "55            AFC  Australia       AUS      ---\n",
      "194           OFC  Australia       AUS      AUS\n"
     ]
    },
    {
     "data": {
      "text/plain": [
       "(221, 4)"
      ]
     },
     "execution_count": 29,
     "metadata": {},
     "output_type": "execute_result"
    }
   ],
   "source": [
    "#check for duplicate FIFA codes\n",
    "print(teams.loc[teams.duplicated('fifa_code'),'fifa_code'])\n",
    "\n",
    "# some missing codes --- which can be ignored, but AUS is duplicated; investigate further:\n",
    "print(teams[teams['fifa_code']=='AUS'])\n",
    "\n",
    "# AUS is allocated to AFC and OFC. It's part of Oceania, so drop the AFC record\n",
    "teams.drop(teams[(teams['fifa_code']=='AUS') & (teams['confederation']=='AFC')].index,inplace=True)\n",
    "teams.shape"
   ]
  },
  {
   "cell_type": "code",
   "execution_count": 30,
   "metadata": {
    "colab": {
     "autoexec": {
      "startup": false,
      "wait_interval": 0
     }
    },
    "colab_type": "code",
    "id": "P75e4ixg1Txo",
    "outputId": "8af195b4-4ad7-4b21-fb88-8028e41dea64"
   },
   "outputs": [
    {
     "data": {
      "text/html": [
       "<div>\n",
       "<style scoped>\n",
       "    .dataframe tbody tr th:only-of-type {\n",
       "        vertical-align: middle;\n",
       "    }\n",
       "\n",
       "    .dataframe tbody tr th {\n",
       "        vertical-align: top;\n",
       "    }\n",
       "\n",
       "    .dataframe thead th {\n",
       "        text-align: right;\n",
       "    }\n",
       "</style>\n",
       "<table border=\"1\" class=\"dataframe\">\n",
       "  <thead>\n",
       "    <tr style=\"text-align: right;\">\n",
       "      <th></th>\n",
       "      <th>match_id</th>\n",
       "      <th>date</th>\n",
       "      <th>team1</th>\n",
       "      <th>team2</th>\n",
       "      <th>team1Score</th>\n",
       "      <th>team2Score</th>\n",
       "      <th>year</th>\n",
       "      <th>Total goals</th>\n",
       "      <th>qualifier</th>\n",
       "      <th>finaltourn</th>\n",
       "      <th>gd</th>\n",
       "      <th>w</th>\n",
       "      <th>l</th>\n",
       "      <th>d</th>\n",
       "      <th>confederation</th>\n",
       "      <th>adjust</th>\n",
       "    </tr>\n",
       "  </thead>\n",
       "  <tbody>\n",
       "    <tr>\n",
       "      <th>0</th>\n",
       "      <td>0</td>\n",
       "      <td>1956-01-21</td>\n",
       "      <td>URU</td>\n",
       "      <td>PAR</td>\n",
       "      <td>4</td>\n",
       "      <td>2</td>\n",
       "      <td>1956</td>\n",
       "      <td>6</td>\n",
       "      <td>False</td>\n",
       "      <td>True</td>\n",
       "      <td>2</td>\n",
       "      <td>True</td>\n",
       "      <td>False</td>\n",
       "      <td>False</td>\n",
       "      <td>CONMEBOL</td>\n",
       "      <td>1.0</td>\n",
       "    </tr>\n",
       "    <tr>\n",
       "      <th>1</th>\n",
       "      <td>0</td>\n",
       "      <td>1956-01-21</td>\n",
       "      <td>PAR</td>\n",
       "      <td>URU</td>\n",
       "      <td>2</td>\n",
       "      <td>4</td>\n",
       "      <td>1956</td>\n",
       "      <td>6</td>\n",
       "      <td>False</td>\n",
       "      <td>True</td>\n",
       "      <td>-2</td>\n",
       "      <td>False</td>\n",
       "      <td>True</td>\n",
       "      <td>False</td>\n",
       "      <td>CONMEBOL</td>\n",
       "      <td>1.0</td>\n",
       "    </tr>\n",
       "    <tr>\n",
       "      <th>2</th>\n",
       "      <td>1</td>\n",
       "      <td>1956-01-22</td>\n",
       "      <td>ARG</td>\n",
       "      <td>PER</td>\n",
       "      <td>2</td>\n",
       "      <td>1</td>\n",
       "      <td>1956</td>\n",
       "      <td>3</td>\n",
       "      <td>False</td>\n",
       "      <td>True</td>\n",
       "      <td>1</td>\n",
       "      <td>True</td>\n",
       "      <td>False</td>\n",
       "      <td>False</td>\n",
       "      <td>CONMEBOL</td>\n",
       "      <td>1.0</td>\n",
       "    </tr>\n",
       "    <tr>\n",
       "      <th>3</th>\n",
       "      <td>1</td>\n",
       "      <td>1956-01-22</td>\n",
       "      <td>PER</td>\n",
       "      <td>ARG</td>\n",
       "      <td>1</td>\n",
       "      <td>2</td>\n",
       "      <td>1956</td>\n",
       "      <td>3</td>\n",
       "      <td>False</td>\n",
       "      <td>True</td>\n",
       "      <td>-1</td>\n",
       "      <td>False</td>\n",
       "      <td>True</td>\n",
       "      <td>False</td>\n",
       "      <td>CONMEBOL</td>\n",
       "      <td>1.0</td>\n",
       "    </tr>\n",
       "    <tr>\n",
       "      <th>4</th>\n",
       "      <td>2</td>\n",
       "      <td>1956-01-24</td>\n",
       "      <td>CHI</td>\n",
       "      <td>BRA</td>\n",
       "      <td>4</td>\n",
       "      <td>1</td>\n",
       "      <td>1956</td>\n",
       "      <td>5</td>\n",
       "      <td>False</td>\n",
       "      <td>True</td>\n",
       "      <td>3</td>\n",
       "      <td>True</td>\n",
       "      <td>False</td>\n",
       "      <td>False</td>\n",
       "      <td>CONMEBOL</td>\n",
       "      <td>1.0</td>\n",
       "    </tr>\n",
       "    <tr>\n",
       "      <th>5</th>\n",
       "      <td>2</td>\n",
       "      <td>1956-01-24</td>\n",
       "      <td>BRA</td>\n",
       "      <td>CHI</td>\n",
       "      <td>1</td>\n",
       "      <td>4</td>\n",
       "      <td>1956</td>\n",
       "      <td>5</td>\n",
       "      <td>False</td>\n",
       "      <td>True</td>\n",
       "      <td>-3</td>\n",
       "      <td>False</td>\n",
       "      <td>True</td>\n",
       "      <td>False</td>\n",
       "      <td>CONMEBOL</td>\n",
       "      <td>1.0</td>\n",
       "    </tr>\n",
       "    <tr>\n",
       "      <th>6</th>\n",
       "      <td>3</td>\n",
       "      <td>1956-01-28</td>\n",
       "      <td>PER</td>\n",
       "      <td>URU</td>\n",
       "      <td>0</td>\n",
       "      <td>2</td>\n",
       "      <td>1956</td>\n",
       "      <td>2</td>\n",
       "      <td>False</td>\n",
       "      <td>True</td>\n",
       "      <td>-2</td>\n",
       "      <td>False</td>\n",
       "      <td>True</td>\n",
       "      <td>False</td>\n",
       "      <td>CONMEBOL</td>\n",
       "      <td>1.0</td>\n",
       "    </tr>\n",
       "    <tr>\n",
       "      <th>7</th>\n",
       "      <td>3</td>\n",
       "      <td>1956-01-28</td>\n",
       "      <td>URU</td>\n",
       "      <td>PER</td>\n",
       "      <td>2</td>\n",
       "      <td>0</td>\n",
       "      <td>1956</td>\n",
       "      <td>2</td>\n",
       "      <td>False</td>\n",
       "      <td>True</td>\n",
       "      <td>2</td>\n",
       "      <td>True</td>\n",
       "      <td>False</td>\n",
       "      <td>False</td>\n",
       "      <td>CONMEBOL</td>\n",
       "      <td>1.0</td>\n",
       "    </tr>\n",
       "    <tr>\n",
       "      <th>8</th>\n",
       "      <td>5</td>\n",
       "      <td>1956-01-29</td>\n",
       "      <td>CHI</td>\n",
       "      <td>ARG</td>\n",
       "      <td>0</td>\n",
       "      <td>2</td>\n",
       "      <td>1956</td>\n",
       "      <td>2</td>\n",
       "      <td>False</td>\n",
       "      <td>True</td>\n",
       "      <td>-2</td>\n",
       "      <td>False</td>\n",
       "      <td>True</td>\n",
       "      <td>False</td>\n",
       "      <td>CONMEBOL</td>\n",
       "      <td>1.0</td>\n",
       "    </tr>\n",
       "    <tr>\n",
       "      <th>9</th>\n",
       "      <td>4</td>\n",
       "      <td>1956-01-29</td>\n",
       "      <td>BRA</td>\n",
       "      <td>PAR</td>\n",
       "      <td>0</td>\n",
       "      <td>0</td>\n",
       "      <td>1956</td>\n",
       "      <td>0</td>\n",
       "      <td>False</td>\n",
       "      <td>True</td>\n",
       "      <td>0</td>\n",
       "      <td>False</td>\n",
       "      <td>False</td>\n",
       "      <td>True</td>\n",
       "      <td>CONMEBOL</td>\n",
       "      <td>1.0</td>\n",
       "    </tr>\n",
       "  </tbody>\n",
       "</table>\n",
       "</div>"
      ],
      "text/plain": [
       "   match_id       date team1 team2  team1Score  team2Score  year  Total goals  \\\n",
       "0         0 1956-01-21   URU   PAR           4           2  1956            6   \n",
       "1         0 1956-01-21   PAR   URU           2           4  1956            6   \n",
       "2         1 1956-01-22   ARG   PER           2           1  1956            3   \n",
       "3         1 1956-01-22   PER   ARG           1           2  1956            3   \n",
       "4         2 1956-01-24   CHI   BRA           4           1  1956            5   \n",
       "5         2 1956-01-24   BRA   CHI           1           4  1956            5   \n",
       "6         3 1956-01-28   PER   URU           0           2  1956            2   \n",
       "7         3 1956-01-28   URU   PER           2           0  1956            2   \n",
       "8         5 1956-01-29   CHI   ARG           0           2  1956            2   \n",
       "9         4 1956-01-29   BRA   PAR           0           0  1956            0   \n",
       "\n",
       "   qualifier  finaltourn  gd      w      l      d confederation  adjust  \n",
       "0      False        True   2   True  False  False      CONMEBOL     1.0  \n",
       "1      False        True  -2  False   True  False      CONMEBOL     1.0  \n",
       "2      False        True   1   True  False  False      CONMEBOL     1.0  \n",
       "3      False        True  -1  False   True  False      CONMEBOL     1.0  \n",
       "4      False        True   3   True  False  False      CONMEBOL     1.0  \n",
       "5      False        True  -3  False   True  False      CONMEBOL     1.0  \n",
       "6      False        True  -2  False   True  False      CONMEBOL     1.0  \n",
       "7      False        True   2   True  False  False      CONMEBOL     1.0  \n",
       "8      False        True  -2  False   True  False      CONMEBOL     1.0  \n",
       "9      False        True   0  False  False   True      CONMEBOL     1.0  "
      ]
     },
     "execution_count": 30,
     "metadata": {},
     "output_type": "execute_result"
    }
   ],
   "source": [
    "# set up a dataframe of the FIFA confederation adjustment factors\n",
    "confederations = pd.DataFrame({'confederation':['UEFA','CONMEBOL','CONCACAF','AFC','CAF','OFC'],\n",
    "                               'adjust':[0.99,1,0.85,0.85,0.85,0.85]})\n",
    "\n",
    "# add opposition (team2) adjustment factor to teamperf\n",
    "teamperf = pd.merge(teamperf,teams,left_on=['team2'],right_on=['fifa_code'],how='left')\n",
    "teamperf.drop(['name','fifa_code','ioc_code'],axis=1,inplace=True)\n",
    "teamperf = pd.merge(teamperf,confederations,how='left',on='confederation')\n",
    "teamperf['adjust'].fillna(1,inplace=True)\n",
    "teamperf.head(10)"
   ]
  },
  {
   "cell_type": "markdown",
   "metadata": {
    "colab_type": "text",
    "id": "1o4mGWOo1Txr"
   },
   "source": [
    "## Feature engineering"
   ]
  },
  {
   "cell_type": "markdown",
   "metadata": {
    "colab_type": "text",
    "id": "HxnYVX8p1Txr"
   },
   "source": [
    "The features we're going to use for our machine learning are lag features that give us some indication of the short-, medium- and longer-term form of each team. We'll look at the percentage of games that have been won, drawn and lost respectively in the preceding 10, 30 or 50 games for each team, as well as a measure of opposition strength over these periods using the FIFA confederation adjustment factors for their opponents."
   ]
  },
  {
   "cell_type": "code",
   "execution_count": 31,
   "metadata": {
    "colab": {
     "autoexec": {
      "startup": false,
      "wait_interval": 0
     }
    },
    "colab_type": "code",
    "id": "NxRwQamZ1Txs"
   },
   "outputs": [],
   "source": [
    "# Let's calculate some lag features for each team which is about to play a game\n",
    "# we'll take three windows: last 10 games, last 30 games, last 50 games.\n",
    "# For each window we'll calculate some values.\n",
    "\n",
    "team_features = teamperf.copy()\n",
    "\n",
    "team_features.sort_values(['team1','date'],inplace=True)\n",
    "for col in ['last10games_win_per','last10games_loss_per','last10games_draw_per','last10games_gd_avg','last10games_opp_cc_per',\n",
    "            'last30games_win_per','last30games_loss_per','last30games_draw_per','last30games_gd_avg','last30games_opp_cc_per',\n",
    "            'last50games_win_per','last50games_loss_per','last50games_draw_per','last50games_gd_avg','last50games_opp_cc_per']:\n",
    "    team_features[col] = 0"
   ]
  },
  {
   "cell_type": "code",
   "execution_count": 32,
   "metadata": {
    "colab": {
     "autoexec": {
      "startup": false,
      "wait_interval": 0
     }
    },
    "colab_type": "code",
    "id": "M9P4Ofbp1Txt"
   },
   "outputs": [],
   "source": [
    "# Missing values won't be accommodated by sklearn algorithms, so we either need to define some\n",
    "# missing value handling approach or ensure that there is no missing data in our features.\n",
    "# Here we avoid missing values by allowing features to be calculated over whatever history is available,\n",
    "# if it is less than 10/30/50 games.\n",
    "\n",
    "teamnames = set(teamperf['team1'])\n",
    "\n",
    "for team in teamnames:\n",
    "    subset = team_features[team_features['team1']==team]\n",
    "\n",
    "    games_last10 = subset['w'].rolling(10,min_periods=1).count()\n",
    "    wins_last10 = subset['w'].rolling(10,min_periods=1).sum()/games_last10\n",
    "    draws_last10 = subset['d'].rolling(10,min_periods=1).sum()/games_last10\n",
    "    losses_last10 = subset['l'].rolling(10,min_periods=1).sum()/games_last10\n",
    "    gd_last10 = subset['gd'].rolling(10,min_periods=1).sum()/games_last10\n",
    "    cc_opp_last10 = subset['adjust'].rolling(10,min_periods=1).sum()/games_last10\n",
    "    team_features.loc[team_features['team1']==team,'last10games_win_per'] = wins_last10\n",
    "    team_features.loc[team_features['team1']==team,'last10games_loss_per'] = losses_last10\n",
    "    team_features.loc[team_features['team1']==team,'last10games_draw_per'] = draws_last10\n",
    "    team_features.loc[team_features['team1']==team,'last10games_gd_avg'] = gd_last10\n",
    "    team_features.loc[team_features['team1']==team,'last10games_opp_cc_per'] = cc_opp_last10\n",
    "\n",
    "    games_last30 = subset['w'].rolling(30,min_periods=1).count()\n",
    "    wins_last30 = subset['w'].rolling(30,min_periods=1).sum()/games_last30\n",
    "    draws_last30 = subset['d'].rolling(30,min_periods=1).sum()/games_last30\n",
    "    losses_last30 = subset['l'].rolling(30,min_periods=1).sum()/games_last30\n",
    "    gd_last30 = subset['gd'].rolling(30,min_periods=1).sum()/games_last30\n",
    "    cc_opp_last30 = subset['adjust'].rolling(30,min_periods=1).sum()/games_last30\n",
    "    team_features.loc[team_features['team1']==team,'last30games_win_per'] = wins_last30\n",
    "    team_features.loc[team_features['team1']==team,'last30games_loss_per'] = losses_last30\n",
    "    team_features.loc[team_features['team1']==team,'last30games_draw_per'] = draws_last30\n",
    "    team_features.loc[team_features['team1']==team,'last30games_gd_avg'] = gd_last30\n",
    "    team_features.loc[team_features['team1']==team,'last30games_opp_cc_per'] = cc_opp_last30\n",
    "    \n",
    "    games_last50 = subset['w'].rolling(50,min_periods=1).count()\n",
    "    wins_last50 = subset['w'].rolling(50,min_periods=1).sum()/games_last50\n",
    "    draws_last50 = subset['d'].rolling(50,min_periods=1).sum()/games_last50\n",
    "    losses_last50 = subset['l'].rolling(50,min_periods=1).sum()/games_last50\n",
    "    gd_last50 = subset['gd'].rolling(50,min_periods=1).sum()/games_last50\n",
    "    cc_opp_last50 = subset['adjust'].rolling(50,min_periods=1).sum()/games_last50\n",
    "    team_features.loc[team_features['team1']==team,'last50games_win_per'] = wins_last50\n",
    "    team_features.loc[team_features['team1']==team,'last50games_loss_per'] = losses_last50\n",
    "    team_features.loc[team_features['team1']==team,'last50games_draw_per'] = draws_last50\n",
    "    team_features.loc[team_features['team1']==team,'last50games_gd_avg'] = gd_last50\n",
    "    team_features.loc[team_features['team1']==team,'last50games_opp_cc_per'] = cc_opp_last50"
   ]
  },
  {
   "cell_type": "code",
   "execution_count": 33,
   "metadata": {
    "colab": {
     "autoexec": {
      "startup": false,
      "wait_interval": 0
     }
    },
    "colab_type": "code",
    "id": "tYYc6dYS1Txu",
    "outputId": "8e75cc9b-84b4-46dc-d90e-ba1286a344ff"
   },
   "outputs": [
    {
     "data": {
      "text/html": [
       "<div>\n",
       "<style scoped>\n",
       "    .dataframe tbody tr th:only-of-type {\n",
       "        vertical-align: middle;\n",
       "    }\n",
       "\n",
       "    .dataframe tbody tr th {\n",
       "        vertical-align: top;\n",
       "    }\n",
       "\n",
       "    .dataframe thead th {\n",
       "        text-align: right;\n",
       "    }\n",
       "</style>\n",
       "<table border=\"1\" class=\"dataframe\">\n",
       "  <thead>\n",
       "    <tr style=\"text-align: right;\">\n",
       "      <th></th>\n",
       "      <th>match_id</th>\n",
       "      <th>date</th>\n",
       "      <th>team1</th>\n",
       "      <th>team2</th>\n",
       "      <th>team1Score</th>\n",
       "      <th>team2Score</th>\n",
       "      <th>year</th>\n",
       "      <th>Total goals</th>\n",
       "      <th>qualifier</th>\n",
       "      <th>finaltourn</th>\n",
       "      <th>gd</th>\n",
       "      <th>w</th>\n",
       "      <th>l</th>\n",
       "      <th>d</th>\n",
       "      <th>confederation</th>\n",
       "      <th>adjust</th>\n",
       "      <th>last10games_win_per</th>\n",
       "      <th>last10games_loss_per</th>\n",
       "      <th>last10games_draw_per</th>\n",
       "      <th>last10games_gd_avg</th>\n",
       "      <th>last10games_opp_cc_per</th>\n",
       "      <th>last30games_win_per</th>\n",
       "      <th>last30games_loss_per</th>\n",
       "      <th>last30games_draw_per</th>\n",
       "      <th>last30games_gd_avg</th>\n",
       "      <th>last30games_opp_cc_per</th>\n",
       "      <th>last50games_win_per</th>\n",
       "      <th>last50games_loss_per</th>\n",
       "      <th>last50games_draw_per</th>\n",
       "      <th>last50games_gd_avg</th>\n",
       "      <th>last50games_opp_cc_per</th>\n",
       "    </tr>\n",
       "  </thead>\n",
       "  <tbody>\n",
       "    <tr>\n",
       "      <th>1920</th>\n",
       "      <td>958</td>\n",
       "      <td>1970-06-03</td>\n",
       "      <td>BRA</td>\n",
       "      <td>CZE</td>\n",
       "      <td>4</td>\n",
       "      <td>1</td>\n",
       "      <td>1970</td>\n",
       "      <td>5</td>\n",
       "      <td>False</td>\n",
       "      <td>True</td>\n",
       "      <td>3</td>\n",
       "      <td>True</td>\n",
       "      <td>False</td>\n",
       "      <td>False</td>\n",
       "      <td>UEFA</td>\n",
       "      <td>0.99</td>\n",
       "      <td>0.7</td>\n",
       "      <td>0.1</td>\n",
       "      <td>0.2</td>\n",
       "      <td>2.3</td>\n",
       "      <td>0.968</td>\n",
       "      <td>0.566667</td>\n",
       "      <td>0.266667</td>\n",
       "      <td>0.166667</td>\n",
       "      <td>1.166667</td>\n",
       "      <td>0.971333</td>\n",
       "      <td>0.60</td>\n",
       "      <td>0.22</td>\n",
       "      <td>0.18</td>\n",
       "      <td>1.06</td>\n",
       "      <td>0.9816</td>\n",
       "    </tr>\n",
       "    <tr>\n",
       "      <th>1936</th>\n",
       "      <td>967</td>\n",
       "      <td>1970-06-07</td>\n",
       "      <td>BRA</td>\n",
       "      <td>ENG</td>\n",
       "      <td>1</td>\n",
       "      <td>0</td>\n",
       "      <td>1970</td>\n",
       "      <td>1</td>\n",
       "      <td>False</td>\n",
       "      <td>True</td>\n",
       "      <td>1</td>\n",
       "      <td>True</td>\n",
       "      <td>False</td>\n",
       "      <td>False</td>\n",
       "      <td>UEFA</td>\n",
       "      <td>0.99</td>\n",
       "      <td>0.8</td>\n",
       "      <td>0.0</td>\n",
       "      <td>0.2</td>\n",
       "      <td>2.5</td>\n",
       "      <td>0.968</td>\n",
       "      <td>0.566667</td>\n",
       "      <td>0.266667</td>\n",
       "      <td>0.166667</td>\n",
       "      <td>1.033333</td>\n",
       "      <td>0.971000</td>\n",
       "      <td>0.62</td>\n",
       "      <td>0.20</td>\n",
       "      <td>0.18</td>\n",
       "      <td>1.14</td>\n",
       "      <td>0.9814</td>\n",
       "    </tr>\n",
       "    <tr>\n",
       "      <th>1938</th>\n",
       "      <td>969</td>\n",
       "      <td>1970-06-10</td>\n",
       "      <td>BRA</td>\n",
       "      <td>ROU</td>\n",
       "      <td>3</td>\n",
       "      <td>2</td>\n",
       "      <td>1970</td>\n",
       "      <td>5</td>\n",
       "      <td>False</td>\n",
       "      <td>True</td>\n",
       "      <td>1</td>\n",
       "      <td>True</td>\n",
       "      <td>False</td>\n",
       "      <td>False</td>\n",
       "      <td>UEFA</td>\n",
       "      <td>0.99</td>\n",
       "      <td>0.9</td>\n",
       "      <td>0.0</td>\n",
       "      <td>0.1</td>\n",
       "      <td>2.6</td>\n",
       "      <td>0.982</td>\n",
       "      <td>0.600000</td>\n",
       "      <td>0.233333</td>\n",
       "      <td>0.166667</td>\n",
       "      <td>1.133333</td>\n",
       "      <td>0.971000</td>\n",
       "      <td>0.64</td>\n",
       "      <td>0.20</td>\n",
       "      <td>0.16</td>\n",
       "      <td>1.16</td>\n",
       "      <td>0.9812</td>\n",
       "    </tr>\n",
       "    <tr>\n",
       "      <th>1960</th>\n",
       "      <td>979</td>\n",
       "      <td>1970-06-14</td>\n",
       "      <td>BRA</td>\n",
       "      <td>PER</td>\n",
       "      <td>4</td>\n",
       "      <td>2</td>\n",
       "      <td>1970</td>\n",
       "      <td>6</td>\n",
       "      <td>False</td>\n",
       "      <td>True</td>\n",
       "      <td>2</td>\n",
       "      <td>True</td>\n",
       "      <td>False</td>\n",
       "      <td>False</td>\n",
       "      <td>CONMEBOL</td>\n",
       "      <td>1.00</td>\n",
       "      <td>1.0</td>\n",
       "      <td>0.0</td>\n",
       "      <td>0.0</td>\n",
       "      <td>2.8</td>\n",
       "      <td>0.997</td>\n",
       "      <td>0.600000</td>\n",
       "      <td>0.233333</td>\n",
       "      <td>0.166667</td>\n",
       "      <td>1.133333</td>\n",
       "      <td>0.976000</td>\n",
       "      <td>0.64</td>\n",
       "      <td>0.20</td>\n",
       "      <td>0.16</td>\n",
       "      <td>1.18</td>\n",
       "      <td>0.9812</td>\n",
       "    </tr>\n",
       "    <tr>\n",
       "      <th>1965</th>\n",
       "      <td>982</td>\n",
       "      <td>1970-06-17</td>\n",
       "      <td>BRA</td>\n",
       "      <td>URU</td>\n",
       "      <td>3</td>\n",
       "      <td>1</td>\n",
       "      <td>1970</td>\n",
       "      <td>4</td>\n",
       "      <td>False</td>\n",
       "      <td>True</td>\n",
       "      <td>2</td>\n",
       "      <td>True</td>\n",
       "      <td>False</td>\n",
       "      <td>False</td>\n",
       "      <td>CONMEBOL</td>\n",
       "      <td>1.00</td>\n",
       "      <td>1.0</td>\n",
       "      <td>0.0</td>\n",
       "      <td>0.0</td>\n",
       "      <td>2.8</td>\n",
       "      <td>0.997</td>\n",
       "      <td>0.633333</td>\n",
       "      <td>0.233333</td>\n",
       "      <td>0.133333</td>\n",
       "      <td>1.200000</td>\n",
       "      <td>0.976333</td>\n",
       "      <td>0.64</td>\n",
       "      <td>0.20</td>\n",
       "      <td>0.16</td>\n",
       "      <td>1.16</td>\n",
       "      <td>0.9814</td>\n",
       "    </tr>\n",
       "  </tbody>\n",
       "</table>\n",
       "</div>"
      ],
      "text/plain": [
       "      match_id       date team1 team2  team1Score  team2Score  year  \\\n",
       "1920       958 1970-06-03   BRA   CZE           4           1  1970   \n",
       "1936       967 1970-06-07   BRA   ENG           1           0  1970   \n",
       "1938       969 1970-06-10   BRA   ROU           3           2  1970   \n",
       "1960       979 1970-06-14   BRA   PER           4           2  1970   \n",
       "1965       982 1970-06-17   BRA   URU           3           1  1970   \n",
       "\n",
       "      Total goals  qualifier  finaltourn  gd     w      l      d  \\\n",
       "1920            5      False        True   3  True  False  False   \n",
       "1936            1      False        True   1  True  False  False   \n",
       "1938            5      False        True   1  True  False  False   \n",
       "1960            6      False        True   2  True  False  False   \n",
       "1965            4      False        True   2  True  False  False   \n",
       "\n",
       "     confederation  adjust  last10games_win_per  last10games_loss_per  \\\n",
       "1920          UEFA    0.99                  0.7                   0.1   \n",
       "1936          UEFA    0.99                  0.8                   0.0   \n",
       "1938          UEFA    0.99                  0.9                   0.0   \n",
       "1960      CONMEBOL    1.00                  1.0                   0.0   \n",
       "1965      CONMEBOL    1.00                  1.0                   0.0   \n",
       "\n",
       "      last10games_draw_per  last10games_gd_avg  last10games_opp_cc_per  \\\n",
       "1920                   0.2                 2.3                   0.968   \n",
       "1936                   0.2                 2.5                   0.968   \n",
       "1938                   0.1                 2.6                   0.982   \n",
       "1960                   0.0                 2.8                   0.997   \n",
       "1965                   0.0                 2.8                   0.997   \n",
       "\n",
       "      last30games_win_per  last30games_loss_per  last30games_draw_per  \\\n",
       "1920             0.566667              0.266667              0.166667   \n",
       "1936             0.566667              0.266667              0.166667   \n",
       "1938             0.600000              0.233333              0.166667   \n",
       "1960             0.600000              0.233333              0.166667   \n",
       "1965             0.633333              0.233333              0.133333   \n",
       "\n",
       "      last30games_gd_avg  last30games_opp_cc_per  last50games_win_per  \\\n",
       "1920            1.166667                0.971333                 0.60   \n",
       "1936            1.033333                0.971000                 0.62   \n",
       "1938            1.133333                0.971000                 0.64   \n",
       "1960            1.133333                0.976000                 0.64   \n",
       "1965            1.200000                0.976333                 0.64   \n",
       "\n",
       "      last50games_loss_per  last50games_draw_per  last50games_gd_avg  \\\n",
       "1920                  0.22                  0.18                1.06   \n",
       "1936                  0.20                  0.18                1.14   \n",
       "1938                  0.20                  0.16                1.16   \n",
       "1960                  0.20                  0.16                1.18   \n",
       "1965                  0.20                  0.16                1.16   \n",
       "\n",
       "      last50games_opp_cc_per  \n",
       "1920                  0.9816  \n",
       "1936                  0.9814  \n",
       "1938                  0.9812  \n",
       "1960                  0.9812  \n",
       "1965                  0.9814  "
      ]
     },
     "execution_count": 33,
     "metadata": {},
     "output_type": "execute_result"
    }
   ],
   "source": [
    "# let's see what this looks like for Brazil in 1970\n",
    "pd.options.display.max_columns = team_features.shape[1]\n",
    "team_features[(team_features['team1']=='BRA') & (team_features['date']>='1970-01-01')].head()"
   ]
  },
  {
   "cell_type": "code",
   "execution_count": 34,
   "metadata": {
    "colab": {
     "autoexec": {
      "startup": false,
      "wait_interval": 0
     }
    },
    "colab_type": "code",
    "id": "cEn14JcU1Txz",
    "outputId": "96d4c5dc-db81-40fd-a400-5be1f5691e16"
   },
   "outputs": [
    {
     "data": {
      "text/plain": [
       "Index(['match_id', 'date', 'team1', 'team2', 'team1Score', 'team2Score',\n",
       "       'year', 'Total goals', 'qualifier', 'finaltourn', 'gd', 'w', 'l', 'd',\n",
       "       'confederation', 'adjust', 'last10games_win_per',\n",
       "       'last10games_loss_per', 'last10games_draw_per', 'last10games_gd_avg',\n",
       "       'last10games_opp_cc_per', 'last30games_win_per', 'last30games_loss_per',\n",
       "       'last30games_draw_per', 'last30games_gd_avg', 'last30games_opp_cc_per',\n",
       "       'last50games_win_per', 'last50games_loss_per', 'last50games_draw_per',\n",
       "       'last50games_gd_avg', 'last50games_opp_cc_per'],\n",
       "      dtype='object')"
      ]
     },
     "execution_count": 34,
     "metadata": {},
     "output_type": "execute_result"
    }
   ],
   "source": [
    "team_features.columns"
   ]
  },
  {
   "cell_type": "code",
   "execution_count": 35,
   "metadata": {
    "colab": {
     "autoexec": {
      "startup": false,
      "wait_interval": 0
     }
    },
    "colab_type": "code",
    "id": "wpVQ1nPb1Tx5"
   },
   "outputs": [],
   "source": [
    "# fold per-team features into per-match features\n",
    "\n",
    "# drop fields no longer needed\n",
    "team_features.drop(['team1Score','team2Score','Total goals','w','l','d','confederation',\n",
    "                    'adjust'],axis=1,inplace=True)"
   ]
  },
  {
   "cell_type": "code",
   "execution_count": 36,
   "metadata": {
    "colab": {
     "autoexec": {
      "startup": false,
      "wait_interval": 0
     }
    },
    "colab_type": "code",
    "id": "J95NsC1A1Tx7"
   },
   "outputs": [],
   "source": [
    "# create second data frame for joining excluding fields that we only want once\n",
    "team_features_reduced = team_features.copy()\n",
    "team_features_reduced.drop(['date','year','qualifier','finaltourn'],axis=1,inplace=True)\n",
    "\n",
    "# merge data frames\n",
    "match_features = pd.merge(matches[['match_id','team1']],team_features,on=['match_id','team1'])\n",
    "match_features = pd.merge(match_features,team_features_reduced,left_on=['match_id','team2'],right_on=['match_id','team1'])"
   ]
  },
  {
   "cell_type": "code",
   "execution_count": 37,
   "metadata": {
    "colab": {
     "autoexec": {
      "startup": false,
      "wait_interval": 0
     }
    },
    "colab_type": "code",
    "id": "QrqJ45HR1TyC",
    "outputId": "bdb5ce0c-1cd2-4944-cd28-051a5482abc4"
   },
   "outputs": [
    {
     "data": {
      "text/html": [
       "<div>\n",
       "<style scoped>\n",
       "    .dataframe tbody tr th:only-of-type {\n",
       "        vertical-align: middle;\n",
       "    }\n",
       "\n",
       "    .dataframe tbody tr th {\n",
       "        vertical-align: top;\n",
       "    }\n",
       "\n",
       "    .dataframe thead th {\n",
       "        text-align: right;\n",
       "    }\n",
       "</style>\n",
       "<table border=\"1\" class=\"dataframe\">\n",
       "  <thead>\n",
       "    <tr style=\"text-align: right;\">\n",
       "      <th></th>\n",
       "      <th>match_id</th>\n",
       "      <th>team1</th>\n",
       "      <th>date</th>\n",
       "      <th>team2</th>\n",
       "      <th>year</th>\n",
       "      <th>qualifier</th>\n",
       "      <th>finaltourn</th>\n",
       "      <th>outcome</th>\n",
       "      <th>last10games_win_per_x</th>\n",
       "      <th>last10games_loss_per_x</th>\n",
       "      <th>last10games_draw_per_x</th>\n",
       "      <th>last10games_gd_avg_x</th>\n",
       "      <th>last10games_opp_cc_per_x</th>\n",
       "      <th>last30games_win_per_x</th>\n",
       "      <th>last30games_loss_per_x</th>\n",
       "      <th>...</th>\n",
       "      <th>last10games_win_per_y</th>\n",
       "      <th>last10games_loss_per_y</th>\n",
       "      <th>last10games_draw_per_y</th>\n",
       "      <th>last10games_gd_avg_y</th>\n",
       "      <th>last10games_opp_cc_per_y</th>\n",
       "      <th>last30games_win_per_y</th>\n",
       "      <th>last30games_loss_per_y</th>\n",
       "      <th>last30games_draw_per_y</th>\n",
       "      <th>last30games_gd_avg_y</th>\n",
       "      <th>last30games_opp_cc_per_y</th>\n",
       "      <th>last50games_win_per_y</th>\n",
       "      <th>last50games_loss_per_y</th>\n",
       "      <th>last50games_draw_per_y</th>\n",
       "      <th>last50games_gd_avg_y</th>\n",
       "      <th>last50games_opp_cc_per_y</th>\n",
       "    </tr>\n",
       "  </thead>\n",
       "  <tbody>\n",
       "    <tr>\n",
       "      <th>0</th>\n",
       "      <td>0</td>\n",
       "      <td>URU</td>\n",
       "      <td>1956-01-21</td>\n",
       "      <td>PAR</td>\n",
       "      <td>1956</td>\n",
       "      <td>False</td>\n",
       "      <td>True</td>\n",
       "      <td>2</td>\n",
       "      <td>1.000000</td>\n",
       "      <td>0.000000</td>\n",
       "      <td>0.000000</td>\n",
       "      <td>2.000000</td>\n",
       "      <td>1.0</td>\n",
       "      <td>1.000000</td>\n",
       "      <td>0.000000</td>\n",
       "      <td>...</td>\n",
       "      <td>0.0</td>\n",
       "      <td>1.0</td>\n",
       "      <td>0.0</td>\n",
       "      <td>-2.000000</td>\n",
       "      <td>1.0</td>\n",
       "      <td>0.0</td>\n",
       "      <td>1.0</td>\n",
       "      <td>0.0</td>\n",
       "      <td>-2.000000</td>\n",
       "      <td>1.0</td>\n",
       "      <td>0.0</td>\n",
       "      <td>1.0</td>\n",
       "      <td>0.0</td>\n",
       "      <td>-2.000000</td>\n",
       "      <td>1.0</td>\n",
       "    </tr>\n",
       "    <tr>\n",
       "      <th>1</th>\n",
       "      <td>1</td>\n",
       "      <td>ARG</td>\n",
       "      <td>1956-01-22</td>\n",
       "      <td>PER</td>\n",
       "      <td>1956</td>\n",
       "      <td>False</td>\n",
       "      <td>True</td>\n",
       "      <td>1</td>\n",
       "      <td>1.000000</td>\n",
       "      <td>0.000000</td>\n",
       "      <td>0.000000</td>\n",
       "      <td>1.000000</td>\n",
       "      <td>1.0</td>\n",
       "      <td>1.000000</td>\n",
       "      <td>0.000000</td>\n",
       "      <td>...</td>\n",
       "      <td>0.0</td>\n",
       "      <td>1.0</td>\n",
       "      <td>0.0</td>\n",
       "      <td>-1.000000</td>\n",
       "      <td>1.0</td>\n",
       "      <td>0.0</td>\n",
       "      <td>1.0</td>\n",
       "      <td>0.0</td>\n",
       "      <td>-1.000000</td>\n",
       "      <td>1.0</td>\n",
       "      <td>0.0</td>\n",
       "      <td>1.0</td>\n",
       "      <td>0.0</td>\n",
       "      <td>-1.000000</td>\n",
       "      <td>1.0</td>\n",
       "    </tr>\n",
       "    <tr>\n",
       "      <th>2</th>\n",
       "      <td>2</td>\n",
       "      <td>CHI</td>\n",
       "      <td>1956-01-24</td>\n",
       "      <td>BRA</td>\n",
       "      <td>1956</td>\n",
       "      <td>False</td>\n",
       "      <td>True</td>\n",
       "      <td>3</td>\n",
       "      <td>1.000000</td>\n",
       "      <td>0.000000</td>\n",
       "      <td>0.000000</td>\n",
       "      <td>3.000000</td>\n",
       "      <td>1.0</td>\n",
       "      <td>1.000000</td>\n",
       "      <td>0.000000</td>\n",
       "      <td>...</td>\n",
       "      <td>0.0</td>\n",
       "      <td>1.0</td>\n",
       "      <td>0.0</td>\n",
       "      <td>-3.000000</td>\n",
       "      <td>1.0</td>\n",
       "      <td>0.0</td>\n",
       "      <td>1.0</td>\n",
       "      <td>0.0</td>\n",
       "      <td>-3.000000</td>\n",
       "      <td>1.0</td>\n",
       "      <td>0.0</td>\n",
       "      <td>1.0</td>\n",
       "      <td>0.0</td>\n",
       "      <td>-3.000000</td>\n",
       "      <td>1.0</td>\n",
       "    </tr>\n",
       "    <tr>\n",
       "      <th>3</th>\n",
       "      <td>4</td>\n",
       "      <td>BRA</td>\n",
       "      <td>1956-01-29</td>\n",
       "      <td>PAR</td>\n",
       "      <td>1956</td>\n",
       "      <td>False</td>\n",
       "      <td>True</td>\n",
       "      <td>0</td>\n",
       "      <td>0.000000</td>\n",
       "      <td>0.500000</td>\n",
       "      <td>0.500000</td>\n",
       "      <td>-1.500000</td>\n",
       "      <td>1.0</td>\n",
       "      <td>0.000000</td>\n",
       "      <td>0.500000</td>\n",
       "      <td>...</td>\n",
       "      <td>0.0</td>\n",
       "      <td>0.5</td>\n",
       "      <td>0.5</td>\n",
       "      <td>-1.000000</td>\n",
       "      <td>1.0</td>\n",
       "      <td>0.0</td>\n",
       "      <td>0.5</td>\n",
       "      <td>0.5</td>\n",
       "      <td>-1.000000</td>\n",
       "      <td>1.0</td>\n",
       "      <td>0.0</td>\n",
       "      <td>0.5</td>\n",
       "      <td>0.5</td>\n",
       "      <td>-1.000000</td>\n",
       "      <td>1.0</td>\n",
       "    </tr>\n",
       "    <tr>\n",
       "      <th>4</th>\n",
       "      <td>6</td>\n",
       "      <td>BRA</td>\n",
       "      <td>1956-02-01</td>\n",
       "      <td>PER</td>\n",
       "      <td>1956</td>\n",
       "      <td>False</td>\n",
       "      <td>True</td>\n",
       "      <td>1</td>\n",
       "      <td>0.333333</td>\n",
       "      <td>0.333333</td>\n",
       "      <td>0.333333</td>\n",
       "      <td>-0.666667</td>\n",
       "      <td>1.0</td>\n",
       "      <td>0.333333</td>\n",
       "      <td>0.333333</td>\n",
       "      <td>...</td>\n",
       "      <td>0.0</td>\n",
       "      <td>1.0</td>\n",
       "      <td>0.0</td>\n",
       "      <td>-1.333333</td>\n",
       "      <td>1.0</td>\n",
       "      <td>0.0</td>\n",
       "      <td>1.0</td>\n",
       "      <td>0.0</td>\n",
       "      <td>-1.333333</td>\n",
       "      <td>1.0</td>\n",
       "      <td>0.0</td>\n",
       "      <td>1.0</td>\n",
       "      <td>0.0</td>\n",
       "      <td>-1.333333</td>\n",
       "      <td>1.0</td>\n",
       "    </tr>\n",
       "  </tbody>\n",
       "</table>\n",
       "<p>5 rows × 38 columns</p>\n",
       "</div>"
      ],
      "text/plain": [
       "   match_id team1       date team2  year  qualifier  finaltourn  outcome  \\\n",
       "0         0   URU 1956-01-21   PAR  1956      False        True        2   \n",
       "1         1   ARG 1956-01-22   PER  1956      False        True        1   \n",
       "2         2   CHI 1956-01-24   BRA  1956      False        True        3   \n",
       "3         4   BRA 1956-01-29   PAR  1956      False        True        0   \n",
       "4         6   BRA 1956-02-01   PER  1956      False        True        1   \n",
       "\n",
       "   last10games_win_per_x  last10games_loss_per_x  last10games_draw_per_x  \\\n",
       "0               1.000000                0.000000                0.000000   \n",
       "1               1.000000                0.000000                0.000000   \n",
       "2               1.000000                0.000000                0.000000   \n",
       "3               0.000000                0.500000                0.500000   \n",
       "4               0.333333                0.333333                0.333333   \n",
       "\n",
       "   last10games_gd_avg_x  last10games_opp_cc_per_x  last30games_win_per_x  \\\n",
       "0              2.000000                       1.0               1.000000   \n",
       "1              1.000000                       1.0               1.000000   \n",
       "2              3.000000                       1.0               1.000000   \n",
       "3             -1.500000                       1.0               0.000000   \n",
       "4             -0.666667                       1.0               0.333333   \n",
       "\n",
       "   last30games_loss_per_x            ...             last10games_win_per_y  \\\n",
       "0                0.000000            ...                               0.0   \n",
       "1                0.000000            ...                               0.0   \n",
       "2                0.000000            ...                               0.0   \n",
       "3                0.500000            ...                               0.0   \n",
       "4                0.333333            ...                               0.0   \n",
       "\n",
       "   last10games_loss_per_y  last10games_draw_per_y  last10games_gd_avg_y  \\\n",
       "0                     1.0                     0.0             -2.000000   \n",
       "1                     1.0                     0.0             -1.000000   \n",
       "2                     1.0                     0.0             -3.000000   \n",
       "3                     0.5                     0.5             -1.000000   \n",
       "4                     1.0                     0.0             -1.333333   \n",
       "\n",
       "   last10games_opp_cc_per_y  last30games_win_per_y  last30games_loss_per_y  \\\n",
       "0                       1.0                    0.0                     1.0   \n",
       "1                       1.0                    0.0                     1.0   \n",
       "2                       1.0                    0.0                     1.0   \n",
       "3                       1.0                    0.0                     0.5   \n",
       "4                       1.0                    0.0                     1.0   \n",
       "\n",
       "   last30games_draw_per_y  last30games_gd_avg_y  last30games_opp_cc_per_y  \\\n",
       "0                     0.0             -2.000000                       1.0   \n",
       "1                     0.0             -1.000000                       1.0   \n",
       "2                     0.0             -3.000000                       1.0   \n",
       "3                     0.5             -1.000000                       1.0   \n",
       "4                     0.0             -1.333333                       1.0   \n",
       "\n",
       "   last50games_win_per_y  last50games_loss_per_y  last50games_draw_per_y  \\\n",
       "0                    0.0                     1.0                     0.0   \n",
       "1                    0.0                     1.0                     0.0   \n",
       "2                    0.0                     1.0                     0.0   \n",
       "3                    0.0                     0.5                     0.5   \n",
       "4                    0.0                     1.0                     0.0   \n",
       "\n",
       "   last50games_gd_avg_y  last50games_opp_cc_per_y  \n",
       "0             -2.000000                       1.0  \n",
       "1             -1.000000                       1.0  \n",
       "2             -3.000000                       1.0  \n",
       "3             -1.000000                       1.0  \n",
       "4             -1.333333                       1.0  \n",
       "\n",
       "[5 rows x 38 columns]"
      ]
     },
     "execution_count": 37,
     "metadata": {},
     "output_type": "execute_result"
    }
   ],
   "source": [
    "# edit data frame\n",
    "match_features.drop(['team1_y','team2_y','gd_y'],axis=1,inplace=True)\n",
    "match_features.rename(columns = {'team1_x':'team1','team2_x':'team2','gd_x':'outcome'}, inplace = True)\n",
    "match_features.head()"
   ]
  },
  {
   "cell_type": "markdown",
   "metadata": {
    "colab_type": "text",
    "id": "SxCuitjU1TyG"
   },
   "source": [
    "Let's have a peek at correlation between our numeric features."
   ]
  },
  {
   "cell_type": "code",
   "execution_count": 38,
   "metadata": {
    "colab": {
     "autoexec": {
      "startup": false,
      "wait_interval": 0
     }
    },
    "colab_type": "code",
    "id": "BjhF5F4N1TyH",
    "outputId": "65f996fd-1374-4ffa-dad0-7822b59d208c"
   },
   "outputs": [
    {
     "data": {
      "text/plain": [
       "<matplotlib.axes._subplots.AxesSubplot at 0x2610d9056d8>"
      ]
     },
     "execution_count": 38,
     "metadata": {},
     "output_type": "execute_result"
    },
    {
     "data": {
      "image/png": "[encoded data removed]",
      "text/plain": [
       "<Figure size 720x576 with 2 Axes>"
      ]
     },
     "metadata": {},
     "output_type": "display_data"
    }
   ],
   "source": [
    "cor = match_features.drop(['match_id','date','team1','team2','year','qualifier','finaltourn'],axis=1).corr()\n",
    "plt.figure(figsize=(10,8))\n",
    "sns.set_palette(\"husl\")\n",
    "sns.heatmap(cor, \n",
    "            xticklabels=cor.columns.values,\n",
    "            yticklabels=cor.columns.values,\n",
    "            cmap='PiYG')"
   ]
  },
  {
   "cell_type": "markdown",
   "metadata": {
    "colab_type": "text",
    "id": "ORh-zZJt1TyN"
   },
   "source": [
    "It looks like outcomes are correlated with our lag features, and that lag features for team1 have low correlation with those for team2. No major surprises here, but good confirmation that we have a set of features that may help us with predictions. And no individual feature has much stronger correlation than all others."
   ]
  },
  {
   "cell_type": "markdown",
   "metadata": {
    "colab_type": "text",
    "id": "XNnRAamK1TyN"
   },
   "source": [
    "## Training a random forest"
   ]
  },
  {
   "cell_type": "markdown",
   "metadata": {
    "colab_type": "text",
    "id": "sdLKk_5u1TyO"
   },
   "source": [
    "We could train a classification algorithm, where the target variable is one of the three categories win, lose or draw, but it's more useful for the purpose of simulating World Cup winners to train a regression algorithm on goal difference (have a think about why). There are a variety of appraoches we could take, such as:\n",
    "\n",
    "* linear regression\n",
    "\n",
    "* neural network regression\n",
    "\n",
    "* decision tree regression\n",
    "\n",
    "* boosted decision tree regression\n",
    "\n",
    "But we're going to train a random forest, which grows multiple decision trees and has each individual tree \"vote\" on the outcome for each new input vector (or in other words, new match to predict). It's fast, fairly accurate, and it gives an unbiased estimate of the generalization error. You'll be learning more about random forests in the next day or two if you haven't already.\n",
    "\n",
    "We're going to tell the algorithm to grow 500 trees.\n",
    "\n",
    "First, we'll do a train-test split by training on pre-2009 match results and seeing how our model performs on post-2009 results."
   ]
  },
  {
   "cell_type": "code",
   "execution_count": 39,
   "metadata": {
    "colab": {
     "autoexec": {
      "startup": false,
      "wait_interval": 0
     }
    },
    "colab_type": "code",
    "id": "OJqu_RpA1TyP"
   },
   "outputs": [],
   "source": [
    "data_train = match_features[match_features['date']<'2009-01-01']\n",
    "data_test = match_features[match_features['date']>='2009-01-01']\n",
    "\n",
    "X_train = data_train.drop(['outcome','match_id','date','team1','team2','year'],axis=1)\n",
    "y_train = data_train['outcome']\n",
    "X_test = data_test.drop(['outcome','match_id','date','team1','team2','year'],axis=1)\n",
    "y_test = data_test['outcome']"
   ]
  },
  {
   "cell_type": "code",
   "execution_count": 40,
   "metadata": {
    "colab": {
     "autoexec": {
      "startup": false,
      "wait_interval": 0
     }
    },
    "colab_type": "code",
    "id": "m055ombc1TyT"
   },
   "outputs": [],
   "source": [
    "WC_rf = RandomForestRegressor(n_estimators=500)"
   ]
  },
  {
   "cell_type": "code",
   "execution_count": 41,
   "metadata": {
    "colab": {
     "autoexec": {
      "startup": false,
      "wait_interval": 0
     }
    },
    "colab_type": "code",
    "id": "_fkuVsVy1Tyf",
    "outputId": "4b60ec8f-af57-40ac-d19d-214ab1e8d96c"
   },
   "outputs": [
    {
     "data": {
      "text/plain": [
       "RandomForestRegressor(bootstrap=True, criterion='mse', max_depth=None,\n",
       "           max_features='auto', max_leaf_nodes=None,\n",
       "           min_impurity_decrease=0.0, min_impurity_split=None,\n",
       "           min_samples_leaf=1, min_samples_split=2,\n",
       "           min_weight_fraction_leaf=0.0, n_estimators=500, n_jobs=1,\n",
       "           oob_score=False, random_state=None, verbose=0, warm_start=False)"
      ]
     },
     "execution_count": 41,
     "metadata": {},
     "output_type": "execute_result"
    }
   ],
   "source": [
    "WC_rf.fit(X_train,y_train)"
   ]
  },
  {
   "cell_type": "markdown",
   "metadata": {
    "colab_type": "text",
    "id": "F_1esIaY1Tyj"
   },
   "source": [
    "We can then produce a variable importance graph to show which features turn out to be the most predictive of match outcomes. We can see below that the average goal difference for both teams over their past 10 games are by some margin the most important features."
   ]
  },
  {
   "cell_type": "code",
   "execution_count": 42,
   "metadata": {
    "colab": {
     "autoexec": {
      "startup": false,
      "wait_interval": 0
     }
    },
    "colab_type": "code",
    "id": "IeGga4xG1Tyk",
    "outputId": "24658631-aa59-4f3f-a85d-12c2525a6cc1"
   },
   "outputs": [
    {
     "data": {
      "image/png": "[encoded data removed]",
      "text/plain": [
       "<Figure size 864x720 with 1 Axes>"
      ]
     },
     "metadata": {},
     "output_type": "display_data"
    }
   ],
   "source": [
    "features = X_train.columns\n",
    "importance = WC_rf.feature_importances_\n",
    "indices = np.argsort(importance)\n",
    "\n",
    "plt.figure(figsize=(12,10))\n",
    "plt.title('Feature Importances')\n",
    "plt.barh(range(len(indices)), importance[indices], color='b', align='center')\n",
    "plt.yticks(range(len(indices)), features[indices])\n",
    "plt.xlabel('Relative Importance')\n",
    "plt.show()"
   ]
  },
  {
   "cell_type": "markdown",
   "metadata": {
    "colab_type": "text",
    "id": "FCjUuHd41Tyu"
   },
   "source": [
    "Let's then predict outcomes on our test set, and see how well we do (measured by root mean squared error)."
   ]
  },
  {
   "cell_type": "code",
   "execution_count": 43,
   "metadata": {
    "colab": {
     "autoexec": {
      "startup": false,
      "wait_interval": 0
     }
    },
    "colab_type": "code",
    "id": "Gzu5BV7p1Tyv"
   },
   "outputs": [],
   "source": [
    "pred = WC_rf.predict(X_test)"
   ]
  },
  {
   "cell_type": "code",
   "execution_count": 44,
   "metadata": {
    "colab": {
     "autoexec": {
      "startup": false,
      "wait_interval": 0
     }
    },
    "colab_type": "code",
    "id": "dFvfEJ9e1Tyy",
    "outputId": "72caff7b-3944-4fdc-fcb8-80b053a25780"
   },
   "outputs": [
    {
     "name": "stdout",
     "output_type": "stream",
     "text": [
      "Root mean squared error on test data is 1.57844.\n"
     ]
    }
   ],
   "source": [
    "from sklearn.metrics import mean_squared_error\n",
    "print('Root mean squared error on test data is {:0.5f}.'.format(math.sqrt(mean_squared_error(y_test,pred))))"
   ]
  },
  {
   "cell_type": "markdown",
   "metadata": {
    "colab_type": "text",
    "id": "OLJ3kQto1Ty3"
   },
   "source": [
    "## Head to head of all combinations of qualifiers"
   ]
  },
  {
   "cell_type": "markdown",
   "metadata": {
    "colab_type": "text",
    "id": "sytCQrot1Ty3"
   },
   "source": [
    "For performance reasons, it makes sense to extract key parameters for our simulation model by looking at all possible head-to-head match-ups at the World Cup. We start by reading in data of all teams with their group draws."
   ]
  },
  {
   "cell_type": "code",
   "execution_count": 45,
   "metadata": {
    "colab": {
     "autoexec": {
      "startup": false,
      "wait_interval": 0
     }
    },
    "colab_type": "code",
    "id": "hbZvAxPiGmhb"
   },
   "outputs": [],
   "source": [
    "#read in qualified teams with group allocation\n",
    "teams = pd.read_sql_query(\"SELECT * FROM wc2018qualified\", con=conn)"
   ]
  },
  {
   "cell_type": "code",
   "execution_count": 46,
   "metadata": {
    "colab": {
     "autoexec": {
      "startup": false,
      "wait_interval": 0
     }
    },
    "colab_type": "code",
    "id": "uZXVn8dJ1Ty9",
    "outputId": "a5279c63-e807-44eb-977f-1c083490ed96"
   },
   "outputs": [
    {
     "data": {
      "text/html": [
       "<div>\n",
       "<style scoped>\n",
       "    .dataframe tbody tr th:only-of-type {\n",
       "        vertical-align: middle;\n",
       "    }\n",
       "\n",
       "    .dataframe tbody tr th {\n",
       "        vertical-align: top;\n",
       "    }\n",
       "\n",
       "    .dataframe thead th {\n",
       "        text-align: right;\n",
       "    }\n",
       "</style>\n",
       "<table border=\"1\" class=\"dataframe\">\n",
       "  <thead>\n",
       "    <tr style=\"text-align: right;\">\n",
       "      <th></th>\n",
       "      <th>name</th>\n",
       "      <th>draw</th>\n",
       "    </tr>\n",
       "  </thead>\n",
       "  <tbody>\n",
       "    <tr>\n",
       "      <th>0</th>\n",
       "      <td>RUS</td>\n",
       "      <td>A1</td>\n",
       "    </tr>\n",
       "    <tr>\n",
       "      <th>1</th>\n",
       "      <td>KSA</td>\n",
       "      <td>A2</td>\n",
       "    </tr>\n",
       "    <tr>\n",
       "      <th>2</th>\n",
       "      <td>EGY</td>\n",
       "      <td>A3</td>\n",
       "    </tr>\n",
       "    <tr>\n",
       "      <th>3</th>\n",
       "      <td>URU</td>\n",
       "      <td>A4</td>\n",
       "    </tr>\n",
       "    <tr>\n",
       "      <th>4</th>\n",
       "      <td>POR</td>\n",
       "      <td>B1</td>\n",
       "    </tr>\n",
       "    <tr>\n",
       "      <th>5</th>\n",
       "      <td>ESP</td>\n",
       "      <td>B2</td>\n",
       "    </tr>\n",
       "    <tr>\n",
       "      <th>6</th>\n",
       "      <td>MAR</td>\n",
       "      <td>B3</td>\n",
       "    </tr>\n",
       "    <tr>\n",
       "      <th>7</th>\n",
       "      <td>IRN</td>\n",
       "      <td>B4</td>\n",
       "    </tr>\n",
       "    <tr>\n",
       "      <th>8</th>\n",
       "      <td>FRA</td>\n",
       "      <td>C1</td>\n",
       "    </tr>\n",
       "    <tr>\n",
       "      <th>9</th>\n",
       "      <td>AUS</td>\n",
       "      <td>C2</td>\n",
       "    </tr>\n",
       "    <tr>\n",
       "      <th>10</th>\n",
       "      <td>PER</td>\n",
       "      <td>C3</td>\n",
       "    </tr>\n",
       "    <tr>\n",
       "      <th>11</th>\n",
       "      <td>DEN</td>\n",
       "      <td>C4</td>\n",
       "    </tr>\n",
       "  </tbody>\n",
       "</table>\n",
       "</div>"
      ],
      "text/plain": [
       "   name draw\n",
       "0   RUS   A1\n",
       "1   KSA   A2\n",
       "2   EGY   A3\n",
       "3   URU   A4\n",
       "4   POR   B1\n",
       "5   ESP   B2\n",
       "6   MAR   B3\n",
       "7   IRN   B4\n",
       "8   FRA   C1\n",
       "9   AUS   C2\n",
       "10  PER   C3\n",
       "11  DEN   C4"
      ]
     },
     "execution_count": 46,
     "metadata": {},
     "output_type": "execute_result"
    }
   ],
   "source": [
    "teams.head(12)"
   ]
  },
  {
   "cell_type": "code",
   "execution_count": 47,
   "metadata": {
    "colab": {
     "autoexec": {
      "startup": false,
      "wait_interval": 0
     }
    },
    "colab_type": "code",
    "id": "3byUK9hQ1TzB",
    "outputId": "108efdb1-bcb8-4926-9e3d-2dc5c405bc4b"
   },
   "outputs": [
    {
     "data": {
      "text/html": [
       "<div>\n",
       "<style scoped>\n",
       "    .dataframe tbody tr th:only-of-type {\n",
       "        vertical-align: middle;\n",
       "    }\n",
       "\n",
       "    .dataframe tbody tr th {\n",
       "        vertical-align: top;\n",
       "    }\n",
       "\n",
       "    .dataframe thead th {\n",
       "        text-align: right;\n",
       "    }\n",
       "</style>\n",
       "<table border=\"1\" class=\"dataframe\">\n",
       "  <thead>\n",
       "    <tr style=\"text-align: right;\">\n",
       "      <th></th>\n",
       "      <th>team1</th>\n",
       "      <th>team2</th>\n",
       "    </tr>\n",
       "  </thead>\n",
       "  <tbody>\n",
       "    <tr>\n",
       "      <th>0</th>\n",
       "      <td>RUS</td>\n",
       "      <td>KSA</td>\n",
       "    </tr>\n",
       "    <tr>\n",
       "      <th>1</th>\n",
       "      <td>RUS</td>\n",
       "      <td>EGY</td>\n",
       "    </tr>\n",
       "    <tr>\n",
       "      <th>2</th>\n",
       "      <td>RUS</td>\n",
       "      <td>URU</td>\n",
       "    </tr>\n",
       "    <tr>\n",
       "      <th>3</th>\n",
       "      <td>RUS</td>\n",
       "      <td>POR</td>\n",
       "    </tr>\n",
       "    <tr>\n",
       "      <th>4</th>\n",
       "      <td>RUS</td>\n",
       "      <td>ESP</td>\n",
       "    </tr>\n",
       "  </tbody>\n",
       "</table>\n",
       "</div>"
      ],
      "text/plain": [
       "  team1 team2\n",
       "0   RUS   KSA\n",
       "1   RUS   EGY\n",
       "2   RUS   URU\n",
       "3   RUS   POR\n",
       "4   RUS   ESP"
      ]
     },
     "execution_count": 47,
     "metadata": {},
     "output_type": "execute_result"
    }
   ],
   "source": [
    "# create a dataframe of all possible head-to-head match-ups\n",
    "head_to_head = pd.DataFrame(list(combinations(teams['name'],2)))\n",
    "head_to_head.rename(index=str,columns = {0:'team1',1:'team2'},inplace=True)\n",
    "head_to_head.head()"
   ]
  },
  {
   "cell_type": "markdown",
   "metadata": {
    "colab_type": "text",
    "id": "SUDm9kUm1TzD"
   },
   "source": [
    "Now we create a dataframe of features for all of those possible encounters, based on form leading up to the World Cup."
   ]
  },
  {
   "cell_type": "code",
   "execution_count": 48,
   "metadata": {
    "colab": {
     "autoexec": {
      "startup": false,
      "wait_interval": 0
     }
    },
    "colab_type": "code",
    "id": "nJJVyPNd1TzD",
    "outputId": "b9de1440-1540-402e-a2b6-69f3fd6296fb"
   },
   "outputs": [
    {
     "data": {
      "text/html": [
       "<div>\n",
       "<style scoped>\n",
       "    .dataframe tbody tr th:only-of-type {\n",
       "        vertical-align: middle;\n",
       "    }\n",
       "\n",
       "    .dataframe tbody tr th {\n",
       "        vertical-align: top;\n",
       "    }\n",
       "\n",
       "    .dataframe thead th {\n",
       "        text-align: right;\n",
       "    }\n",
       "</style>\n",
       "<table border=\"1\" class=\"dataframe\">\n",
       "  <thead>\n",
       "    <tr style=\"text-align: right;\">\n",
       "      <th></th>\n",
       "      <th>qualifier</th>\n",
       "      <th>finaltourn</th>\n",
       "      <th>last10games_win_per_x</th>\n",
       "      <th>last10games_loss_per_x</th>\n",
       "      <th>last10games_draw_per_x</th>\n",
       "      <th>last10games_gd_avg_x</th>\n",
       "      <th>last10games_opp_cc_per_x</th>\n",
       "      <th>last30games_win_per_x</th>\n",
       "      <th>last30games_loss_per_x</th>\n",
       "      <th>last30games_draw_per_x</th>\n",
       "      <th>last30games_gd_avg_x</th>\n",
       "      <th>last30games_opp_cc_per_x</th>\n",
       "      <th>last50games_win_per_x</th>\n",
       "      <th>last50games_loss_per_x</th>\n",
       "      <th>last50games_draw_per_x</th>\n",
       "      <th>...</th>\n",
       "      <th>last10games_win_per_y</th>\n",
       "      <th>last10games_loss_per_y</th>\n",
       "      <th>last10games_draw_per_y</th>\n",
       "      <th>last10games_gd_avg_y</th>\n",
       "      <th>last10games_opp_cc_per_y</th>\n",
       "      <th>last30games_win_per_y</th>\n",
       "      <th>last30games_loss_per_y</th>\n",
       "      <th>last30games_draw_per_y</th>\n",
       "      <th>last30games_gd_avg_y</th>\n",
       "      <th>last30games_opp_cc_per_y</th>\n",
       "      <th>last50games_win_per_y</th>\n",
       "      <th>last50games_loss_per_y</th>\n",
       "      <th>last50games_draw_per_y</th>\n",
       "      <th>last50games_gd_avg_y</th>\n",
       "      <th>last50games_opp_cc_per_y</th>\n",
       "    </tr>\n",
       "  </thead>\n",
       "  <tbody>\n",
       "    <tr>\n",
       "      <th>0</th>\n",
       "      <td>False</td>\n",
       "      <td>True</td>\n",
       "      <td>0.3</td>\n",
       "      <td>0.3</td>\n",
       "      <td>0.4</td>\n",
       "      <td>0.6</td>\n",
       "      <td>0.962</td>\n",
       "      <td>0.533333</td>\n",
       "      <td>0.266667</td>\n",
       "      <td>0.2</td>\n",
       "      <td>0.933333</td>\n",
       "      <td>0.980667</td>\n",
       "      <td>0.56</td>\n",
       "      <td>0.24</td>\n",
       "      <td>0.2</td>\n",
       "      <td>...</td>\n",
       "      <td>0.5</td>\n",
       "      <td>0.3</td>\n",
       "      <td>0.2</td>\n",
       "      <td>0.6</td>\n",
       "      <td>0.850</td>\n",
       "      <td>0.433333</td>\n",
       "      <td>0.333333</td>\n",
       "      <td>0.233333</td>\n",
       "      <td>0.566667</td>\n",
       "      <td>0.860000</td>\n",
       "      <td>0.44</td>\n",
       "      <td>0.28</td>\n",
       "      <td>0.28</td>\n",
       "      <td>0.52</td>\n",
       "      <td>0.8560</td>\n",
       "    </tr>\n",
       "    <tr>\n",
       "      <th>1</th>\n",
       "      <td>False</td>\n",
       "      <td>True</td>\n",
       "      <td>0.3</td>\n",
       "      <td>0.3</td>\n",
       "      <td>0.4</td>\n",
       "      <td>0.6</td>\n",
       "      <td>0.962</td>\n",
       "      <td>0.533333</td>\n",
       "      <td>0.266667</td>\n",
       "      <td>0.2</td>\n",
       "      <td>0.933333</td>\n",
       "      <td>0.980667</td>\n",
       "      <td>0.56</td>\n",
       "      <td>0.24</td>\n",
       "      <td>0.2</td>\n",
       "      <td>...</td>\n",
       "      <td>0.7</td>\n",
       "      <td>0.1</td>\n",
       "      <td>0.2</td>\n",
       "      <td>1.0</td>\n",
       "      <td>0.850</td>\n",
       "      <td>0.733333</td>\n",
       "      <td>0.166667</td>\n",
       "      <td>0.100000</td>\n",
       "      <td>0.900000</td>\n",
       "      <td>0.859667</td>\n",
       "      <td>0.70</td>\n",
       "      <td>0.20</td>\n",
       "      <td>0.10</td>\n",
       "      <td>0.90</td>\n",
       "      <td>0.8616</td>\n",
       "    </tr>\n",
       "    <tr>\n",
       "      <th>2</th>\n",
       "      <td>False</td>\n",
       "      <td>True</td>\n",
       "      <td>0.3</td>\n",
       "      <td>0.3</td>\n",
       "      <td>0.4</td>\n",
       "      <td>0.6</td>\n",
       "      <td>0.962</td>\n",
       "      <td>0.533333</td>\n",
       "      <td>0.266667</td>\n",
       "      <td>0.2</td>\n",
       "      <td>0.933333</td>\n",
       "      <td>0.980667</td>\n",
       "      <td>0.56</td>\n",
       "      <td>0.24</td>\n",
       "      <td>0.2</td>\n",
       "      <td>...</td>\n",
       "      <td>0.4</td>\n",
       "      <td>0.3</td>\n",
       "      <td>0.3</td>\n",
       "      <td>0.3</td>\n",
       "      <td>1.000</td>\n",
       "      <td>0.433333</td>\n",
       "      <td>0.366667</td>\n",
       "      <td>0.200000</td>\n",
       "      <td>0.400000</td>\n",
       "      <td>0.969333</td>\n",
       "      <td>0.42</td>\n",
       "      <td>0.40</td>\n",
       "      <td>0.18</td>\n",
       "      <td>0.20</td>\n",
       "      <td>0.9692</td>\n",
       "    </tr>\n",
       "    <tr>\n",
       "      <th>3</th>\n",
       "      <td>False</td>\n",
       "      <td>True</td>\n",
       "      <td>0.3</td>\n",
       "      <td>0.3</td>\n",
       "      <td>0.4</td>\n",
       "      <td>0.6</td>\n",
       "      <td>0.962</td>\n",
       "      <td>0.533333</td>\n",
       "      <td>0.266667</td>\n",
       "      <td>0.2</td>\n",
       "      <td>0.933333</td>\n",
       "      <td>0.980667</td>\n",
       "      <td>0.56</td>\n",
       "      <td>0.24</td>\n",
       "      <td>0.2</td>\n",
       "      <td>...</td>\n",
       "      <td>0.8</td>\n",
       "      <td>0.0</td>\n",
       "      <td>0.2</td>\n",
       "      <td>1.8</td>\n",
       "      <td>0.949</td>\n",
       "      <td>0.633333</td>\n",
       "      <td>0.100000</td>\n",
       "      <td>0.266667</td>\n",
       "      <td>1.166667</td>\n",
       "      <td>0.958000</td>\n",
       "      <td>0.60</td>\n",
       "      <td>0.12</td>\n",
       "      <td>0.28</td>\n",
       "      <td>1.10</td>\n",
       "      <td>0.9654</td>\n",
       "    </tr>\n",
       "    <tr>\n",
       "      <th>4</th>\n",
       "      <td>False</td>\n",
       "      <td>True</td>\n",
       "      <td>0.3</td>\n",
       "      <td>0.3</td>\n",
       "      <td>0.4</td>\n",
       "      <td>0.6</td>\n",
       "      <td>0.962</td>\n",
       "      <td>0.533333</td>\n",
       "      <td>0.266667</td>\n",
       "      <td>0.2</td>\n",
       "      <td>0.933333</td>\n",
       "      <td>0.980667</td>\n",
       "      <td>0.56</td>\n",
       "      <td>0.24</td>\n",
       "      <td>0.2</td>\n",
       "      <td>...</td>\n",
       "      <td>0.8</td>\n",
       "      <td>0.1</td>\n",
       "      <td>0.1</td>\n",
       "      <td>2.8</td>\n",
       "      <td>0.990</td>\n",
       "      <td>0.666667</td>\n",
       "      <td>0.166667</td>\n",
       "      <td>0.166667</td>\n",
       "      <td>1.566667</td>\n",
       "      <td>0.972333</td>\n",
       "      <td>0.70</td>\n",
       "      <td>0.16</td>\n",
       "      <td>0.14</td>\n",
       "      <td>1.50</td>\n",
       "      <td>0.9686</td>\n",
       "    </tr>\n",
       "  </tbody>\n",
       "</table>\n",
       "<p>5 rows × 32 columns</p>\n",
       "</div>"
      ],
      "text/plain": [
       "   qualifier  finaltourn  last10games_win_per_x  last10games_loss_per_x  \\\n",
       "0      False        True                    0.3                     0.3   \n",
       "1      False        True                    0.3                     0.3   \n",
       "2      False        True                    0.3                     0.3   \n",
       "3      False        True                    0.3                     0.3   \n",
       "4      False        True                    0.3                     0.3   \n",
       "\n",
       "   last10games_draw_per_x  last10games_gd_avg_x  last10games_opp_cc_per_x  \\\n",
       "0                     0.4                   0.6                     0.962   \n",
       "1                     0.4                   0.6                     0.962   \n",
       "2                     0.4                   0.6                     0.962   \n",
       "3                     0.4                   0.6                     0.962   \n",
       "4                     0.4                   0.6                     0.962   \n",
       "\n",
       "   last30games_win_per_x  last30games_loss_per_x  last30games_draw_per_x  \\\n",
       "0               0.533333                0.266667                     0.2   \n",
       "1               0.533333                0.266667                     0.2   \n",
       "2               0.533333                0.266667                     0.2   \n",
       "3               0.533333                0.266667                     0.2   \n",
       "4               0.533333                0.266667                     0.2   \n",
       "\n",
       "   last30games_gd_avg_x  last30games_opp_cc_per_x  last50games_win_per_x  \\\n",
       "0              0.933333                  0.980667                   0.56   \n",
       "1              0.933333                  0.980667                   0.56   \n",
       "2              0.933333                  0.980667                   0.56   \n",
       "3              0.933333                  0.980667                   0.56   \n",
       "4              0.933333                  0.980667                   0.56   \n",
       "\n",
       "   last50games_loss_per_x  last50games_draw_per_x            ...             \\\n",
       "0                    0.24                     0.2            ...              \n",
       "1                    0.24                     0.2            ...              \n",
       "2                    0.24                     0.2            ...              \n",
       "3                    0.24                     0.2            ...              \n",
       "4                    0.24                     0.2            ...              \n",
       "\n",
       "   last10games_win_per_y  last10games_loss_per_y  last10games_draw_per_y  \\\n",
       "0                    0.5                     0.3                     0.2   \n",
       "1                    0.7                     0.1                     0.2   \n",
       "2                    0.4                     0.3                     0.3   \n",
       "3                    0.8                     0.0                     0.2   \n",
       "4                    0.8                     0.1                     0.1   \n",
       "\n",
       "   last10games_gd_avg_y  last10games_opp_cc_per_y  last30games_win_per_y  \\\n",
       "0                   0.6                     0.850               0.433333   \n",
       "1                   1.0                     0.850               0.733333   \n",
       "2                   0.3                     1.000               0.433333   \n",
       "3                   1.8                     0.949               0.633333   \n",
       "4                   2.8                     0.990               0.666667   \n",
       "\n",
       "   last30games_loss_per_y  last30games_draw_per_y  last30games_gd_avg_y  \\\n",
       "0                0.333333                0.233333              0.566667   \n",
       "1                0.166667                0.100000              0.900000   \n",
       "2                0.366667                0.200000              0.400000   \n",
       "3                0.100000                0.266667              1.166667   \n",
       "4                0.166667                0.166667              1.566667   \n",
       "\n",
       "   last30games_opp_cc_per_y  last50games_win_per_y  last50games_loss_per_y  \\\n",
       "0                  0.860000                   0.44                    0.28   \n",
       "1                  0.859667                   0.70                    0.20   \n",
       "2                  0.969333                   0.42                    0.40   \n",
       "3                  0.958000                   0.60                    0.12   \n",
       "4                  0.972333                   0.70                    0.16   \n",
       "\n",
       "   last50games_draw_per_y  last50games_gd_avg_y  last50games_opp_cc_per_y  \n",
       "0                    0.28                  0.52                    0.8560  \n",
       "1                    0.10                  0.90                    0.8616  \n",
       "2                    0.18                  0.20                    0.9692  \n",
       "3                    0.28                  1.10                    0.9654  \n",
       "4                    0.14                  1.50                    0.9686  \n",
       "\n",
       "[5 rows x 32 columns]"
      ]
     },
     "execution_count": 48,
     "metadata": {},
     "output_type": "execute_result"
    }
   ],
   "source": [
    "# get latest record for each team\n",
    "temp_x = match_features.loc[match_features.groupby('team1').date.idxmax(),:]\n",
    "temp_x.drop(['match_id','date','team2','year','qualifier','finaltourn','outcome',\n",
    "             'last10games_win_per_y','last10games_loss_per_y', 'last10games_draw_per_y',\n",
    "             'last10games_gd_avg_y', 'last10games_opp_cc_per_y',\n",
    "             'last30games_win_per_y', 'last30games_loss_per_y',\n",
    "             'last30games_draw_per_y', 'last30games_gd_avg_y',\n",
    "             'last30games_opp_cc_per_y', 'last50games_win_per_y',\n",
    "             'last50games_loss_per_y', 'last50games_draw_per_y',\n",
    "             'last50games_gd_avg_y', 'last50games_opp_cc_per_y'],axis=1,inplace=True)\n",
    "\n",
    "temp_y = match_features.loc[match_features.groupby('team2').date.idxmax(),:]\n",
    "temp_y.drop(['match_id','date','team1','year','qualifier','finaltourn','outcome',\n",
    "             'last10games_win_per_x','last10games_loss_per_x', 'last10games_draw_per_x',\n",
    "             'last10games_gd_avg_x', 'last10games_opp_cc_per_x',\n",
    "             'last30games_win_per_x', 'last30games_loss_per_x',\n",
    "             'last30games_draw_per_x', 'last30games_gd_avg_x',\n",
    "             'last30games_opp_cc_per_x', 'last50games_win_per_x',\n",
    "             'last50games_loss_per_x', 'last50games_draw_per_x',\n",
    "             'last50games_gd_avg_x', 'last50games_opp_cc_per_x'],axis=1,inplace=True)\n",
    "\n",
    "# join this with head to head encounters\n",
    "temp = pd.merge(head_to_head,temp_x,on='team1',how='left')\n",
    "pred_features = pd.merge(temp,temp_y,on='team2',how='left')\n",
    "pred_features['qualifier'] = False\n",
    "pred_features['finaltourn'] = True\n",
    "pred_features.drop(['team1','team2'],axis=1,inplace=True)\n",
    "pred_features = pred_features[X_test.columns]\n",
    "pred_features.head()"
   ]
  },
  {
   "cell_type": "code",
   "execution_count": 49,
   "metadata": {
    "colab": {
     "autoexec": {
      "startup": false,
      "wait_interval": 0
     }
    },
    "colab_type": "code",
    "id": "oNSc2Cls1TzK"
   },
   "outputs": [],
   "source": [
    "# we can then predict the goal difference for each of these match-ups\n",
    "# For a random forest, this is the mean of the underlying trees' predictions.\n",
    "pred_h2h = WC_rf.predict(pred_features)"
   ]
  },
  {
   "cell_type": "code",
   "execution_count": 50,
   "metadata": {
    "colab": {
     "autoexec": {
      "startup": false,
      "wait_interval": 0
     }
    },
    "colab_type": "code",
    "id": "sNo1aYhS1TzQ",
    "outputId": "7c1eabc9-f6aa-4341-b440-00c685a029fa"
   },
   "outputs": [
    {
     "data": {
      "text/html": [
       "<div>\n",
       "<style scoped>\n",
       "    .dataframe tbody tr th:only-of-type {\n",
       "        vertical-align: middle;\n",
       "    }\n",
       "\n",
       "    .dataframe tbody tr th {\n",
       "        vertical-align: top;\n",
       "    }\n",
       "\n",
       "    .dataframe thead th {\n",
       "        text-align: right;\n",
       "    }\n",
       "</style>\n",
       "<table border=\"1\" class=\"dataframe\">\n",
       "  <thead>\n",
       "    <tr style=\"text-align: right;\">\n",
       "      <th></th>\n",
       "      <th>team1</th>\n",
       "      <th>team2</th>\n",
       "      <th>outcome</th>\n",
       "      <th>sd</th>\n",
       "    </tr>\n",
       "  </thead>\n",
       "  <tbody>\n",
       "    <tr>\n",
       "      <th>491</th>\n",
       "      <td>POL</td>\n",
       "      <td>COL</td>\n",
       "      <td>0.590</td>\n",
       "      <td>1.428951</td>\n",
       "    </tr>\n",
       "    <tr>\n",
       "      <th>492</th>\n",
       "      <td>POL</td>\n",
       "      <td>JPN</td>\n",
       "      <td>0.600</td>\n",
       "      <td>1.479189</td>\n",
       "    </tr>\n",
       "    <tr>\n",
       "      <th>493</th>\n",
       "      <td>SEN</td>\n",
       "      <td>COL</td>\n",
       "      <td>0.486</td>\n",
       "      <td>1.561347</td>\n",
       "    </tr>\n",
       "    <tr>\n",
       "      <th>494</th>\n",
       "      <td>SEN</td>\n",
       "      <td>JPN</td>\n",
       "      <td>0.122</td>\n",
       "      <td>1.405388</td>\n",
       "    </tr>\n",
       "    <tr>\n",
       "      <th>495</th>\n",
       "      <td>COL</td>\n",
       "      <td>JPN</td>\n",
       "      <td>-0.596</td>\n",
       "      <td>1.438327</td>\n",
       "    </tr>\n",
       "  </tbody>\n",
       "</table>\n",
       "</div>"
      ],
      "text/plain": [
       "    team1 team2  outcome        sd\n",
       "491   POL   COL    0.590  1.428951\n",
       "492   POL   JPN    0.600  1.479189\n",
       "493   SEN   COL    0.486  1.561347\n",
       "494   SEN   JPN    0.122  1.405388\n",
       "495   COL   JPN   -0.596  1.438327"
      ]
     },
     "execution_count": 50,
     "metadata": {},
     "output_type": "execute_result"
    }
   ],
   "source": [
    "# In order to simulate, we want an indication of variance as well asexpected outcome,\n",
    "# so we need to get the predictions of the individual trees in the random forest.\n",
    "\n",
    "rf_mean = []\n",
    "rf_sd = []\n",
    "\n",
    "for h2h in range(pred_features.shape[0]):\n",
    "    features = pred_features.loc[h2h,:].values.reshape((1,pred_features.shape[1]))\n",
    "    per_tree_pred = [tree.predict(features) for tree in WC_rf.estimators_]\n",
    "    rf_mean.append(np.mean(per_tree_pred))\n",
    "    rf_sd.append(np.std(per_tree_pred))\n",
    "    \n",
    "head_to_head['outcome'] = rf_mean\n",
    "head_to_head['sd'] = rf_sd\n",
    "head_to_head.tail()"
   ]
  },
  {
   "cell_type": "markdown",
   "metadata": {
    "colab_type": "text",
    "id": "yYP8zrbg1TzS"
   },
   "source": [
    "Let's see what our model predicts if Argentina were to meet Brazil tomorrow."
   ]
  },
  {
   "cell_type": "code",
   "execution_count": 51,
   "metadata": {
    "colab": {
     "autoexec": {
      "startup": false,
      "wait_interval": 0
     }
    },
    "colab_type": "code",
    "id": "Tea_x2-q1TzS",
    "outputId": "be0a64f4-cb21-4af2-b9e2-56adee1261a1"
   },
   "outputs": [
    {
     "data": {
      "text/html": [
       "<div>\n",
       "<style scoped>\n",
       "    .dataframe tbody tr th:only-of-type {\n",
       "        vertical-align: middle;\n",
       "    }\n",
       "\n",
       "    .dataframe tbody tr th {\n",
       "        vertical-align: top;\n",
       "    }\n",
       "\n",
       "    .dataframe thead th {\n",
       "        text-align: right;\n",
       "    }\n",
       "</style>\n",
       "<table border=\"1\" class=\"dataframe\">\n",
       "  <thead>\n",
       "    <tr style=\"text-align: right;\">\n",
       "      <th></th>\n",
       "      <th>team1</th>\n",
       "      <th>team2</th>\n",
       "      <th>outcome</th>\n",
       "      <th>sd</th>\n",
       "    </tr>\n",
       "  </thead>\n",
       "  <tbody>\n",
       "    <tr>\n",
       "      <th>309</th>\n",
       "      <td>ARG</td>\n",
       "      <td>BRA</td>\n",
       "      <td>-1.636</td>\n",
       "      <td>1.765079</td>\n",
       "    </tr>\n",
       "  </tbody>\n",
       "</table>\n",
       "</div>"
      ],
      "text/plain": [
       "    team1 team2  outcome        sd\n",
       "309   ARG   BRA   -1.636  1.765079"
      ]
     },
     "execution_count": 51,
     "metadata": {},
     "output_type": "execute_result"
    }
   ],
   "source": [
    "temp = head_to_head[(head_to_head['team1'] == 'ARG') & (head_to_head['team2'] == 'BRA')]\n",
    "temp"
   ]
  },
  {
   "cell_type": "markdown",
   "metadata": {
    "colab_type": "text",
    "id": "o9rfpHC31TzU"
   },
   "source": [
    "This suggests that we'd expect Brazil to win, by a winning margin of about 1.6 goals on average. But the standard deviation of that outcome is 1.77 goals, which reflects the underlying uncertainty of the outcome of the match. If we impose the assumption of a normal distribution and a threshold of 0.5 goals for either team to win, with any outcome between -0.5 and 0.5 implying a draw, then we could simulate 100 games between the two teams and look at how many of each possible outcome we would expect to see."
   ]
  },
  {
   "cell_type": "code",
   "execution_count": 52,
   "metadata": {
    "colab": {
     "autoexec": {
      "startup": false,
      "wait_interval": 0
     }
    },
    "colab_type": "code",
    "id": "jmMCpT1J1TzU",
    "outputId": "855d19aa-ba59-4b90-d487-7d451a815ed2"
   },
   "outputs": [
    {
     "name": "stdout",
     "output_type": "stream",
     "text": [
      "ARG won 8 out of 100.\n",
      "BRA won 83 out of 100.\n",
      "There were 9 draws.\n"
     ]
    }
   ],
   "source": [
    "np.random.seed(4342)\n",
    "draw_threshold = 0.5\n",
    "\n",
    "temp2 = np.random.normal(loc=temp['outcome'],scale=temp['sd'],size=100)\n",
    "\n",
    "print('ARG won {} out of 100.'.format(sum(temp2>=draw_threshold)))\n",
    "print('BRA won {} out of 100.'.format(sum(temp2<=-draw_threshold)))\n",
    "print('There were {} draws.'.format(sum((temp2>-draw_threshold) & (temp2<draw_threshold))))"
   ]
  },
  {
   "cell_type": "code",
   "execution_count": 53,
   "metadata": {
    "colab": {
     "autoexec": {
      "startup": false,
      "wait_interval": 0
     }
    },
    "colab_type": "code",
    "id": "0yDomHWF1TzZ"
   },
   "outputs": [],
   "source": [
    "#save these parameters to a file for our simulation model to use\n",
    "head_to_head.to_csv('wc2018staticPredictions.csv',index=False)"
   ]
  },
  {
   "cell_type": "markdown",
   "metadata": {
    "colab_type": "text",
    "id": "jkrz7ZYB1Tzf"
   },
   "source": [
    "## Simulation model\n"
   ]
  },
  {
   "cell_type": "markdown",
   "metadata": {
    "colab_type": "text",
    "id": "ovRYDKCm1Tzg"
   },
   "source": [
    "OK, let's do some simulation now! The code below (written by Sorin) simulates the entire tournament 1000 times and records the tournament winner for each simulation."
   ]
  },
  {
   "cell_type": "code",
   "execution_count": 54,
   "metadata": {
    "colab": {
     "autoexec": {
      "startup": false,
      "wait_interval": 0
     }
    },
    "colab_type": "code",
    "id": "x-kYoGVX1Tzh"
   },
   "outputs": [],
   "source": [
    "# simulate the FIFA World cup 1000 times.\n",
    "\n",
    "np.random.seed(101)\n",
    "\n",
    "Match = namedtuple(\"Match\", ['gameId', 'date', 'time', 'team1', 'team2', 'group'])\n",
    "Prediction = namedtuple(\"Prediction\", ['team1', 'team2', 'outcome', 'sd'])\n",
    "Team = namedtuple(\"Team\", ['name', 'draw'])\n",
    "Result = namedtuple(\"Result\", ['match', 'team1Score', 'team2Score'])\n",
    "TeamResult = namedtuple(\"TeamResult\", ['name', 'opponent', 'group', 'gs', 'ga'])\n",
    "TeamRecord = namedtuple(\"TeamRecord\", ['name', 'group', 'p', 'gs', 'ga', 'defeated'])\n",
    "\n",
    "#Helper functions\n",
    "\n",
    "def loadCsv(filepath, itemtype):\n",
    "    with open(filepath, 'r') as csvfile:\n",
    "        reader = csv.DictReader(csvfile, delimiter=',')\n",
    "        return list(map(lambda row: itemtype(**row), reader))\n",
    "\n",
    "def getActualGroupMatch(match, teams):\n",
    "    return Match(gameId = match.gameId, date = match.date, time = match.time, group = match.group,\n",
    "        team1 = next(team.name for team in teams if team.draw == match.team1),\n",
    "        team2 = next(team.name for team in teams if team.draw == match.team2),       \n",
    "        )\n",
    "\n",
    "def getActualEliminationMatch(match, qualified):\n",
    "    return Match(gameId = match.gameId, date = match.date, time = match.time, group = match.group,\n",
    "        team1 = qualified[match.team1],\n",
    "        team2 = qualified[match.team2],\n",
    "        )\n",
    "\n",
    "def getResult(match, predictions):\n",
    "    allowtie = match.group != None \n",
    "    prediction = next(pred for pred in predictions \\\n",
    "        if (pred.team1 == match.team1 and pred.team2 == match.team2) or \\\n",
    "            (pred.team1 == match.team2 and pred.team2 == match.team1)) \n",
    "    reverse = prediction.team1 != match.team1\n",
    "    goaldiff = np.random.normal(float(prediction.outcome), float(prediction.sd))\n",
    "    reverse = reverse != (goaldiff < 0) \n",
    "    normgoaldiff = 0 if abs(goaldiff) <= draw_threshold \\\n",
    "        else 1 if abs(goaldiff) < 1 else round(abs(goaldiff))\n",
    "    if not(allowtie) and normgoaldiff == 0:\n",
    "        normgoaldiff = 1\n",
    "    losergoals = round(abs(np.random.normal(0, 1)))\n",
    "    return Result(match, losergoals, losergoals + normgoaldiff) if reverse \\\n",
    "        else Result(match, losergoals + normgoaldiff, losergoals)\n",
    "\n",
    "def getTeamPerfFromResult(result):\n",
    "    return [TeamResult(name=result.match.team1, opponent=result.match.team2, group=result.match.group, gs=result.team1Score, ga=result.team2Score),\n",
    "    TeamResult(name=result.match.team2, opponent=result.match.team1, group=result.match.group, gs=result.team2Score, ga=result.team1Score)]\n",
    "\n",
    "def getTeamRecord(name, teamResults):\n",
    "    points = w = d = gs = ga = 0\n",
    "    group = ''\n",
    "    defeated = []\n",
    "    for result in teamResults:\n",
    "        group = result.group\n",
    "        gs += result.gs\n",
    "        ga += result.ga\n",
    "        if result.gs > result.ga:\n",
    "            w += 1\n",
    "            defeated.append(result.opponent)\n",
    "        elif result.gs == result.ga:\n",
    "            d += 1\n",
    "    return TeamRecord(name=name, group=group, p=3*w+d, gs=gs, ga=ga, defeated=defeated)\n",
    "\n",
    "def runGroupStage(schedule, predictions, teams):\n",
    "    groupschedule = list(map(lambda x: getActualGroupMatch(x, teams), filter(lambda x: x.group != None, schedule)))\n",
    "    groupresults = list(map(lambda x: getResult(x, predictions), groupschedule))\n",
    "    groupperfs = list(chain.from_iterable(map(getTeamPerfFromResult, groupresults)))\n",
    "    records = []\n",
    "    for k, g in groupby(sorted(groupperfs, key=lambda x: x.name), key=lambda x: x.name):\n",
    "        records.append(getTeamRecord(k, g))\n",
    "    qualified = {}\n",
    "    for k, g in groupby(sorted(records, key=lambda x: x.group), key=lambda x: x.group):\n",
    "        grouptable = sorted(g, key=lambda x: 1000000*x.p + 10000*(x.gs-x.ga) + 100*(x.gs), reverse=True)\n",
    "        qualified['1' + k] = grouptable[0].name\n",
    "        qualified['2' + k] = grouptable[1].name\n",
    "    return qualified\n",
    "\n",
    "def runEliminationRound(round, prevround, schedule, predictions):\n",
    "    roundschedule = list(map(lambda x: getActualEliminationMatch(x, prevround), filter(lambda x: x.gameId.startswith('G'+round), schedule)))\n",
    "    roundresults = list(map(lambda x: getResult(x, predictions), roundschedule))\n",
    "    results = {}\n",
    "    for result in roundresults:\n",
    "        results['W' + result.match.gameId] = result.match.team1 if result.team1Score > result.team2Score \\\n",
    "            else result.match.team2\n",
    "        results['L' + result.match.gameId] = result.match.team1 if result.team1Score < result.team2Score \\\n",
    "            else result.match.team2\n",
    "    return results"
   ]
  },
  {
   "cell_type": "code",
   "execution_count": 55,
   "metadata": {},
   "outputs": [],
   "source": [
    "# Download data from Amazon RDS and save as CSV\n",
    "pd.read_sql_query(\"SELECT * FROM wc2018schedule\", con=conn).to_csv('wc2018schedule.csv', index=False)\n",
    "pd.read_sql_query(\"SELECT * FROM wc2018qualified\", con=conn).to_csv('wc2018qualified.csv', index=False)"
   ]
  },
  {
   "cell_type": "code",
   "execution_count": 56,
   "metadata": {
    "colab": {
     "autoexec": {
      "startup": false,
      "wait_interval": 0
     }
    },
    "colab_type": "code",
    "id": "x-kYoGVX1Tzh"
   },
   "outputs": [],
   "source": [
    "#main\n",
    "schedule = loadCsv('wc2018schedule.csv',Match)\n",
    "predictions = loadCsv('wc2018staticPredictions.csv', Prediction)\n",
    "teams = loadCsv('wc2018qualified.csv', Team)\n",
    "simresults = pd.DataFrame(columns=['iteration','winner'])\n",
    "\n",
    "for i in range(1000): \n",
    "    results = runGroupStage(schedule, predictions, teams)\n",
    "    for rnd in ['AF','QF','SF','FN']:\n",
    "        results = runEliminationRound(rnd, results, schedule, predictions)\n",
    "    simresults = simresults.append({'iteration':str(i+1),'winner':results['WGFN2']},ignore_index=True)\n",
    "\n",
    "simresults.to_csv('simresults.csv')"
   ]
  },
  {
   "cell_type": "code",
   "execution_count": 57,
   "metadata": {
    "colab": {
     "autoexec": {
      "startup": false,
      "wait_interval": 0
     }
    },
    "colab_type": "code",
    "id": "6V13r6IF1Tzj",
    "outputId": "b0f33a8b-8773-4ad4-eee3-9ea2acf016b3"
   },
   "outputs": [
    {
     "data": {
      "image/png": "[encoded data removed]",
      "text/plain": [
       "<Figure size 864x720 with 1 Axes>"
      ]
     },
     "metadata": {},
     "output_type": "display_data"
    }
   ],
   "source": [
    "# plot simulated winner distributions\n",
    "winsperteam = simresults.groupby('winner').count().reset_index()\n",
    "\n",
    "indices = np.argsort(winsperteam['iteration'])\n",
    "\n",
    "plt.figure(figsize=(12,10))\n",
    "plt.title('World Cup winners (1,000 simulations)')\n",
    "plt.barh(range(len(indices)), winsperteam['iteration'][indices], color='b', align='center')\n",
    "plt.yticks(range(len(indices)), winsperteam['winner'][indices])\n",
    "plt.xlabel('Number of simulated wins')\n",
    "plt.show()"
   ]
  },
  {
   "cell_type": "markdown",
   "metadata": {
    "colab_type": "text",
    "id": "U1HmT1aY1Tzl"
   },
   "source": [
    "So Germany are favourites according to our model, followed by Brazil, Spain and Portugal, which sounds sensible (bear in mind that this doesn't take into account any of the World Cup games so far- Germany's shock defeat to Mexico and Brazil's surprise draw with Switzerland might reasonably influence our model!). But there are some surprising results, such as Switzerland being seventh favourites. Let's have a quick peek at what's going on here, remembering that goal difference over the past 10 games is a dominant feature."
   ]
  },
  {
   "cell_type": "code",
   "execution_count": 58,
   "metadata": {
    "colab": {
     "autoexec": {
      "startup": false,
      "wait_interval": 0
     }
    },
    "colab_type": "code",
    "id": "yUwUT14I1Tzm",
    "outputId": "c3a509dd-aeba-4ea0-886f-7c476c7132e0"
   },
   "outputs": [
    {
     "data": {
      "text/html": [
       "<div>\n",
       "<style scoped>\n",
       "    .dataframe tbody tr th:only-of-type {\n",
       "        vertical-align: middle;\n",
       "    }\n",
       "\n",
       "    .dataframe tbody tr th {\n",
       "        vertical-align: top;\n",
       "    }\n",
       "\n",
       "    .dataframe thead th {\n",
       "        text-align: right;\n",
       "    }\n",
       "</style>\n",
       "<table border=\"1\" class=\"dataframe\">\n",
       "  <thead>\n",
       "    <tr style=\"text-align: right;\">\n",
       "      <th></th>\n",
       "      <th>match_id</th>\n",
       "      <th>team1</th>\n",
       "      <th>date</th>\n",
       "      <th>team2</th>\n",
       "      <th>year</th>\n",
       "      <th>qualifier</th>\n",
       "      <th>finaltourn</th>\n",
       "      <th>outcome</th>\n",
       "      <th>last10games_win_per_x</th>\n",
       "      <th>last10games_loss_per_x</th>\n",
       "      <th>last10games_draw_per_x</th>\n",
       "      <th>last10games_gd_avg_x</th>\n",
       "      <th>last10games_opp_cc_per_x</th>\n",
       "      <th>last30games_win_per_x</th>\n",
       "      <th>last30games_loss_per_x</th>\n",
       "      <th>...</th>\n",
       "      <th>last10games_win_per_y</th>\n",
       "      <th>last10games_loss_per_y</th>\n",
       "      <th>last10games_draw_per_y</th>\n",
       "      <th>last10games_gd_avg_y</th>\n",
       "      <th>last10games_opp_cc_per_y</th>\n",
       "      <th>last30games_win_per_y</th>\n",
       "      <th>last30games_loss_per_y</th>\n",
       "      <th>last30games_draw_per_y</th>\n",
       "      <th>last30games_gd_avg_y</th>\n",
       "      <th>last30games_opp_cc_per_y</th>\n",
       "      <th>last50games_win_per_y</th>\n",
       "      <th>last50games_loss_per_y</th>\n",
       "      <th>last50games_draw_per_y</th>\n",
       "      <th>last50games_gd_avg_y</th>\n",
       "      <th>last50games_opp_cc_per_y</th>\n",
       "    </tr>\n",
       "  </thead>\n",
       "  <tbody>\n",
       "    <tr>\n",
       "      <th>12556</th>\n",
       "      <td>11993</td>\n",
       "      <td>SUI</td>\n",
       "      <td>2014-07-01</td>\n",
       "      <td>ARG</td>\n",
       "      <td>2014</td>\n",
       "      <td>False</td>\n",
       "      <td>True</td>\n",
       "      <td>-1</td>\n",
       "      <td>0.6</td>\n",
       "      <td>0.2</td>\n",
       "      <td>0.2</td>\n",
       "      <td>0.5</td>\n",
       "      <td>0.978</td>\n",
       "      <td>0.533333</td>\n",
       "      <td>0.200000</td>\n",
       "      <td>...</td>\n",
       "      <td>0.6</td>\n",
       "      <td>0.1</td>\n",
       "      <td>0.3</td>\n",
       "      <td>0.8</td>\n",
       "      <td>0.968</td>\n",
       "      <td>0.633333</td>\n",
       "      <td>0.100000</td>\n",
       "      <td>0.266667</td>\n",
       "      <td>1.066667</td>\n",
       "      <td>0.968667</td>\n",
       "      <td>0.580000</td>\n",
       "      <td>0.180000</td>\n",
       "      <td>0.24000</td>\n",
       "      <td>0.720000</td>\n",
       "      <td>0.9718</td>\n",
       "    </tr>\n",
       "    <tr>\n",
       "      <th>12824</th>\n",
       "      <td>12509</td>\n",
       "      <td>FRA</td>\n",
       "      <td>2016-06-19</td>\n",
       "      <td>SUI</td>\n",
       "      <td>2016</td>\n",
       "      <td>False</td>\n",
       "      <td>True</td>\n",
       "      <td>0</td>\n",
       "      <td>0.6</td>\n",
       "      <td>0.2</td>\n",
       "      <td>0.2</td>\n",
       "      <td>1.1</td>\n",
       "      <td>0.963</td>\n",
       "      <td>0.500000</td>\n",
       "      <td>0.233333</td>\n",
       "      <td>...</td>\n",
       "      <td>0.6</td>\n",
       "      <td>0.2</td>\n",
       "      <td>0.2</td>\n",
       "      <td>0.5</td>\n",
       "      <td>0.978</td>\n",
       "      <td>0.533333</td>\n",
       "      <td>0.166667</td>\n",
       "      <td>0.300000</td>\n",
       "      <td>0.666667</td>\n",
       "      <td>0.967667</td>\n",
       "      <td>0.500000</td>\n",
       "      <td>0.200000</td>\n",
       "      <td>0.30000</td>\n",
       "      <td>0.600000</td>\n",
       "      <td>0.9710</td>\n",
       "    </tr>\n",
       "    <tr>\n",
       "      <th>12874</th>\n",
       "      <td>12610</td>\n",
       "      <td>POR</td>\n",
       "      <td>2016-09-06</td>\n",
       "      <td>SUI</td>\n",
       "      <td>2016</td>\n",
       "      <td>True</td>\n",
       "      <td>False</td>\n",
       "      <td>-2</td>\n",
       "      <td>0.5</td>\n",
       "      <td>0.2</td>\n",
       "      <td>0.3</td>\n",
       "      <td>0.1</td>\n",
       "      <td>0.963</td>\n",
       "      <td>0.533333</td>\n",
       "      <td>0.133333</td>\n",
       "      <td>...</td>\n",
       "      <td>0.5</td>\n",
       "      <td>0.2</td>\n",
       "      <td>0.3</td>\n",
       "      <td>0.4</td>\n",
       "      <td>0.978</td>\n",
       "      <td>0.500000</td>\n",
       "      <td>0.166667</td>\n",
       "      <td>0.333333</td>\n",
       "      <td>0.633333</td>\n",
       "      <td>0.967667</td>\n",
       "      <td>0.480000</td>\n",
       "      <td>0.200000</td>\n",
       "      <td>0.32000</td>\n",
       "      <td>0.580000</td>\n",
       "      <td>0.9710</td>\n",
       "    </tr>\n",
       "    <tr>\n",
       "      <th>12898</th>\n",
       "      <td>12658</td>\n",
       "      <td>SUI</td>\n",
       "      <td>2016-10-07</td>\n",
       "      <td>HUN</td>\n",
       "      <td>2016</td>\n",
       "      <td>True</td>\n",
       "      <td>False</td>\n",
       "      <td>1</td>\n",
       "      <td>0.5</td>\n",
       "      <td>0.2</td>\n",
       "      <td>0.3</td>\n",
       "      <td>0.4</td>\n",
       "      <td>0.978</td>\n",
       "      <td>0.500000</td>\n",
       "      <td>0.166667</td>\n",
       "      <td>...</td>\n",
       "      <td>0.3</td>\n",
       "      <td>0.4</td>\n",
       "      <td>0.3</td>\n",
       "      <td>-0.7</td>\n",
       "      <td>0.990</td>\n",
       "      <td>0.400000</td>\n",
       "      <td>0.366667</td>\n",
       "      <td>0.233333</td>\n",
       "      <td>0.033333</td>\n",
       "      <td>0.990000</td>\n",
       "      <td>0.420000</td>\n",
       "      <td>0.420000</td>\n",
       "      <td>0.16000</td>\n",
       "      <td>0.080000</td>\n",
       "      <td>0.9900</td>\n",
       "    </tr>\n",
       "    <tr>\n",
       "      <th>12916</th>\n",
       "      <td>12691</td>\n",
       "      <td>SUI</td>\n",
       "      <td>2016-10-10</td>\n",
       "      <td>AND</td>\n",
       "      <td>2016</td>\n",
       "      <td>True</td>\n",
       "      <td>False</td>\n",
       "      <td>1</td>\n",
       "      <td>0.5</td>\n",
       "      <td>0.2</td>\n",
       "      <td>0.3</td>\n",
       "      <td>0.4</td>\n",
       "      <td>0.977</td>\n",
       "      <td>0.500000</td>\n",
       "      <td>0.166667</td>\n",
       "      <td>...</td>\n",
       "      <td>0.0</td>\n",
       "      <td>1.0</td>\n",
       "      <td>0.0</td>\n",
       "      <td>-2.6</td>\n",
       "      <td>0.990</td>\n",
       "      <td>0.000000</td>\n",
       "      <td>0.933333</td>\n",
       "      <td>0.066667</td>\n",
       "      <td>-3.066667</td>\n",
       "      <td>0.990000</td>\n",
       "      <td>0.021277</td>\n",
       "      <td>0.914894</td>\n",
       "      <td>0.06383</td>\n",
       "      <td>-2.914894</td>\n",
       "      <td>0.9900</td>\n",
       "    </tr>\n",
       "    <tr>\n",
       "      <th>12945</th>\n",
       "      <td>12754</td>\n",
       "      <td>FRO</td>\n",
       "      <td>2016-11-13</td>\n",
       "      <td>SUI</td>\n",
       "      <td>2016</td>\n",
       "      <td>True</td>\n",
       "      <td>False</td>\n",
       "      <td>-2</td>\n",
       "      <td>0.1</td>\n",
       "      <td>0.7</td>\n",
       "      <td>0.2</td>\n",
       "      <td>-1.8</td>\n",
       "      <td>0.990</td>\n",
       "      <td>0.066667</td>\n",
       "      <td>0.833333</td>\n",
       "      <td>...</td>\n",
       "      <td>0.6</td>\n",
       "      <td>0.1</td>\n",
       "      <td>0.3</td>\n",
       "      <td>0.9</td>\n",
       "      <td>0.977</td>\n",
       "      <td>0.533333</td>\n",
       "      <td>0.166667</td>\n",
       "      <td>0.300000</td>\n",
       "      <td>0.633333</td>\n",
       "      <td>0.967667</td>\n",
       "      <td>0.520000</td>\n",
       "      <td>0.200000</td>\n",
       "      <td>0.28000</td>\n",
       "      <td>0.620000</td>\n",
       "      <td>0.9710</td>\n",
       "    </tr>\n",
       "    <tr>\n",
       "      <th>12987</th>\n",
       "      <td>12835</td>\n",
       "      <td>LVA</td>\n",
       "      <td>2017-03-25</td>\n",
       "      <td>SUI</td>\n",
       "      <td>2017</td>\n",
       "      <td>True</td>\n",
       "      <td>False</td>\n",
       "      <td>-1</td>\n",
       "      <td>0.2</td>\n",
       "      <td>0.7</td>\n",
       "      <td>0.1</td>\n",
       "      <td>-1.4</td>\n",
       "      <td>0.990</td>\n",
       "      <td>0.266667</td>\n",
       "      <td>0.566667</td>\n",
       "      <td>...</td>\n",
       "      <td>0.6</td>\n",
       "      <td>0.1</td>\n",
       "      <td>0.3</td>\n",
       "      <td>0.7</td>\n",
       "      <td>0.991</td>\n",
       "      <td>0.533333</td>\n",
       "      <td>0.166667</td>\n",
       "      <td>0.300000</td>\n",
       "      <td>0.566667</td>\n",
       "      <td>0.967667</td>\n",
       "      <td>0.540000</td>\n",
       "      <td>0.200000</td>\n",
       "      <td>0.26000</td>\n",
       "      <td>0.640000</td>\n",
       "      <td>0.9710</td>\n",
       "    </tr>\n",
       "    <tr>\n",
       "      <th>13013</th>\n",
       "      <td>12878</td>\n",
       "      <td>SUI</td>\n",
       "      <td>2017-06-09</td>\n",
       "      <td>FRO</td>\n",
       "      <td>2017</td>\n",
       "      <td>True</td>\n",
       "      <td>False</td>\n",
       "      <td>2</td>\n",
       "      <td>0.7</td>\n",
       "      <td>0.0</td>\n",
       "      <td>0.3</td>\n",
       "      <td>1.0</td>\n",
       "      <td>0.990</td>\n",
       "      <td>0.566667</td>\n",
       "      <td>0.166667</td>\n",
       "      <td>...</td>\n",
       "      <td>0.1</td>\n",
       "      <td>0.6</td>\n",
       "      <td>0.3</td>\n",
       "      <td>-1.5</td>\n",
       "      <td>0.990</td>\n",
       "      <td>0.066667</td>\n",
       "      <td>0.800000</td>\n",
       "      <td>0.133333</td>\n",
       "      <td>-1.900000</td>\n",
       "      <td>0.990000</td>\n",
       "      <td>0.100000</td>\n",
       "      <td>0.780000</td>\n",
       "      <td>0.12000</td>\n",
       "      <td>-1.860000</td>\n",
       "      <td>0.9904</td>\n",
       "    </tr>\n",
       "    <tr>\n",
       "      <th>13117</th>\n",
       "      <td>13092</td>\n",
       "      <td>HUN</td>\n",
       "      <td>2017-10-07</td>\n",
       "      <td>SUI</td>\n",
       "      <td>2017</td>\n",
       "      <td>True</td>\n",
       "      <td>False</td>\n",
       "      <td>-3</td>\n",
       "      <td>0.3</td>\n",
       "      <td>0.6</td>\n",
       "      <td>0.1</td>\n",
       "      <td>-0.5</td>\n",
       "      <td>0.990</td>\n",
       "      <td>0.433333</td>\n",
       "      <td>0.400000</td>\n",
       "      <td>...</td>\n",
       "      <td>0.9</td>\n",
       "      <td>0.0</td>\n",
       "      <td>0.1</td>\n",
       "      <td>1.8</td>\n",
       "      <td>0.990</td>\n",
       "      <td>0.633333</td>\n",
       "      <td>0.133333</td>\n",
       "      <td>0.233333</td>\n",
       "      <td>0.933333</td>\n",
       "      <td>0.972000</td>\n",
       "      <td>0.580000</td>\n",
       "      <td>0.180000</td>\n",
       "      <td>0.24000</td>\n",
       "      <td>0.820000</td>\n",
       "      <td>0.9738</td>\n",
       "    </tr>\n",
       "    <tr>\n",
       "      <th>13128</th>\n",
       "      <td>13113</td>\n",
       "      <td>SUI</td>\n",
       "      <td>2017-10-10</td>\n",
       "      <td>POR</td>\n",
       "      <td>2017</td>\n",
       "      <td>True</td>\n",
       "      <td>False</td>\n",
       "      <td>-2</td>\n",
       "      <td>0.9</td>\n",
       "      <td>0.1</td>\n",
       "      <td>0.0</td>\n",
       "      <td>1.6</td>\n",
       "      <td>0.990</td>\n",
       "      <td>0.633333</td>\n",
       "      <td>0.166667</td>\n",
       "      <td>...</td>\n",
       "      <td>0.8</td>\n",
       "      <td>0.0</td>\n",
       "      <td>0.2</td>\n",
       "      <td>1.8</td>\n",
       "      <td>0.949</td>\n",
       "      <td>0.633333</td>\n",
       "      <td>0.100000</td>\n",
       "      <td>0.266667</td>\n",
       "      <td>1.166667</td>\n",
       "      <td>0.958000</td>\n",
       "      <td>0.600000</td>\n",
       "      <td>0.120000</td>\n",
       "      <td>0.28000</td>\n",
       "      <td>1.100000</td>\n",
       "      <td>0.9654</td>\n",
       "    </tr>\n",
       "  </tbody>\n",
       "</table>\n",
       "<p>10 rows × 38 columns</p>\n",
       "</div>"
      ],
      "text/plain": [
       "       match_id team1       date team2  year  qualifier  finaltourn  outcome  \\\n",
       "12556     11993   SUI 2014-07-01   ARG  2014      False        True       -1   \n",
       "12824     12509   FRA 2016-06-19   SUI  2016      False        True        0   \n",
       "12874     12610   POR 2016-09-06   SUI  2016       True       False       -2   \n",
       "12898     12658   SUI 2016-10-07   HUN  2016       True       False        1   \n",
       "12916     12691   SUI 2016-10-10   AND  2016       True       False        1   \n",
       "12945     12754   FRO 2016-11-13   SUI  2016       True       False       -2   \n",
       "12987     12835   LVA 2017-03-25   SUI  2017       True       False       -1   \n",
       "13013     12878   SUI 2017-06-09   FRO  2017       True       False        2   \n",
       "13117     13092   HUN 2017-10-07   SUI  2017       True       False       -3   \n",
       "13128     13113   SUI 2017-10-10   POR  2017       True       False       -2   \n",
       "\n",
       "       last10games_win_per_x  last10games_loss_per_x  last10games_draw_per_x  \\\n",
       "12556                    0.6                     0.2                     0.2   \n",
       "12824                    0.6                     0.2                     0.2   \n",
       "12874                    0.5                     0.2                     0.3   \n",
       "12898                    0.5                     0.2                     0.3   \n",
       "12916                    0.5                     0.2                     0.3   \n",
       "12945                    0.1                     0.7                     0.2   \n",
       "12987                    0.2                     0.7                     0.1   \n",
       "13013                    0.7                     0.0                     0.3   \n",
       "13117                    0.3                     0.6                     0.1   \n",
       "13128                    0.9                     0.1                     0.0   \n",
       "\n",
       "       last10games_gd_avg_x  last10games_opp_cc_per_x  last30games_win_per_x  \\\n",
       "12556                   0.5                     0.978               0.533333   \n",
       "12824                   1.1                     0.963               0.500000   \n",
       "12874                   0.1                     0.963               0.533333   \n",
       "12898                   0.4                     0.978               0.500000   \n",
       "12916                   0.4                     0.977               0.500000   \n",
       "12945                  -1.8                     0.990               0.066667   \n",
       "12987                  -1.4                     0.990               0.266667   \n",
       "13013                   1.0                     0.990               0.566667   \n",
       "13117                  -0.5                     0.990               0.433333   \n",
       "13128                   1.6                     0.990               0.633333   \n",
       "\n",
       "       last30games_loss_per_x            ...             \\\n",
       "12556                0.200000            ...              \n",
       "12824                0.233333            ...              \n",
       "12874                0.133333            ...              \n",
       "12898                0.166667            ...              \n",
       "12916                0.166667            ...              \n",
       "12945                0.833333            ...              \n",
       "12987                0.566667            ...              \n",
       "13013                0.166667            ...              \n",
       "13117                0.400000            ...              \n",
       "13128                0.166667            ...              \n",
       "\n",
       "       last10games_win_per_y  last10games_loss_per_y  last10games_draw_per_y  \\\n",
       "12556                    0.6                     0.1                     0.3   \n",
       "12824                    0.6                     0.2                     0.2   \n",
       "12874                    0.5                     0.2                     0.3   \n",
       "12898                    0.3                     0.4                     0.3   \n",
       "12916                    0.0                     1.0                     0.0   \n",
       "12945                    0.6                     0.1                     0.3   \n",
       "12987                    0.6                     0.1                     0.3   \n",
       "13013                    0.1                     0.6                     0.3   \n",
       "13117                    0.9                     0.0                     0.1   \n",
       "13128                    0.8                     0.0                     0.2   \n",
       "\n",
       "       last10games_gd_avg_y  last10games_opp_cc_per_y  last30games_win_per_y  \\\n",
       "12556                   0.8                     0.968               0.633333   \n",
       "12824                   0.5                     0.978               0.533333   \n",
       "12874                   0.4                     0.978               0.500000   \n",
       "12898                  -0.7                     0.990               0.400000   \n",
       "12916                  -2.6                     0.990               0.000000   \n",
       "12945                   0.9                     0.977               0.533333   \n",
       "12987                   0.7                     0.991               0.533333   \n",
       "13013                  -1.5                     0.990               0.066667   \n",
       "13117                   1.8                     0.990               0.633333   \n",
       "13128                   1.8                     0.949               0.633333   \n",
       "\n",
       "       last30games_loss_per_y  last30games_draw_per_y  last30games_gd_avg_y  \\\n",
       "12556                0.100000                0.266667              1.066667   \n",
       "12824                0.166667                0.300000              0.666667   \n",
       "12874                0.166667                0.333333              0.633333   \n",
       "12898                0.366667                0.233333              0.033333   \n",
       "12916                0.933333                0.066667             -3.066667   \n",
       "12945                0.166667                0.300000              0.633333   \n",
       "12987                0.166667                0.300000              0.566667   \n",
       "13013                0.800000                0.133333             -1.900000   \n",
       "13117                0.133333                0.233333              0.933333   \n",
       "13128                0.100000                0.266667              1.166667   \n",
       "\n",
       "       last30games_opp_cc_per_y  last50games_win_per_y  \\\n",
       "12556                  0.968667               0.580000   \n",
       "12824                  0.967667               0.500000   \n",
       "12874                  0.967667               0.480000   \n",
       "12898                  0.990000               0.420000   \n",
       "12916                  0.990000               0.021277   \n",
       "12945                  0.967667               0.520000   \n",
       "12987                  0.967667               0.540000   \n",
       "13013                  0.990000               0.100000   \n",
       "13117                  0.972000               0.580000   \n",
       "13128                  0.958000               0.600000   \n",
       "\n",
       "       last50games_loss_per_y  last50games_draw_per_y  last50games_gd_avg_y  \\\n",
       "12556                0.180000                 0.24000              0.720000   \n",
       "12824                0.200000                 0.30000              0.600000   \n",
       "12874                0.200000                 0.32000              0.580000   \n",
       "12898                0.420000                 0.16000              0.080000   \n",
       "12916                0.914894                 0.06383             -2.914894   \n",
       "12945                0.200000                 0.28000              0.620000   \n",
       "12987                0.200000                 0.26000              0.640000   \n",
       "13013                0.780000                 0.12000             -1.860000   \n",
       "13117                0.180000                 0.24000              0.820000   \n",
       "13128                0.120000                 0.28000              1.100000   \n",
       "\n",
       "       last50games_opp_cc_per_y  \n",
       "12556                    0.9718  \n",
       "12824                    0.9710  \n",
       "12874                    0.9710  \n",
       "12898                    0.9900  \n",
       "12916                    0.9900  \n",
       "12945                    0.9710  \n",
       "12987                    0.9710  \n",
       "13013                    0.9904  \n",
       "13117                    0.9738  \n",
       "13128                    0.9654  \n",
       "\n",
       "[10 rows x 38 columns]"
      ]
     },
     "execution_count": 58,
     "metadata": {},
     "output_type": "execute_result"
    }
   ],
   "source": [
    "match_features[(match_features['team1']=='SUI') | (match_features['team2']=='SUI')].tail(10)"
   ]
  },
  {
   "cell_type": "markdown",
   "metadata": {
    "colab_type": "text",
    "id": "tvoAmV0h1Tzo"
   },
   "source": [
    "Switzerland have won by an average of 1.4 goals per game in the 10 leading up to the World Cup. So their high ranking in our model makes sense in terms of the features, but this prompts some issues for us to think about in improving this model going forward:\n",
    "\n",
    "* we should really look at models other than random forests and see what performs best.\n",
    "\n",
    "* our 10, 30 and 50 game histories were somewhat arbitrarily chosen- are those the best representation of short-, medium- and long-termt form?\n",
    "\n",
    "* what other features might be useful?\n",
    "\n",
    "* most prominently given the outcome of this model, should we try to correct for strength of opposition in a more granular way than simply applying the confederation adjustment factor? Switzerland's last 10 games were mostly against European (EUFA) opponents, but some of them were weak teams like Northern Ireland, Andorra and Albania. The confederation adjustment might work well for longer histories, but the average quality of opposition over just 10 games might vary considerably even within the same. So what else could we do? Maybe work in FIFA rankings of opponents (although that data might be hard to collect for older games)?\n",
    "\n",
    "* could we bring in information about the strength of the team selected on the day? Again, that data might be hard to collect, but we need to think about how we will allow in our predictions for additional useful information such as the injury, suspension or goal-scoring form of key players.\n",
    "\n",
    "But at least we have a start on our World Cup modelling!"
   ]
  }
 ],
 "metadata": {
  "colab": {
   "default_view": {},
   "name": "World_Cup_prediction_final_reviewed.ipynb",
   "provenance": [],
   "version": "0.3.2",
   "views": {}
  },
  "kernelspec": {
   "display_name": "Python 3",
   "language": "python",
   "name": "python3"
  },
  "language_info": {
   "codemirror_mode": {
    "name": "ipython",
    "version": 3
   },
   "file_extension": ".py",
   "mimetype": "text/x-python",
   "name": "python",
   "nbconvert_exporter": "python",
   "pygments_lexer": "ipython3",
   "version": "3.6.5"
  }
 },
 "nbformat": 4,
 "nbformat_minor": 2
}
