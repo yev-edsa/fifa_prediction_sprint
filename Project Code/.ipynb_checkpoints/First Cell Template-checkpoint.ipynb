{
 "cells": [
  {
   "cell_type": "markdown",
   "metadata": {},
   "source": [
    "# FIFA World Cup - Template for first cell of Notebook (i.e. Approach)"
   ]
  },
  {
   "cell_type": "markdown",
   "metadata": {},
   "source": [
    "### Basis of Predictions\n",
    "\n",
    "A brief description of the prediction process. Did you use:\n",
    "\n",
    "* Model results for prediction, \n",
    "* Other approaches (e.g. bookie odds) \n",
    "* A combination of the two. \n",
    "\n",
    "If you used a combination or just another approach, please indicate what other method was used and which games it was used for.\n",
    "\n",
    "### Data Used\n",
    "\n",
    "A brief description of the data used in the notebook, including the features and labels. \n",
    "\n",
    "### Models\n",
    "\n",
    "A brief description of the model(s) used for final predictions. Also include the other models that were tested in the notebook.\n",
    "\n",
    "### Model Results\n",
    "\n",
    "An overview of your model results on the training and validation sets.\n",
    "\n",
    "\n",
    "### Additional Info\n",
    "\n",
    "Any additional things you may want to add."
   ]
  }
 ],
 "metadata": {
  "kernelspec": {
   "display_name": "Python 3",
   "language": "python",
   "name": "python3"
  },
  "language_info": {
   "codemirror_mode": {
    "name": "ipython",
    "version": 3
   },
   "file_extension": ".py",
   "mimetype": "text/x-python",
   "name": "python",
   "nbconvert_exporter": "python",
   "pygments_lexer": "ipython3",
   "version": "3.6.5"
  }
 },
 "nbformat": 4,
 "nbformat_minor": 2
}
