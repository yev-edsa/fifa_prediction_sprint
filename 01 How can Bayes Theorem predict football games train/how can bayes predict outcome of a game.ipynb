{
 "cells": [
  {
   "cell_type": "markdown",
   "metadata": {
    "colab_type": "text",
    "id": "WPY2EqaAbtFw"
   },
   "source": [
    "# How can Bayes' Theorem predict football games?\n",
    "\n",
    "In this tutorial we will be showing examples of Bayesian thinking applied to the game of football. Each example will become a little more complex, building to using actual data from bookmakers' odds to build a prediction of the outcome of any given game. We also show how in some instances, one could arrive at the same result through direct estimation from the data, showing the equivalence of Bayesian and frequentist approaches to probability given complete information. However, Bayes' Theorem is an incredibly useful way of estimating conditional probabilities when it is not possible to do so directly, so is a powerful tool to master."
   ]
  },
  {
   "cell_type": "markdown",
   "metadata": {
    "colab_type": "text",
    "id": "uuAfGPSQbtFy"
   },
   "source": [
    "## [Bayes' Theorem](https://en.wikipedia.org/wiki/Bayes%27_theorem)"
   ]
  },
  {
   "cell_type": "markdown",
   "metadata": {
    "colab_type": "text",
    "id": "rR5ZD-l5btFy"
   },
   "source": [
    "The [Wikipedia page on Bayes' Theorem](https://en.wikipedia.org/wiki/Bayes%27_theorem) describes it as follows:\n",
    "\n",
    "In probability theory and statistics, Bayes’ theorem (alternatively Bayes’ law or Bayes' rule) describes the probability of an event, based on prior knowledge of conditions that might be related to the event. \n",
    "\n",
    "One of the many applications of Bayes' theorem is Bayesian inference, a particular approach to statistical inference. When applied, the probabilities involved in Bayes' theorem may have different probability interpretations. With the Bayesian probability interpretation the theorem expresses how a subjective degree of belief should rationally change to account for availability of related evidence. Bayesian inference is fundamental to Bayesian statistics.\n",
    "\n",
    "Bayes’ theorem is named after [Reverend Thomas Bayes](https://en.wikipedia.org/wiki/Thomas_Bayes) (1701–1761), who first provided an equation that allows new evidence to update beliefs in his An Essay towards solving a Problem in the Doctrine of Chances (1763). It was further developed by Pierre-Simon Laplace, who first published the modern formulation in his 1812 \"Théorie analytique des probabilités\". Sir Harold Jeffreys put Bayes’ algorithm and Laplace's formulation on an axiomatic basis. Jeffreys wrote that Bayes' theorem \"is to the theory of probability what the Pythagorean theorem is to geometry\".\n",
    "\n",
    "![Thomas Bayes](https://upload.wikimedia.org/wikipedia/commons/d/d4/Thomas_Bayes.gif)"
   ]
  },
  {
   "cell_type": "markdown",
   "metadata": {
    "colab_type": "text",
    "id": "Zs8nkgfGbtFz"
   },
   "source": [
    "Here is his, seemingly simple, formula again:"
   ]
  },
  {
   "cell_type": "markdown",
   "metadata": {
    "colab_type": "text",
    "id": "pOpLxxbObtFz"
   },
   "source": [
    "$$ P(A|B) = \\frac{P(B|A)P(A)}{P(B)} $$"
   ]
  },
  {
   "cell_type": "markdown",
   "metadata": {
    "colab_type": "text",
    "id": "Z5eTe5DnbtF0"
   },
   "source": [
    "or, again, with a slightly more intuitive breakdown:"
   ]
  },
  {
   "cell_type": "markdown",
   "metadata": {
    "colab_type": "text",
    "id": "NhDnnn-XbtF1"
   },
   "source": [
    "$$ P(A|B) = \\frac{P(B|A)P(A)}{P(B|A)P(A) + P(B|A')P(A')}$$\n",
    "\n",
    "where $A'$ is \"not A\", the event of A not occurring. Note how the denomiator, the probability of B occurring, $P(B)$, breaks down logically into the sum of the probability of B occurring given that A occurs multiplied by the probability of A occurring, and the probability of B occurring given that A does not occur multiplied by the probability of A not occurring."
   ]
  },
  {
   "cell_type": "markdown",
   "metadata": {
    "colab_type": "text",
    "id": "dUkGerP9btF1"
   },
   "source": [
    "The following main concepts are covered in this notebook: \n",
    "\n",
    "- Examples illustrating the practical use of Bayes' Theorem.\n",
    "- Connecting in to an SQL database, query the relevant tables/fields.\n",
    "- Example of utilizing Bayes with the FIFA database."
   ]
  },
  {
   "cell_type": "markdown",
   "metadata": {},
   "source": [
    "## The Monty Hall problem"
   ]
  },
  {
   "cell_type": "markdown",
   "metadata": {},
   "source": [
    "A classic example in which Bayes' Theorem can be used to guide us to the correct strategy is the [Monty Hall problem](https://en.wikipedia.org/wiki/Monty_Hall_problem). Imagine that you are taking part in a TV game show; there are three doors, two of which conceal a goat and the other a car. You are asked to guess which door hides the car. After you guess, however, the host opens one of the other doors to reveal a goat, and you are then faced with the choice to either stick with your original pick or to switch to the other unrevealed door. What is the correct strategy?"
   ]
  },
  {
   "cell_type": "markdown",
   "metadata": {},
   "source": [
    "Our intuition is not a perfect guide to this kind of problem, so let's apply Bayes. Let's say you picked door 3, and Monty Hall opens door 1 to reveal a goat. Should you stick with 3, or switch to 2?\n",
    "\n",
    "Let $X_A$ be the event of the car being behind door $A$ and $Y_Z$ be the event of Monty opening door $Z$. The prior probabilities $P(X_1) = P(X_2) = P(X_3) = \\frac{1}{3}$. What we're interested in is $P(X_2|Y_1)$ and $P(X_3|Y_1)$ (clearly $P(X_1|Y_1) = 0$, since the door-opening reveals that there is a goat behind door 1. Applying Bayes' Theorem and starting with our current choice:\n",
    "\n",
    "$$P(X_3|Y_1) = \\frac{P(Y_1|X_3)P(X_3)}{P(Y_1|X_1)P(X_1)+P(Y_1|X_2)P(X_2)+P(Y_1|X_3)P(X_3)} = \\frac{0.5(1/3)}{0+1(1/3)+0.5(1/3)} = \\frac{1}{3}.$$\n",
    "\n",
    "The key to understanding this is to recognise that if the car is behind door 2 and we've chosen door 3, Monty must open door 1; it's his only option to reveal a goat. So $P(Y_1|X_2) = 1$ in this case. By definition, since $X_1, X_2$ and $X_3$ are the only possible outcomes, and since $P(X_1|Y_1) = 0$ and $P(X_3|Y_1) = \\frac{1}{3}$, then $P(X_2|Y_1)$ must be equal to $\\frac{2}{3}$. Or you could go ahead and calculate that by Bayes directly (go and do this as an exercise).\n",
    "\n",
    "It is clear that Bayes' Theorem would advise us to double our chances of winning by switching our choice from door 3 to door 2."
   ]
  },
  {
   "cell_type": "markdown",
   "metadata": {
    "colab_type": "text",
    "id": "1oZwfhJkbtF2"
   },
   "source": [
    "##  Example 1: Rain-affected matches"
   ]
  },
  {
   "cell_type": "markdown",
   "metadata": {
    "colab_type": "text",
    "id": "4WHe0YSfbtF2"
   },
   "source": [
    "Suppose, out of all the 24 matches between Kaizer Chiefs and Orlando Pirates, Chiefs won 16 times while Pirates managed only to win only 8. So, if you were to bet on the winner of the next match between these two sides, which team would it be?"
   ]
  },
  {
   "cell_type": "markdown",
   "metadata": {
    "colab_type": "text",
    "id": "DSjaZ41tbtF3"
   },
   "source": [
    "I bet you would say Kaizer Chiefs, and if you had no other information to guide your decision and believed that past experience was representative of the true underlying probability, you would say that this is likely to occur with probability two-thirds."
   ]
  },
  {
   "cell_type": "markdown",
   "metadata": {
    "colab_type": "text",
    "id": "VSsVLy86btF3"
   },
   "source": [
    "Now here is a twist: What if you are told that it rained five times when Chiefs won and five times when Pirates won? Suppose I also told you that it will rain on their next match. "
   ]
  },
  {
   "cell_type": "markdown",
   "metadata": {
    "colab_type": "text",
    "id": "jzNmZL6obtF4"
   },
   "source": [
    "So, who would you bet your money on now? "
   ]
  },
  {
   "cell_type": "markdown",
   "metadata": {
    "colab_type": "text",
    "id": "O-fC4HklbtF5"
   },
   "source": [
    "By intuition, it is easy to see that chances of winning for Pirates have increased. But the question is: by how much?  Let's use Bayes' Theorem to figure it out!\n",
    "* Let A be the event of \"match played in rain\"\n",
    "* Let B be the event of \"Pirates winning\"\n"
   ]
  },
  {
   "cell_type": "code",
   "execution_count": 1,
   "metadata": {
    "colab": {
     "autoexec": {
      "startup": false,
      "wait_interval": 0
     }
    },
    "colab_type": "code",
    "id": "V2WlT29_btF6"
   },
   "outputs": [
    {
     "name": "stdout",
     "output_type": "stream",
     "text": [
      "Chances of Orlando Pirates winning (given rain): 0.500\n"
     ]
    }
   ],
   "source": [
    "P_A = 10/24                               # chance of rain - it rained 10 times out of 24 matches.\n",
    "P_B = 8/24                               # chance of Pirates winning (prior)\n",
    "P_A_given_B = 5/8                       # chance of rain given Pirates winning\n",
    "P_B_given_A = (P_A_given_B*P_B) / P_A   # posterior - chances of Pirates wining (given rain) \n",
    "print('Chances of Orlando Pirates winning (given rain): {:0.3f}'.format(P_B_given_A))"
   ]
  },
  {
   "cell_type": "markdown",
   "metadata": {
    "colab_type": "text",
    "id": "vsFr9VdFbtF8"
   },
   "source": [
    "So the chances of Pirates winning have increased from 20% to 50% with this new piece of information!\n",
    "\n",
    "We could of course have got here directly by noting that Pirates win 50% (one out of two) of matches played in rain."
   ]
  },
  {
   "cell_type": "markdown",
   "metadata": {
    "colab_type": "text",
    "id": "eiFLU3-pbtF9"
   },
   "source": [
    "## Example 2: Home and away matches\n",
    "We can apply Bayes' Theorem  by splitting the stats for games played home/away:\n",
    "* as above, out of all the matches between Chiefs and Pirates, Chiefs have won 16 while Pirates have won 8 times.\n",
    "* you are told that during Chiefs' home games they won 8 games and Pirates won 3 games. \n",
    "\n",
    "Can you predict the probability of Pirates winning given it is a home game for them?\n",
    "\n",
    "\n",
    "#### Priors \n",
    "* P(A) = Probability of a game being a Pirates home game = (n home games)/(n games) = (24 - 11)/(16 + 8) = 13 / 24\n",
    "* P(B) = Probability of Pirates winning (out of all matches)  = (N_wins/N_games) = 8/(16+8) = 8 / 24\n",
    "* P(A|B) = Given Pirates won, what is the probability of a game being a home game ?  =(n_win_home/N_win) =(8-3) / (24 - 11) = 5 / 13\n",
    "\n",
    "\n",
    "#### Posterior\n",
    "\n",
    "we would like to calculate the probability of Pirates winning during a home game\n",
    "* P(B|A) = posterior (prediction) \n",
    "* P(B|A) = P(A|B) * P(B) / P(A)   \n",
    "\n",
    "#### Let's plug in the numbers\n",
    "\n"
   ]
  },
  {
   "cell_type": "code",
   "execution_count": 83,
   "metadata": {
    "colab": {
     "autoexec": {
      "startup": false,
      "wait_interval": 0
     }
    },
    "colab_type": "code",
    "id": "lVtFE1sibtF9"
   },
   "outputs": [
    {
     "name": "stdout",
     "output_type": "stream",
     "text": [
      "Probability for Pirates winning: 0.33\n",
      "Probability for Pirates winning at home: 0.38\n"
     ]
    }
   ],
   "source": [
    "P_A =  13.0/24.0                                           # pirates are at home\n",
    "P_B =  8.0/24.0                                            # pirates win\n",
    "P_A_B = 5.0/8.0                                            # pirates are at home given they win\n",
    "P_B_A = P_A_B*P_B/P_A                                      # pirates win given they are at homw\n",
    "print('Probability for Pirates winning: {:0.2f}'.format(P_B))\n",
    "print('Probability for Pirates winning at home: {:0.2f}'.format(P_B_A))"
   ]
  },
  {
   "cell_type": "markdown",
   "metadata": {
    "colab_type": "text",
    "id": "YYOz5irCbtF_"
   },
   "source": [
    "Again, this new piece of information changed our beliefs on the outcome of the game in Pirates' favour. And again, we could have got there directly by noting that Pirates won 5 of their 13 home games."
   ]
  },
  {
   "cell_type": "markdown",
   "metadata": {
    "colab_type": "text",
    "id": "9u0KPKf2btGA"
   },
   "source": [
    "## Example 3: Home and away matches - FOR REAL\n",
    "\n",
    "Let's try the same problem with (team1,team2) using the [European Soccer Database](https://www.kaggle.com/sashchernuh/european-football/data) hosted on Kaggle.\n",
    "\n",
    "Steps required:\n",
    "* connect to SQL DB;\n",
    "* query the match history table;\n",
    "* get all matches between team1 and team2, collect win/loss home/away info; and\n",
    "* calculate probabilities for win/loss at home and away using Bayes' Theorem.\n",
    "\n"
   ]
  },
  {
   "cell_type": "code",
   "execution_count": 84,
   "metadata": {},
   "outputs": [
    {
     "name": "stdout",
     "output_type": "stream",
     "text": [
      "Requirement already satisfied: psycopg2 in /Users/dave/anaconda/lib/python3.6/site-packages (2.7.4)\n"
     ]
    }
   ],
   "source": [
    "!pip install psycopg2"
   ]
  },
  {
   "cell_type": "code",
   "execution_count": 85,
   "metadata": {
    "colab": {
     "autoexec": {
      "startup": false,
      "wait_interval": 0
     }
    },
    "colab_type": "code",
    "id": "_Dbk1TRhbtGB"
   },
   "outputs": [],
   "source": [
    "# import libraries\n",
    "from sqlalchemy import create_engine\n",
    "import psycopg2\n",
    "import sqlite3\n",
    "import pandas as pd\n",
    "import numpy as np\n",
    "import matplotlib.pyplot as plt\n",
    "import seaborn as sns\n",
    "\n",
    "%matplotlib inline"
   ]
  },
  {
   "cell_type": "code",
   "execution_count": 86,
   "metadata": {},
   "outputs": [
    {
     "name": "stdout",
     "output_type": "stream",
     "text": [
      "host='edsasoccerinstance.cnzbp4ndrpos.eu-west-1.rds.amazonaws.com' dbname='edsaLeagueSoccerDatabase' user='edsaSoccer' password='edsaSoccer'\n",
      "Created connection\n",
      "Size of match data retrieved: (25979, 115)\n",
      "Size of team data retrieved: (299, 5)\n"
     ]
    }
   ],
   "source": [
    "#connect to the sql dataset on AWS \n",
    "db_settings = {'host' : 'edsasoccerinstance.cnzbp4ndrpos.eu-west-1.rds.amazonaws.com', 'dbname' : 'edsaLeagueSoccerDatabase', 'user' : 'edsaSoccer', 'password' : 'edsaSoccer'} \n",
    "conn_string = ' '.join([\"{}='{}'\".format(k, v) for k, v in db_settings.items()]) \n",
    "print (conn_string)\n",
    "conn_rds = psycopg2.connect(conn_string) \n",
    "print('Created connection')\n",
    "\n",
    "teams = pd.read_sql_query(\"select * from team\", con=conn_rds) \n",
    "matches = pd.read_sql_query(\"select * from match\", con=conn_rds) \n",
    "\n",
    "print('Size of match data retrieved: {}'.format(matches.shape))\n",
    "print('Size of team data retrieved: {}'.format(teams.shape))"
   ]
  },
  {
   "cell_type": "code",
   "execution_count": 87,
   "metadata": {},
   "outputs": [
    {
     "data": {
      "text/html": [
       "<div>\n",
       "<style scoped>\n",
       "    .dataframe tbody tr th:only-of-type {\n",
       "        vertical-align: middle;\n",
       "    }\n",
       "\n",
       "    .dataframe tbody tr th {\n",
       "        vertical-align: top;\n",
       "    }\n",
       "\n",
       "    .dataframe thead th {\n",
       "        text-align: right;\n",
       "    }\n",
       "</style>\n",
       "<table border=\"1\" class=\"dataframe\">\n",
       "  <thead>\n",
       "    <tr style=\"text-align: right;\">\n",
       "      <th></th>\n",
       "      <th>id</th>\n",
       "      <th>country_id</th>\n",
       "      <th>league_id</th>\n",
       "      <th>season</th>\n",
       "      <th>stage</th>\n",
       "      <th>date</th>\n",
       "      <th>match_api_id</th>\n",
       "      <th>home_team_api_id</th>\n",
       "      <th>away_team_api_id</th>\n",
       "      <th>home_team_goal</th>\n",
       "      <th>...</th>\n",
       "      <th>SJA</th>\n",
       "      <th>VCH</th>\n",
       "      <th>VCD</th>\n",
       "      <th>VCA</th>\n",
       "      <th>GBH</th>\n",
       "      <th>GBD</th>\n",
       "      <th>GBA</th>\n",
       "      <th>BSH</th>\n",
       "      <th>BSD</th>\n",
       "      <th>BSA</th>\n",
       "    </tr>\n",
       "  </thead>\n",
       "  <tbody>\n",
       "    <tr>\n",
       "      <th>0</th>\n",
       "      <td>1</td>\n",
       "      <td>1</td>\n",
       "      <td>1</td>\n",
       "      <td>2008/2009</td>\n",
       "      <td>1</td>\n",
       "      <td>2008-08-17 00:00:00</td>\n",
       "      <td>492473</td>\n",
       "      <td>9987</td>\n",
       "      <td>9993</td>\n",
       "      <td>1</td>\n",
       "      <td>...</td>\n",
       "      <td>4.00</td>\n",
       "      <td>1.65</td>\n",
       "      <td>3.40</td>\n",
       "      <td>4.50</td>\n",
       "      <td>1.78</td>\n",
       "      <td>3.25</td>\n",
       "      <td>4.00</td>\n",
       "      <td>1.73</td>\n",
       "      <td>3.40</td>\n",
       "      <td>4.20</td>\n",
       "    </tr>\n",
       "    <tr>\n",
       "      <th>1</th>\n",
       "      <td>2</td>\n",
       "      <td>1</td>\n",
       "      <td>1</td>\n",
       "      <td>2008/2009</td>\n",
       "      <td>1</td>\n",
       "      <td>2008-08-16 00:00:00</td>\n",
       "      <td>492474</td>\n",
       "      <td>10000</td>\n",
       "      <td>9994</td>\n",
       "      <td>0</td>\n",
       "      <td>...</td>\n",
       "      <td>3.80</td>\n",
       "      <td>2.00</td>\n",
       "      <td>3.25</td>\n",
       "      <td>3.25</td>\n",
       "      <td>1.85</td>\n",
       "      <td>3.25</td>\n",
       "      <td>3.75</td>\n",
       "      <td>1.91</td>\n",
       "      <td>3.25</td>\n",
       "      <td>3.60</td>\n",
       "    </tr>\n",
       "    <tr>\n",
       "      <th>2</th>\n",
       "      <td>3</td>\n",
       "      <td>1</td>\n",
       "      <td>1</td>\n",
       "      <td>2008/2009</td>\n",
       "      <td>1</td>\n",
       "      <td>2008-08-16 00:00:00</td>\n",
       "      <td>492475</td>\n",
       "      <td>9984</td>\n",
       "      <td>8635</td>\n",
       "      <td>0</td>\n",
       "      <td>...</td>\n",
       "      <td>2.50</td>\n",
       "      <td>2.35</td>\n",
       "      <td>3.25</td>\n",
       "      <td>2.65</td>\n",
       "      <td>2.50</td>\n",
       "      <td>3.20</td>\n",
       "      <td>2.50</td>\n",
       "      <td>2.30</td>\n",
       "      <td>3.20</td>\n",
       "      <td>2.75</td>\n",
       "    </tr>\n",
       "    <tr>\n",
       "      <th>3</th>\n",
       "      <td>4</td>\n",
       "      <td>1</td>\n",
       "      <td>1</td>\n",
       "      <td>2008/2009</td>\n",
       "      <td>1</td>\n",
       "      <td>2008-08-17 00:00:00</td>\n",
       "      <td>492476</td>\n",
       "      <td>9991</td>\n",
       "      <td>9998</td>\n",
       "      <td>5</td>\n",
       "      <td>...</td>\n",
       "      <td>7.50</td>\n",
       "      <td>1.45</td>\n",
       "      <td>3.75</td>\n",
       "      <td>6.50</td>\n",
       "      <td>1.50</td>\n",
       "      <td>3.75</td>\n",
       "      <td>5.50</td>\n",
       "      <td>1.44</td>\n",
       "      <td>3.75</td>\n",
       "      <td>6.50</td>\n",
       "    </tr>\n",
       "    <tr>\n",
       "      <th>4</th>\n",
       "      <td>5</td>\n",
       "      <td>1</td>\n",
       "      <td>1</td>\n",
       "      <td>2008/2009</td>\n",
       "      <td>1</td>\n",
       "      <td>2008-08-16 00:00:00</td>\n",
       "      <td>492477</td>\n",
       "      <td>7947</td>\n",
       "      <td>9985</td>\n",
       "      <td>1</td>\n",
       "      <td>...</td>\n",
       "      <td>1.73</td>\n",
       "      <td>4.50</td>\n",
       "      <td>3.40</td>\n",
       "      <td>1.65</td>\n",
       "      <td>4.50</td>\n",
       "      <td>3.50</td>\n",
       "      <td>1.65</td>\n",
       "      <td>4.75</td>\n",
       "      <td>3.30</td>\n",
       "      <td>1.67</td>\n",
       "    </tr>\n",
       "  </tbody>\n",
       "</table>\n",
       "<p>5 rows × 115 columns</p>\n",
       "</div>"
      ],
      "text/plain": [
       "   id  country_id  league_id     season  stage                 date  \\\n",
       "0   1           1          1  2008/2009      1  2008-08-17 00:00:00   \n",
       "1   2           1          1  2008/2009      1  2008-08-16 00:00:00   \n",
       "2   3           1          1  2008/2009      1  2008-08-16 00:00:00   \n",
       "3   4           1          1  2008/2009      1  2008-08-17 00:00:00   \n",
       "4   5           1          1  2008/2009      1  2008-08-16 00:00:00   \n",
       "\n",
       "   match_api_id  home_team_api_id  away_team_api_id  home_team_goal  ...   \\\n",
       "0        492473              9987              9993               1  ...    \n",
       "1        492474             10000              9994               0  ...    \n",
       "2        492475              9984              8635               0  ...    \n",
       "3        492476              9991              9998               5  ...    \n",
       "4        492477              7947              9985               1  ...    \n",
       "\n",
       "    SJA   VCH   VCD   VCA   GBH   GBD   GBA   BSH   BSD   BSA  \n",
       "0  4.00  1.65  3.40  4.50  1.78  3.25  4.00  1.73  3.40  4.20  \n",
       "1  3.80  2.00  3.25  3.25  1.85  3.25  3.75  1.91  3.25  3.60  \n",
       "2  2.50  2.35  3.25  2.65  2.50  3.20  2.50  2.30  3.20  2.75  \n",
       "3  7.50  1.45  3.75  6.50  1.50  3.75  5.50  1.44  3.75  6.50  \n",
       "4  1.73  4.50  3.40  1.65  4.50  3.50  1.65  4.75  3.30  1.67  \n",
       "\n",
       "[5 rows x 115 columns]"
      ]
     },
     "execution_count": 87,
     "metadata": {},
     "output_type": "execute_result"
    }
   ],
   "source": [
    "matches.head()"
   ]
  },
  {
   "cell_type": "code",
   "execution_count": 88,
   "metadata": {
    "colab": {
     "autoexec": {
      "startup": false,
      "wait_interval": 0
     }
    },
    "colab_type": "code",
    "id": "2RXMPNlwbtGF"
   },
   "outputs": [],
   "source": [
    "matches.set_index('id', inplace=True)\n",
    "teams.set_index('team_api_id', inplace=True)"
   ]
  },
  {
   "cell_type": "code",
   "execution_count": 89,
   "metadata": {
    "colab": {
     "autoexec": {
      "startup": false,
      "wait_interval": 0
     }
    },
    "colab_type": "code",
    "id": "t-_1U4DEbtGH"
   },
   "outputs": [
    {
     "data": {
      "text/plain": [
       "Index(['country_id', 'league_id', 'season', 'stage', 'date', 'match_api_id',\n",
       "       'home_team_api_id', 'away_team_api_id', 'home_team_goal',\n",
       "       'away_team_goal',\n",
       "       ...\n",
       "       'SJA', 'VCH', 'VCD', 'VCA', 'GBH', 'GBD', 'GBA', 'BSH', 'BSD', 'BSA'],\n",
       "      dtype='object', length=114)"
      ]
     },
     "execution_count": 89,
     "metadata": {},
     "output_type": "execute_result"
    }
   ],
   "source": [
    "matches.columns"
   ]
  },
  {
   "cell_type": "code",
   "execution_count": 90,
   "metadata": {
    "colab": {
     "autoexec": {
      "startup": false,
      "wait_interval": 0
     }
    },
    "colab_type": "code",
    "id": "4WeZ_-qWbtGK"
   },
   "outputs": [
    {
     "data": {
      "text/html": [
       "<div>\n",
       "<style scoped>\n",
       "    .dataframe tbody tr th:only-of-type {\n",
       "        vertical-align: middle;\n",
       "    }\n",
       "\n",
       "    .dataframe tbody tr th {\n",
       "        vertical-align: top;\n",
       "    }\n",
       "\n",
       "    .dataframe thead th {\n",
       "        text-align: right;\n",
       "    }\n",
       "</style>\n",
       "<table border=\"1\" class=\"dataframe\">\n",
       "  <thead>\n",
       "    <tr style=\"text-align: right;\">\n",
       "      <th></th>\n",
       "      <th>id</th>\n",
       "      <th>team_fifa_api_id</th>\n",
       "      <th>team_long_name</th>\n",
       "      <th>team_short_name</th>\n",
       "    </tr>\n",
       "    <tr>\n",
       "      <th>team_api_id</th>\n",
       "      <th></th>\n",
       "      <th></th>\n",
       "      <th></th>\n",
       "      <th></th>\n",
       "    </tr>\n",
       "  </thead>\n",
       "  <tbody>\n",
       "    <tr>\n",
       "      <th>9987</th>\n",
       "      <td>1</td>\n",
       "      <td>673.0</td>\n",
       "      <td>KRC Genk</td>\n",
       "      <td>GEN</td>\n",
       "    </tr>\n",
       "    <tr>\n",
       "      <th>9993</th>\n",
       "      <td>2</td>\n",
       "      <td>675.0</td>\n",
       "      <td>Beerschot AC</td>\n",
       "      <td>BAC</td>\n",
       "    </tr>\n",
       "    <tr>\n",
       "      <th>10000</th>\n",
       "      <td>3</td>\n",
       "      <td>15005.0</td>\n",
       "      <td>SV Zulte-Waregem</td>\n",
       "      <td>ZUL</td>\n",
       "    </tr>\n",
       "    <tr>\n",
       "      <th>9994</th>\n",
       "      <td>4</td>\n",
       "      <td>2007.0</td>\n",
       "      <td>Sporting Lokeren</td>\n",
       "      <td>LOK</td>\n",
       "    </tr>\n",
       "    <tr>\n",
       "      <th>9984</th>\n",
       "      <td>5</td>\n",
       "      <td>1750.0</td>\n",
       "      <td>KSV Cercle Brugge</td>\n",
       "      <td>CEB</td>\n",
       "    </tr>\n",
       "  </tbody>\n",
       "</table>\n",
       "</div>"
      ],
      "text/plain": [
       "             id  team_fifa_api_id     team_long_name team_short_name\n",
       "team_api_id                                                         \n",
       "9987          1             673.0           KRC Genk             GEN\n",
       "9993          2             675.0       Beerschot AC             BAC\n",
       "10000         3           15005.0   SV Zulte-Waregem             ZUL\n",
       "9994          4            2007.0   Sporting Lokeren             LOK\n",
       "9984          5            1750.0  KSV Cercle Brugge             CEB"
      ]
     },
     "execution_count": 90,
     "metadata": {},
     "output_type": "execute_result"
    }
   ],
   "source": [
    "teams.head()"
   ]
  },
  {
   "cell_type": "code",
   "execution_count": 91,
   "metadata": {
    "colab": {
     "autoexec": {
      "startup": false,
      "wait_interval": 0
     }
    },
    "colab_type": "code",
    "id": "utgDkoycbtGL"
   },
   "outputs": [],
   "source": [
    "# join the 2 datasets to work with the more familiar team names\n",
    "df = matches.join(teams['team_long_name'], on='home_team_api_id', rsuffix='_home')\n",
    "df = df.join(teams['team_long_name'], on='away_team_api_id', rsuffix='_away')\n",
    "df.rename(columns={'team_long_name': 'hometeam', 'team_long_name_away' : 'awayteam',\n",
    "                   'home_team_goal': 'fthg', 'away_team_goal': 'ftag'}, inplace=True)"
   ]
  },
  {
   "cell_type": "code",
   "execution_count": 92,
   "metadata": {
    "colab": {
     "autoexec": {
      "startup": false,
      "wait_interval": 0
     }
    },
    "colab_type": "code",
    "id": "nChA56NGbtGN"
   },
   "outputs": [],
   "source": [
    "# select only the data we will need\n",
    "cols = ['league_id',\n",
    "        'hometeam', \n",
    "        'awayteam', \n",
    "        'fthg',            # full time home goals\n",
    "        'ftag',            # full time away goals\n",
    "        'B365H', 'B365D', 'B365A']  # for use later"
   ]
  },
  {
   "cell_type": "code",
   "execution_count": 93,
   "metadata": {
    "colab": {
     "autoexec": {
      "startup": false,
      "wait_interval": 0
     }
    },
    "colab_type": "code",
    "id": "ya06QTYObtGP"
   },
   "outputs": [],
   "source": [
    "df0 = df[cols]"
   ]
  },
  {
   "cell_type": "code",
   "execution_count": 94,
   "metadata": {
    "colab": {
     "autoexec": {
      "startup": false,
      "wait_interval": 0
     }
    },
    "colab_type": "code",
    "id": "fz_IosnFbtGT"
   },
   "outputs": [
    {
     "data": {
      "text/html": [
       "<div>\n",
       "<style scoped>\n",
       "    .dataframe tbody tr th:only-of-type {\n",
       "        vertical-align: middle;\n",
       "    }\n",
       "\n",
       "    .dataframe tbody tr th {\n",
       "        vertical-align: top;\n",
       "    }\n",
       "\n",
       "    .dataframe thead th {\n",
       "        text-align: right;\n",
       "    }\n",
       "</style>\n",
       "<table border=\"1\" class=\"dataframe\">\n",
       "  <thead>\n",
       "    <tr style=\"text-align: right;\">\n",
       "      <th></th>\n",
       "      <th>league_id</th>\n",
       "      <th>hometeam</th>\n",
       "      <th>awayteam</th>\n",
       "      <th>fthg</th>\n",
       "      <th>ftag</th>\n",
       "      <th>B365H</th>\n",
       "      <th>B365D</th>\n",
       "      <th>B365A</th>\n",
       "    </tr>\n",
       "    <tr>\n",
       "      <th>id</th>\n",
       "      <th></th>\n",
       "      <th></th>\n",
       "      <th></th>\n",
       "      <th></th>\n",
       "      <th></th>\n",
       "      <th></th>\n",
       "      <th></th>\n",
       "      <th></th>\n",
       "    </tr>\n",
       "  </thead>\n",
       "  <tbody>\n",
       "    <tr>\n",
       "      <th>1</th>\n",
       "      <td>1</td>\n",
       "      <td>KRC Genk</td>\n",
       "      <td>Beerschot AC</td>\n",
       "      <td>1</td>\n",
       "      <td>1</td>\n",
       "      <td>1.73</td>\n",
       "      <td>3.40</td>\n",
       "      <td>5.00</td>\n",
       "    </tr>\n",
       "    <tr>\n",
       "      <th>2</th>\n",
       "      <td>1</td>\n",
       "      <td>SV Zulte-Waregem</td>\n",
       "      <td>Sporting Lokeren</td>\n",
       "      <td>0</td>\n",
       "      <td>0</td>\n",
       "      <td>1.95</td>\n",
       "      <td>3.20</td>\n",
       "      <td>3.60</td>\n",
       "    </tr>\n",
       "    <tr>\n",
       "      <th>3</th>\n",
       "      <td>1</td>\n",
       "      <td>KSV Cercle Brugge</td>\n",
       "      <td>RSC Anderlecht</td>\n",
       "      <td>0</td>\n",
       "      <td>3</td>\n",
       "      <td>2.38</td>\n",
       "      <td>3.30</td>\n",
       "      <td>2.75</td>\n",
       "    </tr>\n",
       "    <tr>\n",
       "      <th>4</th>\n",
       "      <td>1</td>\n",
       "      <td>KAA Gent</td>\n",
       "      <td>RAEC Mons</td>\n",
       "      <td>5</td>\n",
       "      <td>0</td>\n",
       "      <td>1.44</td>\n",
       "      <td>3.75</td>\n",
       "      <td>7.50</td>\n",
       "    </tr>\n",
       "    <tr>\n",
       "      <th>5</th>\n",
       "      <td>1</td>\n",
       "      <td>FCV Dender EH</td>\n",
       "      <td>Standard de Liège</td>\n",
       "      <td>1</td>\n",
       "      <td>3</td>\n",
       "      <td>5.00</td>\n",
       "      <td>3.50</td>\n",
       "      <td>1.65</td>\n",
       "    </tr>\n",
       "  </tbody>\n",
       "</table>\n",
       "</div>"
      ],
      "text/plain": [
       "    league_id           hometeam           awayteam  fthg  ftag  B365H  B365D  \\\n",
       "id                                                                              \n",
       "1           1           KRC Genk       Beerschot AC     1     1   1.73   3.40   \n",
       "2           1   SV Zulte-Waregem   Sporting Lokeren     0     0   1.95   3.20   \n",
       "3           1  KSV Cercle Brugge     RSC Anderlecht     0     3   2.38   3.30   \n",
       "4           1           KAA Gent          RAEC Mons     5     0   1.44   3.75   \n",
       "5           1      FCV Dender EH  Standard de Liège     1     3   5.00   3.50   \n",
       "\n",
       "    B365A  \n",
       "id         \n",
       "1    5.00  \n",
       "2    3.60  \n",
       "3    2.75  \n",
       "4    7.50  \n",
       "5    1.65  "
      ]
     },
     "execution_count": 94,
     "metadata": {},
     "output_type": "execute_result"
    }
   ],
   "source": [
    "df0.head()"
   ]
  },
  {
   "cell_type": "code",
   "execution_count": 95,
   "metadata": {
    "colab": {
     "autoexec": {
      "startup": false,
      "wait_interval": 0
     }
    },
    "colab_type": "code",
    "id": "D-TSZ6LcbtGW"
   },
   "outputs": [
    {
     "name": "stderr",
     "output_type": "stream",
     "text": [
      "/Users/dave/anaconda/lib/python3.6/site-packages/ipykernel_launcher.py:1: SettingWithCopyWarning: \n",
      "A value is trying to be set on a copy of a slice from a DataFrame.\n",
      "Try using .loc[row_indexer,col_indexer] = value instead\n",
      "\n",
      "See the caveats in the documentation: http://pandas.pydata.org/pandas-docs/stable/indexing.html#indexing-view-versus-copy\n",
      "  \"\"\"Entry point for launching an IPython kernel.\n",
      "/Users/dave/anaconda/lib/python3.6/site-packages/ipykernel_launcher.py:2: SettingWithCopyWarning: \n",
      "A value is trying to be set on a copy of a slice from a DataFrame.\n",
      "Try using .loc[row_indexer,col_indexer] = value instead\n",
      "\n",
      "See the caveats in the documentation: http://pandas.pydata.org/pandas-docs/stable/indexing.html#indexing-view-versus-copy\n",
      "  \n"
     ]
    }
   ],
   "source": [
    "df0['home_win'] = (df0['fthg'] > df0['ftag']).astype('int')\n",
    "df0['away_win'] = (df0['fthg'] < df0['ftag']).astype('int')"
   ]
  },
  {
   "cell_type": "code",
   "execution_count": 96,
   "metadata": {},
   "outputs": [
    {
     "data": {
      "text/html": [
       "<div>\n",
       "<style scoped>\n",
       "    .dataframe tbody tr th:only-of-type {\n",
       "        vertical-align: middle;\n",
       "    }\n",
       "\n",
       "    .dataframe tbody tr th {\n",
       "        vertical-align: top;\n",
       "    }\n",
       "\n",
       "    .dataframe thead th {\n",
       "        text-align: right;\n",
       "    }\n",
       "</style>\n",
       "<table border=\"1\" class=\"dataframe\">\n",
       "  <thead>\n",
       "    <tr style=\"text-align: right;\">\n",
       "      <th></th>\n",
       "      <th>league_id</th>\n",
       "      <th>hometeam</th>\n",
       "      <th>awayteam</th>\n",
       "      <th>fthg</th>\n",
       "      <th>ftag</th>\n",
       "      <th>B365H</th>\n",
       "      <th>B365D</th>\n",
       "      <th>B365A</th>\n",
       "      <th>home_win</th>\n",
       "      <th>away_win</th>\n",
       "    </tr>\n",
       "    <tr>\n",
       "      <th>id</th>\n",
       "      <th></th>\n",
       "      <th></th>\n",
       "      <th></th>\n",
       "      <th></th>\n",
       "      <th></th>\n",
       "      <th></th>\n",
       "      <th></th>\n",
       "      <th></th>\n",
       "      <th></th>\n",
       "      <th></th>\n",
       "    </tr>\n",
       "  </thead>\n",
       "  <tbody>\n",
       "    <tr>\n",
       "      <th>1</th>\n",
       "      <td>1</td>\n",
       "      <td>KRC Genk</td>\n",
       "      <td>Beerschot AC</td>\n",
       "      <td>1</td>\n",
       "      <td>1</td>\n",
       "      <td>1.73</td>\n",
       "      <td>3.40</td>\n",
       "      <td>5.00</td>\n",
       "      <td>0</td>\n",
       "      <td>0</td>\n",
       "    </tr>\n",
       "    <tr>\n",
       "      <th>2</th>\n",
       "      <td>1</td>\n",
       "      <td>SV Zulte-Waregem</td>\n",
       "      <td>Sporting Lokeren</td>\n",
       "      <td>0</td>\n",
       "      <td>0</td>\n",
       "      <td>1.95</td>\n",
       "      <td>3.20</td>\n",
       "      <td>3.60</td>\n",
       "      <td>0</td>\n",
       "      <td>0</td>\n",
       "    </tr>\n",
       "    <tr>\n",
       "      <th>3</th>\n",
       "      <td>1</td>\n",
       "      <td>KSV Cercle Brugge</td>\n",
       "      <td>RSC Anderlecht</td>\n",
       "      <td>0</td>\n",
       "      <td>3</td>\n",
       "      <td>2.38</td>\n",
       "      <td>3.30</td>\n",
       "      <td>2.75</td>\n",
       "      <td>0</td>\n",
       "      <td>1</td>\n",
       "    </tr>\n",
       "    <tr>\n",
       "      <th>4</th>\n",
       "      <td>1</td>\n",
       "      <td>KAA Gent</td>\n",
       "      <td>RAEC Mons</td>\n",
       "      <td>5</td>\n",
       "      <td>0</td>\n",
       "      <td>1.44</td>\n",
       "      <td>3.75</td>\n",
       "      <td>7.50</td>\n",
       "      <td>1</td>\n",
       "      <td>0</td>\n",
       "    </tr>\n",
       "    <tr>\n",
       "      <th>5</th>\n",
       "      <td>1</td>\n",
       "      <td>FCV Dender EH</td>\n",
       "      <td>Standard de Liège</td>\n",
       "      <td>1</td>\n",
       "      <td>3</td>\n",
       "      <td>5.00</td>\n",
       "      <td>3.50</td>\n",
       "      <td>1.65</td>\n",
       "      <td>0</td>\n",
       "      <td>1</td>\n",
       "    </tr>\n",
       "  </tbody>\n",
       "</table>\n",
       "</div>"
      ],
      "text/plain": [
       "    league_id           hometeam           awayteam  fthg  ftag  B365H  B365D  \\\n",
       "id                                                                              \n",
       "1           1           KRC Genk       Beerschot AC     1     1   1.73   3.40   \n",
       "2           1   SV Zulte-Waregem   Sporting Lokeren     0     0   1.95   3.20   \n",
       "3           1  KSV Cercle Brugge     RSC Anderlecht     0     3   2.38   3.30   \n",
       "4           1           KAA Gent          RAEC Mons     5     0   1.44   3.75   \n",
       "5           1      FCV Dender EH  Standard de Liège     1     3   5.00   3.50   \n",
       "\n",
       "    B365A  home_win  away_win  \n",
       "id                             \n",
       "1    5.00         0         0  \n",
       "2    3.60         0         0  \n",
       "3    2.75         0         1  \n",
       "4    7.50         1         0  \n",
       "5    1.65         0         1  "
      ]
     },
     "execution_count": 96,
     "metadata": {},
     "output_type": "execute_result"
    }
   ],
   "source": [
    "df0.head()"
   ]
  },
  {
   "cell_type": "code",
   "execution_count": 97,
   "metadata": {
    "colab": {
     "autoexec": {
      "startup": false,
      "wait_interval": 0
     }
    },
    "colab_type": "code",
    "id": "GR0F7jLVbtGa"
   },
   "outputs": [
    {
     "data": {
      "text/html": [
       "<div>\n",
       "<style scoped>\n",
       "    .dataframe tbody tr th:only-of-type {\n",
       "        vertical-align: middle;\n",
       "    }\n",
       "\n",
       "    .dataframe tbody tr th {\n",
       "        vertical-align: top;\n",
       "    }\n",
       "\n",
       "    .dataframe thead th {\n",
       "        text-align: right;\n",
       "    }\n",
       "</style>\n",
       "<table border=\"1\" class=\"dataframe\">\n",
       "  <thead>\n",
       "    <tr style=\"text-align: right;\">\n",
       "      <th></th>\n",
       "      <th>league_id</th>\n",
       "      <th>fthg</th>\n",
       "      <th>ftag</th>\n",
       "      <th>B365H</th>\n",
       "      <th>B365D</th>\n",
       "      <th>B365A</th>\n",
       "      <th>home_win</th>\n",
       "      <th>away_win</th>\n",
       "    </tr>\n",
       "  </thead>\n",
       "  <tbody>\n",
       "    <tr>\n",
       "      <th>count</th>\n",
       "      <td>25979.000000</td>\n",
       "      <td>25979.000000</td>\n",
       "      <td>25979.000000</td>\n",
       "      <td>22592.000000</td>\n",
       "      <td>22592.000000</td>\n",
       "      <td>22592.000000</td>\n",
       "      <td>25979.000000</td>\n",
       "      <td>25979.000000</td>\n",
       "    </tr>\n",
       "    <tr>\n",
       "      <th>mean</th>\n",
       "      <td>11738.630317</td>\n",
       "      <td>1.544594</td>\n",
       "      <td>1.160938</td>\n",
       "      <td>2.628818</td>\n",
       "      <td>3.839684</td>\n",
       "      <td>4.662222</td>\n",
       "      <td>0.458717</td>\n",
       "      <td>0.287386</td>\n",
       "    </tr>\n",
       "    <tr>\n",
       "      <th>std</th>\n",
       "      <td>7553.936759</td>\n",
       "      <td>1.297158</td>\n",
       "      <td>1.142110</td>\n",
       "      <td>1.794463</td>\n",
       "      <td>1.118269</td>\n",
       "      <td>3.730104</td>\n",
       "      <td>0.498302</td>\n",
       "      <td>0.452552</td>\n",
       "    </tr>\n",
       "    <tr>\n",
       "      <th>min</th>\n",
       "      <td>1.000000</td>\n",
       "      <td>0.000000</td>\n",
       "      <td>0.000000</td>\n",
       "      <td>1.040000</td>\n",
       "      <td>1.400000</td>\n",
       "      <td>1.080000</td>\n",
       "      <td>0.000000</td>\n",
       "      <td>0.000000</td>\n",
       "    </tr>\n",
       "    <tr>\n",
       "      <th>25%</th>\n",
       "      <td>4769.000000</td>\n",
       "      <td>1.000000</td>\n",
       "      <td>0.000000</td>\n",
       "      <td>1.670000</td>\n",
       "      <td>3.300000</td>\n",
       "      <td>2.500000</td>\n",
       "      <td>0.000000</td>\n",
       "      <td>0.000000</td>\n",
       "    </tr>\n",
       "    <tr>\n",
       "      <th>50%</th>\n",
       "      <td>10257.000000</td>\n",
       "      <td>1.000000</td>\n",
       "      <td>1.000000</td>\n",
       "      <td>2.100000</td>\n",
       "      <td>3.500000</td>\n",
       "      <td>3.500000</td>\n",
       "      <td>0.000000</td>\n",
       "      <td>0.000000</td>\n",
       "    </tr>\n",
       "    <tr>\n",
       "      <th>75%</th>\n",
       "      <td>17642.000000</td>\n",
       "      <td>2.000000</td>\n",
       "      <td>2.000000</td>\n",
       "      <td>2.800000</td>\n",
       "      <td>4.000000</td>\n",
       "      <td>5.250000</td>\n",
       "      <td>1.000000</td>\n",
       "      <td>1.000000</td>\n",
       "    </tr>\n",
       "    <tr>\n",
       "      <th>max</th>\n",
       "      <td>24558.000000</td>\n",
       "      <td>10.000000</td>\n",
       "      <td>9.000000</td>\n",
       "      <td>26.000000</td>\n",
       "      <td>17.000000</td>\n",
       "      <td>51.000000</td>\n",
       "      <td>1.000000</td>\n",
       "      <td>1.000000</td>\n",
       "    </tr>\n",
       "  </tbody>\n",
       "</table>\n",
       "</div>"
      ],
      "text/plain": [
       "          league_id          fthg          ftag         B365H         B365D  \\\n",
       "count  25979.000000  25979.000000  25979.000000  22592.000000  22592.000000   \n",
       "mean   11738.630317      1.544594      1.160938      2.628818      3.839684   \n",
       "std     7553.936759      1.297158      1.142110      1.794463      1.118269   \n",
       "min        1.000000      0.000000      0.000000      1.040000      1.400000   \n",
       "25%     4769.000000      1.000000      0.000000      1.670000      3.300000   \n",
       "50%    10257.000000      1.000000      1.000000      2.100000      3.500000   \n",
       "75%    17642.000000      2.000000      2.000000      2.800000      4.000000   \n",
       "max    24558.000000     10.000000      9.000000     26.000000     17.000000   \n",
       "\n",
       "              B365A      home_win      away_win  \n",
       "count  22592.000000  25979.000000  25979.000000  \n",
       "mean       4.662222      0.458717      0.287386  \n",
       "std        3.730104      0.498302      0.452552  \n",
       "min        1.080000      0.000000      0.000000  \n",
       "25%        2.500000      0.000000      0.000000  \n",
       "50%        3.500000      0.000000      0.000000  \n",
       "75%        5.250000      1.000000      1.000000  \n",
       "max       51.000000      1.000000      1.000000  "
      ]
     },
     "execution_count": 97,
     "metadata": {},
     "output_type": "execute_result"
    }
   ],
   "source": [
    "df0.describe()"
   ]
  },
  {
   "cell_type": "code",
   "execution_count": 98,
   "metadata": {
    "colab": {
     "autoexec": {
      "startup": false,
      "wait_interval": 0
     }
    },
    "colab_type": "code",
    "id": "p6GJC3jrbtGc"
   },
   "outputs": [
    {
     "data": {
      "text/plain": [
       "league_id    11738.630317\n",
       "fthg             1.544594\n",
       "ftag             1.160938\n",
       "B365H            2.628818\n",
       "B365D            3.839684\n",
       "B365A            4.662222\n",
       "home_win         0.458717\n",
       "away_win         0.287386\n",
       "dtype: float64"
      ]
     },
     "execution_count": 98,
     "metadata": {},
     "output_type": "execute_result"
    }
   ],
   "source": [
    "df0.mean()"
   ]
  },
  {
   "cell_type": "markdown",
   "metadata": {
    "colab_type": "text",
    "id": "_ChSluxRbtGe"
   },
   "source": [
    "From this summary, the average number of goals scored by home teams is 1.54 compared to the 1.16 scored by the away team.  This corresponds to the home win ratio... if the home team score more goals, on average, they are more likely to win! In this case, the home team has an *a priori* expectation of winning 45.6% of the time.  The away team wins,  on average, 28.7% of the time, with the remaining games ending in a draw. "
   ]
  },
  {
   "cell_type": "markdown",
   "metadata": {
    "colab_type": "text",
    "id": "B1Un9kTWbtGf"
   },
   "source": [
    "## Bayesian Performance between two teams\n",
    "\n",
    "Now lets see if we can apply the Bayesian analysis for home and away to an actual dataset.  The code below allows us to:\n",
    "\n",
    "* input two team names\n",
    "* get a subset of only the matches between these two teams \n",
    "* calculate the win/loss probabilities playing at home/away"
   ]
  },
  {
   "cell_type": "code",
   "execution_count": 99,
   "metadata": {
    "colab": {
     "autoexec": {
      "startup": false,
      "wait_interval": 0
     }
    },
    "colab_type": "code",
    "id": "5TS9ZIUXbtGf"
   },
   "outputs": [],
   "source": [
    "# define the team names\n",
    "team1 = 'Arsenal'\n",
    "team2 = 'Manchester United'"
   ]
  },
  {
   "cell_type": "code",
   "execution_count": 100,
   "metadata": {
    "colab": {
     "autoexec": {
      "startup": false,
      "wait_interval": 0
     }
    },
    "colab_type": "code",
    "id": "ZfXTCmxkbtGj"
   },
   "outputs": [],
   "source": [
    "# get dataframe containing all the games played between team1 and team2\n",
    "cond1 = ((df0['hometeam']==team1) & (df0['awayteam']==team2)  )\n",
    "cond2 = ((df0['hometeam']==team2) & (df0['awayteam']==team1)  )\n",
    "df1 = df0[(cond1 | cond2)]"
   ]
  },
  {
   "cell_type": "code",
   "execution_count": 101,
   "metadata": {
    "colab": {
     "autoexec": {
      "startup": false,
      "wait_interval": 0
     }
    },
    "colab_type": "code",
    "id": "fQ8B9sQZbtGl"
   },
   "outputs": [
    {
     "name": "stdout",
     "output_type": "stream",
     "text": [
      "Total number of matches Arsenal vs Manchester United: 16\n"
     ]
    }
   ],
   "source": [
    "n_games = len(df1)\n",
    "print('Total number of matches {} vs {}: {:0.0f}'.format(team1, team2, n_games))"
   ]
  },
  {
   "cell_type": "code",
   "execution_count": 102,
   "metadata": {
    "colab": {
     "autoexec": {
      "startup": false,
      "wait_interval": 0
     }
    },
    "colab_type": "code",
    "id": "VTkEYbd-btGm"
   },
   "outputs": [
    {
     "name": "stdout",
     "output_type": "stream",
     "text": [
      "Total number of Arsenal home games: 8\n"
     ]
    }
   ],
   "source": [
    "# create a sub-dataframe for team1 home games\n",
    "df_team1 = df0[cond1]\n",
    "N_team1 = len(df_team1)\n",
    "print('Total number of {} home games: {:0.0f}'.format(team1, N_team1))"
   ]
  },
  {
   "cell_type": "code",
   "execution_count": 103,
   "metadata": {
    "colab": {
     "autoexec": {
      "startup": false,
      "wait_interval": 0
     }
    },
    "colab_type": "code",
    "id": "qXKiWnn7btGo"
   },
   "outputs": [
    {
     "name": "stdout",
     "output_type": "stream",
     "text": [
      "Total number of Manchester United home games: 8\n"
     ]
    }
   ],
   "source": [
    "# create a sub-dataframe for team2 home games\n",
    "df_team2 = df0[cond2]\n",
    "N_team2 = len(df_team2)\n",
    "print('Total number of {} home games: {:0.0f}'.format(team2, N_team2))"
   ]
  },
  {
   "cell_type": "code",
   "execution_count": 104,
   "metadata": {
    "colab": {
     "autoexec": {
      "startup": false,
      "wait_interval": 0
     }
    },
    "colab_type": "code",
    "id": "QUj9iE-nbtGr"
   },
   "outputs": [
    {
     "name": "stdout",
     "output_type": "stream",
     "text": [
      "Total number Arsenal wins: 3\n"
     ]
    }
   ],
   "source": [
    "# get dataframe containing all the games where team1 won\n",
    "cond1h = ((df0['hometeam']==team1) & (df0['awayteam']==team2) &  (df0['fthg']> df0['ftag']))\n",
    "cond2h = ((df0['hometeam']==team2) & (df0['awayteam']==team1) &  (df0['fthg']< df0['ftag']))\n",
    "df_team1_win = df0[(cond1h | cond2h) ]\n",
    "N_team1_wins = len(df_team1_win)\n",
    "print('Total number {} wins: {:0.0f}'.format(team1, N_team1_wins))"
   ]
  },
  {
   "cell_type": "code",
   "execution_count": 105,
   "metadata": {
    "colab": {
     "autoexec": {
      "startup": false,
      "wait_interval": 0
     }
    },
    "colab_type": "code",
    "id": "9MJ0Et_GbtGt"
   },
   "outputs": [
    {
     "name": "stdout",
     "output_type": "stream",
     "text": [
      "Total number Arsenal home wins: 3\n"
     ]
    }
   ],
   "source": [
    "# get dataframe containing all the games where team1 won at home\n",
    "cond1hw = ((df0['hometeam']==team1) & (df0['awayteam']==team2) &  (df0['fthg']> df0['ftag']))\n",
    "df_team1_win = df0[cond1hw ]\n",
    "N_team1_home_wins = len(df_team1_win)\n",
    "print('Total number {} home wins: {:0.0f}'.format(team1,N_team1_home_wins))"
   ]
  },
  {
   "cell_type": "code",
   "execution_count": 106,
   "metadata": {
    "colab": {
     "autoexec": {
      "startup": false,
      "wait_interval": 0
     }
    },
    "colab_type": "code",
    "id": "Ai4Zx83cbtGv"
   },
   "outputs": [
    {
     "name": "stdout",
     "output_type": "stream",
     "text": [
      "Probability of Arsenal game being a home game: 0.50\n"
     ]
    }
   ],
   "source": [
    "# Probability of a game being a team1 home game =  (N _team1_home games)/(n games) \n",
    "P_A = N_team1/n_games \n",
    "print('Probability of {} game being a home game: {:0.2f}'.format(team1, P_A))"
   ]
  },
  {
   "cell_type": "code",
   "execution_count": 107,
   "metadata": {
    "colab": {
     "autoexec": {
      "startup": false,
      "wait_interval": 0
     }
    },
    "colab_type": "code",
    "id": "MbQBxTAqbtGx"
   },
   "outputs": [
    {
     "name": "stdout",
     "output_type": "stream",
     "text": [
      "Probability of Arsenal winning (out of all matches): 0.19\n"
     ]
    }
   ],
   "source": [
    "# Probability of team1 winning (out of all matches)  = (N_team1_win/n_games)\n",
    "P_B = N_team1_wins/n_games \n",
    "print('Probability of {} winning (out of all matches): {:0.2f}'.format(team1, P_B))"
   ]
  },
  {
   "cell_type": "code",
   "execution_count": 108,
   "metadata": {
    "colab": {
     "autoexec": {
      "startup": false,
      "wait_interval": 0
     }
    },
    "colab_type": "code",
    "id": "qaU4tnQIbtGz"
   },
   "outputs": [
    {
     "name": "stdout",
     "output_type": "stream",
     "text": [
      "Given Arsenal won, the probability of that game being a home game: 1.00\n"
     ]
    }
   ],
   "source": [
    "# P_A_given_B = Given team1 won : what is the probability of a game being a home game ? =(n_win_home/N_win)\n",
    "P_A_given_B = (N_team1_home_wins/N_team1_wins)\n",
    "print('Given {} won, the probability of that game being a home game: {:0.2f}'.format(team1, P_A_given_B))"
   ]
  },
  {
   "cell_type": "code",
   "execution_count": 109,
   "metadata": {
    "colab": {
     "autoexec": {
      "startup": false,
      "wait_interval": 0
     }
    },
    "colab_type": "code",
    "id": "oPmgfoo2btG2"
   },
   "outputs": [
    {
     "name": "stdout",
     "output_type": "stream",
     "text": [
      "Probability of Arsenal winning given they play at home: 0.375\n"
     ]
    }
   ],
   "source": [
    "P_B_given_A = (P_A_given_B*P_B)/P_A \n",
    "print('Probability of {} winning given they play at home: {:0.3f}'.format(team1, P_B_given_A ))"
   ]
  },
  {
   "cell_type": "markdown",
   "metadata": {
    "colab_type": "text",
    "id": "VzI1wHRLbtG6"
   },
   "source": [
    "Now, of course we **could** have just looked up these results with some clever pandas queries... "
   ]
  },
  {
   "cell_type": "code",
   "execution_count": 110,
   "metadata": {
    "colab": {
     "autoexec": {
      "startup": false,
      "wait_interval": 0
     }
    },
    "colab_type": "code",
    "id": "nYTMljWubtG7"
   },
   "outputs": [
    {
     "name": "stdout",
     "output_type": "stream",
     "text": [
      "Probability that the home team Arsenal beats the away team Manchester United is 0.375.\n"
     ]
    }
   ],
   "source": [
    "team1_home_win = df0[(df0['hometeam'] == team1 ) & (df0['awayteam'] == team2)]['home_win'].mean()\n",
    "print('Probability that the home team {:s} beats the away team {:s} is {:0.3f}.'.format(team1, team2, team1_home_win))"
   ]
  },
  {
   "cell_type": "markdown",
   "metadata": {
    "colab_type": "text",
    "id": "znDH1UKfbtG-"
   },
   "source": [
    "## When to use Bayes?"
   ]
  },
  {
   "cell_type": "markdown",
   "metadata": {
    "colab_type": "text",
    "id": "B7bAbjZ-btG_"
   },
   "source": [
    "As we've seen, in the above examples if we make the assumption that the historical data is all that is available to inform probability estimates, Bayes' Theorem gives the same result as a more direct frequentist approach.\n",
    "\n",
    "In general, classical (frequentist) statistics should be used where we are trying to capture the dynamics of systems where:\n",
    "* we have a lot of detailed past information **and** \n",
    "* where we can reasonably assume that the same dynamics will likely hold in the future ."
   ]
  },
  {
   "cell_type": "markdown",
   "metadata": {
    "colab_type": "text",
    "id": "_XSfAEuGbtG_"
   },
   "source": [
    "We recommend using Bayes' Theorem, where\n",
    "* we are building a belief on outcomes that will occur in the future and\n",
    "* we are provided with additional, but incomplete, information to update that belief."
   ]
  },
  {
   "cell_type": "markdown",
   "metadata": {},
   "source": [
    "To illustrate where the frequentist approach would be of no use and Bayesian thinking is necessary, suppose that we have a coin which we know is biased to land on one side 70% of the time, but we don't know whether it's biased towards heads or tails. Here we would need to form a prior hypothesis which we update using Bayes' Theorem in the light of emerging evidence.\n",
    "\n",
    "Our prior hypothesis in the absence of any further information would rationally have to be that the probability of the coin being biased towards heads is equal to the probability of it being biased towards tails. Suppose that we toss the coin, and it comes up heads. What should be our updated posterior probability of a heads bias?\n",
    "\n",
    "Denoting $A$ to be the event of being biased towards heads (so our prior $P(A) = 0.5$) and $B$ to be the event of one coin toss coming up heads, we are interested in $P(A|B)$, the updated probability of $A$ given that single coin toss outcome. We know that $P(B|A) = 0.7$. To apply Bayes, we also need to know $P(B)$, which we can decompose as:\n",
    "\n",
    "$$P(B) = P(B|A).P(A) + P(B|A').P(A') = 0.5(0.7) + 0.5(0.3) = 0.5.$$\n",
    "\n",
    "Hence,\n",
    "\n",
    "$$P(A|B) = \\displaystyle \\frac{0.7(0.5)}{0.5} = 0.7.$$\n",
    "\n",
    "That single coin toss allowed us to update our rational best estimate of the probability of a heads bias from 50% to 70%. And what if $B$ was five consecutive tosses which all came up heads? Then:\n",
    "\n",
    "$$P(A|B) = \\displaystyle \\frac{0.7^5(0.5)}{0.5(0.7^5 + 0.3^5)} = 0.9857.$$"
   ]
  },
  {
   "cell_type": "markdown",
   "metadata": {
    "colab_type": "text",
    "id": "Dw1j520FbtHA"
   },
   "source": [
    "## Premier League Win Ratios"
   ]
  },
  {
   "cell_type": "markdown",
   "metadata": {
    "colab_type": "text",
    "id": "1Vh8ZvFmbtHA"
   },
   "source": [
    "In the next example, suppose I only give you two pieces of information prior to a match:\n",
    "* the historical win ratios of a team\n",
    "* whether the bookies predict a win or not\n",
    "\n",
    "In addition, I can tell you the accuracy with which the bookies were right.  How can you use Bayes' Theorem to update your belief based on the bookies' prediction?"
   ]
  },
  {
   "cell_type": "code",
   "execution_count": 111,
   "metadata": {
    "colab": {
     "autoexec": {
      "startup": false,
      "wait_interval": 0
     }
    },
    "colab_type": "code",
    "id": "8_YTX7gmbtHC"
   },
   "outputs": [],
   "source": [
    "prem_league = df0[df0['league_id'] == 1729].drop('league_id', axis=1)"
   ]
  },
  {
   "cell_type": "code",
   "execution_count": 112,
   "metadata": {
    "colab": {
     "autoexec": {
      "startup": false,
      "wait_interval": 0
     }
    },
    "colab_type": "code",
    "id": "WQw67h6dbtHE"
   },
   "outputs": [],
   "source": [
    "# get the home and away games for each team\n",
    "home_games = prem_league.groupby('hometeam')[['home_win']].agg(['count', 'sum'])\n",
    "away_games = prem_league.groupby('awayteam')[['away_win']].agg(['count', 'sum'])\n",
    "win_ratios = home_games.join(away_games)"
   ]
  },
  {
   "cell_type": "code",
   "execution_count": 113,
   "metadata": {
    "colab": {
     "autoexec": {
      "startup": false,
      "wait_interval": 0
     }
    },
    "colab_type": "code",
    "id": "E2uAn_XobtHG"
   },
   "outputs": [],
   "source": [
    "win_ratios.rename(columns={'hometeam' : 'Team', \n",
    "                           'home_win' : 'Home_Games', \n",
    "                           'away_win' : 'Away_Games', \n",
    "                           'count'    : 'Played',\n",
    "                           'sum'      : 'Won',\n",
    "                          }, inplace=True)\n"
   ]
  },
  {
   "cell_type": "code",
   "execution_count": 114,
   "metadata": {
    "colab": {
     "autoexec": {
      "startup": false,
      "wait_interval": 0
     }
    },
    "colab_type": "code",
    "id": "LmMW3iRubtHH"
   },
   "outputs": [],
   "source": [
    "win_ratios['Total', 'Played'] = win_ratios.xs('Played', level=1, axis=1).sum(axis=1)\n",
    "win_ratios['Total', 'Won'] = win_ratios.xs('Won', level=1, axis=1).sum(axis=1)\n",
    "win_ratios = win_ratios.xs('Won', level=1, axis=1) / win_ratios.xs('Played', level=1, axis=1)"
   ]
  },
  {
   "cell_type": "code",
   "execution_count": 115,
   "metadata": {
    "colab": {
     "autoexec": {
      "startup": false,
      "wait_interval": 0
     }
    },
    "colab_type": "code",
    "id": "AJ_2LG_VbtHJ"
   },
   "outputs": [
    {
     "data": {
      "text/html": [
       "<div>\n",
       "<style scoped>\n",
       "    .dataframe tbody tr th:only-of-type {\n",
       "        vertical-align: middle;\n",
       "    }\n",
       "\n",
       "    .dataframe tbody tr th {\n",
       "        vertical-align: top;\n",
       "    }\n",
       "\n",
       "    .dataframe thead th {\n",
       "        text-align: right;\n",
       "    }\n",
       "</style>\n",
       "<table border=\"1\" class=\"dataframe\">\n",
       "  <thead>\n",
       "    <tr style=\"text-align: right;\">\n",
       "      <th></th>\n",
       "      <th>Home_Games</th>\n",
       "      <th>Away_Games</th>\n",
       "      <th>Total</th>\n",
       "    </tr>\n",
       "    <tr>\n",
       "      <th>hometeam</th>\n",
       "      <th></th>\n",
       "      <th></th>\n",
       "      <th></th>\n",
       "    </tr>\n",
       "  </thead>\n",
       "  <tbody>\n",
       "    <tr>\n",
       "      <th>Manchester United</th>\n",
       "      <td>0.763158</td>\n",
       "      <td>0.500000</td>\n",
       "      <td>0.631579</td>\n",
       "    </tr>\n",
       "    <tr>\n",
       "      <th>Chelsea</th>\n",
       "      <td>0.664474</td>\n",
       "      <td>0.493421</td>\n",
       "      <td>0.578947</td>\n",
       "    </tr>\n",
       "    <tr>\n",
       "      <th>Manchester City</th>\n",
       "      <td>0.743421</td>\n",
       "      <td>0.407895</td>\n",
       "      <td>0.575658</td>\n",
       "    </tr>\n",
       "    <tr>\n",
       "      <th>Arsenal</th>\n",
       "      <td>0.638158</td>\n",
       "      <td>0.480263</td>\n",
       "      <td>0.559211</td>\n",
       "    </tr>\n",
       "    <tr>\n",
       "      <th>Tottenham Hotspur</th>\n",
       "      <td>0.578947</td>\n",
       "      <td>0.414474</td>\n",
       "      <td>0.496711</td>\n",
       "    </tr>\n",
       "  </tbody>\n",
       "</table>\n",
       "</div>"
      ],
      "text/plain": [
       "                   Home_Games  Away_Games     Total\n",
       "hometeam                                           \n",
       "Manchester United    0.763158    0.500000  0.631579\n",
       "Chelsea              0.664474    0.493421  0.578947\n",
       "Manchester City      0.743421    0.407895  0.575658\n",
       "Arsenal              0.638158    0.480263  0.559211\n",
       "Tottenham Hotspur    0.578947    0.414474  0.496711"
      ]
     },
     "execution_count": 115,
     "metadata": {},
     "output_type": "execute_result"
    }
   ],
   "source": [
    "win_ratios.sort_values('Total', ascending=False).head()"
   ]
  },
  {
   "cell_type": "markdown",
   "metadata": {
    "colab_type": "text",
    "id": "d3iAG7vcbtHK"
   },
   "source": [
    "Manchester United have the best win ratio - at 63% - in the Premier league and also appear to be a formidable force at home!"
   ]
  },
  {
   "cell_type": "code",
   "execution_count": 116,
   "metadata": {
    "colab": {
     "autoexec": {
      "startup": false,
      "wait_interval": 0
     }
    },
    "colab_type": "code",
    "id": "M160H7_HbtHM"
   },
   "outputs": [],
   "source": [
    "prem_league['outcome'] = prem_league['home_win'] - prem_league['away_win'] \n",
    "rename_outcome = {-1: 'away_win', 0:'draw', 1:'home_win'}\n",
    "prem_league['outcome_name'] = prem_league['outcome'].apply(lambda x: rename_outcome[x])"
   ]
  },
  {
   "cell_type": "markdown",
   "metadata": {
    "colab_type": "text",
    "id": "QAtm-pzRbtHN"
   },
   "source": [
    "## Odds ratios"
   ]
  },
  {
   "cell_type": "markdown",
   "metadata": {
    "colab_type": "text",
    "id": "iYAy93dIbtHO"
   },
   "source": [
    "[![Probability vs Odds](http://img.youtube.com/vi/Vu4x2DKn12g/0.jpg)](http://www.youtube.com/watch?v=Vu4x2DKn12g)\n"
   ]
  },
  {
   "cell_type": "markdown",
   "metadata": {
    "colab_type": "text",
    "id": "lzH8oTE6btHO"
   },
   "source": [
    "Chance can be expressed either as a probability or as odds. In most contexts, there is no particular reason to prefer one over the other. Most scientists tend to feel more comfortable thinking about probabilities rather than odds, but that is a matter of training and custom, not logic.\n",
    "\n",
    "The distinction is simple:\n",
    "\n",
    "* The probability that an event will occur is the fraction of times you expect to see that event in many trials. Probabilities always range between 0 and 1.\n",
    "* The odds are defined as the probability that the event will occur divided by the probability that the event will not occur.\n",
    "\n",
    "\n",
    "A probability of 0 is the same as odds of 0. Probabilities between 0 and 0.5 equal odds less than 1.0. A probability of 0.5 is the same as odds of 1.0. Think of it this way: The probability of flipping a coin to heads is 50%. The odds are “fifty: fifty,” which equals 1.0.\n",
    "\n",
    "As the probability goes up from 0.5 to 1.0, the odds increase from 1.0 to approach infinity. For example, if the probability is 0.75, then the odds are 75:25, three to one, or 3.0.\n",
    "\n",
    "If the odds are high (million to one), the probability is almost 1.00. If the odds are tiny (one to a million), the probablility is tiny, almost zero.\n",
    "\n",
    "Converting between odds and probability is straightforward:\n",
    "\n",
    "* To convert from a probability to odds, divide the probability by one minus that probability. So if the probability is 10% or 0.10 , then the odds are 0.1/0.9 or ‘1 to 9’ or 0.111.\n",
    "* To convert from odds to a probability, divide the odds by one plus the odds. So to convert odds of 1/9 to a probability, divide 1/9 by 10/9 to obtain the probability of 0.10.\n",
    "\n",
    "In the data, we have been given a decimal odd.  To convert this to a probability we take the inverse."
   ]
  },
  {
   "cell_type": "code",
   "execution_count": 117,
   "metadata": {
    "colab": {
     "autoexec": {
      "startup": false,
      "wait_interval": 0
     }
    },
    "colab_type": "code",
    "id": "F7MjVtuZbtHP"
   },
   "outputs": [
    {
     "data": {
      "text/plain": [
       "<matplotlib.axes._subplots.AxesSubplot at 0x106ae4eb8>"
      ]
     },
     "execution_count": 117,
     "metadata": {},
     "output_type": "execute_result"
    },
    {
     "data": {
      "image/png": "[encoded data removed]",
      "text/plain": [
       "<matplotlib.figure.Figure at 0x1133719b0>"
      ]
     },
     "metadata": {},
     "output_type": "display_data"
    }
   ],
   "source": [
    "sns.boxplot(x='outcome_name', y='B365H', data=prem_league, order = ['away_win', 'draw', 'home_win'])"
   ]
  },
  {
   "cell_type": "markdown",
   "metadata": {
    "colab_type": "text",
    "id": "ro3iYyhebtHR"
   },
   "source": [
    "### Adding odds as an additional piece of information"
   ]
  },
  {
   "cell_type": "markdown",
   "metadata": {
    "colab_type": "text",
    "id": "wiWPZLkabtHS"
   },
   "source": [
    "It does look like the bookies are onto something, they offer lower odds, on average, when the home team ends up winning!  But how much emphasis should we give the bookmakers' predictions?  Let's ask Bayes!"
   ]
  },
  {
   "cell_type": "markdown",
   "metadata": {
    "colab_type": "text",
    "id": "O0ZYDIDJbtHS"
   },
   "source": [
    "Assume that Manchester United have a 63% chance of winning any particular game. A bookie comes to you and offers you odds of 1.5:1 of United winning the next game.  Doing a quick mental calculation, we transalte this to mean thte bookies predict a Manchester United win with 60% probability, so this is clearly the most likely of the three possible outcomes in the bookies' minds.  You do further research to discover that this bookie has got a 52% hit rate of picking the match outcome.  How much does this influence your decision on the match results?"
   ]
  },
  {
   "cell_type": "markdown",
   "metadata": {
    "colab_type": "text",
    "id": "0IrGVzFmbtHS"
   },
   "source": [
    "* Let A be the chance of Manchester United winning the next game\n",
    "* Let B that the Bookie picks that United will win the next game"
   ]
  },
  {
   "cell_type": "code",
   "execution_count": 118,
   "metadata": {
    "colab": {
     "autoexec": {
      "startup": false,
      "wait_interval": 0
     }
    },
    "colab_type": "code",
    "id": "-q1k6EKrbtHT"
   },
   "outputs": [
    {
     "name": "stdout",
     "output_type": "stream",
     "text": [
      "The probability of a Manchester United victory increases from 0.63 to 0.65.\n"
     ]
    }
   ],
   "source": [
    "P_A = 0.63                # prior probability that manchester wins the game\n",
    "P_B_A = 0.52              # probability that the bookie picks a winner correctly\n",
    "\n",
    "#  the probability that the bookie is right about calling the game is a combination of:\n",
    "## if he picked correctly picked a winner times the chance of them winning, plus\n",
    "## the chance he is wrong about picking the winner and they lose\n",
    "P_B = P_B_A * P_A + (1 - P_B_A) * (1 - P_A) \n",
    "\n",
    "P_A_B = P_B_A * P_A / P_B\n",
    "print(\"The probability of a Manchester United victory increases from {:0.2f} to {:0.2f}.\".format(P_A, P_A_B))\n"
   ]
  },
  {
   "cell_type": "markdown",
   "metadata": {
    "colab_type": "text",
    "id": "n4AZwhuhbtHU"
   },
   "source": [
    "If you play around with the \"accuracy\" of the bookie you will get an estimate of how it affects the estimated probability."
   ]
  },
  {
   "cell_type": "code",
   "execution_count": 119,
   "metadata": {
    "colab": {
     "autoexec": {
      "startup": false,
      "wait_interval": 0
     }
    },
    "colab_type": "code",
    "id": "p4J8G8nzbtHU"
   },
   "outputs": [],
   "source": [
    "def p_a_b(p_a, p_b_a):\n",
    "    p_b = p_b_a * p_a + (1 - p_b_a) * (1 - p_a)\n",
    "    return p_b_a * p_a /p_b "
   ]
  },
  {
   "cell_type": "code",
   "execution_count": 120,
   "metadata": {
    "colab": {
     "autoexec": {
      "startup": false,
      "wait_interval": 0
     }
    },
    "colab_type": "code",
    "id": "fb8qIAqsbtHX"
   },
   "outputs": [
    {
     "data": {
      "text/plain": [
       "<matplotlib.text.Text at 0x1142184e0>"
      ]
     },
     "execution_count": 120,
     "metadata": {},
     "output_type": "execute_result"
    },
    {
     "data": {
      "image/png": "[encoded data removed]",
      "text/plain": [
       "<matplotlib.figure.Figure at 0x114b40668>"
      ]
     },
     "metadata": {},
     "output_type": "display_data"
    }
   ],
   "source": [
    "bookie_right = np.linspace(0, 1, 10)\n",
    "new_odds = p_a_b(0.63, bookie_right)\n",
    "plt.plot(bookie_right, new_odds)\n",
    "plt.title(\"Posterior probability of Manchester winning, given reliability of bookies' predictions\")"
   ]
  },
  {
   "cell_type": "markdown",
   "metadata": {},
   "source": [
    "Of course, we're assuming that the predicted winner is the only piece of new information conveyed by the odds. There may perhaps be more, but we'll leave that to you to think about."
   ]
  },
  {
   "cell_type": "markdown",
   "metadata": {
    "colab_type": "text",
    "id": "K9MS3hQ2btHa"
   },
   "source": [
    "### Actually calculating these odds from the data"
   ]
  },
  {
   "cell_type": "markdown",
   "metadata": {
    "colab_type": "text",
    "id": "9ym2JjPObtHa"
   },
   "source": [
    "Now that we know how to update our prior beliefs given new data, we will show you how to actually extract this information from the dataset."
   ]
  },
  {
   "cell_type": "code",
   "execution_count": 127,
   "metadata": {
    "colab": {
     "autoexec": {
      "startup": false,
      "wait_interval": 0
     }
    },
    "colab_type": "code",
    "id": "y7SOPoHWbtHc"
   },
   "outputs": [],
   "source": [
    "prem_league['prob_home_win'] = 1 / prem_league['B365H']\n",
    "prem_league['prob_away_win'] = 1 / prem_league['B365A']\n",
    "prem_league['prob_draw'] = 1 / prem_league['B365D']\n",
    "prem_league['prob'] = prem_league[['prob_home_win', 'prob_away_win', 'prob_draw']].sum(axis=1)"
   ]
  },
  {
   "cell_type": "code",
   "execution_count": 128,
   "metadata": {
    "colab": {
     "autoexec": {
      "startup": false,
      "wait_interval": 0
     }
    },
    "colab_type": "code",
    "id": "P312m3AKbtHe"
   },
   "outputs": [
    {
     "data": {
      "text/html": [
       "<div>\n",
       "<style scoped>\n",
       "    .dataframe tbody tr th:only-of-type {\n",
       "        vertical-align: middle;\n",
       "    }\n",
       "\n",
       "    .dataframe tbody tr th {\n",
       "        vertical-align: top;\n",
       "    }\n",
       "\n",
       "    .dataframe thead th {\n",
       "        text-align: right;\n",
       "    }\n",
       "</style>\n",
       "<table border=\"1\" class=\"dataframe\">\n",
       "  <thead>\n",
       "    <tr style=\"text-align: right;\">\n",
       "      <th></th>\n",
       "      <th>prob_home_win</th>\n",
       "      <th>prob_away_win</th>\n",
       "      <th>prob_draw</th>\n",
       "      <th>prob</th>\n",
       "    </tr>\n",
       "  </thead>\n",
       "  <tbody>\n",
       "    <tr>\n",
       "      <th>count</th>\n",
       "      <td>3040.000000</td>\n",
       "      <td>3040.000000</td>\n",
       "      <td>3040.000000</td>\n",
       "      <td>3040.000000</td>\n",
       "    </tr>\n",
       "    <tr>\n",
       "      <th>mean</th>\n",
       "      <td>0.470861</td>\n",
       "      <td>0.307094</td>\n",
       "      <td>0.264322</td>\n",
       "      <td>1.042276</td>\n",
       "    </tr>\n",
       "    <tr>\n",
       "      <th>std</th>\n",
       "      <td>0.193458</td>\n",
       "      <td>0.170579</td>\n",
       "      <td>0.046578</td>\n",
       "      <td>0.014981</td>\n",
       "    </tr>\n",
       "    <tr>\n",
       "      <th>min</th>\n",
       "      <td>0.066667</td>\n",
       "      <td>0.034483</td>\n",
       "      <td>0.090909</td>\n",
       "      <td>1.017025</td>\n",
       "    </tr>\n",
       "    <tr>\n",
       "      <th>25%</th>\n",
       "      <td>0.333333</td>\n",
       "      <td>0.181818</td>\n",
       "      <td>0.238095</td>\n",
       "      <td>1.025770</td>\n",
       "    </tr>\n",
       "    <tr>\n",
       "      <th>50%</th>\n",
       "      <td>0.454545</td>\n",
       "      <td>0.285714</td>\n",
       "      <td>0.277778</td>\n",
       "      <td>1.050549</td>\n",
       "    </tr>\n",
       "    <tr>\n",
       "      <th>75%</th>\n",
       "      <td>0.598802</td>\n",
       "      <td>0.400000</td>\n",
       "      <td>0.303030</td>\n",
       "      <td>1.055556</td>\n",
       "    </tr>\n",
       "    <tr>\n",
       "      <th>max</th>\n",
       "      <td>0.909091</td>\n",
       "      <td>0.819672</td>\n",
       "      <td>0.333333</td>\n",
       "      <td>1.097706</td>\n",
       "    </tr>\n",
       "  </tbody>\n",
       "</table>\n",
       "</div>"
      ],
      "text/plain": [
       "       prob_home_win  prob_away_win    prob_draw         prob\n",
       "count    3040.000000    3040.000000  3040.000000  3040.000000\n",
       "mean        0.470861       0.307094     0.264322     1.042276\n",
       "std         0.193458       0.170579     0.046578     0.014981\n",
       "min         0.066667       0.034483     0.090909     1.017025\n",
       "25%         0.333333       0.181818     0.238095     1.025770\n",
       "50%         0.454545       0.285714     0.277778     1.050549\n",
       "75%         0.598802       0.400000     0.303030     1.055556\n",
       "max         0.909091       0.819672     0.333333     1.097706"
      ]
     },
     "execution_count": 128,
     "metadata": {},
     "output_type": "execute_result"
    }
   ],
   "source": [
    "prem_league[['prob_home_win', 'prob_away_win', 'prob_draw', 'prob']].describe()"
   ]
  },
  {
   "cell_type": "markdown",
   "metadata": {
    "colab_type": "text",
    "id": "97ZE-jd8btHg"
   },
   "source": [
    "Notice how the the `prob` column is always greater than 1.  This is how the \"house\" always wins... they have allocated a probability to all three outcomes greater than one.  They are overstating the true odds, which means they will collect the implied margin over the long run. If we assume that the same margin is applied to each possible outcome, then we can back out implied probabilities (that sum to one) from the odds."
   ]
  },
  {
   "cell_type": "code",
   "execution_count": 129,
   "metadata": {},
   "outputs": [],
   "source": [
    "prem_league['prob_home_win'] = prem_league['prob_home_win']/prem_league['prob']\n",
    "prem_league['prob_away_win'] = prem_league['prob_away_win']/prem_league['prob']\n",
    "prem_league['prob_draw'] = prem_league['prob_draw']/prem_league['prob']"
   ]
  },
  {
   "cell_type": "code",
   "execution_count": 130,
   "metadata": {
    "colab": {
     "autoexec": {
      "startup": false,
      "wait_interval": 0
     }
    },
    "colab_type": "code",
    "id": "UYQjJ1HhbtHi"
   },
   "outputs": [
    {
     "data": {
      "text/plain": [
       "home_win         0.457237\n",
       "prob_home_win    0.451706\n",
       "dtype: float64"
      ]
     },
     "execution_count": 130,
     "metadata": {},
     "output_type": "execute_result"
    }
   ],
   "source": [
    "prem_league[['home_win', 'prob_home_win']].mean()"
   ]
  },
  {
   "cell_type": "code",
   "execution_count": 131,
   "metadata": {},
   "outputs": [
    {
     "data": {
      "text/plain": [
       "id\n",
       "1729    1.0\n",
       "1730    1.0\n",
       "1771    1.0\n",
       "1731    1.0\n",
       "1732    1.0\n",
       "dtype: float64"
      ]
     },
     "execution_count": 131,
     "metadata": {},
     "output_type": "execute_result"
    }
   ],
   "source": [
    "#check that probabilities now sum to 1\n",
    "prem_league[['prob_home_win','prob_away_win','prob_draw']].sum(axis=1).head()"
   ]
  },
  {
   "cell_type": "code",
   "execution_count": 132,
   "metadata": {
    "colab": {
     "autoexec": {
      "startup": false,
      "wait_interval": 0
     }
    },
    "colab_type": "code",
    "id": "ud3km2H6btHm"
   },
   "outputs": [
    {
     "data": {
      "text/plain": [
       "away_win         0.285197\n",
       "prob_away_win    0.294696\n",
       "dtype: float64"
      ]
     },
     "execution_count": 132,
     "metadata": {},
     "output_type": "execute_result"
    }
   ],
   "source": [
    "prem_league[['away_win', 'prob_away_win']].mean()"
   ]
  },
  {
   "cell_type": "code",
   "execution_count": 133,
   "metadata": {
    "colab": {
     "autoexec": {
      "startup": false,
      "wait_interval": 0
     }
    },
    "colab_type": "code",
    "id": "fsjz8CPibtHn"
   },
   "outputs": [
    {
     "data": {
      "image/png": "[encoded data removed]",
      "text/plain": [
       "<matplotlib.figure.Figure at 0x1131a0390>"
      ]
     },
     "metadata": {},
     "output_type": "display_data"
    }
   ],
   "source": [
    "fig, ax = plt.subplots(3, 1, figsize=(10, 10), sharey=True)\n",
    "for i, prob in enumerate(['prob_away_win', 'prob_draw', 'prob_home_win']):\n",
    "    sns.boxplot(x='outcome_name', y=prob, data=prem_league, ax=ax[i], order=['away_win', 'draw', 'home_win'])\n",
    "plt.tight_layout()"
   ]
  },
  {
   "cell_type": "markdown",
   "metadata": {
    "colab_type": "text",
    "id": "t25-sYBTbtHo"
   },
   "source": [
    "We need to get the an estimate for the prediction of the bookmaker.  I will introduce the concept of `certainty` which gives a measure of how certain he we will call the game with an outright winner.  A `certainty` score of 100% means he is 100% certain of a \"home win\", while a score of -100% means he is certain of an \"away win\". A score close to zero means that it is too close to call an outright winner. \n",
    "\n",
    "In the chart below, we can see that there is uncertainty, but we must still create cutoff for a single prediction. Overall, there seem to be more blue dots in the top left corner (high away probability and low home probability of win). In contrast, the bottom right is `more red`.  \n",
    "\n",
    "In the machine learning literature a lot of predictions are based on the highest probability outcome.  In this case we will set thresholds for the certainty because these two predictions work together to get a better understanding of the actual prediction."
   ]
  },
  {
   "cell_type": "code",
   "execution_count": 134,
   "metadata": {
    "colab": {
     "autoexec": {
      "startup": false,
      "wait_interval": 0
     }
    },
    "colab_type": "code",
    "id": "G-bYZRKRbtHp"
   },
   "outputs": [
    {
     "data": {
      "text/plain": [
       "<matplotlib.axes._subplots.AxesSubplot at 0x116ce35f8>"
      ]
     },
     "execution_count": 134,
     "metadata": {},
     "output_type": "execute_result"
    },
    {
     "data": {
      "image/png": "[encoded data removed]",
      "text/plain": [
       "<matplotlib.figure.Figure at 0x1133bf5c0>"
      ]
     },
     "metadata": {},
     "output_type": "display_data"
    }
   ],
   "source": [
    "prem_league.plot(x='prob_home_win', y='prob_away_win', \n",
    "                 kind='scatter', c='outcome', \n",
    "                 colormap='coolwarm', figsize=(8, 8))"
   ]
  },
  {
   "cell_type": "code",
   "execution_count": 135,
   "metadata": {
    "colab": {
     "autoexec": {
      "startup": false,
      "wait_interval": 0
     }
    },
    "colab_type": "code",
    "id": "ayQxcNCObtHq"
   },
   "outputs": [],
   "source": [
    "prem_league['certainty'] = prem_league['prob_home_win'] - prem_league['prob_away_win']"
   ]
  },
  {
   "cell_type": "code",
   "execution_count": 136,
   "metadata": {
    "colab": {
     "autoexec": {
      "startup": false,
      "wait_interval": 0
     }
    },
    "colab_type": "code",
    "id": "E8Fp8LW-btHt"
   },
   "outputs": [
    {
     "data": {
      "text/plain": [
       "array([<matplotlib.axes._subplots.AxesSubplot object at 0x112b9abe0>,\n",
       "       <matplotlib.axes._subplots.AxesSubplot object at 0x10b67d978>,\n",
       "       <matplotlib.axes._subplots.AxesSubplot object at 0x10b663278>],\n",
       "      dtype=object)"
      ]
     },
     "execution_count": 136,
     "metadata": {},
     "output_type": "execute_result"
    },
    {
     "data": {
      "image/png": "[encoded data removed]",
      "text/plain": [
       "<matplotlib.figure.Figure at 0x114c8d908>"
      ]
     },
     "metadata": {},
     "output_type": "display_data"
    }
   ],
   "source": [
    "prem_league.hist(column='certainty', by='outcome_name', sharey=True, layout=(1, 3), sharex=True, figsize=(10, 5))"
   ]
  },
  {
   "cell_type": "code",
   "execution_count": 137,
   "metadata": {
    "colab": {
     "autoexec": {
      "startup": false,
      "wait_interval": 0
     }
    },
    "colab_type": "code",
    "id": "M5MQ7cnfbtHu"
   },
   "outputs": [],
   "source": [
    "def bookie(certainty, home, away):\n",
    "    if certainty > home:\n",
    "        return 'home_win'\n",
    "    if certainty < away:\n",
    "        return 'away_win'\n",
    "    else:\n",
    "        return 'draw'    "
   ]
  },
  {
   "cell_type": "code",
   "execution_count": 138,
   "metadata": {
    "colab": {
     "autoexec": {
      "startup": false,
      "wait_interval": 0
     }
    },
    "colab_type": "code",
    "id": "teaFl9JebtHw"
   },
   "outputs": [],
   "source": [
    "prem_league['bookie'] = prem_league.apply(lambda x: bookie(x['certainty'], 0.15, -0.15),axis=1)"
   ]
  },
  {
   "cell_type": "code",
   "execution_count": 139,
   "metadata": {
    "colab": {
     "autoexec": {
      "startup": false,
      "wait_interval": 0
     }
    },
    "colab_type": "code",
    "id": "TKEgyKdbbtHx"
   },
   "outputs": [],
   "source": [
    "prem_league['bookie_right'] = (prem_league['bookie'] == prem_league['outcome_name']).astype('int')"
   ]
  },
  {
   "cell_type": "code",
   "execution_count": 140,
   "metadata": {
    "colab": {
     "autoexec": {
      "startup": false,
      "wait_interval": 0
     }
    },
    "colab_type": "code",
    "id": "ikXW9jM1btHz"
   },
   "outputs": [
    {
     "data": {
      "text/html": [
       "<div>\n",
       "<style scoped>\n",
       "    .dataframe tbody tr th:only-of-type {\n",
       "        vertical-align: middle;\n",
       "    }\n",
       "\n",
       "    .dataframe tbody tr th {\n",
       "        vertical-align: top;\n",
       "    }\n",
       "\n",
       "    .dataframe thead th {\n",
       "        text-align: right;\n",
       "    }\n",
       "</style>\n",
       "<table border=\"1\" class=\"dataframe\">\n",
       "  <thead>\n",
       "    <tr style=\"text-align: right;\">\n",
       "      <th></th>\n",
       "      <th>bookie</th>\n",
       "      <th>outcome_name</th>\n",
       "      <th>bookie_right</th>\n",
       "    </tr>\n",
       "    <tr>\n",
       "      <th>id</th>\n",
       "      <th></th>\n",
       "      <th></th>\n",
       "      <th></th>\n",
       "    </tr>\n",
       "  </thead>\n",
       "  <tbody>\n",
       "    <tr>\n",
       "      <th>1729</th>\n",
       "      <td>home_win</td>\n",
       "      <td>draw</td>\n",
       "      <td>0</td>\n",
       "    </tr>\n",
       "    <tr>\n",
       "      <th>1730</th>\n",
       "      <td>home_win</td>\n",
       "      <td>home_win</td>\n",
       "      <td>1</td>\n",
       "    </tr>\n",
       "    <tr>\n",
       "      <th>1771</th>\n",
       "      <td>draw</td>\n",
       "      <td>draw</td>\n",
       "      <td>1</td>\n",
       "    </tr>\n",
       "    <tr>\n",
       "      <th>1731</th>\n",
       "      <td>away_win</td>\n",
       "      <td>away_win</td>\n",
       "      <td>1</td>\n",
       "    </tr>\n",
       "    <tr>\n",
       "      <th>1732</th>\n",
       "      <td>home_win</td>\n",
       "      <td>home_win</td>\n",
       "      <td>1</td>\n",
       "    </tr>\n",
       "  </tbody>\n",
       "</table>\n",
       "</div>"
      ],
      "text/plain": [
       "        bookie outcome_name  bookie_right\n",
       "id                                       \n",
       "1729  home_win         draw             0\n",
       "1730  home_win     home_win             1\n",
       "1771      draw         draw             1\n",
       "1731  away_win     away_win             1\n",
       "1732  home_win     home_win             1"
      ]
     },
     "execution_count": 140,
     "metadata": {},
     "output_type": "execute_result"
    }
   ],
   "source": [
    "prem_league[['bookie', 'outcome_name', 'bookie_right']].head()"
   ]
  },
  {
   "cell_type": "code",
   "execution_count": 141,
   "metadata": {
    "colab": {
     "autoexec": {
      "startup": false,
      "wait_interval": 0
     }
    },
    "colab_type": "code",
    "id": "-Kdx76lFbtH1"
   },
   "outputs": [
    {
     "data": {
      "text/plain": [
       "0.5148026315789473"
      ]
     },
     "execution_count": 141,
     "metadata": {},
     "output_type": "execute_result"
    }
   ],
   "source": [
    "prem_league['bookie_right'].mean()"
   ]
  },
  {
   "cell_type": "markdown",
   "metadata": {
    "colab_type": "text",
    "id": "eVhcFEfmbtH2"
   },
   "source": [
    "This provides us with a good sense check... the bookie doesn't have to be right everytime! He is right, on average, slightly better than tossing a coin. And when it lands in his favour, he makes a profit."
   ]
  },
  {
   "cell_type": "code",
   "execution_count": 142,
   "metadata": {
    "colab": {
     "autoexec": {
      "startup": false,
      "wait_interval": 0
     }
    },
    "colab_type": "code",
    "id": "oI6ClbXnbtH3"
   },
   "outputs": [
    {
     "data": {
      "text/html": [
       "<div>\n",
       "<style scoped>\n",
       "    .dataframe tbody tr th:only-of-type {\n",
       "        vertical-align: middle;\n",
       "    }\n",
       "\n",
       "    .dataframe tbody tr th {\n",
       "        vertical-align: top;\n",
       "    }\n",
       "\n",
       "    .dataframe thead th {\n",
       "        text-align: right;\n",
       "    }\n",
       "</style>\n",
       "<table border=\"1\" class=\"dataframe\">\n",
       "  <thead>\n",
       "    <tr style=\"text-align: right;\">\n",
       "      <th>outcome_name</th>\n",
       "      <th>away_win</th>\n",
       "      <th>draw</th>\n",
       "      <th>home_win</th>\n",
       "    </tr>\n",
       "    <tr>\n",
       "      <th>bookie</th>\n",
       "      <th></th>\n",
       "      <th></th>\n",
       "      <th></th>\n",
       "    </tr>\n",
       "  </thead>\n",
       "  <tbody>\n",
       "    <tr>\n",
       "      <th>away_win</th>\n",
       "      <td>332</td>\n",
       "      <td>148</td>\n",
       "      <td>127</td>\n",
       "    </tr>\n",
       "    <tr>\n",
       "      <th>draw</th>\n",
       "      <td>262</td>\n",
       "      <td>260</td>\n",
       "      <td>290</td>\n",
       "    </tr>\n",
       "    <tr>\n",
       "      <th>home_win</th>\n",
       "      <td>273</td>\n",
       "      <td>375</td>\n",
       "      <td>973</td>\n",
       "    </tr>\n",
       "  </tbody>\n",
       "</table>\n",
       "</div>"
      ],
      "text/plain": [
       "outcome_name  away_win  draw  home_win\n",
       "bookie                                \n",
       "away_win           332   148       127\n",
       "draw               262   260       290\n",
       "home_win           273   375       973"
      ]
     },
     "execution_count": 142,
     "metadata": {},
     "output_type": "execute_result"
    }
   ],
   "source": [
    "prem_league.pivot_table(values='bookie_right', columns='outcome_name', index='bookie', aggfunc='count')"
   ]
  },
  {
   "cell_type": "code",
   "execution_count": 143,
   "metadata": {
    "colab": {
     "autoexec": {
      "startup": false,
      "wait_interval": 0
     }
    },
    "colab_type": "code",
    "id": "UNYOyM6QbtH6"
   },
   "outputs": [
    {
     "data": {
      "text/plain": [
       "outcome_name\n",
       "away_win    0.382930\n",
       "draw        0.332056\n",
       "home_win    0.700000\n",
       "Name: bookie_right, dtype: float64"
      ]
     },
     "execution_count": 143,
     "metadata": {},
     "output_type": "execute_result"
    }
   ],
   "source": [
    "prem_league.groupby('outcome_name')['bookie_right'].mean()"
   ]
  },
  {
   "cell_type": "markdown",
   "metadata": {
    "colab_type": "text",
    "id": "XTbMoUq7btH8"
   },
   "source": [
    "To interpret this, the bookie is correct in predicting home winners 70% of the time under this certainty metric.  \n",
    "\n",
    "As a further exercise, how else could you model the relationship between the bookies' odds and the actual outcome?"
   ]
  },
  {
   "cell_type": "markdown",
   "metadata": {
    "colab_type": "text",
    "id": "OMKeZxQ7btH9"
   },
   "source": [
    "# Further Reading\n",
    "Other great resources for more on Bayes Theorem:\n",
    "1. [Simple Explanation using Legos](https://www.countbayesie.com/blog/2015/2/18/bayes-theorem-with-lego) \n",
    "2. [Wikipedia](http://en.wikipedia.org/wiki/Bayes%27_theorem) \n",
    "3. [Stat Trek](http://stattrek.com/probability/bayes-theorem.aspx)"
   ]
  }
 ],
 "metadata": {
  "colab": {
   "default_view": {},
   "name": "1_Bayesian_examples.ipynb",
   "provenance": [],
   "version": "0.3.2",
   "views": {}
  },
  "kernelspec": {
   "display_name": "Python 3",
   "language": "python",
   "name": "python3"
  },
  "language_info": {
   "codemirror_mode": {
    "name": "ipython",
    "version": 3
   },
   "file_extension": ".py",
   "mimetype": "text/x-python",
   "name": "python",
   "nbconvert_exporter": "python",
   "pygments_lexer": "ipython3",
   "version": "3.6.5"
  }
 },
 "nbformat": 4,
 "nbformat_minor": 2
}
