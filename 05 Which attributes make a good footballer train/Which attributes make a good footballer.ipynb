{
 "cells": [
  {
   "cell_type": "markdown",
   "metadata": {
    "colab_type": "text",
    "id": "vBHuivsnFTWZ"
   },
   "source": [
    "# Which Player Attributes Make A Good Footballer?"
   ]
  },
  {
   "cell_type": "markdown",
   "metadata": {
    "colab_type": "text",
    "id": "g0Y1ObuFFTWb"
   },
   "source": [
    "In the previous notebook we looked at tree algorithms and how they can be used for classification. **Random forests** are also very useful to extract the most important features in a dataset. This is very helpful when we are dealing with a very large feature space. So in this notebook we will look at how we can perform feature selection using random forests.\n",
    "\n",
    "![Random_Forest](https://github.com/James-Leslie/Learning-Library/blob/master/Image-repository/random_forest.png?raw=TRUE)\n",
    "\n",
    "## What's so *random* about this forest?\n",
    "Let's look at how the random forest algorithm works at a high level:\n",
    " * Let's say we have a dataset with $N$ observations and $P$ predictors\n",
    " * Grow many trees to create the 'forest'\n",
    " * For each tree: \n",
    "    * use a randomly chosen subset $n$ of the sample size, where $n < N$\n",
    "    * use only $p$ randomnly chosen predictors, where $p < P$\n",
    "    \n",
    "When making decisions, random forests use either the majority class for classification, or the average value from all decision trees in regression problems."
   ]
  },
  {
   "cell_type": "markdown",
   "metadata": {
    "colab_type": "text",
    "id": "bnD8WrpGFTWc"
   },
   "source": [
    "## Why feature selection?\n",
    "\n",
    "Machine learning works on a simple rule – the quality of the output depends on the quality of the input (data).\n",
    "\n",
    "This becomes even more important when the number of features are very large. You don't need to use every feature for creating an algorithm. You can assist your algorithm by feeding in only those features that are really important.\n",
    "\n",
    "Top reasons to use feature selection are:\n",
    "\n",
    "* It enables the machine learning algorithm to train faster.\n",
    "* It reduces the complexity of a model and makes it easier to interpret.\n",
    "* It improves the accuracy of a model if the right subset is chosen.\n",
    "* It reduces overfitting."
   ]
  },
  {
   "cell_type": "markdown",
   "metadata": {
    "colab_type": "text",
    "id": "aF8iqy2mFTWc"
   },
   "source": [
    "## How does a random forest perform feature selection?\n",
    "In training a decision tree, we begin with all of our training data at the root node and then partition the data into smaller subsets which form the 'branches' of the tree.\n",
    "\n",
    "When partitioning the data at each node, two questions need to be answered:\n",
    "\n",
    "1. which predictor variable should be used as the split criterion?\n",
    "2. what value of the predictor variable should be used as the splitting point?   \n",
    "\n",
    "Partitioning happens at each node in the tree using an algorithm known as **recursive binary splitting** which uses the following logic:\n",
    "\n",
    "1. Consider all possible predictor variables\n",
    "  - Consider all possible splits for each variable\n",
    "2. Select predictor and split based on best separation of data*\n",
    "3. Divide data into 2 subsets based on the selected split\n",
    "4. Repeat steps 1-3 for all subsets until some desired ending criteria has been reached\n",
    "\n",
    "\\*the best separation in the data is determined by the split point which results in the lowest variation in the data on either side of the split point. In regression, the variation on either side of the split point is measured by the MSE. \n",
    "\n",
    "For classification, the [Gini impurity index](http://dni-institute.in/blogs/cart-decision-tree-gini-index-explained/) is used to determine the best split point.\n",
    "\n",
    "![split1](https://github.com/James-Leslie/Learning-Library/blob/master/ML%20for%20Actuaries/3_Tree-Based_Regression/splitting_1.png?raw=TRUE)\n",
    "\n",
    "![split2](https://github.com/James-Leslie/Learning-Library/blob/master/ML%20for%20Actuaries/3_Tree-Based_Regression/splitting_2.png?raw=TRUE)"
   ]
  },
  {
   "cell_type": "markdown",
   "metadata": {
    "colab_type": "text",
    "id": "iO9NIBpHFTWc"
   },
   "source": [
    "## Feature selection using the FIFA 2018 players dataset\n",
    "\n",
    "Let's use the the FIFA 2018 players dataset to select the most important features to predict the overall rating of a forward. We start by importing some libraries."
   ]
  },
  {
   "cell_type": "code",
   "execution_count": 0,
   "metadata": {
    "colab": {
     "autoexec": {
      "startup": false,
      "wait_interval": 0
     }
    },
    "colab_type": "code",
    "id": "GMd1wgx0FTWd"
   },
   "outputs": [],
   "source": [
    "# imports\n",
    "from sqlalchemy import create_engine\n",
    "import psycopg2\n",
    "\n",
    "%matplotlib inline\n",
    "import numpy as np\n",
    "import pandas as pd\n",
    "import matplotlib.pyplot as plt\n",
    "import seaborn as sns"
   ]
  },
  {
   "cell_type": "code",
   "execution_count": 0,
   "metadata": {
    "colab": {
     "autoexec": {
      "startup": false,
      "wait_interval": 0
     },
     "base_uri": "https://localhost:8080/",
     "height": 423
    },
    "colab_type": "code",
    "executionInfo": {
     "elapsed": 2310,
     "status": "ok",
     "timestamp": 1527074701693,
     "user": {
      "displayName": "James Leslie",
      "photoUrl": "https://lh3.googleusercontent.com/a/default-user=s128",
      "userId": "111280259696145667321"
     },
     "user_tz": -120
    },
    "id": "xLQxDzolFTWh",
    "outputId": "f484006d-c96d-4b8f-8d10-fc39c8ddb24e"
   },
   "outputs": [
    {
     "name": "stderr",
     "output_type": "stream",
     "text": [
      "C:\\Users\\jlesl\\Anaconda3\\lib\\site-packages\\IPython\\core\\interactiveshell.py:2717: DtypeWarning: Columns (23,35) have mixed types. Specify dtype option on import or set low_memory=False.\n",
      "  interactivity=interactivity, compiler=compiler, result=result)\n"
     ]
    },
    {
     "data": {
      "text/html": [
       "<div>\n",
       "<style>\n",
       "    .dataframe thead tr:only-child th {\n",
       "        text-align: right;\n",
       "    }\n",
       "\n",
       "    .dataframe thead th {\n",
       "        text-align: left;\n",
       "    }\n",
       "\n",
       "    .dataframe tbody tr th {\n",
       "        vertical-align: top;\n",
       "    }\n",
       "</style>\n",
       "<table border=\"1\" class=\"dataframe\">\n",
       "  <thead>\n",
       "    <tr style=\"text-align: right;\">\n",
       "      <th></th>\n",
       "      <th>Name</th>\n",
       "      <th>Age</th>\n",
       "      <th>Photo</th>\n",
       "      <th>Nationality</th>\n",
       "      <th>Flag</th>\n",
       "      <th>Overall</th>\n",
       "      <th>Potential</th>\n",
       "      <th>Club</th>\n",
       "      <th>Club Logo</th>\n",
       "      <th>Value</th>\n",
       "      <th>...</th>\n",
       "      <th>RB</th>\n",
       "      <th>RCB</th>\n",
       "      <th>RCM</th>\n",
       "      <th>RDM</th>\n",
       "      <th>RF</th>\n",
       "      <th>RM</th>\n",
       "      <th>RS</th>\n",
       "      <th>RW</th>\n",
       "      <th>RWB</th>\n",
       "      <th>ST</th>\n",
       "    </tr>\n",
       "  </thead>\n",
       "  <tbody>\n",
       "    <tr>\n",
       "      <th>0</th>\n",
       "      <td>Cristiano Ronaldo</td>\n",
       "      <td>32</td>\n",
       "      <td>https://cdn.sofifa.org/48/18/players/20801.png</td>\n",
       "      <td>Portugal</td>\n",
       "      <td>https://cdn.sofifa.org/flags/38.png</td>\n",
       "      <td>94</td>\n",
       "      <td>94</td>\n",
       "      <td>Real Madrid CF</td>\n",
       "      <td>https://cdn.sofifa.org/24/18/teams/243.png</td>\n",
       "      <td>€95.5M</td>\n",
       "      <td>...</td>\n",
       "      <td>61.0</td>\n",
       "      <td>53.0</td>\n",
       "      <td>82.0</td>\n",
       "      <td>62.0</td>\n",
       "      <td>91.0</td>\n",
       "      <td>89.0</td>\n",
       "      <td>92.0</td>\n",
       "      <td>91.0</td>\n",
       "      <td>66.0</td>\n",
       "      <td>92.0</td>\n",
       "    </tr>\n",
       "    <tr>\n",
       "      <th>1</th>\n",
       "      <td>L. Messi</td>\n",
       "      <td>30</td>\n",
       "      <td>https://cdn.sofifa.org/48/18/players/158023.png</td>\n",
       "      <td>Argentina</td>\n",
       "      <td>https://cdn.sofifa.org/flags/52.png</td>\n",
       "      <td>93</td>\n",
       "      <td>93</td>\n",
       "      <td>FC Barcelona</td>\n",
       "      <td>https://cdn.sofifa.org/24/18/teams/241.png</td>\n",
       "      <td>€105M</td>\n",
       "      <td>...</td>\n",
       "      <td>57.0</td>\n",
       "      <td>45.0</td>\n",
       "      <td>84.0</td>\n",
       "      <td>59.0</td>\n",
       "      <td>92.0</td>\n",
       "      <td>90.0</td>\n",
       "      <td>88.0</td>\n",
       "      <td>91.0</td>\n",
       "      <td>62.0</td>\n",
       "      <td>88.0</td>\n",
       "    </tr>\n",
       "    <tr>\n",
       "      <th>2</th>\n",
       "      <td>Neymar</td>\n",
       "      <td>25</td>\n",
       "      <td>https://cdn.sofifa.org/48/18/players/190871.png</td>\n",
       "      <td>Brazil</td>\n",
       "      <td>https://cdn.sofifa.org/flags/54.png</td>\n",
       "      <td>92</td>\n",
       "      <td>94</td>\n",
       "      <td>Paris Saint-Germain</td>\n",
       "      <td>https://cdn.sofifa.org/24/18/teams/73.png</td>\n",
       "      <td>€123M</td>\n",
       "      <td>...</td>\n",
       "      <td>59.0</td>\n",
       "      <td>46.0</td>\n",
       "      <td>79.0</td>\n",
       "      <td>59.0</td>\n",
       "      <td>88.0</td>\n",
       "      <td>87.0</td>\n",
       "      <td>84.0</td>\n",
       "      <td>89.0</td>\n",
       "      <td>64.0</td>\n",
       "      <td>84.0</td>\n",
       "    </tr>\n",
       "    <tr>\n",
       "      <th>3</th>\n",
       "      <td>L. Suárez</td>\n",
       "      <td>30</td>\n",
       "      <td>https://cdn.sofifa.org/48/18/players/176580.png</td>\n",
       "      <td>Uruguay</td>\n",
       "      <td>https://cdn.sofifa.org/flags/60.png</td>\n",
       "      <td>92</td>\n",
       "      <td>92</td>\n",
       "      <td>FC Barcelona</td>\n",
       "      <td>https://cdn.sofifa.org/24/18/teams/241.png</td>\n",
       "      <td>€97M</td>\n",
       "      <td>...</td>\n",
       "      <td>64.0</td>\n",
       "      <td>58.0</td>\n",
       "      <td>80.0</td>\n",
       "      <td>65.0</td>\n",
       "      <td>88.0</td>\n",
       "      <td>85.0</td>\n",
       "      <td>88.0</td>\n",
       "      <td>87.0</td>\n",
       "      <td>68.0</td>\n",
       "      <td>88.0</td>\n",
       "    </tr>\n",
       "    <tr>\n",
       "      <th>4</th>\n",
       "      <td>M. Neuer</td>\n",
       "      <td>31</td>\n",
       "      <td>https://cdn.sofifa.org/48/18/players/167495.png</td>\n",
       "      <td>Germany</td>\n",
       "      <td>https://cdn.sofifa.org/flags/21.png</td>\n",
       "      <td>92</td>\n",
       "      <td>92</td>\n",
       "      <td>FC Bayern Munich</td>\n",
       "      <td>https://cdn.sofifa.org/24/18/teams/21.png</td>\n",
       "      <td>€61M</td>\n",
       "      <td>...</td>\n",
       "      <td>NaN</td>\n",
       "      <td>NaN</td>\n",
       "      <td>NaN</td>\n",
       "      <td>NaN</td>\n",
       "      <td>NaN</td>\n",
       "      <td>NaN</td>\n",
       "      <td>NaN</td>\n",
       "      <td>NaN</td>\n",
       "      <td>NaN</td>\n",
       "      <td>NaN</td>\n",
       "    </tr>\n",
       "  </tbody>\n",
       "</table>\n",
       "<p>5 rows × 74 columns</p>\n",
       "</div>"
      ],
      "text/plain": [
       "                Name  Age                                            Photo  \\\n",
       "0  Cristiano Ronaldo   32   https://cdn.sofifa.org/48/18/players/20801.png   \n",
       "1           L. Messi   30  https://cdn.sofifa.org/48/18/players/158023.png   \n",
       "2             Neymar   25  https://cdn.sofifa.org/48/18/players/190871.png   \n",
       "3          L. Suárez   30  https://cdn.sofifa.org/48/18/players/176580.png   \n",
       "4           M. Neuer   31  https://cdn.sofifa.org/48/18/players/167495.png   \n",
       "\n",
       "  Nationality                                 Flag  Overall  Potential  \\\n",
       "0    Portugal  https://cdn.sofifa.org/flags/38.png       94         94   \n",
       "1   Argentina  https://cdn.sofifa.org/flags/52.png       93         93   \n",
       "2      Brazil  https://cdn.sofifa.org/flags/54.png       92         94   \n",
       "3     Uruguay  https://cdn.sofifa.org/flags/60.png       92         92   \n",
       "4     Germany  https://cdn.sofifa.org/flags/21.png       92         92   \n",
       "\n",
       "                  Club                                   Club Logo   Value  \\\n",
       "0       Real Madrid CF  https://cdn.sofifa.org/24/18/teams/243.png  €95.5M   \n",
       "1         FC Barcelona  https://cdn.sofifa.org/24/18/teams/241.png   €105M   \n",
       "2  Paris Saint-Germain   https://cdn.sofifa.org/24/18/teams/73.png   €123M   \n",
       "3         FC Barcelona  https://cdn.sofifa.org/24/18/teams/241.png    €97M   \n",
       "4     FC Bayern Munich   https://cdn.sofifa.org/24/18/teams/21.png    €61M   \n",
       "\n",
       "   ...     RB   RCB   RCM   RDM    RF    RM    RS    RW   RWB    ST  \n",
       "0  ...   61.0  53.0  82.0  62.0  91.0  89.0  92.0  91.0  66.0  92.0  \n",
       "1  ...   57.0  45.0  84.0  59.0  92.0  90.0  88.0  91.0  62.0  88.0  \n",
       "2  ...   59.0  46.0  79.0  59.0  88.0  87.0  84.0  89.0  64.0  84.0  \n",
       "3  ...   64.0  58.0  80.0  65.0  88.0  85.0  88.0  87.0  68.0  88.0  \n",
       "4  ...    NaN   NaN   NaN   NaN   NaN   NaN   NaN   NaN   NaN   NaN  \n",
       "\n",
       "[5 rows x 74 columns]"
      ]
     },
     "execution_count": 2,
     "metadata": {
      "tags": []
     },
     "output_type": "execute_result"
    }
   ],
   "source": [
    "#connect to the sql dataset on AWS \n",
    "db_settings = {'host' : 'edsasoccerinstance.cnzbp4ndrpos.eu-west-1.rds.amazonaws.com', 'dbname' : 'edsaLeagueSoccerDatabase', 'user' : 'edsaSoccer', 'password' : 'edsaSoccer'} \n",
    "conn_string = ' '.join([\"{}='{}'\".format(k, v) for k, v in db_settings.items()]) \n",
    "print (conn_string)\n",
    "conn_rds = psycopg2.connect(conn_string) \n",
    "print('Created connection')\n",
    "\n",
    "players = pd.read_sql_query(\"select * from players\", con=conn_rds) \n",
    "players.head()"
   ]
  },
  {
   "cell_type": "markdown",
   "metadata": {
    "colab_type": "text",
    "id": "tWoFx68IFTWk"
   },
   "source": [
    "We write the same function as in the previous notebook to get the position of the player."
   ]
  },
  {
   "cell_type": "code",
   "execution_count": 0,
   "metadata": {
    "colab": {
     "autoexec": {
      "startup": false,
      "wait_interval": 0
     }
    },
    "colab_type": "code",
    "id": "Bv3mB5sYFTWl"
   },
   "outputs": [],
   "source": [
    "def position_type(s):\n",
    "    \n",
    "    \"\"\"\"This function converts the individual positions (abbreviations) and classfies it\n",
    "    as either a forward, midfielder, back or goal keeper\"\"\"\n",
    "    \n",
    "    if (s[-2] == 'T') | (s[-2] == 'W') | (s[-2] == 'F'):\n",
    "        return 'Forward'\n",
    "    elif s[-2] == 'M':\n",
    "        return 'Midfielder'\n",
    "    elif s[-2] == 'B':\n",
    "        return 'Back'\n",
    "    else:\n",
    "        return 'GoalKeeper'\n",
    "\n",
    "    \n",
    "# Group players into Forward, Midfielder, Back and GoalKeeper\n",
    "players['Preferred Positions Type'] = players['Preferred Positions'].apply(lambda x: position_type(x))"
   ]
  },
  {
   "cell_type": "code",
   "execution_count": 0,
   "metadata": {
    "colab": {
     "autoexec": {
      "startup": false,
      "wait_interval": 0
     }
    },
    "colab_type": "code",
    "id": "ec3dBqZDFTWn"
   },
   "outputs": [],
   "source": [
    "# Select all attribute columns\n",
    "cols = ['Overall', 'Acceleration','Aggression', 'Agility', 'Balance', 'Ball control', \n",
    "               'Composure','Crossing', 'Curve', 'Dribbling', 'Finishing', 'Free kick accuracy',\n",
    "               'GK diving', 'GK handling', 'GK kicking', 'GK positioning',\n",
    "               'GK reflexes', 'Heading accuracy', 'Interceptions', 'Jumping',\n",
    "               'Long passing', 'Long shots', 'Marking', 'Penalties', 'Positioning',\n",
    "               'Reactions', 'Short passing', 'Shot power', 'Sliding tackle',\n",
    "               'Sprint speed', 'Stamina', 'Standing tackle', 'Strength', 'Vision',\n",
    "               'Volleys']"
   ]
  },
  {
   "cell_type": "markdown",
   "metadata": {
    "colab_type": "text",
    "id": "vhb34us-FTWp"
   },
   "source": [
    "Some of the columns are integers and some are strings. Let's write a function to convert it all to floats."
   ]
  },
  {
   "cell_type": "code",
   "execution_count": 0,
   "metadata": {
    "colab": {
     "autoexec": {
      "startup": false,
      "wait_interval": 0
     }
    },
    "colab_type": "code",
    "id": "UWCNUFhWFTWq"
   },
   "outputs": [],
   "source": [
    "def to_float(x):    \n",
    "    \"Transforms attribute columns to type float\"\n",
    "    \n",
    "    if type(x) is int:\n",
    "        return float(x)\n",
    "    else:\n",
    "        return float(x[0:2])"
   ]
  },
  {
   "cell_type": "code",
   "execution_count": 0,
   "metadata": {
    "colab": {
     "autoexec": {
      "startup": false,
      "wait_interval": 0
     }
    },
    "colab_type": "code",
    "id": "bX0Ivgp2FTWt"
   },
   "outputs": [],
   "source": [
    "players[cols] = players[cols].applymap(to_float)"
   ]
  },
  {
   "cell_type": "markdown",
   "metadata": {
    "colab_type": "text",
    "id": "l7kGAmy4FTWv"
   },
   "source": [
    "# Which attributes are most important for the 'Overall' score?"
   ]
  },
  {
   "cell_type": "markdown",
   "metadata": {
    "colab_type": "text",
    "id": "4HxfNW7hFTWw"
   },
   "source": [
    "As we can see, there are a lot of potential attributes!  How do we determine which are most important? Now let's define our features and labels and then split the data into training and testing data. We'll do this using only the outfielders (i.e. everyone excluding GoalKeepers)."
   ]
  },
  {
   "cell_type": "code",
   "execution_count": 0,
   "metadata": {
    "colab": {
     "autoexec": {
      "startup": false,
      "wait_interval": 0
     }
    },
    "colab_type": "code",
    "id": "AZfTzYMuFTWx"
   },
   "outputs": [],
   "source": [
    "# use only outfielders (exclude Goalkeepers)\n",
    "players = players[players['Preferred Positions Type'] != 'GoalKeeper']\n",
    "\n",
    "# Split features and labels\n",
    "X = players[cols].drop(['Overall'], axis=1)\n",
    "y = players['Overall']"
   ]
  },
  {
   "cell_type": "code",
   "execution_count": 0,
   "metadata": {
    "colab": {
     "autoexec": {
      "startup": false,
      "wait_interval": 0
     }
    },
    "colab_type": "code",
    "id": "VYRG4rwDFTW3"
   },
   "outputs": [],
   "source": [
    "# Split training and testing data\n",
    "from sklearn.model_selection import train_test_split\n",
    "X_train, X_test, y_train, y_test = train_test_split(X, y, test_size=0.33, random_state=42)"
   ]
  },
  {
   "cell_type": "markdown",
   "metadata": {
    "colab_type": "text",
    "id": "xlWDtH4nFTW5"
   },
   "source": [
    "Time to build our Random Forest. Because we are trying to predict the quality of a player (a number out of 100), which is a continuous variable, we will be using the ``RandomForestRegressor`` object."
   ]
  },
  {
   "cell_type": "code",
   "execution_count": 0,
   "metadata": {
    "colab": {
     "autoexec": {
      "startup": false,
      "wait_interval": 0
     }
    },
    "colab_type": "code",
    "id": "rNmrIXkfFTW5"
   },
   "outputs": [],
   "source": [
    "from sklearn.ensemble import RandomForestRegressor"
   ]
  },
  {
   "cell_type": "code",
   "execution_count": 0,
   "metadata": {
    "colab": {
     "autoexec": {
      "startup": false,
      "wait_interval": 0
     }
    },
    "colab_type": "code",
    "id": "hoSbDCMBFTW7"
   },
   "outputs": [],
   "source": [
    "forest = RandomForestRegressor(n_estimators=100, random_state=42)"
   ]
  },
  {
   "cell_type": "code",
   "execution_count": 0,
   "metadata": {
    "colab": {
     "autoexec": {
      "startup": false,
      "wait_interval": 0
     },
     "base_uri": "https://localhost:8080/",
     "height": 119
    },
    "colab_type": "code",
    "executionInfo": {
     "elapsed": 15724,
     "status": "ok",
     "timestamp": 1527074878383,
     "user": {
      "displayName": "James Leslie",
      "photoUrl": "https://lh3.googleusercontent.com/a/default-user=s128",
      "userId": "111280259696145667321"
     },
     "user_tz": -120
    },
    "id": "bcLSrkJkFTW_",
    "outputId": "80de97f3-e76f-4ad4-892b-8b86a476c8d9"
   },
   "outputs": [
    {
     "data": {
      "text/plain": [
       "RandomForestRegressor(bootstrap=True, criterion='mse', max_depth=None,\n",
       "           max_features='auto', max_leaf_nodes=None,\n",
       "           min_impurity_decrease=0.0, min_impurity_split=None,\n",
       "           min_samples_leaf=1, min_samples_split=2,\n",
       "           min_weight_fraction_leaf=0.0, n_estimators=100, n_jobs=1,\n",
       "           oob_score=False, random_state=42, verbose=0, warm_start=False)"
      ]
     },
     "execution_count": 11,
     "metadata": {
      "tags": []
     },
     "output_type": "execute_result"
    }
   ],
   "source": [
    "# Fit the model\n",
    "forest.fit(X_train, y_train)"
   ]
  },
  {
   "cell_type": "markdown",
   "metadata": {
    "colab_type": "text",
    "id": "mOSvJULKFTXE"
   },
   "source": [
    "Now that the model is fitted, we can extract the most important features. To do this we simply use the ``feature_importances_`` method on our fitted model."
   ]
  },
  {
   "cell_type": "code",
   "execution_count": 0,
   "metadata": {
    "colab": {
     "autoexec": {
      "startup": false,
      "wait_interval": 0
     }
    },
    "colab_type": "code",
    "id": "L8Mapj0IFTXE"
   },
   "outputs": [],
   "source": [
    "# Extract most important features\n",
    "feature_importance = forest.feature_importances_"
   ]
  },
  {
   "cell_type": "code",
   "execution_count": 0,
   "metadata": {
    "colab": {
     "autoexec": {
      "startup": false,
      "wait_interval": 0
     }
    },
    "colab_type": "code",
    "id": "He1tk5tiFTXH"
   },
   "outputs": [],
   "source": [
    "# Put into dataframe\n",
    "features = {}\n",
    "features['all'] = pd.DataFrame(feature_importance, \n",
    "                 X.columns, \n",
    "                 columns=['Importance']).sort_values(by='Importance', ascending=False)"
   ]
  },
  {
   "cell_type": "code",
   "execution_count": 0,
   "metadata": {
    "colab": {
     "autoexec": {
      "startup": false,
      "wait_interval": 0
     },
     "base_uri": "https://localhost:8080/",
     "height": 359
    },
    "colab_type": "code",
    "executionInfo": {
     "elapsed": 1055,
     "status": "ok",
     "timestamp": 1527077572954,
     "user": {
      "displayName": "James Leslie",
      "photoUrl": "https://lh3.googleusercontent.com/a/default-user=s128",
      "userId": "111280259696145667321"
     },
     "user_tz": -120
    },
    "id": "8PPv2dknFTXI",
    "outputId": "e1e737ee-c3b7-4c5d-cd06-70e28af1f9ea"
   },
   "outputs": [
    {
     "data": {
      "text/html": [
       "<div>\n",
       "<style>\n",
       "    .dataframe thead tr:only-child th {\n",
       "        text-align: right;\n",
       "    }\n",
       "\n",
       "    .dataframe thead th {\n",
       "        text-align: left;\n",
       "    }\n",
       "\n",
       "    .dataframe tbody tr th {\n",
       "        vertical-align: top;\n",
       "    }\n",
       "</style>\n",
       "<table border=\"1\" class=\"dataframe\">\n",
       "  <thead>\n",
       "    <tr style=\"text-align: right;\">\n",
       "      <th></th>\n",
       "      <th>Importance</th>\n",
       "    </tr>\n",
       "  </thead>\n",
       "  <tbody>\n",
       "    <tr>\n",
       "      <th>Reactions</th>\n",
       "      <td>0.647787</td>\n",
       "    </tr>\n",
       "    <tr>\n",
       "      <th>Ball control</th>\n",
       "      <td>0.101092</td>\n",
       "    </tr>\n",
       "    <tr>\n",
       "      <th>Standing tackle</th>\n",
       "      <td>0.055695</td>\n",
       "    </tr>\n",
       "    <tr>\n",
       "      <th>Marking</th>\n",
       "      <td>0.042223</td>\n",
       "    </tr>\n",
       "    <tr>\n",
       "      <th>Composure</th>\n",
       "      <td>0.028423</td>\n",
       "    </tr>\n",
       "    <tr>\n",
       "      <th>Positioning</th>\n",
       "      <td>0.013852</td>\n",
       "    </tr>\n",
       "    <tr>\n",
       "      <th>Heading accuracy</th>\n",
       "      <td>0.012289</td>\n",
       "    </tr>\n",
       "    <tr>\n",
       "      <th>Finishing</th>\n",
       "      <td>0.010233</td>\n",
       "    </tr>\n",
       "    <tr>\n",
       "      <th>Interceptions</th>\n",
       "      <td>0.007918</td>\n",
       "    </tr>\n",
       "    <tr>\n",
       "      <th>Sliding tackle</th>\n",
       "      <td>0.007814</td>\n",
       "    </tr>\n",
       "  </tbody>\n",
       "</table>\n",
       "</div>"
      ],
      "text/plain": [
       "                  Importance\n",
       "Reactions           0.647787\n",
       "Ball control        0.101092\n",
       "Standing tackle     0.055695\n",
       "Marking             0.042223\n",
       "Composure           0.028423\n",
       "Positioning         0.013852\n",
       "Heading accuracy    0.012289\n",
       "Finishing           0.010233\n",
       "Interceptions       0.007918\n",
       "Sliding tackle      0.007814"
      ]
     },
     "execution_count": 14,
     "metadata": {
      "tags": []
     },
     "output_type": "execute_result"
    }
   ],
   "source": [
    "features['all'].head(10)"
   ]
  },
  {
   "cell_type": "code",
   "execution_count": 0,
   "metadata": {
    "colab": {
     "autoexec": {
      "startup": false,
      "wait_interval": 0
     },
     "base_uri": "https://localhost:8080/",
     "height": 352
    },
    "colab_type": "code",
    "executionInfo": {
     "elapsed": 1393,
     "status": "ok",
     "timestamp": 1527074905106,
     "user": {
      "displayName": "James Leslie",
      "photoUrl": "https://lh3.googleusercontent.com/a/default-user=s128",
      "userId": "111280259696145667321"
     },
     "user_tz": -120
    },
    "id": "Wkc5mXvHFTXL",
    "outputId": "718c100c-3118-4ece-8cf2-c8b119c7bb69"
   },
   "outputs": [
    {
     "data": {
      "text/plain": [
       "<matplotlib.axes._subplots.AxesSubplot at 0x240d4833630>"
      ]
     },
     "execution_count": 15,
     "metadata": {
      "tags": []
     },
     "output_type": "execute_result"
    },
    {
     "data": {
      "image/png": "[encoded data removed]",
      "text/plain": [
       "<matplotlib.figure.Figure at 0x240d481efd0>"
      ]
     },
     "metadata": {
      "tags": []
     },
     "output_type": "display_data"
    }
   ],
   "source": [
    "features['all'].head(10).sort_values(by='Importance').plot(kind='barh', \n",
    "                                                  figsize=(10,5), \n",
    "                                                  xlim=[0,1], \n",
    "                                                  title='Most Important Features for All Players')"
   ]
  },
  {
   "cell_type": "markdown",
   "metadata": {
    "colab_type": "text",
    "id": "zC3JKoRyFTXO"
   },
   "source": [
    "So `Reactions` turns out to be the single most imporant factor for all players, with `ball control` and `standing tackle` being secondary.   \n",
    "But this assumes that the `Overall` rating is calculated using the same formula for **all** outfielders - surely strikers wouldn't need defending abilities to be rated highly?   \n",
    "Let's investigate further."
   ]
  },
  {
   "cell_type": "markdown",
   "metadata": {
    "colab_type": "text",
    "id": "vIyvmHQ-FTXP"
   },
   "source": [
    "## Important Player Attributes by Position"
   ]
  },
  {
   "cell_type": "code",
   "execution_count": 0,
   "metadata": {
    "colab": {
     "autoexec": {
      "startup": false,
      "wait_interval": 0
     },
     "base_uri": "https://localhost:8080/",
     "height": 68
    },
    "colab_type": "code",
    "executionInfo": {
     "elapsed": 14020,
     "status": "ok",
     "timestamp": 1527074942850,
     "user": {
      "displayName": "James Leslie",
      "photoUrl": "https://lh3.googleusercontent.com/a/default-user=s128",
      "userId": "111280259696145667321"
     },
     "user_tz": -120
    },
    "id": "g12zioRKFTXP",
    "outputId": "a84065a9-36d1-4b4e-f180-023501865550"
   },
   "outputs": [
    {
     "name": "stdout",
     "output_type": "stream",
     "text": [
      "Generating feature importance for Forward\n",
      "Generating feature importance for Midfielder\n",
      "Generating feature importance for Back\n"
     ]
    }
   ],
   "source": [
    "for position in ['Forward', 'Midfielder', 'Back']:\n",
    "    \n",
    "    print(\"Generating feature importance for {}\".format(position))\n",
    "    \n",
    "    # get the data\n",
    "    data = players[players['Preferred Positions Type'] == position][cols]\n",
    "    X = data.drop(['Overall'], axis=1)\n",
    "    y = data['Overall']       \n",
    "    X_train, X_test, y_train, y_test = train_test_split(X, y, test_size=0.33, random_state=42)\n",
    "    \n",
    "    \n",
    "    # fit the random forest\n",
    "    forest = RandomForestRegressor(n_estimators=100, random_state=42)\n",
    "    forest.fit(X_train, y_train)\n",
    "    feature_importance = forest.feature_importances_\n",
    "    \n",
    "    # save the resulting dataframe to a dictionary\n",
    "    features[position] = pd.DataFrame(feature_importance, \n",
    "                                     X.columns, \n",
    "                                     columns=['Importance']).sort_values(by='Importance', ascending=False)\n",
    "    "
   ]
  },
  {
   "cell_type": "markdown",
   "metadata": {
    "colab_type": "text",
    "id": "I67bg1xJFTXR"
   },
   "source": [
    "Let's view the most important features for each position on a horizontal barplot."
   ]
  },
  {
   "cell_type": "code",
   "execution_count": 0,
   "metadata": {
    "colab": {
     "autoexec": {
      "startup": false,
      "wait_interval": 0
     },
     "base_uri": "https://localhost:8080/",
     "height": 729
    },
    "colab_type": "code",
    "executionInfo": {
     "elapsed": 1501,
     "status": "ok",
     "timestamp": 1527075716870,
     "user": {
      "displayName": "James Leslie",
      "photoUrl": "https://lh3.googleusercontent.com/a/default-user=s128",
      "userId": "111280259696145667321"
     },
     "user_tz": -120
    },
    "id": "ldFMuSJyFTXT",
    "outputId": "88bd415f-6212-4343-b3d5-c2b2ab75db47"
   },
   "outputs": [
    {
     "data": {
      "image/png": "[encoded data removed]",
      "text/plain": [
       "<matplotlib.figure.Figure at 0x240d481e5f8>"
      ]
     },
     "metadata": {
      "tags": []
     },
     "output_type": "display_data"
    }
   ],
   "source": [
    "fig, ax = plt.subplots(3, 1, figsize=(8, 10))\n",
    "\n",
    "for i, position in enumerate(['Forward', 'Midfielder', 'Back']):\n",
    "    features[position].head(5).sort_values(by='Importance').plot(kind='barh', xlim=[0,1], \n",
    "                                                  title='Most Important Features for {}'.format(position), ax=ax[i])\n",
    "plt.tight_layout()"
   ]
  },
  {
   "cell_type": "markdown",
   "metadata": {
    "colab_type": "text",
    "id": "Tr8iDeGuFTXU"
   },
   "source": [
    "### Comparing running time"
   ]
  },
  {
   "cell_type": "markdown",
   "metadata": {
    "colab_type": "text",
    "id": "KUhqCSQFFTXW"
   },
   "source": [
    "Now that we have the most important features for predicting the `Overall` rating, let's see how we can use this additional information to improve the performance of a K Nearest Neighbours regression model."
   ]
  },
  {
   "cell_type": "code",
   "execution_count": 0,
   "metadata": {
    "colab": {
     "autoexec": {
      "startup": false,
      "wait_interval": 0
     }
    },
    "colab_type": "code",
    "id": "z41q97Zu3HyD"
   },
   "outputs": [],
   "source": [
    "# Create reduced feature set containing only the 10 most important features\n",
    "X_train_reduced = X_train[['Reactions', 'Ball control', 'Standing tackle', 'Marking', 'Composure', 'Positioning', 'Heading accuracy', 'Finishing', 'Interceptions', 'Sliding tackle']]\n",
    "X_test_reduced = X_test[['Reactions', 'Ball control', 'Standing tackle', 'Marking', 'Composure', 'Positioning', 'Heading accuracy', 'Finishing', 'Interceptions', 'Sliding tackle']]"
   ]
  },
  {
   "cell_type": "code",
   "execution_count": 0,
   "metadata": {
    "colab": {
     "autoexec": {
      "startup": false,
      "wait_interval": 0
     }
    },
    "colab_type": "code",
    "id": "B_KJcWIV9jUT"
   },
   "outputs": [],
   "source": [
    "from sklearn.neighbors import KNeighborsRegressor"
   ]
  },
  {
   "cell_type": "code",
   "execution_count": 0,
   "metadata": {
    "colab": {
     "autoexec": {
      "startup": false,
      "wait_interval": 0
     },
     "base_uri": "https://localhost:8080/",
     "height": 34
    },
    "colab_type": "code",
    "executionInfo": {
     "elapsed": 3323,
     "status": "ok",
     "timestamp": 1527078565024,
     "user": {
      "displayName": "James Leslie",
      "photoUrl": "https://lh3.googleusercontent.com/a/default-user=s128",
      "userId": "111280259696145667321"
     },
     "user_tz": -120
    },
    "id": "Jngp6m0G81yl",
    "outputId": "172f04d5-2b9a-464c-8b34-4f99ac3c0578"
   },
   "outputs": [
    {
     "name": "stdout",
     "output_type": "stream",
     "text": [
      "100 loops, best of 3: 17.3 ms per loop\n"
     ]
    }
   ],
   "source": [
    "# Define full model\n",
    "full_knn = KNeighborsRegressor(n_neighbors=5)\n",
    "\n",
    "# Fit full model\n",
    "full_knn.fit(X_train, y_train)\n",
    "\n",
    "# Time fit\n",
    "%timeit full_knn.fit(X_train, y_train)"
   ]
  },
  {
   "cell_type": "code",
   "execution_count": 0,
   "metadata": {
    "colab": {
     "autoexec": {
      "startup": false,
      "wait_interval": 0
     },
     "base_uri": "https://localhost:8080/",
     "height": 34
    },
    "colab_type": "code",
    "executionInfo": {
     "elapsed": 2010,
     "status": "ok",
     "timestamp": 1527078577252,
     "user": {
      "displayName": "James Leslie",
      "photoUrl": "https://lh3.googleusercontent.com/a/default-user=s128",
      "userId": "111280259696145667321"
     },
     "user_tz": -120
    },
    "id": "NZW6ydM19YqE",
    "outputId": "60b6893d-e022-49e9-976f-c44364d5990e"
   },
   "outputs": [
    {
     "name": "stdout",
     "output_type": "stream",
     "text": [
      "100 loops, best of 3: 8.12 ms per loop\n"
     ]
    }
   ],
   "source": [
    "# Define reduced model\n",
    "reduced_knn = KNeighborsRegressor(n_neighbors=5)\n",
    "\n",
    "# Fit reduced model\n",
    "reduced_knn.fit(X_train_reduced, y_train)\n",
    "\n",
    "# Time fit\n",
    "%timeit reduced_knn.fit(X_train_reduced, y_train)"
   ]
  },
  {
   "cell_type": "markdown",
   "metadata": {
    "colab_type": "text",
    "id": "xeyYvsm0FTXb"
   },
   "source": [
    "The reduced model was about twice as fast as the full model. This improvement in computation time will increase with the total number of features in our full model."
   ]
  },
  {
   "cell_type": "markdown",
   "metadata": {
    "colab_type": "text",
    "id": "05oHMWU0FTXb"
   },
   "source": [
    "### Comparing predictive power\n",
    "Now let's see how the reduced model performs on the test set compared to the full model."
   ]
  },
  {
   "cell_type": "code",
   "execution_count": 0,
   "metadata": {
    "colab": {
     "autoexec": {
      "startup": false,
      "wait_interval": 0
     }
    },
    "colab_type": "code",
    "id": "SSnQHfw7FTXc"
   },
   "outputs": [],
   "source": [
    "from sklearn.metrics import mean_squared_error"
   ]
  },
  {
   "cell_type": "code",
   "execution_count": 0,
   "metadata": {
    "colab": {
     "autoexec": {
      "startup": false,
      "wait_interval": 0
     },
     "base_uri": "https://localhost:8080/",
     "height": 51
    },
    "colab_type": "code",
    "executionInfo": {
     "elapsed": 1430,
     "status": "ok",
     "timestamp": 1527078584340,
     "user": {
      "displayName": "James Leslie",
      "photoUrl": "https://lh3.googleusercontent.com/a/default-user=s128",
      "userId": "111280259696145667321"
     },
     "user_tz": -120
    },
    "id": "lcaoz02h9w2N",
    "outputId": "3e72a60d-3e92-4ddb-b496-ae083658236f"
   },
   "outputs": [
    {
     "name": "stdout",
     "output_type": "stream",
     "text": [
      "Full Model: 3.16310880829\n",
      "Reduced Model: 2.51742487047\n"
     ]
    }
   ],
   "source": [
    "# Get predictions\n",
    "pred_full = full_knn.predict(X_test)\n",
    "pred_reduced = reduced_knn.predict(X_test_reduced)\n",
    "\n",
    "# Print MSE's\n",
    "print('Full Model:', mean_squared_error(y_test, pred_full))\n",
    "print('Reduced Model:', mean_squared_error(y_test, pred_reduced))"
   ]
  },
  {
   "cell_type": "markdown",
   "metadata": {
    "colab_type": "text",
    "id": "iVBs4CYMFTXe"
   },
   "source": [
    "The reduced model performed better on the testing set and required less time to compute!"
   ]
  },
  {
   "cell_type": "markdown",
   "metadata": {
    "colab_type": "text",
    "id": "koz_gg8TFTXf"
   },
   "source": [
    "## Limitations of feature selection using random forests\n",
    "\n",
    "Random forests are a popular method for feature ranking, since they are so easy to apply: in general they require very little feature engineering and parameter tuning. But they come with their own drawbacks, such as: \n",
    "\n",
    "**1. With correlated features, strong features can end up with low scores.** \n",
    "\n",
    "When the dataset has two (or more) correlated features, then from the point of view of the model, any of these correlated features can be used as the predictor, with no concrete preference of one over the others. But once one of them is used, the importance of others is significantly reduced since effectively the impurity they can remove is already removed by the first feature. As a consequence, they will have a lower reported importance. \n",
    "\n",
    "This is not an issue when we want to use feature selection to reduce overfitting, since it makes sense to remove features that are mostly duplicated by other features. But when interpreting the data, it can lead to the incorrect conclusion that one of the variables is a strong predictor while the others in the same group are unimportant, while actually they are very close in terms of their relationship with the response variable.\n",
    "\n",
    "**2. The method can be biased towards variables with many categories or continuous variables with a large scale.** \n",
    "\n",
    "There is no effect in the mean values of the distributions of the permutation importance measures, which are in mean close to zero as expected for uninformative variables. However, the notable differences in the variance of the distributions for predictor variables with different scale of measurement or number of categories seriously affect the expressiveness of the variable importance measure.\n",
    "\n",
    "This effect may lead to a severe over- or underestimation of the variable importance of variables that have more categories or a larger scale as an artefact of the method, even though they are no more or less informative than the other variables. "
   ]
  }
 ],
 "metadata": {
  "colab": {
   "collapsed_sections": [],
   "default_view": {},
   "name": "James_reviews_4_Feature Selection with Random Forests.ipynb",
   "provenance": [
    {
     "file_id": "1uNNvvFBQTIfkyAbmpGGsgpo9TiZviL6V",
     "timestamp": 1527074330704
    }
   ],
   "version": "0.3.2",
   "views": {}
  },
  "kernelspec": {
   "display_name": "Python 3",
   "language": "python",
   "name": "python3"
  },
  "language_info": {
   "codemirror_mode": {
    "name": "ipython",
    "version": 3
   },
   "file_extension": ".py",
   "mimetype": "text/x-python",
   "name": "python",
   "nbconvert_exporter": "python",
   "pygments_lexer": "ipython3",
   "version": "3.6.5"
  }
 },
 "nbformat": 4,
 "nbformat_minor": 1
}
