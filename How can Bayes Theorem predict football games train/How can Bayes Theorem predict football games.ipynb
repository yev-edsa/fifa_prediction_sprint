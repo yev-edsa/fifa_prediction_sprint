{
 "cells": [
  {
   "cell_type": "markdown",
   "metadata": {
    "colab_type": "text",
    "id": "WPY2EqaAbtFw"
   },
   "source": [
    "# Test of github\n"
    "# How can Bayes' Theorem predict football games?\n",
    "\n",
    "In this tutorial we will be showing examples of Bayesian thinking applied to the game of football. Each example will become a little more complex, building to using actual data from bookmakers' odds to build a prediction of the outcome of any given game. We also show how in some instances, one could arrive at the same result through direct estimation from the data, showing the equivalence of Bayesian and frequentist approaches to probability given complete information. However, Bayes' Theorem is an incredibly useful way of estimating conditional probabilities when it is not possible to do so directly, so is a powerful tool to master."
   ]
  },
  {
   "cell_type": "markdown",
   "metadata": {
    "colab_type": "text",
    "id": "uuAfGPSQbtFy"
   },
   "source": [
    "## [Bayes' Theorem](https://en.wikipedia.org/wiki/Bayes%27_theorem)"
   ]
  },
  {
   "cell_type": "markdown",
   "metadata": {
    "colab_type": "text",
    "id": "rR5ZD-l5btFy"
   },
   "source": [
    "The [Wikipedia page on Bayes' Theorem](https://en.wikipedia.org/wiki/Bayes%27_theorem) describes it as follows:\n",
    "\n",
    "In probability theory and statistics, Bayes’ theorem (alternatively Bayes’ law or Bayes' rule) describes the probability of an event, based on prior knowledge of conditions that might be related to the event. \n",
    "\n",
    "One of the many applications of Bayes' theorem is Bayesian inference, a particular approach to statistical inference. When applied, the probabilities involved in Bayes' theorem may have different probability interpretations. With the Bayesian probability interpretation the theorem expresses how a subjective degree of belief should rationally change to account for availability of related evidence. Bayesian inference is fundamental to Bayesian statistics.\n",
    "\n",
    "Bayes’ theorem is named after [Reverend Thomas Bayes](https://en.wikipedia.org/wiki/Thomas_Bayes) (1701–1761), who first provided an equation that allows new evidence to update beliefs in his An Essay towards solving a Problem in the Doctrine of Chances (1763). It was further developed by Pierre-Simon Laplace, who first published the modern formulation in his 1812 \"Théorie analytique des probabilités\". Sir Harold Jeffreys put Bayes’ algorithm and Laplace's formulation on an axiomatic basis. Jeffreys wrote that Bayes' theorem \"is to the theory of probability what the Pythagorean theorem is to geometry\".\n",
    "\n",
    "![Thomas Bayes](https://upload.wikimedia.org/wikipedia/commons/d/d4/Thomas_Bayes.gif)"
   ]
  },
  {
   "cell_type": "markdown",
   "metadata": {
    "colab_type": "text",
    "id": "Zs8nkgfGbtFz"
   },
   "source": [
    "Here is his, seemingly simple, formula again:"
   ]
  },
  {
   "cell_type": "markdown",
   "metadata": {
    "colab_type": "text",
    "id": "pOpLxxbObtFz"
   },
   "source": [
    "$$ P(A|B) = \\frac{P(B|A)P(A)}{P(B)} $$"
   ]
  },
  {
   "cell_type": "markdown",
   "metadata": {
    "colab_type": "text",
    "id": "Z5eTe5DnbtF0"
   },
   "source": [
    "or, again, with a slightly more intuitive breakdown:"
   ]
  },
  {
   "cell_type": "markdown",
   "metadata": {
    "colab_type": "text",
    "id": "NhDnnn-XbtF1"
   },
   "source": [
    "$$ P(A|B) = \\frac{P(B|A)P(A)}{P(B|A)P(A) + P(B|A')P(A')}$$\n",
    "\n",
    "where $A'$ is \"not A\", the event of A not occurring. Note how the denomiator, the probability of B occurring, $P(B)$, breaks down logically into the sum of the probability of B occurring given that A occurs multiplied by the probability of A occurring, and the probability of B occurring given that A does not occur multiplied by the probability of A not occurring."
   ]
  },
  {
   "cell_type": "markdown",
   "metadata": {
    "colab_type": "text",
    "id": "dUkGerP9btF1"
   },
   "source": [
    "The following main concepts are covered in this notebook: \n",
    "\n",
    "- Examples illustrating the practical use of Bayes' Theorem.\n",
    "- Connecting in to an SQL database, query the relevant tables/fields.\n",
    "- Example of utilizing Bayes with the FIFA database."
   ]
  },
  {
   "cell_type": "markdown",
   "metadata": {},
   "source": [
    "## The Monty Hall problem"
   ]
  },
  {
   "cell_type": "markdown",
   "metadata": {},
   "source": [
    "A classic example in which Bayes' Theorem can be used to guide us to the correct strategy is the [Monty Hall problem](https://en.wikipedia.org/wiki/Monty_Hall_problem). Imagine that you are taking part in a TV game show; there are three doors, two of which conceal a goat and the other a car. You are asked to guess which door hides the car. After you guess, however, the host opens one of the other doors to reveal a goat, and you are then faced with the choice to either stick with your original pick or to switch to the other unrevealed door. What is the correct strategy?"
   ]
  },
  {
   "cell_type": "markdown",
   "metadata": {},
   "source": [
    "Our intuition is not a perfect guide to this kind of problem, so let's apply Bayes. Let's say you picked door 3, and Monty Hall opens door 1 to reveal a goat. Should you stick with 3, or switch to 2?\n",
    "\n",
    "Let $X_A$ be the event of the car being behind door $A$ and $Y_Z$ be the event of Monty opening door $Z$. The prior probabilities $P(X_1) = P(X_2) = P(X_3) = \\frac{1}{3}$. What we're interested in is $P(X_2|Y_1)$ and $P(X_3|Y_1)$ (clearly $P(X_1|Y_1) = 0$, since the door-opening reveals that there is a goat behind door 1. Applying Bayes' Theorem and starting with our current choice:\n",
    "\n",
    "$$P(X_3|Y_1) = \\frac{P(Y_1|X_3)P(X_3)}{P(Y_1|X_1)P(X_1)+P(Y_1|X_2)P(X_2)+P(Y_1|X_3)P(X_3)} = \\frac{0.5(1/3)}{0+1(1/3)+0.5(1/3)} = \\frac{1}{3}.$$\n",
    "\n",
    "The key to understanding this is to recognise that if the car is behind door 2 and we've chosen door 3, Monty must open door 1; it's his only option to reveal a goat. So $P(Y_1|X_2) = 1$ in this case. By definition, since $X_1, X_2$ and $X_3$ are the only possible outcomes, and since $P(X_1|Y_1) = 0$ and $P(X_3|Y_1) = \\frac{1}{3}$, then $P(X_2|Y_1)$ must be equal to $\\frac{2}{3}$. Or you could go ahead and calculate that by Bayes directly (go and do this as an exercise).\n",
    "\n",
    "It is clear that Bayes' Theorem would advise us to double our chances of winning by switching our choice from door 3 to door 2."
   ]
  },
  {
   "cell_type": "markdown",
   "metadata": {
    "colab_type": "text",
    "id": "1oZwfhJkbtF2"
   },
   "source": [
    "##  Example 1: Rain-affected matches"
   ]
  },
  {
   "cell_type": "markdown",
   "metadata": {
    "colab_type": "text",
    "id": "4WHe0YSfbtF2"
   },
   "source": [
    "Suppose, out of all the 24 matches between Kaizer Chiefs and Orlando Pirates, Chiefs won 16 times while Pirates managed only to win only 8. So, if you were to bet on the winner of the next match between these two sides, which team would it be?"
   ]
  },
  {
   "cell_type": "markdown",
   "metadata": {
    "colab_type": "text",
    "id": "DSjaZ41tbtF3"
   },
   "source": [
    "I bet you would say Kaizer Chiefs, and if you had no other information to guide your decision and believed that past experience was representative of the true underlying probability, you would say that this is likely to occur with probability two-thirds."
   ]
  },
  {
   "cell_type": "markdown",
   "metadata": {
    "colab_type": "text",
    "id": "VSsVLy86btF3"
   },
   "source": [
    "Now here is a twist: What if you are told that it rained five times when Chiefs won and five times when Pirates won? Suppose I also told you that it will rain on their next match. "
   ]
  },
  {
   "cell_type": "markdown",
   "metadata": {
    "colab_type": "text",
    "id": "jzNmZL6obtF4"
   },
   "source": [
    "So, who would you bet your money on now? "
   ]
  },
  {
   "cell_type": "markdown",
   "metadata": {
    "colab_type": "text",
    "id": "O-fC4HklbtF5"
   },
   "source": [
    "By intuition, it is easy to see that chances of winning for Pirates have increased. But the question is: by how much?  Let's use Bayes' Theorem to figure it out!\n",
    "* Let A be the event of \"match played in rain\"\n",
    "* Let B be the event of \"Pirates winning\"\n"
   ]
  },
  {
   "cell_type": "code",
   "execution_count": 1,
   "metadata": {
    "colab": {
     "autoexec": {
      "startup": false,
      "wait_interval": 0
     }
    },
    "colab_type": "code",
    "id": "V2WlT29_btF6"
   },
   "outputs": [
    {
     "name": "stdout",
     "output_type": "stream",
     "text": [
      "Chances of Orlando Pirates winning (given rain): 0.500\n"
     ]
    }
   ],
   "source": [
    "P_A = 10/24                               # chance of rain - it rained 10 times out of 24 matches.\n",
    "P_B = 8/24                               # chance of Pirates winning (prior)\n",
    "P_A_given_B = 5/8                       # chance of rain given Pirates winning\n",
    "P_B_given_A = (P_A_given_B*P_B) / P_A   # posterior - chances of Pirates wining (given rain) \n",
    "print('Chances of Orlando Pirates winning (given rain): {:0.3f}'.format(P_B_given_A))"
   ]
  },
  {
   "cell_type": "markdown",
   "metadata": {
    "colab_type": "text",
    "id": "vsFr9VdFbtF8"
   },
   "source": [
    "So the chances of Pirates winning have increased from 20% to 50% with this new piece of information!\n",
    "\n",
    "We could of course have got here directly by noting that Pirates win 50% (one out of two) of matches played in rain."
   ]
  },
  {
   "cell_type": "markdown",
   "metadata": {
    "colab_type": "text",
    "id": "eiFLU3-pbtF9"
   },
   "source": [
    "## Example 2: Home and away matches\n",
    "We can apply Bayes' Theorem  by splitting the stats for games played home/away:\n",
    "* as above, out of all the matches between Chiefs and Pirates, Chiefs have won 16 while Pirates have won 8 times.\n",
    "* you are told that during Chiefs' home games they won 8 games and Pirates won 3 games. \n",
    "\n",
    "Can you predict the probability of Pirates winning given it is a home game for them?\n",
    "\n",
    "\n",
    "#### Priors \n",
    "* P(A) = Probability of a game being a Pirates home game = (n home games)/(n games) = (24 - 11)/(16 + 8) = 13 / 24\n",
    "* P(B) = Probability of Pirates winning (out of all matches)  = (N_wins/N_games) = 8/(16+8) = 8 / 24\n",
    "* P(A|B) = Given Pirates won, what is the probability of a game being a home game ?  =(n_win_home/N_win) =(8-3) / (24 - 11) = 5 / 13\n",
    "\n",
    "\n",
    "#### Posterior\n",
    "\n",
    "we would like to calculate the probability of Pirates winning during a home game\n",
    "* P(B|A) = posterior (prediction) \n",
    "* P(B|A) = P(A|B) * P(B) / P(A)   \n",
    "\n",
    "#### Let's plug in the numbers\n",
    "\n"
   ]
  },
  {
   "cell_type": "code",
   "execution_count": 2,
   "metadata": {
    "colab": {
     "autoexec": {
      "startup": false,
      "wait_interval": 0
     }
    },
    "colab_type": "code",
    "id": "lVtFE1sibtF9"
   },
   "outputs": [
    {
     "name": "stdout",
     "output_type": "stream",
     "text": [
      "Probability for Pirates winning: 0.33\n",
      "Probability for Pirates winning at home: 0.38\n"
     ]
    }
   ],
   "source": [
    "P_A =  13.0/24.0                                           # pirates are at home\n",
    "P_B =  8.0/24.0                                            # pirates win\n",
    "P_A_B = 5.0/8.0                                            # pirates are at home given they win\n",
    "P_B_A = P_A_B*P_B/P_A                                      # pirates win given they are at homw\n",
    "print('Probability for Pirates winning: {:0.2f}'.format(P_B))\n",
    "print('Probability for Pirates winning at home: {:0.2f}'.format(P_B_A))"
   ]
  },
  {
   "cell_type": "markdown",
   "metadata": {
    "colab_type": "text",
    "id": "YYOz5irCbtF_"
   },
   "source": [
    "Again, this new piece of information changed our beliefs on the outcome of the game in Pirates' favour. And again, we could have got there directly by noting that Pirates won 5 of their 13 home games."
   ]
  },
  {
   "cell_type": "markdown",
   "metadata": {
    "colab_type": "text",
    "id": "9u0KPKf2btGA"
   },
   "source": [
    "## Example 3: Home and away matches - FOR REAL\n",
    "\n",
    "Let's try the same problem with (team1,team2) using the [European Soccer Database](https://www.kaggle.com/sashchernuh/european-football/data) hosted on Kaggle.\n",
    "\n",
    "Steps required:\n",
    "* connect to SQL DB;\n",
    "* query the match history table;\n",
    "* get all matches between team1 and team2, collect win/loss home/away info; and\n",
    "* calculate probabilities for win/loss at home and away using Bayes' Theorem.\n",
    "\n"
   ]
  },
  {
   "cell_type": "code",
   "execution_count": 3,
   "metadata": {},
   "outputs": [
    {
     "name": "stdout",
     "output_type": "stream",
     "text": [
      "Requirement already satisfied: psycopg2 in c:\\users\\yevashan\\appdata\\local\\continuum\\anaconda3\\lib\\site-packages (2.7.4)\n"
     ]
    },
    {
     "name": "stderr",
     "output_type": "stream",
     "text": [
      "distributed 1.21.8 requires msgpack, which is not installed.\n"
     ]
    }
   ],
   "source": [
    "!pip install psycopg2"
   ]
  },
  {
   "cell_type": "code",
   "execution_count": 4,
   "metadata": {
    "colab": {
     "autoexec": {
      "startup": false,
      "wait_interval": 0
     }
    },
    "colab_type": "code",
    "id": "_Dbk1TRhbtGB"
   },
   "outputs": [],
   "source": [
    "# import libraries\n",
    "from sqlalchemy import create_engine\n",
    "import psycopg2\n",
    "import sqlite3\n",
    "import pandas as pd\n",
    "import numpy as np\n",
    "import matplotlib.pyplot as plt\n",
    "import seaborn as sns\n",
    "\n",
    "%matplotlib inline"
   ]
  },
  {
   "cell_type": "code",
   "execution_count": 5,
   "metadata": {},
   "outputs": [
    {
     "name": "stdout",
     "output_type": "stream",
     "text": [
      "host='edsasoccerinstance.cnzbp4ndrpos.eu-west-1.rds.amazonaws.com' dbname='edsaLeagueSoccerDatabase' user='edsaSoccer' password='edsaSoccer'\n",
      "Created connection\n",
      "Size of match data retrieved: (25979, 115)\n",
      "Size of team data retrieved: (299, 5)\n"
     ]
    }
   ],
   "source": [
    "#connect to the sql dataset on AWS \n",
    "db_settings = {'host' : 'edsasoccerinstance.cnzbp4ndrpos.eu-west-1.rds.amazonaws.com', 'dbname' : 'edsaLeagueSoccerDatabase', 'user' : 'edsaSoccer', 'password' : 'edsaSoccer'} \n",
    "conn_string = ' '.join([\"{}='{}'\".format(k, v) for k, v in db_settings.items()]) \n",
    "print (conn_string)\n",
    "conn_rds = psycopg2.connect(conn_string) \n",
    "print('Created connection')\n",
    "\n",
    "teams = pd.read_sql_query(\"select * from team\", con=conn_rds) \n",
    "matches = pd.read_sql_query(\"select * from match\", con=conn_rds) \n",
    "\n",
    "print('Size of match data retrieved: {}'.format(matches.shape))\n",
    "print('Size of team data retrieved: {}'.format(teams.shape))"
   ]
  },
  {
   "cell_type": "code",
   "execution_count": 6,
   "metadata": {},
   "outputs": [
    {
     "data": {
      "text/html": [
       "<div>\n",
       "<style scoped>\n",
       "    .dataframe tbody tr th:only-of-type {\n",
       "        vertical-align: middle;\n",
       "    }\n",
       "\n",
       "    .dataframe tbody tr th {\n",
       "        vertical-align: top;\n",
       "    }\n",
       "\n",
       "    .dataframe thead th {\n",
       "        text-align: right;\n",
       "    }\n",
       "</style>\n",
       "<table border=\"1\" class=\"dataframe\">\n",
       "  <thead>\n",
       "    <tr style=\"text-align: right;\">\n",
       "      <th></th>\n",
       "      <th>id</th>\n",
       "      <th>country_id</th>\n",
       "      <th>league_id</th>\n",
       "      <th>season</th>\n",
       "      <th>stage</th>\n",
       "      <th>date</th>\n",
       "      <th>match_api_id</th>\n",
       "      <th>home_team_api_id</th>\n",
       "      <th>away_team_api_id</th>\n",
       "      <th>home_team_goal</th>\n",
       "      <th>...</th>\n",
       "      <th>SJA</th>\n",
       "      <th>VCH</th>\n",
       "      <th>VCD</th>\n",
       "      <th>VCA</th>\n",
       "      <th>GBH</th>\n",
       "      <th>GBD</th>\n",
       "      <th>GBA</th>\n",
       "      <th>BSH</th>\n",
       "      <th>BSD</th>\n",
       "      <th>BSA</th>\n",
       "    </tr>\n",
       "  </thead>\n",
       "  <tbody>\n",
       "    <tr>\n",
       "      <th>0</th>\n",
       "      <td>1</td>\n",
       "      <td>1</td>\n",
       "      <td>1</td>\n",
       "      <td>2008/2009</td>\n",
       "      <td>1</td>\n",
       "      <td>2008-08-17 00:00:00</td>\n",
       "      <td>492473</td>\n",
       "      <td>9987</td>\n",
       "      <td>9993</td>\n",
       "      <td>1</td>\n",
       "      <td>...</td>\n",
       "      <td>4.00</td>\n",
       "      <td>1.65</td>\n",
       "      <td>3.40</td>\n",
       "      <td>4.50</td>\n",
       "      <td>1.78</td>\n",
       "      <td>3.25</td>\n",
       "      <td>4.00</td>\n",
       "      <td>1.73</td>\n",
       "      <td>3.40</td>\n",
       "      <td>4.20</td>\n",
       "    </tr>\n",
       "    <tr>\n",
       "      <th>1</th>\n",
       "      <td>2</td>\n",
       "      <td>1</td>\n",
       "      <td>1</td>\n",
       "      <td>2008/2009</td>\n",
       "      <td>1</td>\n",
       "      <td>2008-08-16 00:00:00</td>\n",
       "      <td>492474</td>\n",
       "      <td>10000</td>\n",
       "      <td>9994</td>\n",
       "      <td>0</td>\n",
       "      <td>...</td>\n",
       "      <td>3.80</td>\n",
       "      <td>2.00</td>\n",
       "      <td>3.25</td>\n",
       "      <td>3.25</td>\n",
       "      <td>1.85</td>\n",
       "      <td>3.25</td>\n",
       "      <td>3.75</td>\n",
       "      <td>1.91</td>\n",
       "      <td>3.25</td>\n",
       "      <td>3.60</td>\n",
       "    </tr>\n",
       "    <tr>\n",
       "      <th>2</th>\n",
       "      <td>3</td>\n",
       "      <td>1</td>\n",
       "      <td>1</td>\n",
       "      <td>2008/2009</td>\n",
       "      <td>1</td>\n",
       "      <td>2008-08-16 00:00:00</td>\n",
       "      <td>492475</td>\n",
       "      <td>9984</td>\n",
       "      <td>8635</td>\n",
       "      <td>0</td>\n",
       "      <td>...</td>\n",
       "      <td>2.50</td>\n",
       "      <td>2.35</td>\n",
       "      <td>3.25</td>\n",
       "      <td>2.65</td>\n",
       "      <td>2.50</td>\n",
       "      <td>3.20</td>\n",
       "      <td>2.50</td>\n",
       "      <td>2.30</td>\n",
       "      <td>3.20</td>\n",
       "      <td>2.75</td>\n",
       "    </tr>\n",
       "    <tr>\n",
       "      <th>3</th>\n",
       "      <td>4</td>\n",
       "      <td>1</td>\n",
       "      <td>1</td>\n",
       "      <td>2008/2009</td>\n",
       "      <td>1</td>\n",
       "      <td>2008-08-17 00:00:00</td>\n",
       "      <td>492476</td>\n",
       "      <td>9991</td>\n",
       "      <td>9998</td>\n",
       "      <td>5</td>\n",
       "      <td>...</td>\n",
       "      <td>7.50</td>\n",
       "      <td>1.45</td>\n",
       "      <td>3.75</td>\n",
       "      <td>6.50</td>\n",
       "      <td>1.50</td>\n",
       "      <td>3.75</td>\n",
       "      <td>5.50</td>\n",
       "      <td>1.44</td>\n",
       "      <td>3.75</td>\n",
       "      <td>6.50</td>\n",
       "    </tr>\n",
       "    <tr>\n",
       "      <th>4</th>\n",
       "      <td>5</td>\n",
       "      <td>1</td>\n",
       "      <td>1</td>\n",
       "      <td>2008/2009</td>\n",
       "      <td>1</td>\n",
       "      <td>2008-08-16 00:00:00</td>\n",
       "      <td>492477</td>\n",
       "      <td>7947</td>\n",
       "      <td>9985</td>\n",
       "      <td>1</td>\n",
       "      <td>...</td>\n",
       "      <td>1.73</td>\n",
       "      <td>4.50</td>\n",
       "      <td>3.40</td>\n",
       "      <td>1.65</td>\n",
       "      <td>4.50</td>\n",
       "      <td>3.50</td>\n",
       "      <td>1.65</td>\n",
       "      <td>4.75</td>\n",
       "      <td>3.30</td>\n",
       "      <td>1.67</td>\n",
       "    </tr>\n",
       "  </tbody>\n",
       "</table>\n",
       "<p>5 rows × 115 columns</p>\n",
       "</div>"
      ],
      "text/plain": [
       "   id  country_id  league_id     season  stage                 date  \\\n",
       "0   1           1          1  2008/2009      1  2008-08-17 00:00:00   \n",
       "1   2           1          1  2008/2009      1  2008-08-16 00:00:00   \n",
       "2   3           1          1  2008/2009      1  2008-08-16 00:00:00   \n",
       "3   4           1          1  2008/2009      1  2008-08-17 00:00:00   \n",
       "4   5           1          1  2008/2009      1  2008-08-16 00:00:00   \n",
       "\n",
       "   match_api_id  home_team_api_id  away_team_api_id  home_team_goal  ...   \\\n",
       "0        492473              9987              9993               1  ...    \n",
       "1        492474             10000              9994               0  ...    \n",
       "2        492475              9984              8635               0  ...    \n",
       "3        492476              9991              9998               5  ...    \n",
       "4        492477              7947              9985               1  ...    \n",
       "\n",
       "    SJA   VCH   VCD   VCA   GBH   GBD   GBA   BSH   BSD   BSA  \n",
       "0  4.00  1.65  3.40  4.50  1.78  3.25  4.00  1.73  3.40  4.20  \n",
       "1  3.80  2.00  3.25  3.25  1.85  3.25  3.75  1.91  3.25  3.60  \n",
       "2  2.50  2.35  3.25  2.65  2.50  3.20  2.50  2.30  3.20  2.75  \n",
       "3  7.50  1.45  3.75  6.50  1.50  3.75  5.50  1.44  3.75  6.50  \n",
       "4  1.73  4.50  3.40  1.65  4.50  3.50  1.65  4.75  3.30  1.67  \n",
       "\n",
       "[5 rows x 115 columns]"
      ]
     },
     "execution_count": 6,
     "metadata": {},
     "output_type": "execute_result"
    }
   ],
   "source": [
    "matches.head()"
   ]
  },
  {
   "cell_type": "code",
   "execution_count": 7,
   "metadata": {
    "colab": {
     "autoexec": {
      "startup": false,
      "wait_interval": 0
     }
    },
    "colab_type": "code",
    "id": "2RXMPNlwbtGF"
   },
   "outputs": [],
   "source": [
    "matches.set_index('id', inplace=True)\n",
    "teams.set_index('team_api_id', inplace=True)"
   ]
  },
  {
   "cell_type": "code",
   "execution_count": 8,
   "metadata": {
    "colab": {
     "autoexec": {
      "startup": false,
      "wait_interval": 0
     }
    },
    "colab_type": "code",
    "id": "t-_1U4DEbtGH"
   },
   "outputs": [
    {
     "data": {
      "text/plain": [
       "Index(['country_id', 'league_id', 'season', 'stage', 'date', 'match_api_id',\n",
       "       'home_team_api_id', 'away_team_api_id', 'home_team_goal',\n",
       "       'away_team_goal',\n",
       "       ...\n",
       "       'SJA', 'VCH', 'VCD', 'VCA', 'GBH', 'GBD', 'GBA', 'BSH', 'BSD', 'BSA'],\n",
       "      dtype='object', length=114)"
      ]
     },
     "execution_count": 8,
     "metadata": {},
     "output_type": "execute_result"
    }
   ],
   "source": [
    "matches.columns"
   ]
  },
  {
   "cell_type": "code",
   "execution_count": 9,
   "metadata": {
    "colab": {
     "autoexec": {
      "startup": false,
      "wait_interval": 0
     }
    },
    "colab_type": "code",
    "id": "4WeZ_-qWbtGK"
   },
   "outputs": [
    {
     "data": {
      "text/html": [
       "<div>\n",
       "<style scoped>\n",
       "    .dataframe tbody tr th:only-of-type {\n",
       "        vertical-align: middle;\n",
       "    }\n",
       "\n",
       "    .dataframe tbody tr th {\n",
       "        vertical-align: top;\n",
       "    }\n",
       "\n",
       "    .dataframe thead th {\n",
       "        text-align: right;\n",
       "    }\n",
       "</style>\n",
       "<table border=\"1\" class=\"dataframe\">\n",
       "  <thead>\n",
       "    <tr style=\"text-align: right;\">\n",
       "      <th></th>\n",
       "      <th>id</th>\n",
       "      <th>team_fifa_api_id</th>\n",
       "      <th>team_long_name</th>\n",
       "      <th>team_short_name</th>\n",
       "    </tr>\n",
       "    <tr>\n",
       "      <th>team_api_id</th>\n",
       "      <th></th>\n",
       "      <th></th>\n",
       "      <th></th>\n",
       "      <th></th>\n",
       "    </tr>\n",
       "  </thead>\n",
       "  <tbody>\n",
       "    <tr>\n",
       "      <th>9987</th>\n",
       "      <td>1</td>\n",
       "      <td>673.0</td>\n",
       "      <td>KRC Genk</td>\n",
       "      <td>GEN</td>\n",
       "    </tr>\n",
       "    <tr>\n",
       "      <th>9993</th>\n",
       "      <td>2</td>\n",
       "      <td>675.0</td>\n",
       "      <td>Beerschot AC</td>\n",
       "      <td>BAC</td>\n",
       "    </tr>\n",
       "    <tr>\n",
       "      <th>10000</th>\n",
       "      <td>3</td>\n",
       "      <td>15005.0</td>\n",
       "      <td>SV Zulte-Waregem</td>\n",
       "      <td>ZUL</td>\n",
       "    </tr>\n",
       "    <tr>\n",
       "      <th>9994</th>\n",
       "      <td>4</td>\n",
       "      <td>2007.0</td>\n",
       "      <td>Sporting Lokeren</td>\n",
       "      <td>LOK</td>\n",
       "    </tr>\n",
       "    <tr>\n",
       "      <th>9984</th>\n",
       "      <td>5</td>\n",
       "      <td>1750.0</td>\n",
       "      <td>KSV Cercle Brugge</td>\n",
       "      <td>CEB</td>\n",
       "    </tr>\n",
       "  </tbody>\n",
       "</table>\n",
       "</div>"
      ],
      "text/plain": [
       "             id  team_fifa_api_id     team_long_name team_short_name\n",
       "team_api_id                                                         \n",
       "9987          1             673.0           KRC Genk             GEN\n",
       "9993          2             675.0       Beerschot AC             BAC\n",
       "10000         3           15005.0   SV Zulte-Waregem             ZUL\n",
       "9994          4            2007.0   Sporting Lokeren             LOK\n",
       "9984          5            1750.0  KSV Cercle Brugge             CEB"
      ]
     },
     "execution_count": 9,
     "metadata": {},
     "output_type": "execute_result"
    }
   ],
   "source": [
    "teams.head()"
   ]
  },
  {
   "cell_type": "code",
   "execution_count": 10,
   "metadata": {
    "colab": {
     "autoexec": {
      "startup": false,
      "wait_interval": 0
     }
    },
    "colab_type": "code",
    "id": "utgDkoycbtGL"
   },
   "outputs": [],
   "source": [
    "# join the 2 datasets to work with the more familiar team names\n",
    "df = matches.join(teams['team_long_name'], on='home_team_api_id', rsuffix='_home')\n",
    "df = df.join(teams['team_long_name'], on='away_team_api_id', rsuffix='_away')\n",
    "df.rename(columns={'team_long_name': 'hometeam', 'team_long_name_away' : 'awayteam',\n",
    "                   'home_team_goal': 'fthg', 'away_team_goal': 'ftag'}, inplace=True)"
   ]
  },
  {
   "cell_type": "code",
   "execution_count": 11,
   "metadata": {
    "colab": {
     "autoexec": {
      "startup": false,
      "wait_interval": 0
     }
    },
    "colab_type": "code",
    "id": "nChA56NGbtGN"
   },
   "outputs": [],
   "source": [
    "# select only the data we will need\n",
    "cols = ['league_id',\n",
    "        'hometeam', \n",
    "        'awayteam', \n",
    "        'fthg',            # full time home goals\n",
    "        'ftag',            # full time away goals\n",
    "        'B365H', 'B365D', 'B365A']  # for use later"
   ]
  },
  {
   "cell_type": "code",
   "execution_count": 12,
   "metadata": {
    "colab": {
     "autoexec": {
      "startup": false,
      "wait_interval": 0
     }
    },
    "colab_type": "code",
    "id": "ya06QTYObtGP"
   },
   "outputs": [],
   "source": [
    "df0 = df[cols]"
   ]
  },
  {
   "cell_type": "code",
   "execution_count": 13,
   "metadata": {
    "colab": {
     "autoexec": {
      "startup": false,
      "wait_interval": 0
     }
    },
    "colab_type": "code",
    "id": "fz_IosnFbtGT"
   },
   "outputs": [
    {
     "data": {
      "text/html": [
       "<div>\n",
       "<style scoped>\n",
       "    .dataframe tbody tr th:only-of-type {\n",
       "        vertical-align: middle;\n",
       "    }\n",
       "\n",
       "    .dataframe tbody tr th {\n",
       "        vertical-align: top;\n",
       "    }\n",
       "\n",
       "    .dataframe thead th {\n",
       "        text-align: right;\n",
       "    }\n",
       "</style>\n",
       "<table border=\"1\" class=\"dataframe\">\n",
       "  <thead>\n",
       "    <tr style=\"text-align: right;\">\n",
       "      <th></th>\n",
       "      <th>league_id</th>\n",
       "      <th>hometeam</th>\n",
       "      <th>awayteam</th>\n",
       "      <th>fthg</th>\n",
       "      <th>ftag</th>\n",
       "      <th>B365H</th>\n",
       "      <th>B365D</th>\n",
       "      <th>B365A</th>\n",
       "    </tr>\n",
       "    <tr>\n",
       "      <th>id</th>\n",
       "      <th></th>\n",
       "      <th></th>\n",
       "      <th></th>\n",
       "      <th></th>\n",
       "      <th></th>\n",
       "      <th></th>\n",
       "      <th></th>\n",
       "      <th></th>\n",
       "    </tr>\n",
       "  </thead>\n",
       "  <tbody>\n",
       "    <tr>\n",
       "      <th>1</th>\n",
       "      <td>1</td>\n",
       "      <td>KRC Genk</td>\n",
       "      <td>Beerschot AC</td>\n",
       "      <td>1</td>\n",
       "      <td>1</td>\n",
       "      <td>1.73</td>\n",
       "      <td>3.40</td>\n",
       "      <td>5.00</td>\n",
       "    </tr>\n",
       "    <tr>\n",
       "      <th>2</th>\n",
       "      <td>1</td>\n",
       "      <td>SV Zulte-Waregem</td>\n",
       "      <td>Sporting Lokeren</td>\n",
       "      <td>0</td>\n",
       "      <td>0</td>\n",
       "      <td>1.95</td>\n",
       "      <td>3.20</td>\n",
       "      <td>3.60</td>\n",
       "    </tr>\n",
       "    <tr>\n",
       "      <th>3</th>\n",
       "      <td>1</td>\n",
       "      <td>KSV Cercle Brugge</td>\n",
       "      <td>RSC Anderlecht</td>\n",
       "      <td>0</td>\n",
       "      <td>3</td>\n",
       "      <td>2.38</td>\n",
       "      <td>3.30</td>\n",
       "      <td>2.75</td>\n",
       "    </tr>\n",
       "    <tr>\n",
       "      <th>4</th>\n",
       "      <td>1</td>\n",
       "      <td>KAA Gent</td>\n",
       "      <td>RAEC Mons</td>\n",
       "      <td>5</td>\n",
       "      <td>0</td>\n",
       "      <td>1.44</td>\n",
       "      <td>3.75</td>\n",
       "      <td>7.50</td>\n",
       "    </tr>\n",
       "    <tr>\n",
       "      <th>5</th>\n",
       "      <td>1</td>\n",
       "      <td>FCV Dender EH</td>\n",
       "      <td>Standard de Liège</td>\n",
       "      <td>1</td>\n",
       "      <td>3</td>\n",
       "      <td>5.00</td>\n",
       "      <td>3.50</td>\n",
       "      <td>1.65</td>\n",
       "    </tr>\n",
       "  </tbody>\n",
       "</table>\n",
       "</div>"
      ],
      "text/plain": [
       "    league_id           hometeam           awayteam  fthg  ftag  B365H  B365D  \\\n",
       "id                                                                              \n",
       "1           1           KRC Genk       Beerschot AC     1     1   1.73   3.40   \n",
       "2           1   SV Zulte-Waregem   Sporting Lokeren     0     0   1.95   3.20   \n",
       "3           1  KSV Cercle Brugge     RSC Anderlecht     0     3   2.38   3.30   \n",
       "4           1           KAA Gent          RAEC Mons     5     0   1.44   3.75   \n",
       "5           1      FCV Dender EH  Standard de Liège     1     3   5.00   3.50   \n",
       "\n",
       "    B365A  \n",
       "id         \n",
       "1    5.00  \n",
       "2    3.60  \n",
       "3    2.75  \n",
       "4    7.50  \n",
       "5    1.65  "
      ]
     },
     "execution_count": 13,
     "metadata": {},
     "output_type": "execute_result"
    }
   ],
   "source": [
    "df0.head()"
   ]
  },
  {
   "cell_type": "code",
   "execution_count": 14,
   "metadata": {
    "colab": {
     "autoexec": {
      "startup": false,
      "wait_interval": 0
     }
    },
    "colab_type": "code",
    "id": "D-TSZ6LcbtGW"
   },
   "outputs": [
    {
     "name": "stderr",
     "output_type": "stream",
     "text": [
      "C:\\Users\\yevashan\\AppData\\Local\\Continuum\\anaconda3\\lib\\site-packages\\ipykernel_launcher.py:1: SettingWithCopyWarning: \n",
      "A value is trying to be set on a copy of a slice from a DataFrame.\n",
      "Try using .loc[row_indexer,col_indexer] = value instead\n",
      "\n",
      "See the caveats in the documentation: http://pandas.pydata.org/pandas-docs/stable/indexing.html#indexing-view-versus-copy\n",
      "  \"\"\"Entry point for launching an IPython kernel.\n",
      "C:\\Users\\yevashan\\AppData\\Local\\Continuum\\anaconda3\\lib\\site-packages\\ipykernel_launcher.py:2: SettingWithCopyWarning: \n",
      "A value is trying to be set on a copy of a slice from a DataFrame.\n",
      "Try using .loc[row_indexer,col_indexer] = value instead\n",
      "\n",
      "See the caveats in the documentation: http://pandas.pydata.org/pandas-docs/stable/indexing.html#indexing-view-versus-copy\n",
      "  \n"
     ]
    }
   ],
   "source": [
    "df0['home_win'] = (df0['fthg'] > df0['ftag']).astype('int')\n",
    "df0['away_win'] = (df0['fthg'] < df0['ftag']).astype('int')"
   ]
  },
  {
   "cell_type": "code",
   "execution_count": 15,
   "metadata": {},
   "outputs": [
    {
     "data": {
      "text/html": [
       "<div>\n",
       "<style scoped>\n",
       "    .dataframe tbody tr th:only-of-type {\n",
       "        vertical-align: middle;\n",
       "    }\n",
       "\n",
       "    .dataframe tbody tr th {\n",
       "        vertical-align: top;\n",
       "    }\n",
       "\n",
       "    .dataframe thead th {\n",
       "        text-align: right;\n",
       "    }\n",
       "</style>\n",
       "<table border=\"1\" class=\"dataframe\">\n",
       "  <thead>\n",
       "    <tr style=\"text-align: right;\">\n",
       "      <th></th>\n",
       "      <th>league_id</th>\n",
       "      <th>hometeam</th>\n",
       "      <th>awayteam</th>\n",
       "      <th>fthg</th>\n",
       "      <th>ftag</th>\n",
       "      <th>B365H</th>\n",
       "      <th>B365D</th>\n",
       "      <th>B365A</th>\n",
       "      <th>home_win</th>\n",
       "      <th>away_win</th>\n",
       "    </tr>\n",
       "    <tr>\n",
       "      <th>id</th>\n",
       "      <th></th>\n",
       "      <th></th>\n",
       "      <th></th>\n",
       "      <th></th>\n",
       "      <th></th>\n",
       "      <th></th>\n",
       "      <th></th>\n",
       "      <th></th>\n",
       "      <th></th>\n",
       "      <th></th>\n",
       "    </tr>\n",
       "  </thead>\n",
       "  <tbody>\n",
       "    <tr>\n",
       "      <th>1</th>\n",
       "      <td>1</td>\n",
       "      <td>KRC Genk</td>\n",
       "      <td>Beerschot AC</td>\n",
       "      <td>1</td>\n",
       "      <td>1</td>\n",
       "      <td>1.73</td>\n",
       "      <td>3.40</td>\n",
       "      <td>5.00</td>\n",
       "      <td>0</td>\n",
       "      <td>0</td>\n",
       "    </tr>\n",
       "    <tr>\n",
       "      <th>2</th>\n",
       "      <td>1</td>\n",
       "      <td>SV Zulte-Waregem</td>\n",
       "      <td>Sporting Lokeren</td>\n",
       "      <td>0</td>\n",
       "      <td>0</td>\n",
       "      <td>1.95</td>\n",
       "      <td>3.20</td>\n",
       "      <td>3.60</td>\n",
       "      <td>0</td>\n",
       "      <td>0</td>\n",
       "    </tr>\n",
       "    <tr>\n",
       "      <th>3</th>\n",
       "      <td>1</td>\n",
       "      <td>KSV Cercle Brugge</td>\n",
       "      <td>RSC Anderlecht</td>\n",
       "      <td>0</td>\n",
       "      <td>3</td>\n",
       "      <td>2.38</td>\n",
       "      <td>3.30</td>\n",
       "      <td>2.75</td>\n",
       "      <td>0</td>\n",
       "      <td>1</td>\n",
       "    </tr>\n",
       "    <tr>\n",
       "      <th>4</th>\n",
       "      <td>1</td>\n",
       "      <td>KAA Gent</td>\n",
       "      <td>RAEC Mons</td>\n",
       "      <td>5</td>\n",
       "      <td>0</td>\n",
       "      <td>1.44</td>\n",
       "      <td>3.75</td>\n",
       "      <td>7.50</td>\n",
       "      <td>1</td>\n",
       "      <td>0</td>\n",
       "    </tr>\n",
       "    <tr>\n",
       "      <th>5</th>\n",
       "      <td>1</td>\n",
       "      <td>FCV Dender EH</td>\n",
       "      <td>Standard de Liège</td>\n",
       "      <td>1</td>\n",
       "      <td>3</td>\n",
       "      <td>5.00</td>\n",
       "      <td>3.50</td>\n",
       "      <td>1.65</td>\n",
       "      <td>0</td>\n",
       "      <td>1</td>\n",
       "    </tr>\n",
       "  </tbody>\n",
       "</table>\n",
       "</div>"
      ],
      "text/plain": [
       "    league_id           hometeam           awayteam  fthg  ftag  B365H  B365D  \\\n",
       "id                                                                              \n",
       "1           1           KRC Genk       Beerschot AC     1     1   1.73   3.40   \n",
       "2           1   SV Zulte-Waregem   Sporting Lokeren     0     0   1.95   3.20   \n",
       "3           1  KSV Cercle Brugge     RSC Anderlecht     0     3   2.38   3.30   \n",
       "4           1           KAA Gent          RAEC Mons     5     0   1.44   3.75   \n",
       "5           1      FCV Dender EH  Standard de Liège     1     3   5.00   3.50   \n",
       "\n",
       "    B365A  home_win  away_win  \n",
       "id                             \n",
       "1    5.00         0         0  \n",
       "2    3.60         0         0  \n",
       "3    2.75         0         1  \n",
       "4    7.50         1         0  \n",
       "5    1.65         0         1  "
      ]
     },
     "execution_count": 15,
     "metadata": {},
     "output_type": "execute_result"
    }
   ],
   "source": [
    "df0.head()"
   ]
  },
  {
   "cell_type": "code",
   "execution_count": 16,
   "metadata": {
    "colab": {
     "autoexec": {
      "startup": false,
      "wait_interval": 0
     }
    },
    "colab_type": "code",
    "id": "GR0F7jLVbtGa"
   },
   "outputs": [
    {
     "data": {
      "text/html": [
       "<div>\n",
       "<style scoped>\n",
       "    .dataframe tbody tr th:only-of-type {\n",
       "        vertical-align: middle;\n",
       "    }\n",
       "\n",
       "    .dataframe tbody tr th {\n",
       "        vertical-align: top;\n",
       "    }\n",
       "\n",
       "    .dataframe thead th {\n",
       "        text-align: right;\n",
       "    }\n",
       "</style>\n",
       "<table border=\"1\" class=\"dataframe\">\n",
       "  <thead>\n",
       "    <tr style=\"text-align: right;\">\n",
       "      <th></th>\n",
       "      <th>league_id</th>\n",
       "      <th>fthg</th>\n",
       "      <th>ftag</th>\n",
       "      <th>B365H</th>\n",
       "      <th>B365D</th>\n",
       "      <th>B365A</th>\n",
       "      <th>home_win</th>\n",
       "      <th>away_win</th>\n",
       "    </tr>\n",
       "  </thead>\n",
       "  <tbody>\n",
       "    <tr>\n",
       "      <th>count</th>\n",
       "      <td>25979.000000</td>\n",
       "      <td>25979.000000</td>\n",
       "      <td>25979.000000</td>\n",
       "      <td>22592.000000</td>\n",
       "      <td>22592.000000</td>\n",
       "      <td>22592.000000</td>\n",
       "      <td>25979.000000</td>\n",
       "      <td>25979.000000</td>\n",
       "    </tr>\n",
       "    <tr>\n",
       "      <th>mean</th>\n",
       "      <td>11738.630317</td>\n",
       "      <td>1.544594</td>\n",
       "      <td>1.160938</td>\n",
       "      <td>2.628818</td>\n",
       "      <td>3.839684</td>\n",
       "      <td>4.662222</td>\n",
       "      <td>0.458717</td>\n",
       "      <td>0.287386</td>\n",
       "    </tr>\n",
       "    <tr>\n",
       "      <th>std</th>\n",
       "      <td>7553.936759</td>\n",
       "      <td>1.297158</td>\n",
       "      <td>1.142110</td>\n",
       "      <td>1.794463</td>\n",
       "      <td>1.118269</td>\n",
       "      <td>3.730104</td>\n",
       "      <td>0.498302</td>\n",
       "      <td>0.452552</td>\n",
       "    </tr>\n",
       "    <tr>\n",
       "      <th>min</th>\n",
       "      <td>1.000000</td>\n",
       "      <td>0.000000</td>\n",
       "      <td>0.000000</td>\n",
       "      <td>1.040000</td>\n",
       "      <td>1.400000</td>\n",
       "      <td>1.080000</td>\n",
       "      <td>0.000000</td>\n",
       "      <td>0.000000</td>\n",
       "    </tr>\n",
       "    <tr>\n",
       "      <th>25%</th>\n",
       "      <td>4769.000000</td>\n",
       "      <td>1.000000</td>\n",
       "      <td>0.000000</td>\n",
       "      <td>1.670000</td>\n",
       "      <td>3.300000</td>\n",
       "      <td>2.500000</td>\n",
       "      <td>0.000000</td>\n",
       "      <td>0.000000</td>\n",
       "    </tr>\n",
       "    <tr>\n",
       "      <th>50%</th>\n",
       "      <td>10257.000000</td>\n",
       "      <td>1.000000</td>\n",
       "      <td>1.000000</td>\n",
       "      <td>2.100000</td>\n",
       "      <td>3.500000</td>\n",
       "      <td>3.500000</td>\n",
       "      <td>0.000000</td>\n",
       "      <td>0.000000</td>\n",
       "    </tr>\n",
       "    <tr>\n",
       "      <th>75%</th>\n",
       "      <td>17642.000000</td>\n",
       "      <td>2.000000</td>\n",
       "      <td>2.000000</td>\n",
       "      <td>2.800000</td>\n",
       "      <td>4.000000</td>\n",
       "      <td>5.250000</td>\n",
       "      <td>1.000000</td>\n",
       "      <td>1.000000</td>\n",
       "    </tr>\n",
       "    <tr>\n",
       "      <th>max</th>\n",
       "      <td>24558.000000</td>\n",
       "      <td>10.000000</td>\n",
       "      <td>9.000000</td>\n",
       "      <td>26.000000</td>\n",
       "      <td>17.000000</td>\n",
       "      <td>51.000000</td>\n",
       "      <td>1.000000</td>\n",
       "      <td>1.000000</td>\n",
       "    </tr>\n",
       "  </tbody>\n",
       "</table>\n",
       "</div>"
      ],
      "text/plain": [
       "          league_id          fthg          ftag         B365H         B365D  \\\n",
       "count  25979.000000  25979.000000  25979.000000  22592.000000  22592.000000   \n",
       "mean   11738.630317      1.544594      1.160938      2.628818      3.839684   \n",
       "std     7553.936759      1.297158      1.142110      1.794463      1.118269   \n",
       "min        1.000000      0.000000      0.000000      1.040000      1.400000   \n",
       "25%     4769.000000      1.000000      0.000000      1.670000      3.300000   \n",
       "50%    10257.000000      1.000000      1.000000      2.100000      3.500000   \n",
       "75%    17642.000000      2.000000      2.000000      2.800000      4.000000   \n",
       "max    24558.000000     10.000000      9.000000     26.000000     17.000000   \n",
       "\n",
       "              B365A      home_win      away_win  \n",
       "count  22592.000000  25979.000000  25979.000000  \n",
       "mean       4.662222      0.458717      0.287386  \n",
       "std        3.730104      0.498302      0.452552  \n",
       "min        1.080000      0.000000      0.000000  \n",
       "25%        2.500000      0.000000      0.000000  \n",
       "50%        3.500000      0.000000      0.000000  \n",
       "75%        5.250000      1.000000      1.000000  \n",
       "max       51.000000      1.000000      1.000000  "
      ]
     },
     "execution_count": 16,
     "metadata": {},
     "output_type": "execute_result"
    }
   ],
   "source": [
    "df0.describe()"
   ]
  },
  {
   "cell_type": "code",
   "execution_count": 17,
   "metadata": {
    "colab": {
     "autoexec": {
      "startup": false,
      "wait_interval": 0
     }
    },
    "colab_type": "code",
    "id": "p6GJC3jrbtGc"
   },
   "outputs": [
    {
     "data": {
      "text/plain": [
       "league_id    11738.630317\n",
       "fthg             1.544594\n",
       "ftag             1.160938\n",
       "B365H            2.628818\n",
       "B365D            3.839684\n",
       "B365A            4.662222\n",
       "home_win         0.458717\n",
       "away_win         0.287386\n",
       "dtype: float64"
      ]
     },
     "execution_count": 17,
     "metadata": {},
     "output_type": "execute_result"
    }
   ],
   "source": [
    "df0.mean()"
   ]
  },
  {
   "cell_type": "markdown",
   "metadata": {
    "colab_type": "text",
    "id": "_ChSluxRbtGe"
   },
   "source": [
    "From this summary, the average number of goals scored by home teams is 1.54 compared to the 1.16 scored by the away team.  This corresponds to the home win ratio... if the home team score more goals, on average, they are more likely to win! In this case, the home team has an *a priori* expectation of winning 45.6% of the time.  The away team wins,  on average, 28.7% of the time, with the remaining games ending in a draw. "
   ]
  },
  {
   "cell_type": "markdown",
   "metadata": {
    "colab_type": "text",
    "id": "B1Un9kTWbtGf"
   },
   "source": [
    "## Bayesian Performance between two teams\n",
    "\n",
    "Now lets see if we can apply the Bayesian analysis for home and away to an actual dataset.  The code below allows us to:\n",
    "\n",
    "* input two team names\n",
    "* get a subset of only the matches between these two teams \n",
    "* calculate the win/loss probabilities playing at home/away"
   ]
  },
  {
   "cell_type": "code",
   "execution_count": 18,
   "metadata": {
    "colab": {
     "autoexec": {
      "startup": false,
      "wait_interval": 0
     }
    },
    "colab_type": "code",
    "id": "5TS9ZIUXbtGf"
   },
   "outputs": [],
   "source": [
    "# define the team names\n",
    "team1 = 'Arsenal'\n",
    "team2 = 'Manchester United'"
   ]
  },
  {
   "cell_type": "code",
   "execution_count": 19,
   "metadata": {
    "colab": {
     "autoexec": {
      "startup": false,
      "wait_interval": 0
     }
    },
    "colab_type": "code",
    "id": "ZfXTCmxkbtGj"
   },
   "outputs": [],
   "source": [
    "# get dataframe containing all the games played between team1 and team2\n",
    "cond1 = ((df0['hometeam']==team1) & (df0['awayteam']==team2)  )\n",
    "cond2 = ((df0['hometeam']==team2) & (df0['awayteam']==team1)  )\n",
    "df1 = df0[(cond1 | cond2)]"
   ]
  },
  {
   "cell_type": "code",
   "execution_count": 20,
   "metadata": {
    "colab": {
     "autoexec": {
      "startup": false,
      "wait_interval": 0
     }
    },
    "colab_type": "code",
    "id": "fQ8B9sQZbtGl"
   },
   "outputs": [
    {
     "name": "stdout",
     "output_type": "stream",
     "text": [
      "Total number of matches Arsenal vs Manchester United: 16\n"
     ]
    }
   ],
   "source": [
    "n_games = len(df1)\n",
    "print('Total number of matches {} vs {}: {:0.0f}'.format(team1, team2, n_games))"
   ]
  },
  {
   "cell_type": "code",
   "execution_count": 21,
   "metadata": {
    "colab": {
     "autoexec": {
      "startup": false,
      "wait_interval": 0
     }
    },
    "colab_type": "code",
    "id": "VTkEYbd-btGm"
   },
   "outputs": [
    {
     "name": "stdout",
     "output_type": "stream",
     "text": [
      "Total number of Arsenal home games: 8\n"
     ]
    }
   ],
   "source": [
    "# create a sub-dataframe for team1 home games\n",
    "df_team1 = df0[cond1]\n",
    "N_team1 = len(df_team1)\n",
    "print('Total number of {} home games: {:0.0f}'.format(team1, N_team1))"
   ]
  },
  {
   "cell_type": "code",
   "execution_count": 22,
   "metadata": {
    "colab": {
     "autoexec": {
      "startup": false,
      "wait_interval": 0
     }
    },
    "colab_type": "code",
    "id": "qXKiWnn7btGo"
   },
   "outputs": [
    {
     "name": "stdout",
     "output_type": "stream",
     "text": [
      "Total number of Manchester United home games: 8\n"
     ]
    }
   ],
   "source": [
    "# create a sub-dataframe for team2 home games\n",
    "df_team2 = df0[cond2]\n",
    "N_team2 = len(df_team2)\n",
    "print('Total number of {} home games: {:0.0f}'.format(team2, N_team2))"
   ]
  },
  {
   "cell_type": "code",
   "execution_count": 23,
   "metadata": {
    "colab": {
     "autoexec": {
      "startup": false,
      "wait_interval": 0
     }
    },
    "colab_type": "code",
    "id": "QUj9iE-nbtGr"
   },
   "outputs": [
    {
     "name": "stdout",
     "output_type": "stream",
     "text": [
      "Total number Arsenal wins: 3\n"
     ]
    }
   ],
   "source": [
    "# get dataframe containing all the games where team1 won\n",
    "cond1h = ((df0['hometeam']==team1) & (df0['awayteam']==team2) &  (df0['fthg']> df0['ftag']))\n",
    "cond2h = ((df0['hometeam']==team2) & (df0['awayteam']==team1) &  (df0['fthg']< df0['ftag']))\n",
    "df_team1_win = df0[(cond1h | cond2h) ]\n",
    "N_team1_wins = len(df_team1_win)\n",
    "print('Total number {} wins: {:0.0f}'.format(team1, N_team1_wins))"
   ]
  },
  {
   "cell_type": "code",
   "execution_count": 24,
   "metadata": {
    "colab": {
     "autoexec": {
      "startup": false,
      "wait_interval": 0
     }
    },
    "colab_type": "code",
    "id": "9MJ0Et_GbtGt"
   },
   "outputs": [
    {
     "name": "stdout",
     "output_type": "stream",
     "text": [
      "Total number Arsenal home wins: 3\n"
     ]
    }
   ],
   "source": [
    "# get dataframe containing all the games where team1 won at home\n",
    "cond1hw = ((df0['hometeam']==team1) & (df0['awayteam']==team2) &  (df0['fthg']> df0['ftag']))\n",
    "df_team1_win = df0[cond1hw ]\n",
    "N_team1_home_wins = len(df_team1_win)\n",
    "print('Total number {} home wins: {:0.0f}'.format(team1,N_team1_home_wins))"
   ]
  },
  {
   "cell_type": "code",
   "execution_count": 25,
   "metadata": {
    "colab": {
     "autoexec": {
      "startup": false,
      "wait_interval": 0
     }
    },
    "colab_type": "code",
    "id": "Ai4Zx83cbtGv"
   },
   "outputs": [
    {
     "name": "stdout",
     "output_type": "stream",
     "text": [
      "Probability of Arsenal game being a home game: 0.50\n"
     ]
    }
   ],
   "source": [
    "# Probability of a game being a team1 home game =  (N _team1_home games)/(n games) \n",
    "P_A = N_team1/n_games \n",
    "print('Probability of {} game being a home game: {:0.2f}'.format(team1, P_A))"
   ]
  },
  {
   "cell_type": "code",
   "execution_count": 26,
   "metadata": {
    "colab": {
     "autoexec": {
      "startup": false,
      "wait_interval": 0
     }
    },
    "colab_type": "code",
    "id": "MbQBxTAqbtGx"
   },
   "outputs": [
    {
     "name": "stdout",
     "output_type": "stream",
     "text": [
      "Probability of Arsenal winning (out of all matches): 0.19\n"
     ]
    }
   ],
   "source": [
    "# Probability of team1 winning (out of all matches)  = (N_team1_win/n_games)\n",
    "P_B = N_team1_wins/n_games \n",
    "print('Probability of {} winning (out of all matches): {:0.2f}'.format(team1, P_B))"
   ]
  },
  {
   "cell_type": "code",
   "execution_count": 27,
   "metadata": {
    "colab": {
     "autoexec": {
      "startup": false,
      "wait_interval": 0
     }
    },
    "colab_type": "code",
    "id": "qaU4tnQIbtGz"
   },
   "outputs": [
    {
     "name": "stdout",
     "output_type": "stream",
     "text": [
      "Given Arsenal won, the probability of that game being a home game: 1.00\n"
     ]
    }
   ],
   "source": [
    "# P_A_given_B = Given team1 won : what is the probability of a game being a home game ? =(n_win_home/N_win)\n",
    "P_A_given_B = (N_team1_home_wins/N_team1_wins)\n",
    "print('Given {} won, the probability of that game being a home game: {:0.2f}'.format(team1, P_A_given_B))"
   ]
  },
  {
   "cell_type": "code",
   "execution_count": 28,
   "metadata": {
    "colab": {
     "autoexec": {
      "startup": false,
      "wait_interval": 0
     }
    },
    "colab_type": "code",
    "id": "oPmgfoo2btG2"
   },
   "outputs": [
    {
     "name": "stdout",
     "output_type": "stream",
     "text": [
      "Probability of Arsenal winning given they play at home: 0.375\n"
     ]
    }
   ],
   "source": [
    "P_B_given_A = (P_A_given_B*P_B)/P_A \n",
    "print('Probability of {} winning given they play at home: {:0.3f}'.format(team1, P_B_given_A ))"
   ]
  },
  {
   "cell_type": "markdown",
   "metadata": {
    "colab_type": "text",
    "id": "VzI1wHRLbtG6"
   },
   "source": [
    "Now, of course we **could** have just looked up these results with some clever pandas queries... "
   ]
  },
  {
   "cell_type": "code",
   "execution_count": 29,
   "metadata": {
    "colab": {
     "autoexec": {
      "startup": false,
      "wait_interval": 0
     }
    },
    "colab_type": "code",
    "id": "nYTMljWubtG7"
   },
   "outputs": [
    {
     "name": "stdout",
     "output_type": "stream",
     "text": [
      "Probability that the home team Arsenal beats the away team Manchester United is 0.375.\n"
     ]
    }
   ],
   "source": [
    "team1_home_win = df0[(df0['hometeam'] == team1 ) & (df0['awayteam'] == team2)]['home_win'].mean()\n",
    "print('Probability that the home team {:s} beats the away team {:s} is {:0.3f}.'.format(team1, team2, team1_home_win))"
   ]
  },
  {
   "cell_type": "markdown",
   "metadata": {
    "colab_type": "text",
    "id": "znDH1UKfbtG-"
   },
   "source": [
    "## When to use Bayes?"
   ]
  },
  {
   "cell_type": "markdown",
   "metadata": {
    "colab_type": "text",
    "id": "B7bAbjZ-btG_"
   },
   "source": [
    "As we've seen, in the above examples if we make the assumption that the historical data is all that is available to inform probability estimates, Bayes' Theorem gives the same result as a more direct frequentist approach.\n",
    "\n",
    "In general, classical (frequentist) statistics should be used where we are trying to capture the dynamics of systems where:\n",
    "* we have a lot of detailed past information **and** \n",
    "* where we can reasonably assume that the same dynamics will likely hold in the future ."
   ]
  },
  {
   "cell_type": "markdown",
   "metadata": {
    "colab_type": "text",
    "id": "_XSfAEuGbtG_"
   },
   "source": [
    "We recommend using Bayes' Theorem, where\n",
    "* we are building a belief on outcomes that will occur in the future and\n",
    "* we are provided with additional, but incomplete, information to update that belief."
   ]
  },
  {
   "cell_type": "markdown",
   "metadata": {},
   "source": [
    "To illustrate where the frequentist approach would be of no use and Bayesian thinking is necessary, suppose that we have a coin which we know is biased to land on one side 70% of the time, but we don't know whether it's biased towards heads or tails. Here we would need to form a prior hypothesis which we update using Bayes' Theorem in the light of emerging evidence.\n",
    "\n",
    "Our prior hypothesis in the absence of any further information would rationally have to be that the probability of the coin being biased towards heads is equal to the probability of it being biased towards tails. Suppose that we toss the coin, and it comes up heads. What should be our updated posterior probability of a heads bias?\n",
    "\n",
    "Denoting $A$ to be the event of being biased towards heads (so our prior $P(A) = 0.5$) and $B$ to be the event of one coin toss coming up heads, we are interested in $P(A|B)$, the updated probability of $A$ given that single coin toss outcome. We know that $P(B|A) = 0.7$. To apply Bayes, we also need to know $P(B)$, which we can decompose as:\n",
    "\n",
    "$$P(B) = P(B|A).P(A) + P(B|A').P(A') = 0.5(0.7) + 0.5(0.3) = 0.5.$$\n",
    "\n",
    "Hence,\n",
    "\n",
    "$$P(A|B) = \\displaystyle \\frac{0.7(0.5)}{0.5} = 0.7.$$\n",
    "\n",
    "That single coin toss allowed us to update our rational best estimate of the probability of a heads bias from 50% to 70%. And what if $B$ was five consecutive tosses which all came up heads? Then:\n",
    "\n",
    "$$P(A|B) = \\displaystyle \\frac{0.7^5(0.5)}{0.5(0.7^5 + 0.3^5)} = 0.9857.$$"
   ]
  },
  {
   "cell_type": "markdown",
   "metadata": {
    "colab_type": "text",
    "id": "Dw1j520FbtHA"
   },
   "source": [
    "## Premier League Win Ratios"
   ]
  },
  {
   "cell_type": "markdown",
   "metadata": {
    "colab_type": "text",
    "id": "1Vh8ZvFmbtHA"
   },
   "source": [
    "In the next example, suppose I only give you two pieces of information prior to a match:\n",
    "* the historical win ratios of a team\n",
    "* whether the bookies predict a win or not\n",
    "\n",
    "In addition, I can tell you the accuracy with which the bookies were right.  How can you use Bayes' Theorem to update your belief based on the bookies' prediction?"
   ]
  },
  {
   "cell_type": "code",
   "execution_count": 30,
   "metadata": {
    "colab": {
     "autoexec": {
      "startup": false,
      "wait_interval": 0
     }
    },
    "colab_type": "code",
    "id": "8_YTX7gmbtHC"
   },
   "outputs": [],
   "source": [
    "prem_league = df0[df0['league_id'] == 1729].drop('league_id', axis=1)"
   ]
  },
  {
   "cell_type": "code",
   "execution_count": 31,
   "metadata": {
    "colab": {
     "autoexec": {
      "startup": false,
      "wait_interval": 0
     }
    },
    "colab_type": "code",
    "id": "WQw67h6dbtHE"
   },
   "outputs": [],
   "source": [
    "# get the home and away games for each team\n",
    "home_games = prem_league.groupby('hometeam')[['home_win']].agg(['count', 'sum'])\n",
    "away_games = prem_league.groupby('awayteam')[['away_win']].agg(['count', 'sum'])\n",
    "win_ratios = home_games.join(away_games)"
   ]
  },
  {
   "cell_type": "code",
   "execution_count": 32,
   "metadata": {
    "colab": {
     "autoexec": {
      "startup": false,
      "wait_interval": 0
     }
    },
    "colab_type": "code",
    "id": "E2uAn_XobtHG"
   },
   "outputs": [],
   "source": [
    "win_ratios.rename(columns={'hometeam' : 'Team', \n",
    "                           'home_win' : 'Home_Games', \n",
    "                           'away_win' : 'Away_Games', \n",
    "                           'count'    : 'Played',\n",
    "                           'sum'      : 'Won',\n",
    "                          }, inplace=True)\n"
   ]
  },
  {
   "cell_type": "code",
   "execution_count": 33,
   "metadata": {
    "colab": {
     "autoexec": {
      "startup": false,
      "wait_interval": 0
     }
    },
    "colab_type": "code",
    "id": "LmMW3iRubtHH"
   },
   "outputs": [],
   "source": [
    "win_ratios['Total', 'Played'] = win_ratios.xs('Played', level=1, axis=1).sum(axis=1)\n",
    "win_ratios['Total', 'Won'] = win_ratios.xs('Won', level=1, axis=1).sum(axis=1)\n",
    "win_ratios = win_ratios.xs('Won', level=1, axis=1) / win_ratios.xs('Played', level=1, axis=1)"
   ]
  },
  {
   "cell_type": "code",
   "execution_count": 34,
   "metadata": {
    "colab": {
     "autoexec": {
      "startup": false,
      "wait_interval": 0
     }
    },
    "colab_type": "code",
    "id": "AJ_2LG_VbtHJ"
   },
   "outputs": [
    {
     "data": {
      "text/html": [
       "<div>\n",
       "<style scoped>\n",
       "    .dataframe tbody tr th:only-of-type {\n",
       "        vertical-align: middle;\n",
       "    }\n",
       "\n",
       "    .dataframe tbody tr th {\n",
       "        vertical-align: top;\n",
       "    }\n",
       "\n",
       "    .dataframe thead th {\n",
       "        text-align: right;\n",
       "    }\n",
       "</style>\n",
       "<table border=\"1\" class=\"dataframe\">\n",
       "  <thead>\n",
       "    <tr style=\"text-align: right;\">\n",
       "      <th></th>\n",
       "      <th>Home_Games</th>\n",
       "      <th>Away_Games</th>\n",
       "      <th>Total</th>\n",
       "    </tr>\n",
       "    <tr>\n",
       "      <th>hometeam</th>\n",
       "      <th></th>\n",
       "      <th></th>\n",
       "      <th></th>\n",
       "    </tr>\n",
       "  </thead>\n",
       "  <tbody>\n",
       "    <tr>\n",
       "      <th>Manchester United</th>\n",
       "      <td>0.763158</td>\n",
       "      <td>0.500000</td>\n",
       "      <td>0.631579</td>\n",
       "    </tr>\n",
       "    <tr>\n",
       "      <th>Chelsea</th>\n",
       "      <td>0.664474</td>\n",
       "      <td>0.493421</td>\n",
       "      <td>0.578947</td>\n",
       "    </tr>\n",
       "    <tr>\n",
       "      <th>Manchester City</th>\n",
       "      <td>0.743421</td>\n",
       "      <td>0.407895</td>\n",
       "      <td>0.575658</td>\n",
       "    </tr>\n",
       "    <tr>\n",
       "      <th>Arsenal</th>\n",
       "      <td>0.638158</td>\n",
       "      <td>0.480263</td>\n",
       "      <td>0.559211</td>\n",
       "    </tr>\n",
       "    <tr>\n",
       "      <th>Tottenham Hotspur</th>\n",
       "      <td>0.578947</td>\n",
       "      <td>0.414474</td>\n",
       "      <td>0.496711</td>\n",
       "    </tr>\n",
       "  </tbody>\n",
       "</table>\n",
       "</div>"
      ],
      "text/plain": [
       "                   Home_Games  Away_Games     Total\n",
       "hometeam                                           \n",
       "Manchester United    0.763158    0.500000  0.631579\n",
       "Chelsea              0.664474    0.493421  0.578947\n",
       "Manchester City      0.743421    0.407895  0.575658\n",
       "Arsenal              0.638158    0.480263  0.559211\n",
       "Tottenham Hotspur    0.578947    0.414474  0.496711"
      ]
     },
     "execution_count": 34,
     "metadata": {},
     "output_type": "execute_result"
    }
   ],
   "source": [
    "win_ratios.sort_values('Total', ascending=False).head()"
   ]
  },
  {
   "cell_type": "markdown",
   "metadata": {
    "colab_type": "text",
    "id": "d3iAG7vcbtHK"
   },
   "source": [
    "Manchester United have the best win ratio - at 63% - in the Premier league and also appear to be a formidable force at home!"
   ]
  },
  {
   "cell_type": "code",
   "execution_count": 35,
   "metadata": {
    "colab": {
     "autoexec": {
      "startup": false,
      "wait_interval": 0
     }
    },
    "colab_type": "code",
    "id": "M160H7_HbtHM"
   },
   "outputs": [],
   "source": [
    "prem_league['outcome'] = prem_league['home_win'] - prem_league['away_win'] \n",
    "rename_outcome = {-1: 'away_win', 0:'draw', 1:'home_win'}\n",
    "prem_league['outcome_name'] = prem_league['outcome'].apply(lambda x: rename_outcome[x])"
   ]
  },
  {
   "cell_type": "markdown",
   "metadata": {
    "colab_type": "text",
    "id": "QAtm-pzRbtHN"
   },
   "source": [
    "## Odds ratios"
   ]
  },
  {
   "cell_type": "markdown",
   "metadata": {
    "colab_type": "text",
    "id": "iYAy93dIbtHO"
   },
   "source": [
    "[![Probability vs Odds](http://img.youtube.com/vi/Vu4x2DKn12g/0.jpg)](http://www.youtube.com/watch?v=Vu4x2DKn12g)\n"
   ]
  },
  {
   "cell_type": "markdown",
   "metadata": {
    "colab_type": "text",
    "id": "lzH8oTE6btHO"
   },
   "source": [
    "Chance can be expressed either as a probability or as odds. In most contexts, there is no particular reason to prefer one over the other. Most scientists tend to feel more comfortable thinking about probabilities rather than odds, but that is a matter of training and custom, not logic.\n",
    "\n",
    "The distinction is simple:\n",
    "\n",
    "* The probability that an event will occur is the fraction of times you expect to see that event in many trials. Probabilities always range between 0 and 1.\n",
    "* The odds are defined as the probability that the event will occur divided by the probability that the event will not occur.\n",
    "\n",
    "\n",
    "A probability of 0 is the same as odds of 0. Probabilities between 0 and 0.5 equal odds less than 1.0. A probability of 0.5 is the same as odds of 1.0. Think of it this way: The probability of flipping a coin to heads is 50%. The odds are “fifty: fifty,” which equals 1.0.\n",
    "\n",
    "As the probability goes up from 0.5 to 1.0, the odds increase from 1.0 to approach infinity. For example, if the probability is 0.75, then the odds are 75:25, three to one, or 3.0.\n",
    "\n",
    "If the odds are high (million to one), the probability is almost 1.00. If the odds are tiny (one to a million), the probablility is tiny, almost zero.\n",
    "\n",
    "Converting between odds and probability is straightforward:\n",
    "\n",
    "* To convert from a probability to odds, divide the probability by one minus that probability. So if the probability is 10% or 0.10 , then the odds are 0.1/0.9 or ‘1 to 9’ or 0.111.\n",
    "* To convert from odds to a probability, divide the odds by one plus the odds. So to convert odds of 1/9 to a probability, divide 1/9 by 10/9 to obtain the probability of 0.10.\n",
    "\n",
    "In the data, we have been given a decimal odd.  To convert this to a probability we take the inverse."
   ]
  },
  {
   "cell_type": "code",
   "execution_count": 36,
   "metadata": {
    "colab": {
     "autoexec": {
      "startup": false,
      "wait_interval": 0
     }
    },
    "colab_type": "code",
    "id": "F7MjVtuZbtHP"
   },
   "outputs": [
    {
     "data": {
      "text/plain": [
       "<matplotlib.axes._subplots.AxesSubplot at 0x27c9bbeedd8>"
      ]
     },
     "execution_count": 36,
     "metadata": {},
     "output_type": "execute_result"
    },
    {
     "data": {
      "image/png": "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\n",
      "text/plain": [
       "<Figure size 432x288 with 1 Axes>"
      ]
     },
     "metadata": {},
     "output_type": "display_data"
    }
   ],
   "source": [
    "sns.boxplot(x='outcome_name', y='B365H', data=prem_league, order = ['away_win', 'draw', 'home_win'])"
   ]
  },
  {
   "cell_type": "markdown",
   "metadata": {
    "colab_type": "text",
    "id": "ro3iYyhebtHR"
   },
   "source": [
    "### Adding odds as an additional piece of information"
   ]
  },
  {
   "cell_type": "markdown",
   "metadata": {
    "colab_type": "text",
    "id": "wiWPZLkabtHS"
   },
   "source": [
    "It does look like the bookies are onto something, they offer lower odds, on average, when the home team ends up winning!  But how much emphasis should we give the bookmakers' predictions?  Let's ask Bayes!"
   ]
  },
  {
   "cell_type": "markdown",
   "metadata": {
    "colab_type": "text",
    "id": "O0ZYDIDJbtHS"
   },
   "source": [
    "Assume that Manchester United have a 63% chance of winning any particular game. A bookie comes to you and offers you odds of 1.5:1 of United winning the next game.  Doing a quick mental calculation, we transalte this to mean thte bookies predict a Manchester United win with 60% probability, so this is clearly the most likely of the three possible outcomes in the bookies' minds.  You do further research to discover that this bookie has got a 52% hit rate of picking the match outcome.  How much does this influence your decision on the match results?"
   ]
  },
  {
   "cell_type": "markdown",
   "metadata": {
    "colab_type": "text",
    "id": "0IrGVzFmbtHS"
   },
   "source": [
    "* Let A be the chance of Manchester United winning the next game\n",
    "* Let B that the Bookie picks that United will win the next game"
   ]
  },
  {
   "cell_type": "code",
   "execution_count": 37,
   "metadata": {
    "colab": {
     "autoexec": {
      "startup": false,
      "wait_interval": 0
     }
    },
    "colab_type": "code",
    "id": "-q1k6EKrbtHT"
   },
   "outputs": [
    {
     "name": "stdout",
     "output_type": "stream",
     "text": [
      "The probability of a Manchester United victory increases from 0.63 to 0.65.\n"
     ]
    }
   ],
   "source": [
    "P_A = 0.63                # prior probability that manchester wins the game\n",
    "P_B_A = 0.52              # probability that the bookie picks a winner correctly\n",
    "\n",
    "#  the probability that the bookie is right about calling the game is a combination of:\n",
    "## if he picked correctly picked a winner times the chance of them winning, plus\n",
    "## the chance he is wrong about picking the winner and they lose\n",
    "P_B = P_B_A * P_A + (1 - P_B_A) * (1 - P_A) \n",
    "\n",
    "P_A_B = P_B_A * P_A / P_B\n",
    "print(\"The probability of a Manchester United victory increases from {:0.2f} to {:0.2f}.\".format(P_A, P_A_B))\n"
   ]
  },
  {
   "cell_type": "markdown",
   "metadata": {
    "colab_type": "text",
    "id": "n4AZwhuhbtHU"
   },
   "source": [
    "If you play around with the \"accuracy\" of the bookie you will get an estimate of how it affects the estimated probability."
   ]
  },
  {
   "cell_type": "code",
   "execution_count": 38,
   "metadata": {
    "colab": {
     "autoexec": {
      "startup": false,
      "wait_interval": 0
     }
    },
    "colab_type": "code",
    "id": "p4J8G8nzbtHU"
   },
   "outputs": [],
   "source": [
    "def p_a_b(p_a, p_b_a):\n",
    "    p_b = p_b_a * p_a + (1 - p_b_a) * (1 - p_a)\n",
    "    return p_b_a * p_a /p_b "
   ]
  },
  {
   "cell_type": "code",
   "execution_count": 39,
   "metadata": {
    "colab": {
     "autoexec": {
      "startup": false,
      "wait_interval": 0
     }
    },
    "colab_type": "code",
    "id": "fb8qIAqsbtHX"
   },
   "outputs": [
    {
     "data": {
      "text/plain": [
       "Text(0.5,1,\"Posterior probability of Manchester winning, given reliability of bookies' predictions\")"
      ]
     },
     "execution_count": 39,
     "metadata": {},
     "output_type": "execute_result"
    },
    {
     "data": {
      "image/png": "iVBORw0KGgoAAAANSUhEUgAAAgUAAAEICAYAAADP6odOAAAABHNCSVQICAgIfAhkiAAAAAlwSFlzAAALEgAACxIB0t1+/AAAADl0RVh0U29mdHdhcmUAbWF0cGxvdGxpYiB2ZXJzaW9uIDIuMi4yLCBodHRwOi8vbWF0cGxvdGxpYi5vcmcvhp/UCwAAIABJREFUeJzt3XecFdX5x/HPs8vSey9LL1KkCCsoNuxoRKJBA9gQ7FGjUaP52YjRaDTRGEsUFREUrAmiYldUkI50KUtfll6WurDl/P6YWXO53LuN3Ttbvu/Xa197586Zuc+ZOTPz3DNzZ8w5h4iIiEhc0AGIiIhIyaCkQERERAAlBSIiIuJTUiAiIiKAkgIRERHxKSkQERERoBQnBWa2z8zaBB1HJGY2xsweLeS0I83szVzGLzGzfuFlzayFv0ziCxV0wWJsZGbfm9leM/tHcX9eQZnZFDO7Lug4ioqZ/Z+ZvVpE8/ql/QSpJG+/Ocysn5mlhAzne9mZmTOzdlHGXWFmX0Qqa2YvmdmDxxh6vpjZzWa2xV8X9cLGtfLjqlAMn5vbsinx7SI3RbVPLsptvqDyTArMbK2ZHfQrt8XMXjez6oX9wKJqbM656s651ccyj9LIOdfFOTclwvvr/WWSBcV+YLwB2A7UdM7dFT7ST4qcmV0c9v4//feHFVNcxcbMhpnZ1CA+2zn3V+dckazLaO0n1krj9ltUy84595Zz7rwo425yzv0Fjk5KipKZJQBPA+f562JHcXxOQRVFu/CPWa2KJqLCC98nRxNpPRflNl9Q+e0pGOCcqw70BE4EHii+kHJ3rMlE0NOXES2BpS73O1+tAK7JGfCX22XAqmKOrURSuyl5YtGrVoI1AioDS4IOpKQqr9tsgU4fOOc2Ap8CxwOYWVMzm2RmO80s2cyuzylrZr3NbI6Z7fF7GJ72R33v/9/t9z6c7JcfbmY/m9kuM/vczFqGzMuZ2e/MbCWwMuS9nC63WmY21sy2mdk6M3vAzOL8ccPMbJqZPWNmO4GR4fXyu3zeN7N3/C7xeWbWPWT8WjO718wWAvvNrIKZdfK/je/2uxUvDpttfTP70p/fd2H1edbMNvjLZq6ZnRY2beU8YjknQh1+6YExs8eA04Dn/WX8vJm9YGFd/Wb2kZndET4vf1xfM5ttZmn+/77++2PwDvZ/9Od9VCy+j4BTzKyOP9wfWAhsDvmMtmb2jZntMLPtZvaWmdUOq+vdZrbQj+MdM6scMn6gmc33l+MqM+sf8vkt/fW+18y+MLP6IdOdZGY/+utugYV0CfvtZbU/3Rrzuno7AS8BJ/t13u2XrWRmfzez9X4bf8nMqvjj+plZit9uNgOvR1jG68ysl//6Sn/9dfaHrzOzif7r0C7JnPV8jf+5283s/pB5jjSzd/3tYa/fNpPCluk5+Szb08x+8se95y//fJ0WM7N6fvva47efRy2kp8WvQzt/XWy2kAO0mV1i3raGmcWZ2X3++t3hx1s3P8siQkxjzOzfZjbZzPYDZ+a2DiNMH7rsepvZdL8NbTJvG6sYNsmFflvabmZP2ZH7pIi9Tn6Mj5pZNbx9bVO/ze0zb397wEK6+s2sl3n7vYQI86pkXu9cqv/3T/+9DsByv9huM/sm2jIDhvvTbjKzX3oFo807ZPz15h0Tdpp3jGgapb6nmrcvPNMfDt2v57Z91Tezj/3lv9PMfshZvrkxb5/9uJnNMm+f8mGE9jTCzNYD3/jv57a/aG3e/n2vmX0JhO5njugVN7O65vW0p5p3nJuYy3r+ZZv3p73YvO1zt1+HTiHjou4nC7WcnHO5/gFrgXP8183xMsu/+MPfAS/iZZw9gG3A2f646cBV/uvqwEn+61aAAyqEfMavgWSgE1ABryfix5DxDvgSqAtUCXmvnf96LPAhUMOf/wpghD9uGJAJ3ObPu0qEOo4EMoBBQAJwN7AGSAhZBvP9+lfxyyQD/wdUBM4C9gLH+eXH+MOnA5WAZ4GpIZ93JVDPj+cuvANl5QLEck5I2TcjLVdgCnBdyGf2BlKBOH+4PnAAaBRhedQFdgFX+TEO8YfrhdTv0VzazBjgUWAUcLP/3rv+fKYCw/z32gHn+suoAV7C+M+wtjcLaOrH9DNwU0h90vzp44BmQMeQuq8COvjrawrwhD+uGbADuNCf7lx/uAFQDdgTsh6bAF1C2tHUsHr+E5jkx1YDLxF63B/XD6/d/c2vX6R2Nxa4y389yo/55pBxd+aynl/x69YdOAR0Cimb7tcvHngcmBFle45aFq9drwN+j9cOLwUO57bew+r2tv9XFegMbODIbSB0+10FnBsy7j3gPv/1HcAMINFfji8DE/KzLKK0yzTgFH/dV87HOkyJsux6ASfhbR+t8NrmHWH1+9afbwu8fdJ1kdpS2LIYk7OMwz/ff28yfhvxh58BnotS30f8ZdcQr33/yP/23TnLrkKUaXPGT8DbLrri7d/Pyce8z8I7vdjTX2fPAd+H1xc4328XvaMsi9zWzeN4iXqC/3caYPlol1OAjXhfbKsBH3D0tjXWH1eFXPYXIce5p/16no6334+2T/4EeAeo48d8Ri7reWTIfDoA+/3PTgD+iHf8qZiP/WSBl1N+k4J9wG68ncSL/sJqDmQBNULKPg6M8V9/D/wZqB+lsYUmBZ/iH8T94Ti8A1bLkIZyVth8chpWPN6OoHPIuBuBKSEb4Po86jiSI3ecccAm4LSQZTA8ZPxpeAfyuJD3JgAjQzbst0PGVfeXVfMon78L6F6AWAqcFPjv/Yy/8wVuBSZHiecqYFbYe9P538F8DPlLCk71p6sFbPHbzS9JQYTpfg38FNb2rgwZfhJ4yX/9MvBMLhv+AyHDtwCf+a/vBcaFlf8cr/ejGl47/w1hB3GO3pEb3obaNuS9k4E1IRv6YfxkL0qcI4BJIevmupx2g7et9cxlPSeGzGcWMDik7Fch4zoDB8OW6Tl5lcXbwW0kZAfir7s8kwK8bTIDP7ny33uU6AfCR4HR/usa/nJtGbJczg6Zrok/75yDcdRlEaVdji3gOoyYFESY9x3Af8Pq1z+sDX4dpS0VJCn4LTAtZDlvJuSgGlZ2FXBhyPD5wNqwdpRXUtAxbPt7LR/zfg14MmRcdX+dtQqp75/w2njXsM/N2a/ntW4ewfsi2C6v9hg2/yn4XxBC2vxhf1nm1LlNyPjc9hct8BL/aiHjxhNhn4zXbrOBOhFiirSeR4bM50Hg3ZBxcXjbZr+QdhltP1ng5ZTf0we/ds7Vds61dM7d4pw7iJeV7HTO7Q0ptw4vswJvh9cBWGZe9+FFucy/JfCs38WxG9iJ1yiahZTZEGXa+vzvW02kOHKbNtQvZZxz2UAKXh0jzaMpsMEvl+dnOuf24dWpKYCZ3WXeqZI0v761COl2ykcshfUGXi8F/v9xUco15cjlCUfXL0/Oual43yIeAD72280vzKyhmb1tZhvNbA/wJkcuBwg53YCXKOZc5Nqc3K9PiDZdS+CynLbmL/9TgSbOuf14O92bgE1m9omZdYwy/wZ434LnhsznM//9HNucc+m5xPgdcJqZNcbbKb2Dd8qlFV6bmF+I+kUaV9minx+NVrYpsNH5exZffrYj8JZBhbDyuU07HrjU736+FJjnnMtpfy2B/4Ys45/xEuxGudQhtwuhQ+PIzzqMyMw6+N2ym/22+1eObruhn7WOotmGPwQ6m3eF/rlAmnNuVpSy4dtxYWKIVofc5n3EOH//t4Mj9x934B3oFkX53LzWzVN435a/MO8UzX3HUKcEoux/yWV/4ddzl7/fCJ1fJM3xjpe7ChBnjvDlme3HGLo8o20DBV5Ox/KTxFSgrpnVCHmvBV4Gg3NupXNuCF730t+A9/3zJ+6oOXkVvNFPPHL+qjjnfgwpE2k68LqpMvBW3lFx5DFtqOY5L/xzLol+HSPNIxVoHnZuJvwzQ+dXHa9bJ9W86wfuBS7Hyxpr43VpWgFiyY9IdX4TGGjeNQqdgIlRpk3lyOUJR9cvv97EO0UyNsK4x/04uznnauIlKhahXCQbgLaFiGcDXuYf2taqOeeeAHDOfe6cOxdvo1+G1zUNRy/P7cBBvNMLOfOp5bwLcokyzRGcc8l4G/DteN2re/E27hvwvklm5zZ9MdsENDOziO0yD9vwvkEl5mda59xSvJ3eBcBQvCQhxwbggrD1Vdl51zcVRug6yc86jObfeO2jvd92/4+j225onVtQBNuwn2S+C1yB16MXLbGHo7fjwsQQrQ65zfuIcf5+vx5H7j8uA35tUa5pIo9145zb65y7yznXBhgA/MHMzi5knTL8z8sRnghH219sAur49QudXyQb8I6XtSOMy+v4FL48za9DnttAYZZToZMC59wGvPNIj5tZZTPrhtc78JYf+JVm1sDfse32J8vC22FkA6G/RX0J+JOZdfGnrWVml+Uzjiy8jeQxM6th3gV9f8A7GBVELzO71P+WdAfeKYkZUcrOxOva+qOZJfgXngzAO4ea40LzLqKpCPwFmOkvsxp4O8xtQAUzewioeQyxRLOFI5cxzrkUYDbejuSD8G/uISYDHcxsqHkXLv4Wr5vt4wLGAPAvvG8030cYVwP/1JSZNQPuKcB8XwOuNbOzzbsYrVku3+pDvQkMMLPzzSzeb7v9zCzRvPsvXOxv5If82HJ+TrQFSPTXZ062/grwjJk1BPBjOL8AdQCvt+BW/z943Zuhw0GZjlf3W/02MBDvOo5fmHcRVb/wCf1t8j/ASDOr6q+Xq/P4vPF4ydHpeNcU5HgJb9tu6X9mAz+WY3aM67AG3vUn+/z63RyhzD1mVsfMmuNdm/FOAUPcAtQzs1ph74/FOwVxMbnv5yYAD/jLrD7wUB7lI3nQX4ddgGv5Xx1ym/d4vG2zh9/781e8/d/akPmmAmcDt5vZLeEfmte6MbOLzLtQ1fDWQxb/21bzcqWZdTazqnjd6++76D8bjLq/8Huz5gB/NrOKZnYq3nHgKM65TXinyV/020SCmZ3uj462nnO8C/zK39cl4H3JOoR3/M1VYZbTsd68aAjeeZNU4L/Aw865L/1x/YElZrYP70K7wc65dOfcAeAxYJrfHXOSc+6/eL0Jb/tdcYvxvjXk1214B+nVeOc9xwOjC1iXD/G6jnMusLvUOZcRqaBz7jDeBnkBXob5InC1c25ZSLHxwMN4pw164WX24J2P+hTvwqN1eBd6hXet5juWXDwLDDLvKtd/hbz/Bt5FQ1G/YTjvN8sX4TW+HXgXtlzknNsebZpc5rXTOfd1WDd0jj/jXYyUhncRzn8KMN9ZeDupZ/zpv+Po3o1I020ABuJ9s9uGt+zvwdsW4vDqnIq33s7AOxcM3pXIS4DNZpazHO7F65qb4bfbr4Dj8lsH33d4B5jvowwHwm/jl+Il+rvxenE+xtsZYWaJeElTtO7fW/FOgWzGa2sTcqaNYgLeudVvwtrZs3gXm31hZnvxkuM+hapUZIVdh3fj9WrsxTt4RTrgfwjMxTsN9AleIptv/v5kArDa31c29d+fhvfFal7YgTbco3gHrYV462me/15BfIe3fL4G/u6cy7npUtR5O+e+xjsP/gHet+m2wOAI9VuPlxjca5HvqZLbumnvD+/DS2BfdPm/h8Q4vGs3NuNdbHp7tIJ57C/AawN98PYXDxO5RzTHVXi9EsuArXhf+KKu55AYluNtf8/hHW8G4N0m4HA+6lrg5WSR99Xli5mNxLsQ48q8ypZ2fnb6Jt5FP0F2T0spY2Yz8S5get3MrsTr2v1TPqf9G9DYOXdNsQZZTpj3M8LxzrlA7npXWpnZFLwL+LTcoiiXN2cor/yup98DryohkLyY2Rl4v2ffjtfT1Q3vYi+cc7l2Q/td6hXxvkWeiNfjUGZuPR0kMzsRr4etSE6jiIRSUlBOmHeziznAArxud5G8HId3PrM63i89BvnnRvOjBl6XaFO8rtJ/4HWnyzEwszfwfrr7+7BffokUCZ0+EBEREaAUPyVRREREipZOH8RQ/fr1XatWrYIOQ0SkVJk7d+5251yeN5WSY6ekIIZatWrFnDlzgg5DRKRUMbNodwqUIqbTByIiIgIoKRARERGfkgIREREBlBSIiIiIT0mBiIiIAEoKojKz0Wa21cwWRxlvZvYvM0s2s4Vm1jPWMYqIiBQlJQXRjcF70mM0F+A9gao9cAPe89VFRERKLSUFUTjnvsd7HGY0A4GxzjMDqG1mTWITnYhI6bAnPYNx09fyxZLNQYci+aCbFxVeM7xna+dI8d874oExZnYDXk8CLVq0iFlwIiJBcc4xf8NuJsxaz0cLNnEwI4vf9EzkvC6Ngw5N8qCkoPAswntHPV3KOTcKGAWQlJSkp0+JSJm1Jz2DD3/ayFsz17Ns816qVozn1yc0ZWjvlnRNrBV0eJIPSgoKLwVoHjKcCKQGFIuISCByegXGz1zPxwu9XoHjm9Xkr5d05eIeTaleSYeZ0kRrq/AmAbea2dtAHyCtAM+aFxEp1fakZzDxp42M93sFqlWM59cnNGNo7xbqFSjFlBREYWYTgH5AfTNLAR4GEgCccy8Bk4ELgWTgAHBtMJGKiMSGc46fNuxmwsz1fLQwlfSMbPUKlDFag1E454bkMd4Bv4tROCIigUk7mMGH84/sFbjkhET1CpRBSgpEROQokXoFujarpV6BMk5rVUREfqFegfJNSYGISDnnnGPeeu++Ah+H9Ao8fmlXBnRXr0B5ojUtIlJOpR30fkEwYZZ6BcSjpEBEpBxRr4DkRmtfRKQciNQrcGnPRIacqF4B+R8lBSIiZVSkXoFuieoVkOjUIkREyphDmVl8tGATo6euYemmPb/0Cgzt3YLjm6lXQKJTUiAiUkZs33eIt2asZ9yMdWzfd4gOjarrvgJSIGolIiKl3LLNexg9dQ0T56dyODObM49rwPBTW3Nqu/qYRXqgq0hkSgpEREqh7GzHlBVbeW3qGqYl76ByQhyX9Urk2lNa065h9aDDk1JKSYGISCly4HAmH8zbyOvT1rB6234a16zMH/sfx9DeLahdtWLQ4Ukpp6RARKQUSN19kLHT1zFh1nrSDmbQLbEWzw7uwYVdm5AQHxd0eFJGKCkQESnB5m/YzWtT1zB50Sacc5zfpTEjTm1Nr5Z1dL2AFDklBSIiJUxmVjafL9nC6GlrmLtuFzUqVeDavq24pm8rmtetGnR4UoYpKRARKSHSDmbwzuz1vPHjOjbuPkiLulV5eEBnLktqrp8USkyolYmIBGzt9v2M+XEt787ZwIHDWfRpXZeHBnTmnE6NiI/TKQKJHSUFIiIBcM4xY/VOXpu6hq+XbaFCnDGgW1OGn9padx2UwCgpEBGJofBbENepmsCtZ7bjqpNa0rBm5aDDk3JOSYGISAyE34K4fcPqPH5pVy45oRmVE+KDDk8EUFIgIlKslm/ey+ipa/jv/I0czsym33ENGH5Ka05rr1sQS8mjpEBEpIhlZzu+W7GN16auYWrydionxDGoVyLDT2lFu4Y1gg5PJColBSIiRSQr2/HJok288E0yy7fspVHNStxzvncL4jrVdAtiKfmUFIiIHKPMrGwmzk/lxW+TWb19P+0aVufpy7tzUbemVKygWxBL6aGkQESkkA5nZvPBvBRenJLMhp0H6dSkJi9e0ZP+XRoTp/sLSCmkpEBEpIDSM7J4Z/YGXvpuFZvS0umWWIuHLurCOZ0a6uJBKdWUFIiI5NOBw5m8NWM9o35Yzba9h0hqWYcnftON0/VLAikjlBSIiORhb3oGY6ev47Wpa9i5/zB929bj2cE9OLlNPSUDUqYoKRARiSLtQAajp63h9Wlr2JOeSb/jGnDbWe3o1bJu0KGJFAslBSIiYXbsO8SrU9cwbvo69h3K5LzOjbj1rHZ0S6wddGgixUpJgYiIb+uedEZ9v5q3Zq4nPTOLC7s24dYz29GpSc2gQxOJCSUFUZhZf+BZIB541Tn3RNj4FsAbQG2/zH3OuckxD1REjlnq7oO89N0q3p69gaxsx8DuTbnlzLa6+6CUO0oKIjCzeOAF4FwgBZhtZpOcc0tDij0AvOuc+7eZdQYmA61iHqyIFNr6HQd4cUoyH8xLwTn4Tc9EbjmzLS3rVQs6NJFAKCmIrDeQ7JxbDWBmbwMDgdCkwAE5fYq1gNSYRigihZa8dR8vTknmw/mpxMcZg09swU392tKsdpWgQxMJlJKCyJoBG0KGU4A+YWVGAl+Y2W1ANeCcSDMysxuAGwBatGhR5IGKSP4t27yH579J5pNFm6hUIY5hfVtxw+ltaFSzctChiZQISgoii/TDYxc2PAQY45z7h5mdDIwzs+Odc9lHTOTcKGAUQFJSUvg8RCQGFqWk8dw3K/li6RaqVYznpjPaMuLU1tSvXino0ERKFCUFkaUAzUOGEzn69MAIoD+Ac266mVUG6gNbYxKhiORp7rpdPP/NSr5dvo0alStw+9ntGX5KK2pX1RMLRSJRUhDZbKC9mbUGNgKDgaFhZdYDZwNjzKwTUBnYFtMoRSSiGat38Nw3K5mWvIM6VRO45/zjuOrkltSsnBB0aCIlmpKCCJxzmWZ2K/A53s8NRzvnlpjZI8Ac59wk4C7gFTO7E+/UwjDnnE4PiARo5uod/OOLFcxau5P61Stx/4WdGNqnBdUqaVcnkh+m41jsJCUluTlz5gQdhkiZs3zzXp78bBlfL9tKo5qVuPmMtgzu3YLKCfFBhyZFwMzmOueSgo6jPFD6LCKl1qa0gzz9xQo+mJdCtUoVuLd/R4b1bUWVikoGRApDSYGIlDppBzJ48btkxkxbi3Mw/JTW/O7MdtSppgsIRY6FkgIRKTXSM7IYN30dz3+bzJ70DC7p0Yw7z+1A87pVgw5NpExQUiAiJV5WtmPiTxt5+ssVbNx9kDM6NODe/h3p3FQPKhIpSkoKRKTEcs4xZcU2/vbpMpZt3kvXZrV4alA3+rarH3RoImWSkgIRKZEWpuzm8cnLmL56By3qVuW5ISfwq65NiIuLdMNRESkKSgpEpERZu30/T32xnE8WbqJutYqMHNCZoX1aUrFCXNChiZR5SgpEpETYvu8Qz329krdmrichPo7bz2rH9ae3oYbuQigSM0oKRCRQ+w9l8uoPaxj1/SrSM7MZfGJzfn92exrqyYUiMaekQEQCkZGVzduzN/DsVyvZvu8Q/bs05p7+x9G2QfWgQxMpt5QUiEhMOef4bPFmnvp8Oau37+fEVnV4+ape9GpZJ+jQRMo9JQUiEjMzV+/g8U+XMX/Dbto3rM6rVydxdqeGmOkXBSIlgZICESl2oQ8salyzMk/+phu/6ZVIvH5eKFKiKCkQkWKjBxaJlC5KCkSkyIU/sGjEqa25pZ8eWCRS0ikpEJEiE+mBRX84rwOJdfTAIpHSQEmBiByz7GzHxPkb+ccXemCRSGmmpEBEjsmS1DQenLiYeet364FFIqWckgIRKZQ96Rk8/cUKxk5fS52qFXlqUDd+0zNRDywSKcWUFIhIgTjn+HB+Ko9N/pnt+w5xZZ+W3H3ecdSqqmcUiJR2SgpEJN9WbtnLgx8uZsbqnXRPrMVr1yTRLbF20GGJSBFRUiAiedp/KJN/fbOS135YQ7VKFXjskuMZfGIL3XxIpIxRUiAiUeU8p+CRj5eyKS2dy5MSubd/R+pVrxR0aCJSDJQUiEhEa7fv5+FJS/huxTY6Nq7B80NPoFfLukGHJSLFSEmBiBwhPSOLF6es4qXvVlExPo6HLurM1Se3pEJ8XNChiUgxU1IgIr/4ZtkWHp60hA07DzKwR1Puv7ATDWtWDjosEYkRJQUiQsquA/z5o6V8uXQL7RpWZ/z1fejbVjcgEilvlBSIlGOHMrN49Yc1PPfNSgzj3v4dGXFqaypW0KkCkfJISYFIOTUteTsPfriY1dv2079LYx4c0JlmtasEHZaIBEhJgUg5szktnUc/WcrHCzfRsl5Vxlx7Iv2Oaxh0WCJSAigpiMLM+gPPAvHAq865JyKUuRwYCThggXNuaEyDFCmAjKxs3vhxLc98uYKMbMed53TgxjPaUDkhPujQRKSEUFIQgZnFAy8A5wIpwGwzm+ScWxpSpj3wJ+AU59wuM9NXLSmxZq/dyYMTF7Ns817OPK4BIy/uQst61YIOS0RKGCUFkfUGkp1zqwHM7G1gILA0pMz1wAvOuV0AzrmtMY9SJA/b9x3i8cnL+GBeCs1qV+Hlq3pxXudGmOn2xCJyNCUFkTUDNoQMpwB9wsp0ADCzaXinGEY65z4Ln5GZ3QDcANCiRYtiCVYkXFa2Y/zMdTz1+XIOZmRxS7+23HpWO6pW1CYvItFpDxFZpK9RLmy4AtAe6AckAj+Y2fHOud1HTOTcKGAUQFJSUvg8RIrcgg27eWDiYhZtTKNv23o8MvB42jWsHnRYIlIKKCmILAVoHjKcCKRGKDPDOZcBrDGz5XhJwuzYhChypN0HDvPk58uZMGs9DapX4l9DTmBAtyY6VSAi+aakILLZQHszaw1sBAYD4b8smAgMAcaYWX280wmrYxqlCJCd7Xh/bgpPfLaMtIMZDD+lNXec054alROCDk1EShklBRE45zLN7Fbgc7zrBUY755aY2SPAHOfcJH/ceWa2FMgC7nHO7QguaimP1mzfzz3vLWDOul2c2KoOjww8nk5NagYdloiUUuacTnPHSlJSkpszZ07QYUgZkJ3teHPmOh6fvIyEeOPBizozqFeiThVImWRmc51zSUHHUR6op0CklEndfZA/vr+QqcnbOaNDA54c1I1GepKhiBQBJQUipYRzjg/mbeTPk5aQ5Rx/vaQrQ3o3V++AiBQZJQUipcC2vYf4v/8u4sulW+jdui5/H9SdFvWqBh2WiJQxSgpESrhPF23i/omL2Xcokwd+1Ynhp7QmLk69AyJS9JQUiJRQaQcyeHjSYibOT6Vrs1o8fXl32jeqEXRYIlKGKSkQKYG+W7GNP76/gB37DnPnOR245cy2JMTHBR2WiJRxSgpESpD9hzJ5bPLPjJ+5nvYNq/Pq1SfSNbFW0GGJSDmhpECkhJi1Zid3v7eADbsOcOPpbbjz3A5UTogPOiwRKUeUFIgELD0ji6e/XMErP6ymeZ2qvHvjyZzYqm7QYYlIOaSkQCTc8QLSAAATGklEQVRAi1LS+MO781m5dR9X9GnB/13YiWqVtFmKSDC09xEJQEZWNi98m8zz3yRTv3ol3hjemzM6NAg6LBEp55QUiMTYyi17+cO7C1i0MY1LTmjGyAFdqFVVTzQUkeApKRCJkaxsx+ipa3jqi+VUr1SBl67sSf/jmwQdlojIL5QUiMTA+h0HuPu9Bcxau5NzOzfir5d0pUGNSkGHJSJyBCUFIsXIOcf4Wet57JOfiTfjH5d159KezfQQIxEpkZQUiBSTzWnp3PvBQr5bsY1T29XnyUHdaFq7StBhiYhEpaRApIg555i0IJUHJy4mI8vxl4FduKJPSz3ESERKPCUFIkVox75DPDBxMZ8u3kyvlnX4+2XdaV2/WtBhiYjki5ICkSLy5dIt/Ok/C9lzMJN7+3fkhtPbEK/eAREpRZQUiByjPekZPPLRUt6fm0LnJjV587rudGxcM+iwREQKTEmByDGYlryde95bwJa9h7jtrHbcdlZ7KlbQI45FpHRSUiBSCIczs3ni02WMnraGNg2q8cHNfenRvHbQYYmIHBMlBSIFtCntIL97ax7z1u9mWN9W3HdBRz3iWETKBCUFIgXwY/J2bpvwE+kZWbwwtCe/6qbbFItI2aGkQCQfsrMdL32/ir9/vpw2Darz0pW9aNewetBhiYgUKSUFInlIO5jBXe8u4KuftzCge1OeuLQr1Spp0xGRskd7NpFcLE3dw81vzWXjroOMHNCZa/q20nMLRKTMUlIgEsX7c1O4/7+LqF01gXduPIleLesGHZKISLFSUiASJj0jiz9/tJQJs9Zzcpt6PDf0BOpX12OORaTsU1IgEiJl1wFueWseC1PSuLlfW+46twMV4nUzIhEpH5QUiPimLN/KHe/MJyvLMeqqXpzXpXHQIYmIxJS+AkVhZv3NbLmZJZvZfbmUG2RmzsySYhmfFJ3sbMc/v1rBtWNm07hmZT667VQlBCJSLqmnIAIziwdeAM4FUoDZZjbJObc0rFwN4HZgZuyjlKKwa/9h7nhnPt+t2MalPZvx2K+7UqWi7k4oIuWTkoLIegPJzrnVAGb2NjAQWBpW7i/Ak8DdsQ1PisLClN3c/OY8tu09xGOXHM/Q3i30c0MRKdd0+iCyZsCGkOEU/71fmNkJQHPn3Me5zcjMbjCzOWY2Z9u2bUUfqRSYc47xM9cz6N/TAXjvppO5ok9LJQQiUu6ppyCySEcH98tIszjgGWBYXjNyzo0CRgEkJSW5PIpLMTt4OIsHP1zM+3NTOL1DA579bQ/qVKsYdFgiIiWCkoLIUoDmIcOJQGrIcA3geGCK/+2yMTDJzC52zs2JWZRSIOt27OemN+fx86Y93H52e35/dnvi49Q7ICKSQ0lBZLOB9mbWGtgIDAaG5ox0zqUB9XOGzWwKcLcSgpLrq6VbuPPd+cSZ8fqwEzmzY8OgQxIRKXGUFETgnMs0s1uBz4F4YLRzbomZPQLMcc5NCjZCya/MrGye/nIFL05ZRddmtXjxip40r1s16LBEREokJQVROOcmA5PD3nsoStl+sYhJCmb7vkPcPuEnfly1gyG9m/PwgC5UTtDPDUVEolFSIGXSvPW7uOXNeew6cJgnB3Xj8qTmeU8kIlLOKSmQMsU5x9jp63j0k6U0qVWF/9zSly5NawUdlohIqaCkQMqMA4czue+DRUxakMrZHRvy9OU9qFU1IeiwRERKDSUFUias2raPm9+cS/LWfdxz/nHcfEZb4vRzQxGRAlFSIKXep4s2cc/7C6lYIY6xw/twavv6eU8kIiJHUVIgpVZGVjZPfraMV35YQ4/mtXnxip40rV0l6LBEREotJQVSKm3dk86t439i1tqdXHNyS+7/VWcqVtCjPEREjoWSAil15qzdyc1vzWNfeib//G0Pfn1Cs7wnEhGRPCkpkFLl00Wb+P0782laqzJvjujDcY1rBB2SiEiZoaRASo3Xp63hkY+X0rNFHV69OklPNxQRKWJKCqTEy852PPHZMkZ9v5rzOjfiX0NO0O2KRUSKgZICKdEOZWZx93sL+WhBKlef3JKHB3TR445FRIqJkgIpsdIOZnDTuLlMX72De/t35KYz2mCmhEBEpLgoKZASaVPaQYaNns3q7ft45rfdueSExKBDEhEp85QUSImzfPNehr0+i73pmbw+rLfuUCgiEiNKCqREmb5qBzeMm0OVhHjeufEkPeFQRCSGlBRIifHRglTuencBLepVZcy1J5JYp2rQIYmIlCtKCqREePWH1Tz6yc/0blWXUVf3onZV3YNARCTWlBRIoLKzHY9+8jOjp63hwq6NefryHroHgYhIQJQUSGDSM7K4690FfLJoE8P6tuLBizrrHgQiIgFSUiCBSDuQwfXj5jBrzU7uv7AT153WWvcgEBEJmJICibmNuw8ybPQs1u7Yz7ODezCwh55yKCJSEigpkJj6edMehr0+iwOHsnhjeG/6ttU9CERESgolBRIzPyZv58Zxc6lWqQLv3XwyHRvXDDokEREJoaRAYuLD+Ru5+70FtK5fjTHX9qZp7SpBhyQiImGUFEixcs7x8vereeLTZfRpXZdRVydRq0pC0GGJiEgESgqk2GRlOx75aAlvTF/HRd2a8I/Lu1Opgu5BICJSUikpkGKRnpHF79/+ic+XbOH601rzpws6Ead7EIiIlGhKCqTI7dp/mOvHzmHu+l08eFFnRpzaOuiQREQkH5QUSJHasPMA17w+i5SdB3l+SE9+1a1J0CGJiEg+xQUdQEllZv3NbLmZJZvZfRHG/8HMlprZQjP72sxaBhFnSbJ4YxqX/vtHtu89xLgRvZUQiIiUMkoKIjCzeOAF4AKgMzDEzDqHFfsJSHLOdQPeB56MbZQlyw8rt/Hbl6eTEGe8f3Nf+rSpF3RIIiJSQEoKIusNJDvnVjvnDgNvAwNDCzjnvnXOHfAHZwCJMY6xxPhgbgrXvj6b5nWr8p9bTqFDoxpBhyQiIoWgpCCyZsCGkOEU/71oRgCfRhphZjeY2Rwzm7Nt27YiDDF4zjle+DaZu95bQO/WdXn3ppNpXKty0GGJiEgh6ULDyCL9ds5FLGh2JZAEnBFpvHNuFDAKICkpKeI8SqOsbMdDHy7mrZnrGdijKU8N6k7FCsoxRURKMyUFkaUAzUOGE4HU8EJmdg5wP3CGc+5QjGIL3MHDWdw24Se++nkLN57RhnvP76h7EIiIlAFKCiKbDbQ3s9bARmAwMDS0gJmdALwM9HfObY19iMHYuf8wI96YzfwNu/nzxV24pm+roEMSEZEioqQgAudcppndCnwOxAOjnXNLzOwRYI5zbhLwFFAdeM/MANY75y4OLOgY2LDzAFePnsXG3Qf59xU96X+8fnIoIlKWKCmIwjk3GZgc9t5DIa/PiXlQAUrdfZAhr8xgz8EM3rquDye2qht0SCIiUsSUFEieNqelM+SVGaQdyOCt6/vQLbF20CGJiEgx0OXikqute9MZ+uoMtu89xBsjeishEBEpw9RTIFHt2HeIK1+dyabd6bwxvDc9W9QJOiQRESlG6imQiHYfOMyVr81i3Y4DvHZNEr1b6xoCEZGyTkmBHCXtYAZXvTaLVVv38crVSfRtVz/okEREJAaUFMgR9qZncM3oWSzbvIeXrurJ6R0aBB2SiIjEiJIC+cX+Q5kMHzObxRvTeH5oT87q2CjokEREJIaUFAjg3bp4xBuzmbtuF88OPoHzuzQOOiQREYkx/fpASM/I4oZxc5i5Zif//G0PftVNdyoUESmP1FNQzh3KzOLmN+fyw8rtPPmbbgzskdsTokVEpCxTUlCOZWRlc+v4n/h2+Tb+eklXLktqnvdEIiJSZikpKKcys7L5/ds/8eXSLfz54i4M7dMi6JBERCRgSgrKoaxsxx/eXcDkRZt54Fed9PhjEREBlBSUO9nZjj++v5BJC1L5Y//juO60NkGHJCIiJYSSgnIkO9tx/8RFfDAvhTvP6cAt/doFHZKIiJQgSgrKCeccIz9awoRZG/jdmW25/WwlBCIiciQlBeWAc46/fPwzY6ev44bT23D3ecdhZkGHJSIiJYySgjLOOcffPlvO6GlrGNa3FX+6oKMSAhERiUhJQRn3zFcreem7VVzRpwUPD+ishEBERKJSUlCGPf/NSv719UouT0rkLwOPV0IgIiK5UlJQRr383Sr+/sUKLj2hGY9f2o24OCUEIiKSOyUFZdDoqWt4/NNlXNStCU8O6ka8EgIREckHJQVlzLgZ63jk46Wc36URz/y2BxXitYpFRCR/dMQoQ96ZvZ4HJy7m7I4NeW5ITxKUEIiISAHoqFFG/GdeCvf9ZxFndGjAi1f2pGIFrVoRESkYHTnKgEkLUrn7vQX0bVuPl6/qRaUK8UGHJCIipZCSglLu00WbuPOd+SS1qssrVydROUEJgYiIFI6SglLsq6VbuG3CT3RPrMXoYSdStWKFoEMSEZFSTElBKTVl+VZueWseXZrWZMzw3lSvpIRARESOjZKCUmjqyu3cMG4u7RtVZ+zwPtSsnBB0SCIiUgYoKShlZqzewXVjZ9OmfjXGjehDrapKCEREpGgoKYjCzPqb2XIzSzaz+yKMr2Rm7/jjZ5pZq+KOac7anQwfM5vEOlV587o+1K1Wsbg/UkREyhElBRGYWTzwAnAB0BkYYmadw4qNAHY559oBzwB/K86Y5m/YzbDXZ9OoZmXGX9eH+tUrFefHiYhIOaSkILLeQLJzbrVz7jDwNjAwrMxA4A3/9fvA2VZMjyFckprG1a/NpG61ioy/vg8Na1Yujo8REZFyTklBZM2ADSHDKf57Ecs45zKBNKBe+IzM7AYzm2Nmc7Zt21aoYOpWq0j35rUZf30fmtSqUqh5iIiI5EVJQWSRvvG7QpTBOTfKOZfknEtq0KBBoYJpUqsK40b0IbFO1UJNLyIikh9KCiJLAZqHDCcCqdHKmFkFoBawMybRiYiIFAMlBZHNBtqbWWszqwgMBiaFlZkEXOO/HgR845w7qqdARESktNBt8CJwzmWa2a3A50A8MNo5t8TMHgHmOOcmAa8B48wsGa+HYHBwEYuIiBw7JQVROOcmA5PD3nso5HU6cFms4xIRESkuOn0gIiIigJICERER8SkpEBEREUBJgYiIiPhMv6KLHTPbBqw7hlnUB7YXUTilQXmrL6jO5YXqXDAtnXOFu/ubFIiSglLEzOY455KCjiNWylt9QXUuL1RnKal0+kBEREQAJQUiIiLiU1JQuowKOoAYK2/1BdW5vFCdpUTSNQUiIiICqKdAREREfEoKREREBFBSUOKYWX8zW25myWZ2X4TxlczsHX/8TDNrFfsoi1Y+6vwHM1tqZgvN7GszaxlEnEUprzqHlBtkZs7MSv1PufJTZzO73F/XS8xsfKxjLGr5aNstzOxbM/vJb98XBhFnUTGz0Wa21cwWRxlvZvYvf3ksNLOesY5R8uCc018J+cN7TPMqoA1QEVgAdA4rcwvwkv96MPBO0HHHoM5nAlX91zeXhzr75WoA3wMzgKSg447Bem4P/ATU8YcbBh13DOo8CrjZf90ZWBt03MdY59OBnsDiKOMvBD4FDDgJmBl0zPo78k89BSVLbyDZObfaOXcYeBsYGFZmIPCG//p94GwzsxjGWNTyrLNz7lvn3AF/cAaQGOMYi1p+1jPAX4AngfRYBldM8lPn64EXnHO7AJxzW2McY1HLT50dUNN/XQtIjWF8Rc459z2wM5ciA4GxzjMDqG1mTWITneSHkoKSpRmwIWQ4xX8vYhnnXCaQBtSLSXTFIz91DjUC75tGaZZnnc3sBKC5c+7jWAZWjPKznjsAHcxsmpnNMLP+MYuueOSnziOBK80sBZgM3Bab0AJT0O1dYqxC0AHIESJ94w//zWh+ypQm+a6PmV0JJAFnFGtExS/XOptZHPAMMCxWAcVAftZzBbxTCP3weoN+MLPjnXO7izm24pKfOg8Bxjjn/mFmJwPj/DpnF394gShr+68yRz0FJUsK0DxkOJGjuxN/KWNmFfC6HHPrrivp8lNnzOwc4H7gYufcoRjFVlzyqnMN4HhgipmtxTv3OqmUX2yY37b9oXMuwzm3BliOlySUVvmp8wjgXQDn3HSgMt6Dg8qqfG3vEhwlBSXLbKC9mbU2s4p4FxJOCiszCbjGfz0I+MY5V5oz7Tzr7Helv4yXEJT288yQR52dc2nOufrOuVbOuVZ411Fc7JybE0y4RSI/bXsi3kWlmFl9vNMJq2MaZdHKT53XA2cDmFknvKRgW0yjjK1JwNX+rxBOAtKcc5uCDkr+R6cPShDnXKaZ3Qp8jnfl8mjn3BIzewSY45ybBLyG18WYjNdDMDi4iI9dPuv8FFAdeM+/pnK9c+7iwII+Rvmsc5mSzzp/DpxnZkuBLOAe59yO4KI+Nvms813AK2Z2J143+rDSnOSb2QS80z/1/eskHgYSAJxzL+FdN3EhkAwcAK4NJlKJRrc5FhEREUCnD0RERMSnpEBEREQAJQUiIiLiU1IgIiIigJICERER8SkpEBEREUBJgYiIiPj+H0pjdQgw/D4pAAAAAElFTkSuQmCC\n",
      "text/plain": [
       "<Figure size 432x288 with 1 Axes>"
      ]
     },
     "metadata": {},
     "output_type": "display_data"
    }
   ],
   "source": [
    "bookie_right = np.linspace(0, 1, 10)\n",
    "new_odds = p_a_b(0.63, bookie_right)\n",
    "plt.plot(bookie_right, new_odds)\n",
    "plt.title(\"Posterior probability of Manchester winning, given reliability of bookies' predictions\")"
   ]
  },
  {
   "cell_type": "markdown",
   "metadata": {},
   "source": [
    "Of course, we're assuming that the predicted winner is the only piece of new information conveyed by the odds. There may perhaps be more, but we'll leave that to you to think about."
   ]
  },
  {
   "cell_type": "markdown",
   "metadata": {
    "colab_type": "text",
    "id": "K9MS3hQ2btHa"
   },
   "source": [
    "### Actually calculating these odds from the data"
   ]
  },
  {
   "cell_type": "markdown",
   "metadata": {
    "colab_type": "text",
    "id": "9ym2JjPObtHa"
   },
   "source": [
    "Now that we know how to update our prior beliefs given new data, we will show you how to actually extract this information from the dataset."
   ]
  },
  {
   "cell_type": "code",
   "execution_count": 40,
   "metadata": {
    "colab": {
     "autoexec": {
      "startup": false,
      "wait_interval": 0
     }
    },
    "colab_type": "code",
    "id": "y7SOPoHWbtHc"
   },
   "outputs": [],
   "source": [
    "prem_league['prob_home_win'] = 1 / prem_league['B365H']\n",
    "prem_league['prob_away_win'] = 1 / prem_league['B365A']\n",
    "prem_league['prob_draw'] = 1 / prem_league['B365D']\n",
    "prem_league['prob'] = prem_league[['prob_home_win', 'prob_away_win', 'prob_draw']].sum(axis=1)"
   ]
  },
  {
   "cell_type": "code",
   "execution_count": 41,
   "metadata": {
    "colab": {
     "autoexec": {
      "startup": false,
      "wait_interval": 0
     }
    },
    "colab_type": "code",
    "id": "P312m3AKbtHe"
   },
   "outputs": [
    {
     "data": {
      "text/html": [
       "<div>\n",
       "<style scoped>\n",
       "    .dataframe tbody tr th:only-of-type {\n",
       "        vertical-align: middle;\n",
       "    }\n",
       "\n",
       "    .dataframe tbody tr th {\n",
       "        vertical-align: top;\n",
       "    }\n",
       "\n",
       "    .dataframe thead th {\n",
       "        text-align: right;\n",
       "    }\n",
       "</style>\n",
       "<table border=\"1\" class=\"dataframe\">\n",
       "  <thead>\n",
       "    <tr style=\"text-align: right;\">\n",
       "      <th></th>\n",
       "      <th>prob_home_win</th>\n",
       "      <th>prob_away_win</th>\n",
       "      <th>prob_draw</th>\n",
       "      <th>prob</th>\n",
       "    </tr>\n",
       "  </thead>\n",
       "  <tbody>\n",
       "    <tr>\n",
       "      <th>count</th>\n",
       "      <td>3040.000000</td>\n",
       "      <td>3040.000000</td>\n",
       "      <td>3040.000000</td>\n",
       "      <td>3040.000000</td>\n",
       "    </tr>\n",
       "    <tr>\n",
       "      <th>mean</th>\n",
       "      <td>0.470861</td>\n",
       "      <td>0.307094</td>\n",
       "      <td>0.264322</td>\n",
       "      <td>1.042276</td>\n",
       "    </tr>\n",
       "    <tr>\n",
       "      <th>std</th>\n",
       "      <td>0.193458</td>\n",
       "      <td>0.170579</td>\n",
       "      <td>0.046578</td>\n",
       "      <td>0.014981</td>\n",
       "    </tr>\n",
       "    <tr>\n",
       "      <th>min</th>\n",
       "      <td>0.066667</td>\n",
       "      <td>0.034483</td>\n",
       "      <td>0.090909</td>\n",
       "      <td>1.017025</td>\n",
       "    </tr>\n",
       "    <tr>\n",
       "      <th>25%</th>\n",
       "      <td>0.333333</td>\n",
       "      <td>0.181818</td>\n",
       "      <td>0.238095</td>\n",
       "      <td>1.025770</td>\n",
       "    </tr>\n",
       "    <tr>\n",
       "      <th>50%</th>\n",
       "      <td>0.454545</td>\n",
       "      <td>0.285714</td>\n",
       "      <td>0.277778</td>\n",
       "      <td>1.050549</td>\n",
       "    </tr>\n",
       "    <tr>\n",
       "      <th>75%</th>\n",
       "      <td>0.598802</td>\n",
       "      <td>0.400000</td>\n",
       "      <td>0.303030</td>\n",
       "      <td>1.055556</td>\n",
       "    </tr>\n",
       "    <tr>\n",
       "      <th>max</th>\n",
       "      <td>0.909091</td>\n",
       "      <td>0.819672</td>\n",
       "      <td>0.333333</td>\n",
       "      <td>1.097706</td>\n",
       "    </tr>\n",
       "  </tbody>\n",
       "</table>\n",
       "</div>"
      ],
      "text/plain": [
       "       prob_home_win  prob_away_win    prob_draw         prob\n",
       "count    3040.000000    3040.000000  3040.000000  3040.000000\n",
       "mean        0.470861       0.307094     0.264322     1.042276\n",
       "std         0.193458       0.170579     0.046578     0.014981\n",
       "min         0.066667       0.034483     0.090909     1.017025\n",
       "25%         0.333333       0.181818     0.238095     1.025770\n",
       "50%         0.454545       0.285714     0.277778     1.050549\n",
       "75%         0.598802       0.400000     0.303030     1.055556\n",
       "max         0.909091       0.819672     0.333333     1.097706"
      ]
     },
     "execution_count": 41,
     "metadata": {},
     "output_type": "execute_result"
    }
   ],
   "source": [
    "prem_league[['prob_home_win', 'prob_away_win', 'prob_draw', 'prob']].describe()"
   ]
  },
  {
   "cell_type": "markdown",
   "metadata": {
    "colab_type": "text",
    "id": "97ZE-jd8btHg"
   },
   "source": [
    "Notice how the the `prob` column is always greater than 1.  This is how the \"house\" always wins... they have allocated a probability to all three outcomes greater than one.  They are overstating the true odds, which means they will collect the implied margin over the long run. If we assume that the same margin is applied to each possible outcome, then we can back out implied probabilities (that sum to one) from the odds."
   ]
  },
  {
   "cell_type": "code",
   "execution_count": 42,
   "metadata": {},
   "outputs": [],
   "source": [
    "prem_league['prob_home_win'] = prem_league['prob_home_win']/prem_league['prob']\n",
    "prem_league['prob_away_win'] = prem_league['prob_away_win']/prem_league['prob']\n",
    "prem_league['prob_draw'] = prem_league['prob_draw']/prem_league['prob']"
   ]
  },
  {
   "cell_type": "code",
   "execution_count": 43,
   "metadata": {
    "colab": {
     "autoexec": {
      "startup": false,
      "wait_interval": 0
     }
    },
    "colab_type": "code",
    "id": "UYQjJ1HhbtHi"
   },
   "outputs": [
    {
     "data": {
      "text/plain": [
       "home_win         0.457237\n",
       "prob_home_win    0.451706\n",
       "dtype: float64"
      ]
     },
     "execution_count": 43,
     "metadata": {},
     "output_type": "execute_result"
    }
   ],
   "source": [
    "prem_league[['home_win', 'prob_home_win']].mean()"
   ]
  },
  {
   "cell_type": "code",
   "execution_count": 44,
   "metadata": {},
   "outputs": [
    {
     "data": {
      "text/plain": [
       "id\n",
       "1729    1.0\n",
       "1730    1.0\n",
       "1771    1.0\n",
       "1731    1.0\n",
       "1732    1.0\n",
       "dtype: float64"
      ]
     },
     "execution_count": 44,
     "metadata": {},
     "output_type": "execute_result"
    }
   ],
   "source": [
    "#check that probabilities now sum to 1\n",
    "prem_league[['prob_home_win','prob_away_win','prob_draw']].sum(axis=1).head()"
   ]
  },
  {
   "cell_type": "code",
   "execution_count": 45,
   "metadata": {
    "colab": {
     "autoexec": {
      "startup": false,
      "wait_interval": 0
     }
    },
    "colab_type": "code",
    "id": "ud3km2H6btHm"
   },
   "outputs": [
    {
     "data": {
      "text/plain": [
       "away_win         0.285197\n",
       "prob_away_win    0.294696\n",
       "dtype: float64"
      ]
     },
     "execution_count": 45,
     "metadata": {},
     "output_type": "execute_result"
    }
   ],
   "source": [
    "prem_league[['away_win', 'prob_away_win']].mean()"
   ]
  },
  {
   "cell_type": "code",
   "execution_count": 46,
   "metadata": {
    "colab": {
     "autoexec": {
      "startup": false,
      "wait_interval": 0
     }
    },
    "colab_type": "code",
    "id": "fsjz8CPibtHn"
   },
   "outputs": [
    {
     "data": {
      "image/png": "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\n",
      "text/plain": [
       "<Figure size 720x720 with 3 Axes>"
      ]
     },
     "metadata": {},
     "output_type": "display_data"
    }
   ],
   "source": [
    "fig, ax = plt.subplots(3, 1, figsize=(10, 10), sharey=True)\n",
    "for i, prob in enumerate(['prob_away_win', 'prob_draw', 'prob_home_win']):\n",
    "    sns.boxplot(x='outcome_name', y=prob, data=prem_league, ax=ax[i], order=['away_win', 'draw', 'home_win'])\n",
    "plt.tight_layout()"
   ]
  },
  {
   "cell_type": "markdown",
   "metadata": {
    "colab_type": "text",
    "id": "t25-sYBTbtHo"
   },
   "source": [
    "We need to get the an estimate for the prediction of the bookmaker.  I will introduce the concept of `certainty` which gives a measure of how certain he we will call the game with an outright winner.  A `certainty` score of 100% means he is 100% certain of a \"home win\", while a score of -100% means he is certain of an \"away win\". A score close to zero means that it is too close to call an outright winner. \n",
    "\n",
    "In the chart below, we can see that there is uncertainty, but we must still create cutoff for a single prediction. Overall, there seem to be more blue dots in the top left corner (high away probability and low home probability of win). In contrast, the bottom right is `more red`.  \n",
    "\n",
    "In the machine learning literature a lot of predictions are based on the highest probability outcome.  In this case we will set thresholds for the certainty because these two predictions work together to get a better understanding of the actual prediction."
   ]
  },
  {
   "cell_type": "code",
   "execution_count": 47,
   "metadata": {
    "colab": {
     "autoexec": {
      "startup": false,
      "wait_interval": 0
     }
    },
    "colab_type": "code",
    "id": "G-bYZRKRbtHp"
   },
   "outputs": [
    {
     "data": {
      "text/plain": [
       "<matplotlib.axes._subplots.AxesSubplot at 0x27c9ba439e8>"
      ]
     },
     "execution_count": 47,
     "metadata": {},
     "output_type": "execute_result"
    },
    {
     "data": {
      "image/png": "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\n",
      "text/plain": [
       "<Figure size 576x576 with 2 Axes>"
      ]
     },
     "metadata": {},
     "output_type": "display_data"
    }
   ],
   "source": [
    "prem_league.plot(x='prob_home_win', y='prob_away_win', \n",
    "                 kind='scatter', c='outcome', \n",
    "                 colormap='coolwarm', figsize=(8, 8))"
   ]
  },
  {
   "cell_type": "code",
   "execution_count": 48,
   "metadata": {
    "colab": {
     "autoexec": {
      "startup": false,
      "wait_interval": 0
     }
    },
    "colab_type": "code",
    "id": "ayQxcNCObtHq"
   },
   "outputs": [],
   "source": [
    "prem_league['certainty'] = prem_league['prob_home_win'] - prem_league['prob_away_win']"
   ]
  },
  {
   "cell_type": "code",
   "execution_count": 49,
   "metadata": {
    "colab": {
     "autoexec": {
      "startup": false,
      "wait_interval": 0
     }
    },
    "colab_type": "code",
    "id": "E8Fp8LW-btHt"
   },
   "outputs": [
    {
     "data": {
      "text/plain": [
       "array([<matplotlib.axes._subplots.AxesSubplot object at 0x0000027C9BC94A58>,\n",
       "       <matplotlib.axes._subplots.AxesSubplot object at 0x0000027C9BD656D8>,\n",
       "       <matplotlib.axes._subplots.AxesSubplot object at 0x0000027C9DFB8AC8>],\n",
       "      dtype=object)"
      ]
     },
     "execution_count": 49,
     "metadata": {},
     "output_type": "execute_result"
    },
    {
     "data": {
      "image/png": "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\n",
      "text/plain": [
       "<Figure size 720x360 with 3 Axes>"
      ]
     },
     "metadata": {},
     "output_type": "display_data"
    }
   ],
   "source": [
    "prem_league.hist(column='certainty', by='outcome_name', sharey=True, layout=(1, 3), sharex=True, figsize=(10, 5))"
   ]
  },
  {
   "cell_type": "code",
   "execution_count": 50,
   "metadata": {
    "colab": {
     "autoexec": {
      "startup": false,
      "wait_interval": 0
     }
    },
    "colab_type": "code",
    "id": "M5MQ7cnfbtHu"
   },
   "outputs": [],
   "source": [
    "def bookie(certainty, home, away):\n",
    "    if certainty > home:\n",
    "        return 'home_win'\n",
    "    if certainty < away:\n",
    "        return 'away_win'\n",
    "    else:\n",
    "        return 'draw'    "
   ]
  },
  {
   "cell_type": "code",
   "execution_count": 51,
   "metadata": {
    "colab": {
     "autoexec": {
      "startup": false,
      "wait_interval": 0
     }
    },
    "colab_type": "code",
    "id": "teaFl9JebtHw"
   },
   "outputs": [],
   "source": [
    "prem_league['bookie'] = prem_league.apply(lambda x: bookie(x['certainty'], 0.15, -0.15),axis=1)"
   ]
  },
  {
   "cell_type": "code",
   "execution_count": 52,
   "metadata": {
    "colab": {
     "autoexec": {
      "startup": false,
      "wait_interval": 0
     }
    },
    "colab_type": "code",
    "id": "TKEgyKdbbtHx"
   },
   "outputs": [],
   "source": [
    "prem_league['bookie_right'] = (prem_league['bookie'] == prem_league['outcome_name']).astype('int')"
   ]
  },
  {
   "cell_type": "code",
   "execution_count": 53,
   "metadata": {
    "colab": {
     "autoexec": {
      "startup": false,
      "wait_interval": 0
     }
    },
    "colab_type": "code",
    "id": "ikXW9jM1btHz"
   },
   "outputs": [
    {
     "data": {
      "text/html": [
       "<div>\n",
       "<style scoped>\n",
       "    .dataframe tbody tr th:only-of-type {\n",
       "        vertical-align: middle;\n",
       "    }\n",
       "\n",
       "    .dataframe tbody tr th {\n",
       "        vertical-align: top;\n",
       "    }\n",
       "\n",
       "    .dataframe thead th {\n",
       "        text-align: right;\n",
       "    }\n",
       "</style>\n",
       "<table border=\"1\" class=\"dataframe\">\n",
       "  <thead>\n",
       "    <tr style=\"text-align: right;\">\n",
       "      <th></th>\n",
       "      <th>bookie</th>\n",
       "      <th>outcome_name</th>\n",
       "      <th>bookie_right</th>\n",
       "    </tr>\n",
       "    <tr>\n",
       "      <th>id</th>\n",
       "      <th></th>\n",
       "      <th></th>\n",
       "      <th></th>\n",
       "    </tr>\n",
       "  </thead>\n",
       "  <tbody>\n",
       "    <tr>\n",
       "      <th>1729</th>\n",
       "      <td>home_win</td>\n",
       "      <td>draw</td>\n",
       "      <td>0</td>\n",
       "    </tr>\n",
       "    <tr>\n",
       "      <th>1730</th>\n",
       "      <td>home_win</td>\n",
       "      <td>home_win</td>\n",
       "      <td>1</td>\n",
       "    </tr>\n",
       "    <tr>\n",
       "      <th>1771</th>\n",
       "      <td>draw</td>\n",
       "      <td>draw</td>\n",
       "      <td>1</td>\n",
       "    </tr>\n",
       "    <tr>\n",
       "      <th>1731</th>\n",
       "      <td>away_win</td>\n",
       "      <td>away_win</td>\n",
       "      <td>1</td>\n",
       "    </tr>\n",
       "    <tr>\n",
       "      <th>1732</th>\n",
       "      <td>home_win</td>\n",
       "      <td>home_win</td>\n",
       "      <td>1</td>\n",
       "    </tr>\n",
       "  </tbody>\n",
       "</table>\n",
       "</div>"
      ],
      "text/plain": [
       "        bookie outcome_name  bookie_right\n",
       "id                                       \n",
       "1729  home_win         draw             0\n",
       "1730  home_win     home_win             1\n",
       "1771      draw         draw             1\n",
       "1731  away_win     away_win             1\n",
       "1732  home_win     home_win             1"
      ]
     },
     "execution_count": 53,
     "metadata": {},
     "output_type": "execute_result"
    }
   ],
   "source": [
    "prem_league[['bookie', 'outcome_name', 'bookie_right']].head()"
   ]
  },
  {
   "cell_type": "code",
   "execution_count": 54,
   "metadata": {
    "colab": {
     "autoexec": {
      "startup": false,
      "wait_interval": 0
     }
    },
    "colab_type": "code",
    "id": "-Kdx76lFbtH1"
   },
   "outputs": [
    {
     "data": {
      "text/plain": [
       "0.5148026315789473"
      ]
     },
     "execution_count": 54,
     "metadata": {},
     "output_type": "execute_result"
    }
   ],
   "source": [
    "prem_league['bookie_right'].mean()"
   ]
  },
  {
   "cell_type": "markdown",
   "metadata": {
    "colab_type": "text",
    "id": "eVhcFEfmbtH2"
   },
   "source": [
    "This provides us with a good sense check... the bookie doesn't have to be right everytime! He is right, on average, slightly better than tossing a coin. And when it lands in his favour, he makes a profit."
   ]
  },
  {
   "cell_type": "code",
   "execution_count": 55,
   "metadata": {
    "colab": {
     "autoexec": {
      "startup": false,
      "wait_interval": 0
     }
    },
    "colab_type": "code",
    "id": "oI6ClbXnbtH3"
   },
   "outputs": [
    {
     "data": {
      "text/html": [
       "<div>\n",
       "<style scoped>\n",
       "    .dataframe tbody tr th:only-of-type {\n",
       "        vertical-align: middle;\n",
       "    }\n",
       "\n",
       "    .dataframe tbody tr th {\n",
       "        vertical-align: top;\n",
       "    }\n",
       "\n",
       "    .dataframe thead th {\n",
       "        text-align: right;\n",
       "    }\n",
       "</style>\n",
       "<table border=\"1\" class=\"dataframe\">\n",
       "  <thead>\n",
       "    <tr style=\"text-align: right;\">\n",
       "      <th>outcome_name</th>\n",
       "      <th>away_win</th>\n",
       "      <th>draw</th>\n",
       "      <th>home_win</th>\n",
       "    </tr>\n",
       "    <tr>\n",
       "      <th>bookie</th>\n",
       "      <th></th>\n",
       "      <th></th>\n",
       "      <th></th>\n",
       "    </tr>\n",
       "  </thead>\n",
       "  <tbody>\n",
       "    <tr>\n",
       "      <th>away_win</th>\n",
       "      <td>332</td>\n",
       "      <td>148</td>\n",
       "      <td>127</td>\n",
       "    </tr>\n",
       "    <tr>\n",
       "      <th>draw</th>\n",
       "      <td>262</td>\n",
       "      <td>260</td>\n",
       "      <td>290</td>\n",
       "    </tr>\n",
       "    <tr>\n",
       "      <th>home_win</th>\n",
       "      <td>273</td>\n",
       "      <td>375</td>\n",
       "      <td>973</td>\n",
       "    </tr>\n",
       "  </tbody>\n",
       "</table>\n",
       "</div>"
      ],
      "text/plain": [
       "outcome_name  away_win  draw  home_win\n",
       "bookie                                \n",
       "away_win           332   148       127\n",
       "draw               262   260       290\n",
       "home_win           273   375       973"
      ]
     },
     "execution_count": 55,
     "metadata": {},
     "output_type": "execute_result"
    }
   ],
   "source": [
    "prem_league.pivot_table(values='bookie_right', columns='outcome_name', index='bookie', aggfunc='count')"
   ]
  },
  {
   "cell_type": "code",
   "execution_count": 56,
   "metadata": {
    "colab": {
     "autoexec": {
      "startup": false,
      "wait_interval": 0
     }
    },
    "colab_type": "code",
    "id": "UNYOyM6QbtH6"
   },
   "outputs": [
    {
     "data": {
      "text/plain": [
       "outcome_name\n",
       "away_win    0.382930\n",
       "draw        0.332056\n",
       "home_win    0.700000\n",
       "Name: bookie_right, dtype: float64"
      ]
     },
     "execution_count": 56,
     "metadata": {},
     "output_type": "execute_result"
    }
   ],
   "source": [
    "prem_league.groupby('outcome_name')['bookie_right'].mean()"
   ]
  },
  {
   "cell_type": "markdown",
   "metadata": {
    "colab_type": "text",
    "id": "XTbMoUq7btH8"
   },
   "source": [
    "To interpret this, the bookie is correct in predicting home winners 70% of the time under this certainty metric.  \n",
    "\n",
    "As a further exercise, how else could you model the relationship between the bookies' odds and the actual outcome?"
   ]
  },
  {
   "cell_type": "markdown",
   "metadata": {
    "colab_type": "text",
    "id": "OMKeZxQ7btH9"
   },
   "source": [
    "# Further Reading\n",
    "Other great resources for more on Bayes Theorem:\n",
    "1. [Simple Explanation using Legos](https://www.countbayesie.com/blog/2015/2/18/bayes-theorem-with-lego) \n",
    "2. [Wikipedia](http://en.wikipedia.org/wiki/Bayes%27_theorem) \n",
    "3. [Stat Trek](http://stattrek.com/probability/bayes-theorem.aspx)"
   ]
  }
 ],
 "metadata": {
  "colab": {
   "default_view": {},
   "name": "1_Bayesian_examples.ipynb",
   "provenance": [],
   "version": "0.3.2",
   "views": {}
  },
  "kernelspec": {
   "display_name": "Python 3",
   "language": "python",
   "name": "python3"
  },
  "language_info": {
   "codemirror_mode": {
    "name": "ipython",
    "version": 3
   },
   "file_extension": ".py",
   "mimetype": "text/x-python",
   "name": "python",
   "nbconvert_exporter": "python",
   "pygments_lexer": "ipython3",
   "version": "3.6.5"
  }
 },
 "nbformat": 4,
 "nbformat_minor": 2
}
