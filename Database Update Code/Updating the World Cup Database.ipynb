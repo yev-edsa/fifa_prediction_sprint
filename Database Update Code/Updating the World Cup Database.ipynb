{
 "cells": [
  {
   "cell_type": "markdown",
   "metadata": {},
   "source": [
    "![title](https://www.sportsgamblingpodcast.com/wp-content/uploads/2018/05/russia-2018.jpeg)"
   ]
  },
  {
   "cell_type": "markdown",
   "metadata": {},
   "source": [
    "# **Update your group fixture results & table for the FIFA World Cup 2018**"
   ]
  },
  {
   "cell_type": "markdown",
   "metadata": {},
   "source": [
    "This notebook allows you to **update & reset your Group Fixtures Results** and **populate the Group Tables for the World Cup**."
   ]
  },
  {
   "cell_type": "code",
   "execution_count": 1,
   "metadata": {},
   "outputs": [],
   "source": [
    "import pandas as pd\n",
    "import psycopg2"
   ]
  },
  {
   "cell_type": "markdown",
   "metadata": {},
   "source": [
    "## **How to use this notebook**"
   ]
  },
  {
   "cell_type": "markdown",
   "metadata": {},
   "source": [
    "As a team:\n",
    "- Follow the instructions below each heading.\n",
    "- Only change code where asked to.\n",
    "- See if you can improve the data code."
   ]
  },
  {
   "cell_type": "markdown",
   "metadata": {},
   "source": [
    "### **1. Specifiy your TEAM's Database details**"
   ]
  },
  {
   "cell_type": "markdown",
   "metadata": {},
   "source": [
    "_Enter your Database details here:_"
   ]
  },
  {
   "cell_type": "code",
   "execution_count": 2,
   "metadata": {},
   "outputs": [],
   "source": [
    "# specify your database details\n",
    "\n",
    "database = # TEAM Database Name\n",
    "user = # TEAM user\n",
    "password = # TEAM password\n",
    "host = # TEAM Amazon RDS End Point\n",
    "port = # TEAM port number\n",
    "\n",
    "# connect using psycopg2\n",
    "conn = psycopg2.connect(database=database, user=user, password=password, host=host, port=port)\n",
    "cursor = conn.cursor()"
   ]
  },
  {
   "cell_type": "markdown",
   "metadata": {},
   "source": [
    "### **2. HELPER FUNCTIONS**"
   ]
  },
  {
   "cell_type": "markdown",
   "metadata": {},
   "source": [
    "_run code to load all helper functions_"
   ]
  },
  {
   "cell_type": "code",
   "execution_count": 3,
   "metadata": {},
   "outputs": [],
   "source": [
    "# get the tables\n",
    "\n",
    "sql_teams = \"\"\"SELECT * from teams\"\"\"\n",
    "sql_group_fixtures = \"\"\"SELECT * from group_fixtures\"\"\"\n",
    "sql_group_team_results = \"\"\"SELECT * from group_team_results\"\"\"\n",
    "sql_group_teams = \"\"\"SELECT * from group_teams\"\"\""
   ]
  },
  {
   "cell_type": "code",
   "execution_count": 4,
   "metadata": {},
   "outputs": [],
   "source": [
    "# helper functions function will fecth all the necessary tables and build a master table in order for us to easily view the fixtures\n",
    "def get_master_table(sql_teams, sql_group_fixtures, sql_group_team_results, sql_group_teams):\n",
    "    \"\"\" This function merges all the necessary tables from our database in order to identify which teams are linked to which fixture id\n",
    "    \"\"\"\n",
    "    df_teams = pd.read_sql(sql_teams, conn).sort_values(by='id')\n",
    "    df_group_fixtures = pd.read_sql(sql_group_fixtures, conn).sort_values(by='id')\n",
    "    df_group_team_results = pd.read_sql(sql_group_team_results, conn).sort_values(by='id')\n",
    "    df_group_teams = pd.read_sql(sql_group_teams, conn).sort_values(by='id')\n",
    "\n",
    "    df_master = pd.merge(df_group_team_results, df_group_fixtures, how='left', left_on=['fixture_id'], right_on=['id']).merge(df_teams, how='left', left_on=['team_id'], right_on=['id'])\n",
    "    df_master['date_filter'] = df_master['date'].apply(lambda x: pd.to_datetime(x))\n",
    "    \n",
    "    return df_master\n",
    "\n",
    "def get_name_to_id_dict(sql_teams):\n",
    "    \"\"\" returns a dictionary that can be used to link a Team Name to a Team ID\n",
    "    \"\"\"\n",
    "    dict_name_to_id = pd.read_sql(sql_teams, conn).sort_values(by='id').set_index('long_name')[['id']].to_dict(orient='dict')['id']\n",
    "    return dict_name_to_id\n",
    "\n",
    "def get_teamid_to_groupid_dict(sql_group_teams):\n",
    "    \"\"\" returns a dictionary that can be used to link a Team ID to a Group\n",
    "    \"\"\"\n",
    "    dict_teamid_to_groupid = pd.read_sql(sql_group_teams, conn).sort_values(by='id').set_index('team_id')[['group_id']].to_dict(orient='dict')['group_id']\n",
    "    return dict_teamid_to_groupid\n",
    "\n",
    "def calc_team_points(team1, team1_goals, team2, team2_goals):\n",
    "    \"\"\" function used to calculate the points for each team, based on goals scored\n",
    "    \"\"\"\n",
    "    if team1_goals > team2_goals:\n",
    "        team1_points = 3\n",
    "        team2_points = 0\n",
    "    elif team1_goals < team2_goals:\n",
    "        team1_points = 0\n",
    "        team2_points = 3\n",
    "    else:\n",
    "        team1_points = 1\n",
    "        team2_points = 1\n",
    "    return team1_points, team2_points    \n",
    "\n",
    "def sql_update_execute(sql_update_team):\n",
    "    \"\"\" run a SQL query in order to update the database\n",
    "    \"\"\"\n",
    "    try:\n",
    "        cursor.execute(sql_update_team)\n",
    "        conn.commit()\n",
    "    except: \n",
    "        conn.rollback()\n",
    "\n",
    "def update_group_team_results(fixture_id, team1_longname, team2_longname, team1_goals, team2_goals):\n",
    "    \"\"\" function is used to updated the Group Team Results table\n",
    "    \"\"\"\n",
    "    fixture_id = fixture_id\n",
    "    team1 = team1_longname\n",
    "    team2 = team2_longname\n",
    "    team1_goals = team1_goals\n",
    "    team2_goals = team2_goals\n",
    "    \n",
    "    team1_id = get_name_to_id_dict(sql_teams)[team1]\n",
    "    team2_id = get_name_to_id_dict(sql_teams)[team2]\n",
    "    \n",
    "    team1_points, team2_points = calc_team_points(team1, team1_goals, team2, team2_goals)\n",
    "\n",
    "    sql_update_team1 = \"\"\" UPDATE group_team_results SET goals_for={:d}, goals_against={:d}, points={:d} WHERE fixture_id={:d} AND team_id={:d}\"\"\".format(team1_goals, team2_goals, team1_points, fixture_id, team1_id)\n",
    "    sql_update_team2 = \"\"\" UPDATE group_team_results SET goals_for={:d}, goals_against={:d}, points={:d} WHERE fixture_id={:d} AND team_id={:d}\"\"\".format(team2_goals, team1_goals, team2_points, fixture_id, team2_id)\n",
    "    \n",
    "    sql_update_execute(sql_update_team1)\n",
    "    sql_update_execute(sql_update_team2)\n",
    "    \n",
    "    return print('Match results updated')\n",
    "\n",
    "# the following function will determine if a fixture was played or not by looking at the aggregate points for the match accross the 2 teams\n",
    "def played_indicator(row):\n",
    "    \"\"\" determine whether the game has been played or not, group by fixture_id first\n",
    "    \"\"\"\n",
    "    if row['points'] > 0:\n",
    "        pld_indi = 1\n",
    "    else:\n",
    "        pld_indi=0\n",
    "    return pld_indi\n",
    "\n",
    "\n",
    "# the following functions will create a Win | Draw | Loss indicator so that we can populate the Group Table stats\n",
    "def win_indicator(row):\n",
    "    if (row['points'] == 3) & (row['pld_indi'] == 1):\n",
    "        w = 1\n",
    "    else:\n",
    "        w = 0\n",
    "    return w\n",
    "\n",
    "def draw_indicator(row):\n",
    "    if (row['points'] == 1) & (row['pld_indi'] == 1):\n",
    "        d = 1\n",
    "    else:\n",
    "        d = 0\n",
    "    return d\n",
    "\n",
    "def loose_indicator(row):\n",
    "    if (row['points'] == 0) & (row['pld_indi'] == 1):\n",
    "        l = 1\n",
    "    else:\n",
    "        l = 0\n",
    "    return l   \n",
    "\n",
    "# this function is used to execute our fixtures reset\n",
    "def sql_reset_execute(fix_id):\n",
    "    sql_reset_fixture = \"\"\"UPDATE group_team_results SET points=0, goals_for=0, goals_against=0 WHERE fixture_id = {:d}\"\"\".format(int(fix_id))\n",
    "    try:\n",
    "        cursor.execute(sql_reset_fixture)\n",
    "        conn.commit()\n",
    "    except: \n",
    "        conn.rollback()"
   ]
  },
  {
   "cell_type": "code",
   "execution_count": 5,
   "metadata": {},
   "outputs": [],
   "source": [
    "#map team id's to groups using a dictionary\n",
    "dict_teamid_group = get_teamid_to_groupid_dict(sql_group_teams)"
   ]
  },
  {
   "cell_type": "markdown",
   "metadata": {},
   "source": [
    "## **4. Create Master Fixture Table**"
   ]
  },
  {
   "cell_type": "markdown",
   "metadata": {},
   "source": [
    "_Navigate this Pandas Dataframe to decide which fixture results you want to update / change_"
   ]
  },
  {
   "cell_type": "code",
   "execution_count": 6,
   "metadata": {},
   "outputs": [],
   "source": [
    "df_master = get_master_table(sql_teams, sql_group_fixtures, sql_group_team_results, sql_group_teams)"
   ]
  },
  {
   "cell_type": "markdown",
   "metadata": {},
   "source": [
    "_you can FILTER the table by date_"
   ]
  },
  {
   "cell_type": "code",
   "execution_count": 7,
   "metadata": {},
   "outputs": [],
   "source": [
    "date = '2018-06-15'  #use Format: YYYY-MM-DD"
   ]
  },
  {
   "cell_type": "code",
   "execution_count": 8,
   "metadata": {},
   "outputs": [],
   "source": [
    "df_date_filter = df_master[df_master['date_filter'] == date].loc[:,['date', 'fixture_id', 'long_name']]"
   ]
  },
  {
   "cell_type": "code",
   "execution_count": 9,
   "metadata": {},
   "outputs": [
    {
     "data": {
      "text/html": [
       "<div>\n",
       "<style scoped>\n",
       "    .dataframe tbody tr th:only-of-type {\n",
       "        vertical-align: middle;\n",
       "    }\n",
       "\n",
       "    .dataframe tbody tr th {\n",
       "        vertical-align: top;\n",
       "    }\n",
       "\n",
       "    .dataframe thead th {\n",
       "        text-align: right;\n",
       "    }\n",
       "</style>\n",
       "<table border=\"1\" class=\"dataframe\">\n",
       "  <thead>\n",
       "    <tr style=\"text-align: right;\">\n",
       "      <th></th>\n",
       "      <th>date</th>\n",
       "      <th>fixture_id</th>\n",
       "      <th>long_name</th>\n",
       "    </tr>\n",
       "  </thead>\n",
       "  <tbody>\n",
       "    <tr>\n",
       "      <th>2</th>\n",
       "      <td>2018-06-15</td>\n",
       "      <td>2</td>\n",
       "      <td>Uruguay</td>\n",
       "    </tr>\n",
       "    <tr>\n",
       "      <th>3</th>\n",
       "      <td>2018-06-15</td>\n",
       "      <td>2</td>\n",
       "      <td>Egypt</td>\n",
       "    </tr>\n",
       "    <tr>\n",
       "      <th>4</th>\n",
       "      <td>2018-06-15</td>\n",
       "      <td>3</td>\n",
       "      <td>Morocco</td>\n",
       "    </tr>\n",
       "    <tr>\n",
       "      <th>5</th>\n",
       "      <td>2018-06-15</td>\n",
       "      <td>3</td>\n",
       "      <td>IR Iran</td>\n",
       "    </tr>\n",
       "    <tr>\n",
       "      <th>6</th>\n",
       "      <td>2018-06-15</td>\n",
       "      <td>4</td>\n",
       "      <td>Portugal</td>\n",
       "    </tr>\n",
       "    <tr>\n",
       "      <th>7</th>\n",
       "      <td>2018-06-15</td>\n",
       "      <td>4</td>\n",
       "      <td>Spain</td>\n",
       "    </tr>\n",
       "  </tbody>\n",
       "</table>\n",
       "</div>"
      ],
      "text/plain": [
       "         date  fixture_id long_name\n",
       "2  2018-06-15           2   Uruguay\n",
       "3  2018-06-15           2     Egypt\n",
       "4  2018-06-15           3   Morocco\n",
       "5  2018-06-15           3   IR Iran\n",
       "6  2018-06-15           4  Portugal\n",
       "7  2018-06-15           4     Spain"
      ]
     },
     "execution_count": 9,
     "metadata": {},
     "output_type": "execute_result"
    }
   ],
   "source": [
    "df_date_filter"
   ]
  },
  {
   "cell_type": "markdown",
   "metadata": {},
   "source": [
    "## **5. Change the Fixture Results ** "
   ]
  },
  {
   "cell_type": "markdown",
   "metadata": {},
   "source": [
    "_Enter the match details here that you would like to change / update_"
   ]
  },
  {
   "cell_type": "code",
   "execution_count": 10,
   "metadata": {},
   "outputs": [],
   "source": [
    "### ENTER FIXTURE RESULTS HERE ###\n",
    "\n",
    "# format            [ fixture_id, team1_name, team1_goals, team2_name, team_2_goals]\n",
    "fixture_results =[\n",
    "                   [1, 'Russia', 5, 'Saudi Arabia', 0],\n",
    "                   [2, 'Uruguay', 1, 'Egypt', 0],\n",
    "                   [3, 'Morocco' , 0, 'IR Iran', 1],\n",
    "                   [4, 'Portugal', 3, 'Spain', 3],\n",
    "                   [5, 'Australia', 1, 'France', 2],\n",
    "                   [6, 'Argentina', 1, 'Iceland', 1],\n",
    "                   [7, 'Peru', 0, 'Denmark', 1],\n",
    "                   [8, 'Croatia', 2, 'Nigeria', 0],\n",
    "                   [9, 'Costa Rica', 0, 'Serbia', 1],\n",
    "                   [10, 'Mexico', 1, 'Germany', 0],\n",
    "                   [11, 'Switzerland', 1, 'Brazil', 1]\n",
    "   \n",
    "]"
   ]
  },
  {
   "cell_type": "markdown",
   "metadata": {},
   "source": [
    "Note that if you have previously updated fixture results, you do not have to run it again!"
   ]
  },
  {
   "cell_type": "markdown",
   "metadata": {},
   "source": [
    "## **3. Update individual fixtures**"
   ]
  },
  {
   "cell_type": "markdown",
   "metadata": {},
   "source": [
    "_RUN code below to update the fixture results_"
   ]
  },
  {
   "cell_type": "code",
   "execution_count": 11,
   "metadata": {},
   "outputs": [
    {
     "name": "stdout",
     "output_type": "stream",
     "text": [
      "Match results updated\n",
      "Fixture id 1 Russia vs Saudi Arabia has been updated\n",
      "Match results updated\n",
      "Fixture id 2 Uruguay vs Egypt has been updated\n",
      "Match results updated\n",
      "Fixture id 3 Morocco vs IR Iran has been updated\n",
      "Match results updated\n",
      "Fixture id 4 Portugal vs Spain has been updated\n",
      "Match results updated\n",
      "Fixture id 5 Australia vs France has been updated\n",
      "Match results updated\n",
      "Fixture id 6 Argentina vs Iceland has been updated\n",
      "Match results updated\n",
      "Fixture id 7 Peru vs Denmark has been updated\n",
      "Match results updated\n",
      "Fixture id 8 Croatia vs Nigeria has been updated\n",
      "Match results updated\n",
      "Fixture id 9 Costa Rica vs Serbia has been updated\n",
      "Match results updated\n",
      "Fixture id 10 Mexico vs Germany has been updated\n",
      "Match results updated\n",
      "Fixture id 11 Switzerland vs Brazil has been updated\n"
     ]
    }
   ],
   "source": [
    "for i in range(len(fixture_results)):\n",
    "    fixture_id = fixture_results[i][0]\n",
    "    team1_name = fixture_results[i][1]\n",
    "    team2_name = fixture_results[i][3]\n",
    "    team1_goals = fixture_results[i][2] \n",
    "    team2_goals = fixture_results[i][4]\n",
    "    \n",
    "    if (team1_goals == '') | (team2_goals == ''):\n",
    "        print('please enter goals for fixture id: {:d}'.format(fixture_results[i][0]))\n",
    "    else:\n",
    "        update_group_team_results(fixture_id, team1_name, team2_name, team1_goals, team2_goals)\n",
    "        print('Fixture id {:d} {:s} vs {:s} has been updated'.format(fixture_results[i][0], fixture_results[i][1], fixture_results[i][3]))"
   ]
  },
  {
   "cell_type": "markdown",
   "metadata": {},
   "source": [
    "## **4. Reset fixutres**"
   ]
  },
  {
   "cell_type": "markdown",
   "metadata": {},
   "source": [
    "_Enter the fixtures that you would like to reset, as if the game was never played_"
   ]
  },
  {
   "cell_type": "code",
   "execution_count": 12,
   "metadata": {},
   "outputs": [],
   "source": [
    "### ENTER FIXTURE ID's HERE ###\n",
    "\n",
    "list_reset_fixtures = []"
   ]
  },
  {
   "cell_type": "markdown",
   "metadata": {},
   "source": [
    "_Run code below to reset fixtures stats_"
   ]
  },
  {
   "cell_type": "code",
   "execution_count": 13,
   "metadata": {},
   "outputs": [],
   "source": [
    "for i in range(len(list_reset_fixtures)):\n",
    "    \n",
    "    sql_reset_execute(list_reset_fixtures[i])\n",
    "    print('Fixture id {:d} has been reset'.format(int(list_reset_fixtures[i])))"
   ]
  },
  {
   "cell_type": "markdown",
   "metadata": {},
   "source": [
    "## **5. Update Group Table scores**"
   ]
  },
  {
   "cell_type": "markdown",
   "metadata": {},
   "source": [
    "Below are some clever data manipulation tricks in Pandas! See if you can code it better / more efficiently."
   ]
  },
  {
   "cell_type": "code",
   "execution_count": 14,
   "metadata": {},
   "outputs": [],
   "source": [
    "# do not have to change if not desiring todo so\n",
    "\n",
    "df_master = get_master_table(sql_teams, sql_group_fixtures, sql_group_team_results, sql_group_teams)\n",
    "\n",
    "df_pld_indi = pd.DataFrame(df_master.groupby('fixture_id').sum()[['points']].apply(played_indicator, axis=1)).reset_index().rename(columns={0 : 'pld_indi'})\n",
    "df_master_pld = df_master.merge(df_pld_indi, on='fixture_id', how='left')\n",
    "\n",
    "df_master_pld['win_indi'] = df_master_pld.apply(win_indicator, axis=1)\n",
    "df_master_pld['draw_indi'] = df_master_pld.apply(draw_indicator, axis=1)\n",
    "df_master_pld['loose_indi'] = df_master_pld.apply(loose_indicator, axis=1)\n",
    "\n",
    "team_Stats = df_master_pld.groupby('team_id').sum()[['goals_for', 'goals_against', 'pld_indi', 'points']].rename(columns={'goals_for' : 'gf', 'goals_against' : 'ga', 'pld_indi' : 'pld', 'points' : 'pts'})\n",
    "wld_stats = df_master_pld.groupby('team_id').sum()[['win_indi', 'draw_indi', 'loose_indi']].rename(columns={'win_indi' : 'w','draw_indi' : 'd','loose_indi': 'l'})\n",
    "team_points = df_master_pld.groupby('team_id').sum()[['points']]\n",
    "\n",
    "df_group_teams_update = team_points.join(team_Stats).join(wld_stats).reset_index()\n",
    "\n",
    "df_group_teams_update['group_id'] = df_group_teams_update['team_id'].map(dict_teamid_group)\n",
    "df_group_teams_update = df_group_teams_update.sort_values(by=['group_id', 'team_id']).reset_index().rename(columns={'index' : 'id'})\n",
    "df_group_teams_update['id'] = df_group_teams_update['id'] + 1\n",
    "\n",
    "df_group_teams_update['gd'] = df_group_teams_update['gf'] - df_group_teams_update['ga']"
   ]
  },
  {
   "cell_type": "markdown",
   "metadata": {},
   "source": [
    "_Run the code below in order to populate the Group Tables_"
   ]
  },
  {
   "cell_type": "code",
   "execution_count": 15,
   "metadata": {},
   "outputs": [
    {
     "name": "stdout",
     "output_type": "stream",
     "text": [
      "group teams id 1 update\n",
      "group teams id 2 update\n",
      "group teams id 3 update\n",
      "group teams id 4 update\n",
      "group teams id 5 update\n",
      "group teams id 6 update\n",
      "group teams id 7 update\n",
      "group teams id 8 update\n",
      "group teams id 9 update\n",
      "group teams id 10 update\n",
      "group teams id 11 update\n",
      "group teams id 12 update\n",
      "group teams id 13 update\n",
      "group teams id 14 update\n",
      "group teams id 15 update\n",
      "group teams id 16 update\n",
      "group teams id 17 update\n",
      "group teams id 18 update\n",
      "group teams id 19 update\n",
      "group teams id 20 update\n",
      "group teams id 21 update\n",
      "group teams id 22 update\n",
      "group teams id 23 update\n",
      "group teams id 24 update\n",
      "group teams id 25 update\n",
      "group teams id 26 update\n",
      "group teams id 27 update\n",
      "group teams id 28 update\n",
      "group teams id 29 update\n",
      "group teams id 30 update\n",
      "group teams id 31 update\n",
      "group teams id 32 update\n"
     ]
    }
   ],
   "source": [
    "# This Code To Update\n",
    "for index, row in df_group_teams_update.iterrows():\n",
    "    sql_update_group_teams = \"\"\" UPDATE group_teams SET pld={:d}, w={:d}, d={:d}, l={:d}, gf={:d}, ga={:d}, gd={:d}, pts={:d} WHERE id={:d}\"\"\".format(int(row['pld']), int(row['w']), int(row['d']), int(row['l']), int(row['gf']), int(row['ga']), int(row['gd']), int(row['pts']), int(row['id']))\n",
    "    sql_update_execute(sql_update_group_teams)\n",
    "    print('group teams id {:d} update'.format(int(row['id'])))  "
   ]
  }
 ],
 "metadata": {
  "kernelspec": {
   "display_name": "Python 3",
   "language": "python",
   "name": "python3"
  },
  "language_info": {
   "codemirror_mode": {
    "name": "ipython",
    "version": 3
   },
   "file_extension": ".py",
   "mimetype": "text/x-python",
   "name": "python",
   "nbconvert_exporter": "python",
   "pygments_lexer": "ipython3",
   "version": "3.6.5"
  }
 },
 "nbformat": 4,
 "nbformat_minor": 2
}
